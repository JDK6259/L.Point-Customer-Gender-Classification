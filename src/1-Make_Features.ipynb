{
 "cells": [
  {
   "cell_type": "markdown",
   "metadata": {
    "_uuid": "556cdc4051132fbfb923c044e1672cf66c6ec56b",
    "colab": {
     "autoexec": {
      "startup": false,
      "wait_interval": 0
     }
    },
    "colab_type": "code",
    "id": "UkhKBx7chTQS"
   },
   "source": [
    "<font color=\"#CC3D3D\"><p>\n",
    "# 트랜잭션 데이터로부터 feature를 생성한 후 학습용과 평가용 데이터로 나누기"
   ]
  },
  {
   "cell_type": "markdown",
   "metadata": {
    "_uuid": "556cdc4051132fbfb923c044e1672cf66c6ec56b",
    "colab": {
     "autoexec": {
      "startup": false,
      "wait_interval": 0
     }
    },
    "colab_type": "code",
    "id": "UkhKBx7chTQS"
   },
   "source": [
    "- **Input**: 트랜잭션 데이터(`train_transactions.csv`, `test_transactions.csv`)\n",
    "- **Output**: 위 데이터로부터 파생변수(feature)를 만든 후 모형 학습용(`X_train.csv`)과 평가용(`X_test.csv`) 데이터 생성"
   ]
  },
  {
   "cell_type": "code",
   "execution_count": 1,
   "metadata": {
    "_uuid": "a159c8e50113be1e21e50dfe60bd402d84929a65",
    "colab_type": "text",
    "id": "AcNEX5K8hTQW"
   },
   "outputs": [],
   "source": [
    "# 패키지 불러오기\n",
    "import pandas as pd\n",
    "from pandas import Series, DataFrame\n",
    "import numpy as np\n",
    "import os\n",
    "import seaborn as sns\n",
    "import matplotlib.pylab as plt\n",
    "from matplotlib import font_manager, rc\n",
    "%matplotlib inline\n",
    "\n",
    "pd.set_option('max_columns', 20, 'max_rows', 20) # 데이터 프레임 출력 옵션 설정"
   ]
  },
  {
   "cell_type": "code",
   "execution_count": 2,
   "metadata": {},
   "outputs": [],
   "source": [
    "# 차트에서 한글 출력을 위한 설정\n",
    "import platform\n",
    "your_os = platform.system()\n",
    "if your_os == 'Linux':\n",
    "    rc('font', family='NanumGothic')\n",
    "elif your_os == 'Windows':\n",
    "    ttf = \"c:/Windows/Fonts/malgun.ttf\"\n",
    "    font_name = font_manager.FontProperties(fname=ttf).get_name()\n",
    "    rc('font', family=font_name)\n",
    "elif your_os == 'Darwin':\n",
    "    rc('font', family='AppleGothic')\n",
    "rc('axes', unicode_minus=False)"
   ]
  },
  {
   "cell_type": "markdown",
   "metadata": {
    "_uuid": "a9813ebe8f5d527dfb4fd4bc3834c8547fae9b84",
    "colab": {
     "autoexec": {
      "startup": false,
      "wait_interval": 0
     }
    },
    "colab_type": "code",
    "id": "53OCEl0yhTQb"
   },
   "source": [
    "<font color=\"blue\"><p>\n",
    "## Read Transactions"
   ]
  },
  {
   "cell_type": "code",
   "execution_count": 3,
   "metadata": {
    "_uuid": "4d3d3ecc51ce4384c350cde591b5f6b2db3e91db",
    "colab_type": "text",
    "id": "AcNEX5K8hTQW"
   },
   "outputs": [],
   "source": [
    "train = pd.read_csv(os.path.abspath(\"../dat\")+'/train_transactions.csv', encoding='cp949')\n",
    "test = pd.read_csv(os.path.abspath(\"../dat\")+'/test_transactions.csv', encoding='cp949')\n",
    "tr = pd.concat([train, test])"
   ]
  },
  {
   "cell_type": "code",
   "execution_count": 4,
   "metadata": {},
   "outputs": [
    {
     "data": {
      "text/html": [
       "<div>\n",
       "<style scoped>\n",
       "    .dataframe tbody tr th:only-of-type {\n",
       "        vertical-align: middle;\n",
       "    }\n",
       "\n",
       "    .dataframe tbody tr th {\n",
       "        vertical-align: top;\n",
       "    }\n",
       "\n",
       "    .dataframe thead th {\n",
       "        text-align: right;\n",
       "    }\n",
       "</style>\n",
       "<table border=\"1\" class=\"dataframe\">\n",
       "  <thead>\n",
       "    <tr style=\"text-align: right;\">\n",
       "      <th></th>\n",
       "      <th>cust_id</th>\n",
       "      <th>tran_date</th>\n",
       "      <th>store_nm</th>\n",
       "      <th>goods_id</th>\n",
       "      <th>gds_grp_nm</th>\n",
       "      <th>gds_grp_mclas_nm</th>\n",
       "      <th>amount</th>\n",
       "    </tr>\n",
       "  </thead>\n",
       "  <tbody>\n",
       "    <tr>\n",
       "      <th>0</th>\n",
       "      <td>0</td>\n",
       "      <td>2007-01-19 00:00:00</td>\n",
       "      <td>강남점</td>\n",
       "      <td>127105</td>\n",
       "      <td>기초 화장품</td>\n",
       "      <td>화장품</td>\n",
       "      <td>850000</td>\n",
       "    </tr>\n",
       "    <tr>\n",
       "      <th>1</th>\n",
       "      <td>0</td>\n",
       "      <td>2007-03-30 00:00:00</td>\n",
       "      <td>강남점</td>\n",
       "      <td>342220</td>\n",
       "      <td>니  트</td>\n",
       "      <td>시티웨어</td>\n",
       "      <td>480000</td>\n",
       "    </tr>\n",
       "    <tr>\n",
       "      <th>2</th>\n",
       "      <td>0</td>\n",
       "      <td>2007-03-30 00:00:00</td>\n",
       "      <td>강남점</td>\n",
       "      <td>127105</td>\n",
       "      <td>기초 화장품</td>\n",
       "      <td>화장품</td>\n",
       "      <td>3000000</td>\n",
       "    </tr>\n",
       "    <tr>\n",
       "      <th>3</th>\n",
       "      <td>0</td>\n",
       "      <td>2007-03-30 00:00:00</td>\n",
       "      <td>강남점</td>\n",
       "      <td>342205</td>\n",
       "      <td>니  트</td>\n",
       "      <td>시티웨어</td>\n",
       "      <td>840000</td>\n",
       "    </tr>\n",
       "    <tr>\n",
       "      <th>4</th>\n",
       "      <td>0</td>\n",
       "      <td>2007-03-30 00:00:00</td>\n",
       "      <td>강남점</td>\n",
       "      <td>342220</td>\n",
       "      <td>상품군미지정</td>\n",
       "      <td>기타</td>\n",
       "      <td>20000</td>\n",
       "    </tr>\n",
       "    <tr>\n",
       "      <th>...</th>\n",
       "      <td>...</td>\n",
       "      <td>...</td>\n",
       "      <td>...</td>\n",
       "      <td>...</td>\n",
       "      <td>...</td>\n",
       "      <td>...</td>\n",
       "      <td>...</td>\n",
       "    </tr>\n",
       "    <tr>\n",
       "      <th>163553</th>\n",
       "      <td>5981</td>\n",
       "      <td>2007-01-12 00:00:00</td>\n",
       "      <td>영등포점</td>\n",
       "      <td>50105</td>\n",
       "      <td>일반가공식품</td>\n",
       "      <td>가공식품</td>\n",
       "      <td>209000</td>\n",
       "    </tr>\n",
       "    <tr>\n",
       "      <th>163554</th>\n",
       "      <td>5981</td>\n",
       "      <td>2007-01-12 00:00:00</td>\n",
       "      <td>영등포점</td>\n",
       "      <td>50109</td>\n",
       "      <td>상품군미지정</td>\n",
       "      <td>기타</td>\n",
       "      <td>7150</td>\n",
       "    </tr>\n",
       "    <tr>\n",
       "      <th>163555</th>\n",
       "      <td>5981</td>\n",
       "      <td>2007-01-12 00:00:00</td>\n",
       "      <td>영등포점</td>\n",
       "      <td>50105</td>\n",
       "      <td>햄</td>\n",
       "      <td>축산가공</td>\n",
       "      <td>9500</td>\n",
       "    </tr>\n",
       "    <tr>\n",
       "      <th>163556</th>\n",
       "      <td>5981</td>\n",
       "      <td>2007-01-12 00:00:00</td>\n",
       "      <td>영등포점</td>\n",
       "      <td>50105</td>\n",
       "      <td>상품군미지정</td>\n",
       "      <td>기타</td>\n",
       "      <td>9500</td>\n",
       "    </tr>\n",
       "    <tr>\n",
       "      <th>163557</th>\n",
       "      <td>5981</td>\n",
       "      <td>2007-03-16 00:00:00</td>\n",
       "      <td>영등포점</td>\n",
       "      <td>77198</td>\n",
       "      <td>수입식품</td>\n",
       "      <td>차/커피</td>\n",
       "      <td>174800</td>\n",
       "    </tr>\n",
       "  </tbody>\n",
       "</table>\n",
       "<p>395562 rows × 7 columns</p>\n",
       "</div>"
      ],
      "text/plain": [
       "        cust_id            tran_date store_nm  goods_id gds_grp_nm  \\\n",
       "0             0  2007-01-19 00:00:00      강남점    127105     기초 화장품   \n",
       "1             0  2007-03-30 00:00:00      강남점    342220       니  트   \n",
       "2             0  2007-03-30 00:00:00      강남점    127105     기초 화장품   \n",
       "3             0  2007-03-30 00:00:00      강남점    342205       니  트   \n",
       "4             0  2007-03-30 00:00:00      강남점    342220     상품군미지정   \n",
       "...         ...                  ...      ...       ...        ...   \n",
       "163553     5981  2007-01-12 00:00:00     영등포점     50105     일반가공식품   \n",
       "163554     5981  2007-01-12 00:00:00     영등포점     50109     상품군미지정   \n",
       "163555     5981  2007-01-12 00:00:00     영등포점     50105          햄   \n",
       "163556     5981  2007-01-12 00:00:00     영등포점     50105     상품군미지정   \n",
       "163557     5981  2007-03-16 00:00:00     영등포점     77198       수입식품   \n",
       "\n",
       "       gds_grp_mclas_nm   amount  \n",
       "0                   화장품   850000  \n",
       "1                  시티웨어   480000  \n",
       "2                   화장품  3000000  \n",
       "3                  시티웨어   840000  \n",
       "4                    기타    20000  \n",
       "...                 ...      ...  \n",
       "163553             가공식품   209000  \n",
       "163554               기타     7150  \n",
       "163555             축산가공     9500  \n",
       "163556               기타     9500  \n",
       "163557             차/커피   174800  \n",
       "\n",
       "[395562 rows x 7 columns]"
      ]
     },
     "execution_count": 4,
     "metadata": {},
     "output_type": "execute_result"
    }
   ],
   "source": [
    "tr"
   ]
  },
  {
   "cell_type": "markdown",
   "metadata": {},
   "source": [
    "## Feature Generation"
   ]
  },
  {
   "cell_type": "markdown",
   "metadata": {
    "_uuid": "1852c916b613fcc482b4b610266f67dc81136c29",
    "colab": {
     "autoexec": {
      "startup": false,
      "wait_interval": 0
     }
    },
    "colab_type": "code",
    "id": "53OCEl0yhTQb"
   },
   "source": [
    "*새로 만든 feature와 병합할 고객ID로만 이루어진 데이터프레임을 만든다.*"
   ]
  },
  {
   "cell_type": "code",
   "execution_count": 5,
   "metadata": {
    "_uuid": "b4e20dd97f10314ba59bb7fbf8133dd36e3f7145",
    "colab": {
     "autoexec": {
      "startup": false,
      "wait_interval": 0
     }
    },
    "colab_type": "code",
    "id": "53OCEl0yhTQb"
   },
   "outputs": [],
   "source": [
    "features = pd.DataFrame({'cust_id': tr.cust_id.unique()})"
   ]
  },
  {
   "cell_type": "markdown",
   "metadata": {
    "_uuid": "a9813ebe8f5d527dfb4fd4bc3834c8547fae9b84",
    "colab": {
     "autoexec": {
      "startup": false,
      "wait_interval": 0
     }
    },
    "colab_type": "code",
    "id": "53OCEl0yhTQb"
   },
   "source": [
    "<br><font color='green'>\n",
    "### Numeric Features"
   ]
  },
  {
   "cell_type": "markdown",
   "metadata": {
    "_uuid": "5ed780e8eb76d47ba75090153c3e6e1af9564814",
    "colab_type": "text",
    "id": "77n9pGuqhTQe"
   },
   "source": [
    "**[파생변수 1-4]** 총구매액, 구매건수, 평균구매액, 최대구매액"
   ]
  },
  {
   "cell_type": "code",
   "execution_count": 6,
   "metadata": {},
   "outputs": [],
   "source": [
    "f = tr.groupby('cust_id')['amount'].agg([\n",
    "    ('총구매액',np.sum), \n",
    "    ('구매건수', np.size), \n",
    "    ('평균구매액', lambda x: np.round(np.mean(x))),\n",
    "    ('최대구매액', np.max),\n",
    "]).reset_index()\n",
    "features = features.merge(f, how='left')"
   ]
  },
  {
   "cell_type": "markdown",
   "metadata": {
    "_uuid": "46848c443bd890e1397def372901b54e013b7c78",
    "colab_type": "text",
    "id": "hlQ_5LRPhTQt"
   },
   "source": [
    "**[파생변수 5-7]** 구매상품종류(goods_id, gds_grp_nm, gds_grp_mclas_nm 각각)"
   ]
  },
  {
   "cell_type": "code",
   "execution_count": 7,
   "metadata": {},
   "outputs": [],
   "source": [
    "f = tr.groupby('cust_id').agg({\n",
    "    'goods_id': [('구매상품종류1', lambda x: x.nunique())],\n",
    "    'gds_grp_nm': [('구매상품종류2', lambda x: x.nunique())],\n",
    "    'gds_grp_mclas_nm': [('구매상품종류3', lambda x: x.nunique())]\n",
    "})\n",
    "\n",
    "f.columns = f.columns.droplevel()  # 동일한 코드: f.columns = [j for _, j in f.columns]\n",
    "f=f.reset_index()\n",
    "features = features.merge(f, how='left')"
   ]
  },
  {
   "cell_type": "markdown",
   "metadata": {
    "_uuid": "d2bcf4d14eb1c2435cc89fd45cfd8fc64c54cb96",
    "colab_type": "text",
    "id": "DatphOovhTQ0"
   },
   "source": [
    "**[파생변수 8-14]** 내점일수, 구매주기, 주말방문비율, 계절별 구매비율(Spring(3-5)/Summer(6-8)/Fall(9-11)/Winter(12-2))"
   ]
  },
  {
   "cell_type": "code",
   "execution_count": 8,
   "metadata": {},
   "outputs": [],
   "source": [
    "f = tr.groupby('cust_id')['tran_date'].agg([\n",
    "    ('내점일수',lambda x: x.str[:10].nunique()),\n",
    "    ('구매주기', lambda x: int((x.astype('datetime64').max() - x.astype('datetime64').min()).days / x.str[:10].nunique())),\n",
    "    ('주말방문비율', lambda x: np.mean(pd.to_datetime(x).dt.dayofweek>4)),\n",
    "    ('봄-구매비율', lambda x: np.mean(pd.to_datetime(x).dt.month.isin([3,4,5]))),\n",
    "    ('여름-구매비율', lambda x: np.mean(pd.to_datetime(x).dt.month.isin([6,7,8]))),\n",
    "    ('가을-구매비율', lambda x: np.mean(pd.to_datetime(x).dt.month.isin([9,10,11]))),\n",
    "    ('겨울-구매비율', lambda x: np.mean(pd.to_datetime(x).dt.month.isin([1,2,12])))\n",
    "]).reset_index()\n",
    "features = features.merge(f, how='left')"
   ]
  },
  {
   "cell_type": "markdown",
   "metadata": {},
   "source": [
    "**[파생변수 15-16]** 환불금액, 환불건수"
   ]
  },
  {
   "cell_type": "code",
   "execution_count": 9,
   "metadata": {},
   "outputs": [],
   "source": [
    "f = tr[tr.amount < 0].groupby('cust_id')['amount'].agg([\n",
    "    ('환불금액', lambda x: x.sum() * -1),\n",
    "    ('환불건수', np.size)\n",
    "]).reset_index()\n",
    "features = features.merge(f, how='left')"
   ]
  },
  {
   "cell_type": "markdown",
   "metadata": {},
   "source": [
    "**[파생변수 17-18]** 내점 당 구매액, 구매건수"
   ]
  },
  {
   "cell_type": "code",
   "execution_count": 10,
   "metadata": {},
   "outputs": [],
   "source": [
    "# 내점 당 구매액 = 총구매액 / 내점일수\n",
    "visits = tr.groupby('cust_id')['tran_date'].agg(lambda x: x.nunique())\n",
    "f = (tr.groupby('cust_id')['amount'].sum() / visits).reset_index().rename(columns={0 : \"내점당구매액\"})\n",
    "features = features.merge(f, how='left')\n",
    "f = (tr.groupby('cust_id')['amount'].size() / visits).reset_index().rename(columns={0 : \"내점당구매건수\"})\n",
    "features = features.merge(f, how='left')"
   ]
  },
  {
   "cell_type": "markdown",
   "metadata": {},
   "source": [
    "**[파생변수 19-24]** 최근 3개월, 6개월, 12개월 구매금액 및 구매건수"
   ]
  },
  {
   "cell_type": "code",
   "execution_count": 11,
   "metadata": {},
   "outputs": [
    {
     "data": {
      "text/html": [
       "<div>\n",
       "<style scoped>\n",
       "    .dataframe tbody tr th:only-of-type {\n",
       "        vertical-align: middle;\n",
       "    }\n",
       "\n",
       "    .dataframe tbody tr th {\n",
       "        vertical-align: top;\n",
       "    }\n",
       "\n",
       "    .dataframe thead th {\n",
       "        text-align: right;\n",
       "    }\n",
       "</style>\n",
       "<table border=\"1\" class=\"dataframe\">\n",
       "  <thead>\n",
       "    <tr style=\"text-align: right;\">\n",
       "      <th></th>\n",
       "      <th>cust_id</th>\n",
       "      <th>최근3개월_구매금액</th>\n",
       "      <th>최근3개월_구매건수</th>\n",
       "    </tr>\n",
       "  </thead>\n",
       "  <tbody>\n",
       "    <tr>\n",
       "      <th>0</th>\n",
       "      <td>0</td>\n",
       "      <td>29084140</td>\n",
       "      <td>27</td>\n",
       "    </tr>\n",
       "    <tr>\n",
       "      <th>1</th>\n",
       "      <td>1</td>\n",
       "      <td>2136000</td>\n",
       "      <td>3</td>\n",
       "    </tr>\n",
       "    <tr>\n",
       "      <th>2</th>\n",
       "      <td>3</td>\n",
       "      <td>549620</td>\n",
       "      <td>4</td>\n",
       "    </tr>\n",
       "    <tr>\n",
       "      <th>3</th>\n",
       "      <td>4</td>\n",
       "      <td>27000000</td>\n",
       "      <td>2</td>\n",
       "    </tr>\n",
       "    <tr>\n",
       "      <th>4</th>\n",
       "      <td>7</td>\n",
       "      <td>140818200</td>\n",
       "      <td>36</td>\n",
       "    </tr>\n",
       "    <tr>\n",
       "      <th>...</th>\n",
       "      <td>...</td>\n",
       "      <td>...</td>\n",
       "      <td>...</td>\n",
       "    </tr>\n",
       "    <tr>\n",
       "      <th>4199</th>\n",
       "      <td>5973</td>\n",
       "      <td>3212500</td>\n",
       "      <td>6</td>\n",
       "    </tr>\n",
       "    <tr>\n",
       "      <th>4200</th>\n",
       "      <td>5976</td>\n",
       "      <td>26358000</td>\n",
       "      <td>11</td>\n",
       "    </tr>\n",
       "    <tr>\n",
       "      <th>4201</th>\n",
       "      <td>5977</td>\n",
       "      <td>36256000</td>\n",
       "      <td>5</td>\n",
       "    </tr>\n",
       "    <tr>\n",
       "      <th>4202</th>\n",
       "      <td>5979</td>\n",
       "      <td>121061000</td>\n",
       "      <td>21</td>\n",
       "    </tr>\n",
       "    <tr>\n",
       "      <th>4203</th>\n",
       "      <td>5980</td>\n",
       "      <td>7528530</td>\n",
       "      <td>2</td>\n",
       "    </tr>\n",
       "  </tbody>\n",
       "</table>\n",
       "<p>4204 rows × 3 columns</p>\n",
       "</div>"
      ],
      "text/plain": [
       "      cust_id  최근3개월_구매금액  최근3개월_구매건수\n",
       "0           0    29084140          27\n",
       "1           1     2136000           3\n",
       "2           3      549620           4\n",
       "3           4    27000000           2\n",
       "4           7   140818200          36\n",
       "...       ...         ...         ...\n",
       "4199     5973     3212500           6\n",
       "4200     5976    26358000          11\n",
       "4201     5977    36256000           5\n",
       "4202     5979   121061000          21\n",
       "4203     5980     7528530           2\n",
       "\n",
       "[4204 rows x 3 columns]"
      ]
     },
     "metadata": {},
     "output_type": "display_data"
    },
    {
     "data": {
      "text/html": [
       "<div>\n",
       "<style scoped>\n",
       "    .dataframe tbody tr th:only-of-type {\n",
       "        vertical-align: middle;\n",
       "    }\n",
       "\n",
       "    .dataframe tbody tr th {\n",
       "        vertical-align: top;\n",
       "    }\n",
       "\n",
       "    .dataframe thead th {\n",
       "        text-align: right;\n",
       "    }\n",
       "</style>\n",
       "<table border=\"1\" class=\"dataframe\">\n",
       "  <thead>\n",
       "    <tr style=\"text-align: right;\">\n",
       "      <th></th>\n",
       "      <th>cust_id</th>\n",
       "      <th>최근6개월_구매금액</th>\n",
       "      <th>최근6개월_구매건수</th>\n",
       "    </tr>\n",
       "  </thead>\n",
       "  <tbody>\n",
       "    <tr>\n",
       "      <th>0</th>\n",
       "      <td>0</td>\n",
       "      <td>42601240</td>\n",
       "      <td>61</td>\n",
       "    </tr>\n",
       "    <tr>\n",
       "      <th>1</th>\n",
       "      <td>1</td>\n",
       "      <td>2136000</td>\n",
       "      <td>3</td>\n",
       "    </tr>\n",
       "    <tr>\n",
       "      <th>2</th>\n",
       "      <td>3</td>\n",
       "      <td>1284060</td>\n",
       "      <td>11</td>\n",
       "    </tr>\n",
       "    <tr>\n",
       "      <th>3</th>\n",
       "      <td>4</td>\n",
       "      <td>27000000</td>\n",
       "      <td>2</td>\n",
       "    </tr>\n",
       "    <tr>\n",
       "      <th>4</th>\n",
       "      <td>6</td>\n",
       "      <td>2250000</td>\n",
       "      <td>2</td>\n",
       "    </tr>\n",
       "    <tr>\n",
       "      <th>...</th>\n",
       "      <td>...</td>\n",
       "      <td>...</td>\n",
       "      <td>...</td>\n",
       "    </tr>\n",
       "    <tr>\n",
       "      <th>4759</th>\n",
       "      <td>5973</td>\n",
       "      <td>5712500</td>\n",
       "      <td>7</td>\n",
       "    </tr>\n",
       "    <tr>\n",
       "      <th>4760</th>\n",
       "      <td>5976</td>\n",
       "      <td>136971800</td>\n",
       "      <td>48</td>\n",
       "    </tr>\n",
       "    <tr>\n",
       "      <th>4761</th>\n",
       "      <td>5977</td>\n",
       "      <td>44158500</td>\n",
       "      <td>7</td>\n",
       "    </tr>\n",
       "    <tr>\n",
       "      <th>4762</th>\n",
       "      <td>5979</td>\n",
       "      <td>159653190</td>\n",
       "      <td>39</td>\n",
       "    </tr>\n",
       "    <tr>\n",
       "      <th>4763</th>\n",
       "      <td>5980</td>\n",
       "      <td>41243840</td>\n",
       "      <td>10</td>\n",
       "    </tr>\n",
       "  </tbody>\n",
       "</table>\n",
       "<p>4764 rows × 3 columns</p>\n",
       "</div>"
      ],
      "text/plain": [
       "      cust_id  최근6개월_구매금액  최근6개월_구매건수\n",
       "0           0    42601240          61\n",
       "1           1     2136000           3\n",
       "2           3     1284060          11\n",
       "3           4    27000000           2\n",
       "4           6     2250000           2\n",
       "...       ...         ...         ...\n",
       "4759     5973     5712500           7\n",
       "4760     5976   136971800          48\n",
       "4761     5977    44158500           7\n",
       "4762     5979   159653190          39\n",
       "4763     5980    41243840          10\n",
       "\n",
       "[4764 rows x 3 columns]"
      ]
     },
     "metadata": {},
     "output_type": "display_data"
    },
    {
     "data": {
      "text/html": [
       "<div>\n",
       "<style scoped>\n",
       "    .dataframe tbody tr th:only-of-type {\n",
       "        vertical-align: middle;\n",
       "    }\n",
       "\n",
       "    .dataframe tbody tr th {\n",
       "        vertical-align: top;\n",
       "    }\n",
       "\n",
       "    .dataframe thead th {\n",
       "        text-align: right;\n",
       "    }\n",
       "</style>\n",
       "<table border=\"1\" class=\"dataframe\">\n",
       "  <thead>\n",
       "    <tr style=\"text-align: right;\">\n",
       "      <th></th>\n",
       "      <th>cust_id</th>\n",
       "      <th>최근12개월_구매금액</th>\n",
       "      <th>최근12개월_구매건수</th>\n",
       "    </tr>\n",
       "  </thead>\n",
       "  <tbody>\n",
       "    <tr>\n",
       "      <th>0</th>\n",
       "      <td>0</td>\n",
       "      <td>68282840</td>\n",
       "      <td>74</td>\n",
       "    </tr>\n",
       "    <tr>\n",
       "      <th>1</th>\n",
       "      <td>1</td>\n",
       "      <td>2136000</td>\n",
       "      <td>3</td>\n",
       "    </tr>\n",
       "    <tr>\n",
       "      <th>2</th>\n",
       "      <td>2</td>\n",
       "      <td>3197000</td>\n",
       "      <td>4</td>\n",
       "    </tr>\n",
       "    <tr>\n",
       "      <th>3</th>\n",
       "      <td>3</td>\n",
       "      <td>16077620</td>\n",
       "      <td>44</td>\n",
       "    </tr>\n",
       "    <tr>\n",
       "      <th>4</th>\n",
       "      <td>4</td>\n",
       "      <td>29050000</td>\n",
       "      <td>3</td>\n",
       "    </tr>\n",
       "    <tr>\n",
       "      <th>...</th>\n",
       "      <td>...</td>\n",
       "      <td>...</td>\n",
       "      <td>...</td>\n",
       "    </tr>\n",
       "    <tr>\n",
       "      <th>5977</th>\n",
       "      <td>5977</td>\n",
       "      <td>82581500</td>\n",
       "      <td>14</td>\n",
       "    </tr>\n",
       "    <tr>\n",
       "      <th>5978</th>\n",
       "      <td>5978</td>\n",
       "      <td>480000</td>\n",
       "      <td>1</td>\n",
       "    </tr>\n",
       "    <tr>\n",
       "      <th>5979</th>\n",
       "      <td>5979</td>\n",
       "      <td>260003790</td>\n",
       "      <td>71</td>\n",
       "    </tr>\n",
       "    <tr>\n",
       "      <th>5980</th>\n",
       "      <td>5980</td>\n",
       "      <td>88991520</td>\n",
       "      <td>18</td>\n",
       "    </tr>\n",
       "    <tr>\n",
       "      <th>5981</th>\n",
       "      <td>5981</td>\n",
       "      <td>623700</td>\n",
       "      <td>10</td>\n",
       "    </tr>\n",
       "  </tbody>\n",
       "</table>\n",
       "<p>5982 rows × 3 columns</p>\n",
       "</div>"
      ],
      "text/plain": [
       "      cust_id  최근12개월_구매금액  최근12개월_구매건수\n",
       "0           0     68282840           74\n",
       "1           1      2136000            3\n",
       "2           2      3197000            4\n",
       "3           3     16077620           44\n",
       "4           4     29050000            3\n",
       "...       ...          ...          ...\n",
       "5977     5977     82581500           14\n",
       "5978     5978       480000            1\n",
       "5979     5979    260003790           71\n",
       "5980     5980     88991520           18\n",
       "5981     5981       623700           10\n",
       "\n",
       "[5982 rows x 3 columns]"
      ]
     },
     "metadata": {},
     "output_type": "display_data"
    }
   ],
   "source": [
    "# pd.to_datetime(), pd.offsets.MonthBegin(3)\n",
    "for m in [3,6,12]:\n",
    "    start = str(pd.to_datetime(tr.tran_date.max()) - pd.offsets.MonthBegin(m))\n",
    "    f = tr.query('tran_date >= @start').groupby('cust_id')['amount'].agg([\n",
    "        (f'최근{m}개월_구매금액', np.sum), \n",
    "        (f'최근{m}개월_구매건수', np.size)\n",
    "    ]).reset_index()\n",
    "    display(f)\n",
    "    features = features.merge(f, how='left')"
   ]
  },
  {
   "cell_type": "markdown",
   "metadata": {
    "_uuid": "b17dcecfe869001bcee8d68aa44a5bd455445b30",
    "colab_type": "text",
    "id": "ODRo0DrzhTRB"
   },
   "source": [
    "<br><font color='green'>\n",
    "### Categorical Features"
   ]
  },
  {
   "cell_type": "markdown",
   "metadata": {
    "_uuid": "7fd81bdb4cef875a30098f6e7e1bbcb1f5fbf205",
    "colab_type": "text",
    "id": "ODRo0DrzhTRB"
   },
   "source": [
    "**[파생변수 25]** 주구매 상품: 가장 많이 구매한 상품(gds_grp_mclas_nm)"
   ]
  },
  {
   "cell_type": "code",
   "execution_count": 12,
   "metadata": {
    "_uuid": "f7a73b3a8372b2b05d10e42e80ad04b8a93c9135",
    "colab": {
     "autoexec": {
      "startup": false,
      "wait_interval": 0
     }
    },
    "colab_type": "code",
    "id": "ZYNOII1ahTRE",
    "outputId": "0d4943bb-ecbb-4cb8-e3a8-1f93888c4842"
   },
   "outputs": [],
   "source": [
    "f = tr.groupby('cust_id')['gds_grp_mclas_nm'].agg([\n",
    "    ('주구매상품', lambda x: x.value_counts().index[0])\n",
    "]).reset_index()\n",
    "features = features.merge(f, how='left')"
   ]
  },
  {
   "cell_type": "markdown",
   "metadata": {},
   "source": [
    "**[파생변수 26]** 주구매 지점"
   ]
  },
  {
   "cell_type": "code",
   "execution_count": 13,
   "metadata": {},
   "outputs": [],
   "source": [
    "f = tr.groupby('cust_id')['store_nm'].agg([\n",
    "    ('주구매지점', lambda x: x.value_counts().index[0])\n",
    "]).reset_index()\n",
    "features = features.merge(f, how='left')"
   ]
  },
  {
   "cell_type": "markdown",
   "metadata": {},
   "source": [
    "<br><font color='red'>\n",
    "**[파생변수 27-35]** 추가로 새로운 파생변수를 제안하고 구현해야 함! 아래는 예시.\n",
    "- 구매추세 패턴\n",
    "- 가격선호도 (예: 고가상품구매율)\n",
    "- 시즌 선호도\n",
    "- 휴면(또는 이탈) 여부\n",
    "- Top-10 베스트 셀러(gds_grp_mclas_nm)에 대한 구매 금액/건수/여부\n",
    "- 상품별 구매순서\n",
    "- 주구매 요일 "
   ]
  },
  {
   "cell_type": "markdown",
   "metadata": {},
   "source": [
    "#### Feature 27 : 남성 선호 상품 구매 비율 \n",
    "#### (셔츠, 스포츠, 남성정장, 남성 캐주얼, 남성 트랜디, 구두-NB 남화, 캐릭터 남화, 명품-명품남성)"
   ]
  },
  {
   "cell_type": "code",
   "execution_count": 14,
   "metadata": {},
   "outputs": [
    {
     "data": {
      "text/plain": [
       "array(['화장품', '시티웨어', '기타', '디자이너', '셔츠', '축산가공', '건강식품', '육류', '수산품',\n",
       "       '젓갈/반찬', '가공식품', '농산물', '란제리/내의', '스포츠', '섬유잡화', '남성정장', '골프',\n",
       "       '트래디셔널', '남성 캐주얼', '침구/수예', '일용잡화', '캐주얼', '차/커피', '아동', '구두',\n",
       "       '보석', '주방용품', '액세서리', '명품', '식기', '주류', '주방가전', '생활잡화', '소형가전',\n",
       "       '커리어', '피혁잡화', '가구', '모피/피혁', '대형가전', '준보석/시계', '교복', '남성 트랜디',\n",
       "       '기타의류', '악기', '통신/컴퓨터', '전자/전기', '문구/팬시', '웨딩', '멀티(아울렛)'],\n",
       "      dtype=object)"
      ]
     },
     "execution_count": 14,
     "metadata": {},
     "output_type": "execute_result"
    }
   ],
   "source": [
    "tr.gds_grp_mclas_nm.unique()"
   ]
  },
  {
   "cell_type": "code",
   "execution_count": 15,
   "metadata": {},
   "outputs": [
    {
     "data": {
      "text/plain": [
       "array(['기초 화장품', '니  트', '상품군미지정', '디자이너부틱', '비지니스군', '유제품', '건강식품',\n",
       "       '건강식품(비타민)', '계육', '멸치류', '벌크젓갈', '일반가공식품', '우육', '수입육', '청과',\n",
       "       '란제리행사', '생선', '시티웨어', '고정행사(스포츠)', '돈육', '단기행사(스포츠)', '굴비류',\n",
       "       '양말(특정)', 'N.B정장', 'N/B골프의류', '스카프(특정)', '건강식품(홍삼)', '모자(특정)',\n",
       "       '아웃도아', '트래디셔널Ⅰ', '시티캐주얼', '회', '한실침구', '뷰티상품', '산지통합', '이지캐주얼',\n",
       "       '수입식품', '야채', '농산가공', 'L/C 아동복', '캐릭터 여화', '위생세제', '스타킹(특정)', '떡',\n",
       "       '보석', '국산주방', '편집매장', '주방잡화', '수입ACC', '캐릭터 남화', '명품잡화', '어덜트',\n",
       "       '크리스탈', '주류', '디자이너캐릭터', '기타', '컨템포러리', '전기밥솥', '수      저', '란제리',\n",
       "       '디자이너', '휴지류', '가공행사', '색조 화장품', '트래디셔널Ⅱ', 'NB 여화', '수영복', '장류',\n",
       "       '벌크김치', '건과', '직수입 골프의류', '진캐주얼', '김류', '트래디셔널', '패션내의', 'KKD',\n",
       "       '타월', '욕실용품', '가스기기', '건생선', '즉석구이김류', '포숑', '양념육', '밥류',\n",
       "       '패밀리레스토랑', '원두커피', '곡물', '유기농야채', '일용잡화', '선식(가루류)', '국산ACC',\n",
       "       '토탈데코', '커리어', '양과(세트행사)', 'takeout양과', '스포츠화', 'L/C골프의류', '영캐주얼',\n",
       "       '4대 B/D', '우/양산(특정)', '장갑(특정)', '디저트류', 'N/B 아동복', '초밥', '음료',\n",
       "       '즉석.스넥(매장)', '브랜드샵', '면류', '아이스크림', '커피숍', '멀티글러브', '손수건(특정)',\n",
       "       '일반핸드백', '햄', 'L/C정장', '매트', '수입주방', '건강침대', '소품가구', '가방', '국산도자기',\n",
       "       '기초A', '한차', '시니어', '선글라스(특정)', '숙녀단기행사', '숙녀고정행사', '모자(단기행사)',\n",
       "       '단기행사(골프)', '수입단기행사', '스포츠의류', '건어물류', '델리카', '서양델리', '브랑제리',\n",
       "       '수산단기행사', '수입의류', '수입 아동복', '어묵', '기타생선', '세트상품', '국산냉장고.세탁기',\n",
       "       '레포츠', '안주류', '스낵형 델리', '단기행사', '시계', '정육세트', '내의', '수입소형가전',\n",
       "       '직수입핸드백', '중식델리', '수입청소기 외', '종합가구', '국산A/V', '영 캐릭터', 'N.B',\n",
       "       'L.B', '넥타이(특정)', '고정행사(골프)', '장류행사', '규격젓갈', '공병', '애견용품', '아동신발',\n",
       "       '등산화', '규격김치', '수입A/V', '고정행사(아동복)', '일식델리', '즉석반찬', 'TAKE OUT',\n",
       "       '일반침대', '토들러', '김치냉장고', '스트리트', '냉동식품', '향수', '교복', '냉동만두류',\n",
       "       '전통델리', '영 트렌디', '유아복', '어반캐주얼', '임대', '프레스티지', '식기 단독매입', '소파',\n",
       "       '캐릭터캐주얼', '수입도자기', '식기단기행사', '홈웨어', '아이웨어', '장식소품', '음반', '수입캐릭터',\n",
       "       '커       튼', '건강베개', '14K', '한과(세트행사)', '골프용품', '넥타이(단기행사)',\n",
       "       '생활잡화 단독매입', '스카프(단기행사)', '카페트', '수예소품', '영캐주얼행사', '가구 단독매입',\n",
       "       '그라스', '한과', '디지털카메라', '단기행사(아동복)', '유아용품', '트랜디캐주얼', '트랜디',\n",
       "       '명품남성', '영플라자(핸드백)', '영플라자(이지)', '셔츠고정행사', '셔츠단기행사', '비식품',\n",
       "       '명품시계기타', '구두단기행사', '갈비세트', '기타(가발,포장,담배,끽연구,사진,수선)', '엘리든특정',\n",
       "       '엘리든직매입', '헤어ACC', '아동침구', '정상스포츠', '수입냉장고', '모피', '커리어 행사',\n",
       "       '수입잡화', '키즈', '유니섹스캐주얼', '명품의류기타', '전화기', '캐릭터', '가 방', '직수입',\n",
       "       '에어컨', '잠옷', '가공선물세트', '유니섹스캐주얼행사', '백앤슈즈멀티', '건강가전', '패션 단독매입',\n",
       "       '머플러(특정)', '인텔리젼스', '캐주얼토털', '시티 단독매입', '시티피혁', '스키', '완구', '컴퓨터',\n",
       "       '전통도자기', '차류', '캐주얼피혁', '단기행사(레져)', '농산단기행사', '특수야채', '피혁', '화장품',\n",
       "       '시티정장바지', '고정행사(레져)', '제과제빵', '캔디', '영플라자(장신)', '신생아완구 단독매입',\n",
       "       '명품잡화보석', '신사니트', 'MP3 外', '명품의류행사', '영플라자(영캐주얼)', '젓갈세트', '식탁',\n",
       "       '명품기타', '인텔리젼스 행사', '구두 단독매입', '넥타이핀', '명품보석', '직수입정장', '명품오디오',\n",
       "       '맞춤셔츠', '셔츠 직매입(PB)', '영플라자(스트리트)', '영플라자(진/유니)', '영플라자(가방)',\n",
       "       '수입세탁기', '명품멀티기타', '주방단기행사', '트래디 행사', '햄세트', '이동통신', 'IT 게임기,S/W',\n",
       "       '기능성침대', '수입잡화보석', '영플라자(패션)', '아동잡화', '시티단기행사', '시네마 매점', '복지용품',\n",
       "       '피아노/악기', '시티웨어 행사', '데님편집', '명품시계직매입', '선글라스', '필기류', '남성잡화멀티',\n",
       "       '올리브핫스터프', '식자재', '셔츠편집매장', '수예단기행사', '케익류', '웨딩', '장신 단독매입',\n",
       "       '정장점행사', 'NB 남화', '악기', '남성시티 직매입', '영플라자 (올리브핫스텁)', '주얼리멀티',\n",
       "       '란제리(멀티)', '주방 단독매입', '양말(멀티)', '정상영캐주얼', '와이즐렉', '분유', '남성정장 직매입',\n",
       "       '원목,학생,철재'], dtype=object)"
      ]
     },
     "execution_count": 15,
     "metadata": {},
     "output_type": "execute_result"
    }
   ],
   "source": [
    "tr.gds_grp_nm.unique()"
   ]
  },
  {
   "cell_type": "code",
   "execution_count": 16,
   "metadata": {},
   "outputs": [],
   "source": [
    "mens_items_a = ['셔츠', '스포츠', '남성정장', '남성 캐주얼', '남성 트랜디'] # 남성 선호 대분류\n",
    "\n",
    "# 총구매건수\n",
    "f = tr.groupby('cust_id')['amount'].agg([('구매건수', np.size)]).reset_index()\n",
    "\n",
    "# 남성 선호 대분류 상품 구매건수\n",
    "m_a = tr.query('gds_grp_mclas_nm == @mens_items_a').groupby('cust_id')['amount'].agg([\n",
    "    ('남성선호대분류구매건수', np.size)\n",
    "]).reset_index()\n",
    "\n",
    "f = pd.merge(f, m_a, on = 'cust_id', how = 'left').fillna(0)\n",
    "\n",
    "\n",
    "f['남성선호상품구매비율'] = f['남성선호대분류구매건수'] / f['구매건수']\n",
    "features = features.merge(f[['cust_id', '남성선호상품구매비율']], how = 'left')"
   ]
  },
  {
   "cell_type": "markdown",
   "metadata": {},
   "source": [
    "#### Feature 28 : 여성 선호 상품 구매 비율 \n",
    "#### (화장품, 란제리/내의, 보석, 주방용품, 식기, 모피/피혁, 피혁잡화, 섬유잡화-스타킹(특정), 구두-NB 여화, 캐릭터 여화)"
   ]
  },
  {
   "cell_type": "code",
   "execution_count": 17,
   "metadata": {},
   "outputs": [],
   "source": [
    "womens_items_a = ['화장품', '란제리/내의', '보석', '주방용품', '식기', '모피/피혁', '피혁잡화'] # 여성 선호 대분류\n",
    "\n",
    "# 총구매건수\n",
    "f = tr.groupby('cust_id')['amount'].agg([('구매건수', np.size)]).reset_index()\n",
    "\n",
    "# 여성 선호 대분류 상품 구매건수\n",
    "w_a = tr.query('gds_grp_mclas_nm == @womens_items_a').groupby('cust_id')['amount'].agg([\n",
    "    ('여성선호대분류구매건수', np.size)\n",
    "]).reset_index()\n",
    "\n",
    "\n",
    "f = pd.merge(f, w_a, on = 'cust_id', how = 'left').fillna(0)\n",
    "\n",
    "\n",
    "f['여성선호상품구매비율'] = f['여성선호대분류구매건수'] / f['구매건수']\n",
    "features = features.merge(f[['cust_id', '여성선호상품구매비율']], how = 'left')\n"
   ]
  },
  {
   "cell_type": "markdown",
   "metadata": {},
   "source": [
    "#### Feature 29 : 식료품 구매액 비율\n",
    "#### (축산가공, 육류, 수산품, 젓갈/반찬, 가공식품, 농산물)"
   ]
  },
  {
   "cell_type": "code",
   "execution_count": 18,
   "metadata": {},
   "outputs": [],
   "source": [
    "food = ['축산가공', '육류', '수산품', '젓갈/반찬', '가공식품', '농산물', '차/커피', '주류'] # 식료품 대분류\n",
    "\n",
    "# 총구매액\n",
    "f = tr.groupby('cust_id')['amount'].agg([('총구매액', np.sum)]).reset_index()\n",
    "\n",
    "# 식료품 구매액\n",
    "food_amount = tr.query('gds_grp_mclas_nm == @food').groupby('cust_id')['amount'].agg([\n",
    "    ('식료품구매액', np.sum)\n",
    "]).reset_index()\n",
    "\n",
    "f = pd.merge(f, food_amount, on = 'cust_id', how = 'left').fillna(0)\n",
    "\n",
    "\n",
    "f['식료품구매액비율'] = f['식료품구매액'] / f['총구매액']\n",
    "features = features.merge(f[['cust_id', '식료품구매액비율']], how = 'left')"
   ]
  },
  {
   "cell_type": "markdown",
   "metadata": {},
   "source": [
    "#### Feature 30 : 평균 식료품 구매액 기반 고객 분류"
   ]
  },
  {
   "cell_type": "code",
   "execution_count": 19,
   "metadata": {},
   "outputs": [],
   "source": [
    "food = ['축산가공', '육류', '수산품', '젓갈/반찬', '가공식품', '농산물', '차/커피', '주류'] # 식료품 대분류\n",
    "\n",
    "# 식료품 구매액\n",
    "f_a = tr.query('gds_grp_mclas_nm == @food').groupby('cust_id')['amount'].agg([\n",
    "    ('식료품구매액', np.sum)\n",
    "]).reset_index()\n",
    "\n",
    "# 식료품 구매건수\n",
    "f_c = tr.query('gds_grp_mclas_nm == @food').groupby('cust_id')['amount'].agg([\n",
    "    ('식료품구매건수', np.size)\n",
    "]).reset_index()\n",
    "\n",
    "# 평균 식료품 구매액\n",
    "f = pd.merge(f_a, f_c, on = 'cust_id', how = 'left').fillna(0)\n",
    "f['평균식료품구매액'] = f['식료품구매액'] / f['식료품구매건수']\n",
    "\n",
    "# 평균 식료품 구매액 5구간으로 나눔\n",
    "f['평균식료품구매액분위'] = pd.qcut(f['평균식료품구매액'], q=5, labels=range(1,6)).astype(int)\n",
    "features = features.merge(f[['cust_id', '평균식료품구매액분위']], how = 'left')"
   ]
  },
  {
   "cell_type": "markdown",
   "metadata": {},
   "source": [
    "#### Feature 31 : 고가 상품 구매율"
   ]
  },
  {
   "cell_type": "code",
   "execution_count": 20,
   "metadata": {},
   "outputs": [],
   "source": [
    "# goods_id에 따른 평균가 계산\n",
    "price = tr.groupby('goods_id').mean().reset_index().drop(['cust_id'], axis = 1)\n",
    "\n",
    "# column 명 변경\n",
    "price.columns = ['goods_id', 'price']\n",
    "\n",
    "# goods_id별 price에 대한 4분위수 계산 후 4분위를 고가상품으로 설정\n",
    "price_4q = price['price'].quantile([.25,.5,.75])\n",
    "\n",
    "# tr 데이터에 price columns 추가\n",
    "tr = tr.merge(price, how = 'left')\n",
    "\n",
    "f = tr.groupby('cust_id')['price'].agg([\n",
    "    ('고가상품구매율', lambda x : (x > price_4q.iloc[2]).mean().round(2))\n",
    "]).reset_index()\n",
    "\n",
    "features = features.merge(f, how='left')"
   ]
  },
  {
   "cell_type": "markdown",
   "metadata": {},
   "source": [
    "#### Feature 32 : 베스트 셀러 구매율"
   ]
  },
  {
   "cell_type": "code",
   "execution_count": 21,
   "metadata": {},
   "outputs": [
    {
     "data": {
      "text/html": [
       "<div>\n",
       "<style scoped>\n",
       "    .dataframe tbody tr th:only-of-type {\n",
       "        vertical-align: middle;\n",
       "    }\n",
       "\n",
       "    .dataframe tbody tr th {\n",
       "        vertical-align: top;\n",
       "    }\n",
       "\n",
       "    .dataframe thead th {\n",
       "        text-align: right;\n",
       "    }\n",
       "</style>\n",
       "<table border=\"1\" class=\"dataframe\">\n",
       "  <thead>\n",
       "    <tr style=\"text-align: right;\">\n",
       "      <th></th>\n",
       "      <th>cust_id</th>\n",
       "      <th>tran_date</th>\n",
       "      <th>store_nm</th>\n",
       "      <th>goods_id</th>\n",
       "      <th>gds_grp_nm</th>\n",
       "      <th>amount</th>\n",
       "      <th>price</th>\n",
       "    </tr>\n",
       "    <tr>\n",
       "      <th>gds_grp_mclas_nm</th>\n",
       "      <th></th>\n",
       "      <th></th>\n",
       "      <th></th>\n",
       "      <th></th>\n",
       "      <th></th>\n",
       "      <th></th>\n",
       "      <th></th>\n",
       "    </tr>\n",
       "  </thead>\n",
       "  <tbody>\n",
       "    <tr>\n",
       "      <th>기타</th>\n",
       "      <td>69478</td>\n",
       "      <td>69478</td>\n",
       "      <td>69478</td>\n",
       "      <td>69478</td>\n",
       "      <td>69478</td>\n",
       "      <td>69478</td>\n",
       "      <td>69478</td>\n",
       "    </tr>\n",
       "    <tr>\n",
       "      <th>농산물</th>\n",
       "      <td>53975</td>\n",
       "      <td>53975</td>\n",
       "      <td>53975</td>\n",
       "      <td>53975</td>\n",
       "      <td>53975</td>\n",
       "      <td>53975</td>\n",
       "      <td>53975</td>\n",
       "    </tr>\n",
       "    <tr>\n",
       "      <th>가공식품</th>\n",
       "      <td>52663</td>\n",
       "      <td>52663</td>\n",
       "      <td>52663</td>\n",
       "      <td>52663</td>\n",
       "      <td>52663</td>\n",
       "      <td>52663</td>\n",
       "      <td>52663</td>\n",
       "    </tr>\n",
       "    <tr>\n",
       "      <th>축산가공</th>\n",
       "      <td>21310</td>\n",
       "      <td>21310</td>\n",
       "      <td>21310</td>\n",
       "      <td>21310</td>\n",
       "      <td>21310</td>\n",
       "      <td>21310</td>\n",
       "      <td>21310</td>\n",
       "    </tr>\n",
       "    <tr>\n",
       "      <th>수산품</th>\n",
       "      <td>19225</td>\n",
       "      <td>19225</td>\n",
       "      <td>19225</td>\n",
       "      <td>19225</td>\n",
       "      <td>19225</td>\n",
       "      <td>19225</td>\n",
       "      <td>19225</td>\n",
       "    </tr>\n",
       "    <tr>\n",
       "      <th>화장품</th>\n",
       "      <td>16242</td>\n",
       "      <td>16242</td>\n",
       "      <td>16242</td>\n",
       "      <td>16242</td>\n",
       "      <td>16242</td>\n",
       "      <td>16242</td>\n",
       "      <td>16242</td>\n",
       "    </tr>\n",
       "    <tr>\n",
       "      <th>디자이너</th>\n",
       "      <td>14504</td>\n",
       "      <td>14504</td>\n",
       "      <td>14504</td>\n",
       "      <td>14504</td>\n",
       "      <td>14504</td>\n",
       "      <td>14504</td>\n",
       "      <td>14504</td>\n",
       "    </tr>\n",
       "    <tr>\n",
       "      <th>시티웨어</th>\n",
       "      <td>13232</td>\n",
       "      <td>13232</td>\n",
       "      <td>13232</td>\n",
       "      <td>13232</td>\n",
       "      <td>13232</td>\n",
       "      <td>13232</td>\n",
       "      <td>13232</td>\n",
       "    </tr>\n",
       "    <tr>\n",
       "      <th>일용잡화</th>\n",
       "      <td>11664</td>\n",
       "      <td>11664</td>\n",
       "      <td>11664</td>\n",
       "      <td>11664</td>\n",
       "      <td>11664</td>\n",
       "      <td>11664</td>\n",
       "      <td>11664</td>\n",
       "    </tr>\n",
       "    <tr>\n",
       "      <th>육류</th>\n",
       "      <td>10523</td>\n",
       "      <td>10523</td>\n",
       "      <td>10523</td>\n",
       "      <td>10523</td>\n",
       "      <td>10523</td>\n",
       "      <td>10523</td>\n",
       "      <td>10523</td>\n",
       "    </tr>\n",
       "    <tr>\n",
       "      <th>차/커피</th>\n",
       "      <td>10388</td>\n",
       "      <td>10388</td>\n",
       "      <td>10388</td>\n",
       "      <td>10388</td>\n",
       "      <td>10388</td>\n",
       "      <td>10388</td>\n",
       "      <td>10388</td>\n",
       "    </tr>\n",
       "  </tbody>\n",
       "</table>\n",
       "</div>"
      ],
      "text/plain": [
       "                  cust_id  tran_date  store_nm  goods_id  gds_grp_nm  amount  \\\n",
       "gds_grp_mclas_nm                                                               \n",
       "기타                  69478      69478     69478     69478       69478   69478   \n",
       "농산물                 53975      53975     53975     53975       53975   53975   \n",
       "가공식품                52663      52663     52663     52663       52663   52663   \n",
       "축산가공                21310      21310     21310     21310       21310   21310   \n",
       "수산품                 19225      19225     19225     19225       19225   19225   \n",
       "화장품                 16242      16242     16242     16242       16242   16242   \n",
       "디자이너                14504      14504     14504     14504       14504   14504   \n",
       "시티웨어                13232      13232     13232     13232       13232   13232   \n",
       "일용잡화                11664      11664     11664     11664       11664   11664   \n",
       "육류                  10523      10523     10523     10523       10523   10523   \n",
       "차/커피                10388      10388     10388     10388       10388   10388   \n",
       "\n",
       "                  price  \n",
       "gds_grp_mclas_nm         \n",
       "기타                69478  \n",
       "농산물               53975  \n",
       "가공식품              52663  \n",
       "축산가공              21310  \n",
       "수산품               19225  \n",
       "화장품               16242  \n",
       "디자이너              14504  \n",
       "시티웨어              13232  \n",
       "일용잡화              11664  \n",
       "육류                10523  \n",
       "차/커피              10388  "
      ]
     },
     "execution_count": 21,
     "metadata": {},
     "output_type": "execute_result"
    }
   ],
   "source": [
    "# 베스트 셀러 대분류 확인 (기타 제외 10위 까지)\n",
    "tr.groupby('gds_grp_mclas_nm').count().sort_values(by = 'cust_id', ascending = False).head(11)"
   ]
  },
  {
   "cell_type": "code",
   "execution_count": 22,
   "metadata": {},
   "outputs": [],
   "source": [
    "best_sellers = ['농산물', '가공식품', '축산가공', '수산품', '화장품', '디자이너', '시티웨어', '일용잡화', '육류', '차/커피'] # 베스트 셀러 대분류\n",
    "\n",
    "# 총구매건수\n",
    "f = tr.groupby('cust_id')['amount'].agg([('구매건수', np.size)]).reset_index()\n",
    "\n",
    "# 베스트 셀러 구매건수\n",
    "b_s = tr.query('gds_grp_mclas_nm == @best_sellers').groupby('cust_id')['amount'].agg([\n",
    "    ('베스트셀러구매건수', np.size)\n",
    "]).reset_index()\n",
    "\n",
    "f = pd.merge(f, b_s, on = 'cust_id', how = 'left').fillna(0)\n",
    "\n",
    "f['베스트셀러구매비율'] = f['베스트셀러구매건수'] / f['구매건수']\n",
    "features = features.merge(f[['cust_id', '베스트셀러구매비율']], how = 'left')"
   ]
  },
  {
   "cell_type": "markdown",
   "metadata": {},
   "source": [
    "#### Feature 33 : 환불 비율"
   ]
  },
  {
   "cell_type": "code",
   "execution_count": 23,
   "metadata": {},
   "outputs": [],
   "source": [
    "# 총구매건수\n",
    "f = tr.groupby('cust_id')['amount'].agg([('구매건수', np.size)]).reset_index()\n",
    "\n",
    "# 환불건수\n",
    "g = tr[tr.amount < 0].groupby('cust_id')['amount'].agg([('환불건수', np.size)]).reset_index()\n",
    "\n",
    "f = f.merge(g, how = 'left').fillna(0)\n",
    "f['환불비율'] = f['환불건수'] / f['구매건수']\n",
    "\n",
    "features = features.merge(f[['cust_id', '환불비율']], how = 'left')"
   ]
  },
  {
   "cell_type": "markdown",
   "metadata": {},
   "source": [
    "#### Feature 34 : 스타킹 구매 건수"
   ]
  },
  {
   "cell_type": "code",
   "execution_count": 24,
   "metadata": {},
   "outputs": [],
   "source": [
    "# 스타킹 구매건수\n",
    "f = tr.query(\"gds_grp_nm == '스타킹(특정)'\").groupby('cust_id')['amount'].agg([\n",
    "    ('스타킹구매건수', np.size)\n",
    "]).reset_index()\n",
    "\n",
    "features = features.merge(f, how='left')"
   ]
  },
  {
   "cell_type": "markdown",
   "metadata": {},
   "source": [
    "#### Feature 35 : RFM Score 기반 고객 분류"
   ]
  },
  {
   "cell_type": "code",
   "execution_count": 25,
   "metadata": {},
   "outputs": [],
   "source": [
    "# R\n",
    "# 데이터 형식 변경\n",
    "tr.tran_date = tr.tran_date.astype(str).astype('datetime64')\n",
    "\n",
    "# 최종 구매일 다음날 기준 \n",
    "now = tr.tran_date.max() + pd.DateOffset(days = 1)\n",
    "\n",
    "recency = tr.groupby('cust_id')['tran_date'].agg(lambda x,y: (y - x).min().days, now).reset_index().rename(columns={'tran_date':'recency'})\n",
    "\n",
    "# F\n",
    "frequency =  tr.groupby('cust_id')['tran_date'].agg([('frequency', Series.nunique)]).reset_index()\n",
    "\n",
    "# M\n",
    "monetary = tr.groupby('cust_id')['amount'].agg([('monetary', np.sum)]).reset_index()\n",
    "\n",
    "rfm = recency.merge(frequency).merge(monetary)\n",
    "\n",
    "# R, F, M 값 각각 5분위로 분류 후 점수 부여\n",
    "rfm['R'] = pd.qcut(rfm['recency'], q=5, labels=range(5,0,-1)).astype(int)\n",
    "rfm['F'] = pd.qcut(rfm['frequency'], q=5, labels=range(1,6)).astype(int)\n",
    "rfm['M'] = pd.qcut(rfm['monetary'], q=5, labels=range(1,6)).astype(int)\n",
    "\n",
    "# R,F,M 점수 조합하여 그룹 생성\n",
    "rfm['RFMgroup'] = rfm['R'].map(str) + rfm['F'].map(str) + rfm['M'].map(str)\n",
    "\n",
    "# R,F,M 중요도 고려하여 RFM Score 부여\n",
    "weights = [4, 2, 4]\n",
    "rfm['RFMscore'] = weights[0] * rfm['R'] + weights[1] * rfm['F'] + weights[2] * rfm['M']\n",
    "\n",
    "# RFM Socre 5구간으로 나눔\n",
    "rfm['RFMscore'] = pd.qcut(rfm['RFMscore'], q=5, labels=range(1,6)).astype(int)\n",
    "\n",
    "# 고객 등급 부여\n",
    "f['고객등급'] = rfm['RFMscore'].map(\n",
    "    {1 : 'Normal', 2 : 'Silver', 3 : 'Gold' , 4 : 'VIP', 5 : 'MVG'})\n",
    "\n",
    "features = features.merge(f[['cust_id', '고객등급']], how = 'left')"
   ]
  },
  {
   "cell_type": "code",
   "execution_count": 26,
   "metadata": {},
   "outputs": [],
   "source": [
    "tr.tran_date = tr.tran_date.astype(str)"
   ]
  },
  {
   "cell_type": "markdown",
   "metadata": {},
   "source": [
    "[파생변수 28] 평균대비구매비중"
   ]
  },
  {
   "cell_type": "code",
   "execution_count": 27,
   "metadata": {},
   "outputs": [],
   "source": [
    "t = tr.groupby('cust_id')['amount'].sum() / tr.amount.mean()\n",
    "t = t.astype(str).reset_index();t\n",
    "t = t.rename(columns = {'amount' : '평균대비구매비중'});t\n",
    "features = features.merge(t, how='left')"
   ]
  },
  {
   "cell_type": "markdown",
   "metadata": {},
   "source": [
    "[파생변수 29] 주환불상품"
   ]
  },
  {
   "cell_type": "code",
   "execution_count": 28,
   "metadata": {},
   "outputs": [],
   "source": [
    "t = tr[tr.amount < 0].groupby('cust_id')['gds_grp_nm'].agg([\n",
    "    ('주환불상품', lambda x: x.value_counts().index[0])\n",
    "]).reset_index();t\n",
    "features = features.merge(t, how='left')"
   ]
  },
  {
   "cell_type": "markdown",
   "metadata": {},
   "source": [
    "[파생변수 32] 평균대비 내점일수 비중"
   ]
  },
  {
   "cell_type": "code",
   "execution_count": 29,
   "metadata": {},
   "outputs": [],
   "source": [
    "t = tr.groupby('cust_id')['tran_date'].agg([\n",
    "    ('평균대비내점일수비율' ,lambda x: x.str[:10].nunique())\n",
    "]) / features[\"내점일수\"].mean()\n",
    "t = t.astype(str).reset_index();t\n",
    "features = features.merge(t, how='left')"
   ]
  },
  {
   "cell_type": "markdown",
   "metadata": {},
   "source": [
    "[파생변수 33] 평일 천만원이상(고가상품)구매건수"
   ]
  },
  {
   "cell_type": "code",
   "execution_count": 30,
   "metadata": {},
   "outputs": [],
   "source": [
    "tr[\"요일\"] = tr.tran_date.astype(str).astype(\"datetime64\").dt.day_name()"
   ]
  },
  {
   "cell_type": "code",
   "execution_count": 31,
   "metadata": {},
   "outputs": [],
   "source": [
    "tr = tr.query(\"요일 == 'Monday' or 요일 == 'Tuesday' or 요일 == 'Wendseday' or 요일 == 'Thursday' or 요일 == 'Friday'\")"
   ]
  },
  {
   "cell_type": "code",
   "execution_count": 32,
   "metadata": {},
   "outputs": [],
   "source": [
    "t = tr.query(\"amount > 10000000\").groupby(\"cust_id\")['amount'].agg([\n",
    "    (\"평일고가상품구매건수\" , np.size)\n",
    "]).reset_index()\n",
    "features = features.merge(t, how='left')"
   ]
  },
  {
   "cell_type": "markdown",
   "metadata": {},
   "source": [
    "#### tr복구"
   ]
  },
  {
   "cell_type": "code",
   "execution_count": 33,
   "metadata": {},
   "outputs": [],
   "source": [
    "tr = pd.concat([train, test])"
   ]
  },
  {
   "cell_type": "code",
   "execution_count": 34,
   "metadata": {},
   "outputs": [],
   "source": [
    "tr[\"요일\"] = tr.tran_date.astype(str).astype(\"datetime64\").dt.day_name()"
   ]
  },
  {
   "cell_type": "markdown",
   "metadata": {},
   "source": [
    "[파생변수 34] 방문한 구매지점 "
   ]
  },
  {
   "cell_type": "code",
   "execution_count": 35,
   "metadata": {},
   "outputs": [],
   "source": [
    "k = tr.groupby('cust_id')['store_nm'].unique().reset_index()"
   ]
  },
  {
   "cell_type": "code",
   "execution_count": 36,
   "metadata": {},
   "outputs": [],
   "source": [
    "t = k.store_nm.apply(lambda x : len(x)).reset_index()"
   ]
  },
  {
   "cell_type": "code",
   "execution_count": 37,
   "metadata": {},
   "outputs": [],
   "source": [
    "t = t.rename(columns={'store_nm' : '방문지점'})"
   ]
  },
  {
   "cell_type": "code",
   "execution_count": 38,
   "metadata": {},
   "outputs": [],
   "source": [
    "i = features.cust_id.reset_index()"
   ]
  },
  {
   "cell_type": "code",
   "execution_count": 39,
   "metadata": {},
   "outputs": [],
   "source": [
    "t = t.merge(i, how='left')"
   ]
  },
  {
   "cell_type": "code",
   "execution_count": 40,
   "metadata": {},
   "outputs": [],
   "source": [
    "features = features.merge(t, how='left')"
   ]
  },
  {
   "cell_type": "code",
   "execution_count": 41,
   "metadata": {},
   "outputs": [],
   "source": [
    "features = features.drop('index', axis='columns')"
   ]
  },
  {
   "cell_type": "markdown",
   "metadata": {},
   "source": [
    "[파생변수 27] 주방관련품목구매횟수(축산가공, 건강식품, 육류, 수산품, 젓갈/반찬, 가공식품, 농산물, 차/커피, 주방용품, 식기, 주류, 주방가전)"
   ]
  },
  {
   "cell_type": "code",
   "execution_count": 42,
   "metadata": {},
   "outputs": [],
   "source": [
    "f = tr.query('gds_grp_mclas_nm in [\"축산가공\",\"건강식품\",\"육류\",\"수산품\",\"젓갈/반찬\",\"가공식품\",\"농산물\",\"차/커피\",\"주방용품\",\"식기\",\"주류\",\"주방가전\"]')\n",
    "f = f.groupby('cust_id')['gds_grp_mclas_nm'].agg([('주방관련구매횟수',np.size)]).reset_index()\n",
    "features = features.merge(f, how = 'left')"
   ]
  },
  {
   "cell_type": "markdown",
   "metadata": {},
   "source": [
    "[파생변수 30] 주구매시즌\n",
    "\n",
    "'1' = spring, '2' = summer, '3' = fall, '4' = winter"
   ]
  },
  {
   "cell_type": "code",
   "execution_count": 43,
   "metadata": {},
   "outputs": [],
   "source": [
    "tr['season'] = tr.tran_date.apply(lambda x: x[5:7])\n",
    "tr['season'] = tr['season'].apply(lambda x: '1' if int(x)<4 else('2' if int(x)<7 else('3' if int(x)<10 else '4')))"
   ]
  },
  {
   "cell_type": "code",
   "execution_count": 44,
   "metadata": {},
   "outputs": [],
   "source": [
    "f = tr.groupby('cust_id')['season'].agg([('주구매시즌', lambda x : x.value_counts().index[0])]).reset_index()\n",
    "features = features.merge(f, how = 'left')"
   ]
  },
  {
   "cell_type": "markdown",
   "metadata": {},
   "source": [
    "[파생변수 31] 주구매요일\n",
    "\n",
    "'1' = Monday,'2' = Tuesday,'3' = Wednesday,'4' = Thursday,'5' = Friday,'6' = Saturday,'7' = Sunday"
   ]
  },
  {
   "cell_type": "code",
   "execution_count": 45,
   "metadata": {},
   "outputs": [],
   "source": [
    "tr['day'] = tr.tran_date.astype(str).astype('datetime64').dt.day_name()"
   ]
  },
  {
   "cell_type": "code",
   "execution_count": 46,
   "metadata": {},
   "outputs": [],
   "source": [
    "f = tr.groupby('cust_id')['day'].agg([('주구매요일', lambda x : x.value_counts().index[0])])\n",
    "f = f['주구매요일'].apply(lambda x: '1' if x=='Monday' else('2' if x=='Tuesday' else('3' if x=='Wednesday' else('4' if x=='Thursday' else('5' if x=='Friday' else('6' if x=='Saturday' else '7')))))).reset_index(); f\n",
    "features = features.merge(f, how = 'left')"
   ]
  },
  {
   "cell_type": "markdown",
   "metadata": {},
   "source": [
    "[파생변수 32] 선호가격대\n",
    "\n",
    "'1' = 0 < amount <= 18,000\n",
    "'2' = 18,000 < amount <= 92,400\n",
    "'3' = 92,400 < amount <= 665,000\n",
    "'4' = 665,000 < amount"
   ]
  },
  {
   "cell_type": "code",
   "execution_count": 47,
   "metadata": {},
   "outputs": [
    {
     "data": {
      "text/plain": [
       "{'whiskers': [<matplotlib.lines.Line2D at 0x25f47fbeb88>,\n",
       "  <matplotlib.lines.Line2D at 0x25f47fbec88>],\n",
       " 'caps': [<matplotlib.lines.Line2D at 0x25f47fbed08>,\n",
       "  <matplotlib.lines.Line2D at 0x25f47fcde08>],\n",
       " 'boxes': [<matplotlib.lines.Line2D at 0x25f460a19c8>],\n",
       " 'medians': [<matplotlib.lines.Line2D at 0x25f47fcdf08>],\n",
       " 'fliers': [<matplotlib.lines.Line2D at 0x25f47fcdfc8>],\n",
       " 'means': []}"
      ]
     },
     "execution_count": 47,
     "metadata": {},
     "output_type": "execute_result"
    },
    {
     "data": {
      "image/png": "[encoded data removed]",
      "text/plain": [
       "<Figure size 432x288 with 1 Axes>"
      ]
     },
     "metadata": {
      "needs_background": "light"
     },
     "output_type": "display_data"
    }
   ],
   "source": [
    "plt.boxplot(tr.amount)"
   ]
  },
  {
   "cell_type": "code",
   "execution_count": 48,
   "metadata": {},
   "outputs": [
    {
     "data": {
      "text/plain": [
       "count    3.859240e+05\n",
       "mean     1.614377e+06\n",
       "std      6.298003e+06\n",
       "min      5.000000e+01\n",
       "25%      1.900000e+04\n",
       "50%      9.750000e+04\n",
       "75%      7.150000e+05\n",
       "max      5.932250e+08\n",
       "Name: amount, dtype: float64"
      ]
     },
     "execution_count": 48,
     "metadata": {},
     "output_type": "execute_result"
    }
   ],
   "source": [
    "tr.query('700000000 > amount > 0').amount.describe()"
   ]
  },
  {
   "cell_type": "code",
   "execution_count": 49,
   "metadata": {},
   "outputs": [],
   "source": [
    "tr.loc[tr['amount'] > 700000000, 'amount'] = 1546374"
   ]
  },
  {
   "cell_type": "code",
   "execution_count": 50,
   "metadata": {},
   "outputs": [],
   "source": [
    "f = tr.query('amount>0')[['cust_id','amount']]\n",
    "f['amount'] = f['amount'].apply(lambda x: '1' if 0 < x <= 18000 else('2' if 18000 < x <= 92400 else('3' if 92400 < x <= 665000 else '4')))\n",
    "f = f.groupby('cust_id')['amount'].agg([('선호가격대', lambda x : x.value_counts().index[0])]).reset_index()\n",
    "features = features.merge(f, how = 'left')"
   ]
  },
  {
   "cell_type": "markdown",
   "metadata": {},
   "source": [
    "[파생변수 35] 주로가장먼저사는품목"
   ]
  },
  {
   "cell_type": "code",
   "execution_count": 51,
   "metadata": {},
   "outputs": [],
   "source": [
    "f = tr.drop_duplicates('tran_date')[['cust_id','gds_grp_mclas_nm']].groupby('cust_id')['gds_grp_mclas_nm'].agg([('주로먼저사는품목', lambda x : x.value_counts().index[0])]).reset_index()\n",
    "features = features.merge(f, how = 'left')"
   ]
  },
  {
   "cell_type": "markdown",
   "metadata": {},
   "source": [
    "[파생변수 27] 가격 선호도"
   ]
  },
  {
   "cell_type": "code",
   "execution_count": 52,
   "metadata": {},
   "outputs": [],
   "source": [
    "# 고객별 구매 금액의 평균으로 가격 선호도 추출\n",
    "# 선호도의 숫자(1~5)가 높을수록 고가형 제품을 선호\n",
    "\n",
    "def grade(x):\n",
    "    if x <= 500000:\n",
    "        return 1\n",
    "    elif x <= 2000000:\n",
    "        return 2\n",
    "    elif x <= 5000000:\n",
    "        return 3\n",
    "    elif x <= 10000000:\n",
    "        return 4\n",
    "    elif x <= 50000000:\n",
    "        return 5\n",
    "\n",
    "    \n",
    "f = tr.groupby('cust_id')['amount'].agg([\n",
    "    ('가격선호도', lambda x: grade(np.mean(x)))\n",
    "]).reset_index()\n",
    "features = features.merge(f, how='left')\n"
   ]
  },
  {
   "cell_type": "markdown",
   "metadata": {},
   "source": [
    "**[파생변수 32-33]** 라이프 스타일 선호도"
   ]
  },
  {
   "cell_type": "code",
   "execution_count": 53,
   "metadata": {},
   "outputs": [],
   "source": [
    "# 고객별 구매 금액의 평균과 구매 건수에 따른 라이프 스타일 추출\n",
    "\n",
    "def lifeStyle(x):\n",
    "    if x in ['농산물', '가공식품', '축산가공', '수산품', '육류', '차/커피', '젓갈/반찬', '건강식품', '주류']:\n",
    "        return '식품'\n",
    "    elif x in ['주방가전', '대형가전', '가구', '소형가전', '통신/컴퓨터', '전자/전기']:\n",
    "        return '가전'\n",
    "    elif x in ['일용잡화', '주방용품', '생활잡화', '식기', '침구/수예', '문구/팬시']:\n",
    "        return '생활용품'\n",
    "    elif x in ['골프', '스포츠', '악기']:\n",
    "        return '예체능'\n",
    "    elif x in ['액세서리', '준보석/시계', '디자이너', '명품', '보석']:\n",
    "        return '명품'\n",
    "    elif x in ['트래디셔널', '시티웨어', '섬유잡화', '캐주얼', '구두', '기타의류', '교복', '커리어']:\n",
    "        return '의류'\n",
    "    elif x in ['남성 캐주얼', '셔츠', '남성정장', '남성 트랜디']:\n",
    "        return '남성의류'\n",
    "    elif x in ['모피/피혁', '피혁잡화', '웨딩', '멀티(아울렛)', '란제리/내의']:\n",
    "        return '여성의류'\n",
    "    elif x in ['아동']:\n",
    "        return '아동용품'\n",
    "    elif x in ['화장품']:\n",
    "        return '화장품'\n",
    "    elif x in ['기타']:\n",
    "        return '기타'\n",
    "    \n",
    "tr[\"lifeStyle\"]=tr['gds_grp_mclas_nm'].apply(lifeStyle)\n",
    "\n",
    "f = pd.pivot_table(tr, index='cust_id', columns='lifeStyle', values='amount', aggfunc=np.mean, fill_value=0).reset_index()\n",
    "a = f.iloc[:,1:12] \n",
    "a['라이프 스타일(평균)'] = a.idxmax(axis=1)\n",
    "f = pd.concat([f, a], axis=1)['라이프 스타일(평균)'].reset_index(name = '라이프 스타일(평균)').rename(columns = {'index' : 'cust_id'})\n",
    "features = features.merge(f, how='left'); features\n",
    "\n",
    "f = pd.pivot_table(tr, index='cust_id', columns='lifeStyle', values='amount', aggfunc=np.size, fill_value=0).reset_index()\n",
    "a = f.iloc[:,1:12] \n",
    "a['라이프 스타일(건수)'] = a.idxmax(axis=1)\n",
    "f = pd.concat([f, a], axis=1)['라이프 스타일(건수)'].reset_index(name = '라이프 스타일(건수)').rename(columns = {'index' : 'cust_id'})\n",
    "features = features.merge(f, how='left')"
   ]
  },
  {
   "cell_type": "markdown",
   "metadata": {
    "scrolled": true
   },
   "source": [
    "**[파생변수 27,28]** 선호방문계절, 선호방문월"
   ]
  },
  {
   "cell_type": "code",
   "execution_count": 54,
   "metadata": {},
   "outputs": [],
   "source": [
    "tr['month'] = tr['tran_date'].agg(lambda x: pd.to_datetime(x).month)\n",
    "tr['season'] = tr['month'].agg(lambda x: 'spring' if x in [3,4,5] else 'summer' if x in [6,7,8]\n",
    "                              else 'fall' if x in [9,10,11] else 'fall')"
   ]
  },
  {
   "cell_type": "code",
   "execution_count": 55,
   "metadata": {},
   "outputs": [],
   "source": [
    "f = tr.groupby('cust_id')['season'].agg([\n",
    "    ('선호방문계절', lambda x: x.value_counts().index[0])\n",
    "])\n",
    "f['선호방문월'] = tr.groupby('cust_id')['month'].apply(lambda x: x.value_counts().index[0])\n",
    "f\n",
    "features = features.merge(f, on = 'cust_id', how = 'left')"
   ]
  },
  {
   "cell_type": "markdown",
   "metadata": {},
   "source": [
    "**[파생변수 33]** 구매지점다양성\n",
    "\n",
    "    -고객별 구매지점수를 전체지점수로 나눔 \n",
    "     1에 가까울수록 다양한 지점에서 구매\n",
    "     (max : 0.3333, 8개의 지점이용)"
   ]
  },
  {
   "cell_type": "code",
   "execution_count": 56,
   "metadata": {},
   "outputs": [],
   "source": [
    "f = tr.groupby('cust_id')['store_nm'].agg([\n",
    "    ('구매지점수', lambda x: x.nunique())\n",
    "]).reset_index()\n",
    "nstore = tr.store_nm.nunique()\n",
    "f['구매지점다양성'] = f.구매지점수/nstore\n",
    "features = features.merge(f[['cust_id','구매지점다양성']], on = 'cust_id', how = 'left')"
   ]
  },
  {
   "cell_type": "markdown",
   "metadata": {},
   "source": [
    "**[파생변수 34]**구매추세 패턴\n",
    " - 월별 구매건수 변화추이"
   ]
  },
  {
   "cell_type": "code",
   "execution_count": 57,
   "metadata": {},
   "outputs": [
    {
     "data": {
      "text/html": [
       "<div>\n",
       "<style scoped>\n",
       "    .dataframe tbody tr th:only-of-type {\n",
       "        vertical-align: middle;\n",
       "    }\n",
       "\n",
       "    .dataframe tbody tr th {\n",
       "        vertical-align: top;\n",
       "    }\n",
       "\n",
       "    .dataframe thead th {\n",
       "        text-align: right;\n",
       "    }\n",
       "</style>\n",
       "<table border=\"1\" class=\"dataframe\">\n",
       "  <thead>\n",
       "    <tr style=\"text-align: right;\">\n",
       "      <th>month</th>\n",
       "      <th>1</th>\n",
       "      <th>2</th>\n",
       "      <th>3</th>\n",
       "      <th>4</th>\n",
       "      <th>5</th>\n",
       "      <th>6</th>\n",
       "      <th>7</th>\n",
       "      <th>8</th>\n",
       "      <th>9</th>\n",
       "      <th>10</th>\n",
       "      <th>11</th>\n",
       "      <th>12</th>\n",
       "    </tr>\n",
       "    <tr>\n",
       "      <th>cust_id</th>\n",
       "      <th></th>\n",
       "      <th></th>\n",
       "      <th></th>\n",
       "      <th></th>\n",
       "      <th></th>\n",
       "      <th></th>\n",
       "      <th></th>\n",
       "      <th></th>\n",
       "      <th></th>\n",
       "      <th></th>\n",
       "      <th></th>\n",
       "      <th></th>\n",
       "    </tr>\n",
       "  </thead>\n",
       "  <tbody>\n",
       "    <tr>\n",
       "      <th>0</th>\n",
       "      <td>1.0</td>\n",
       "      <td>0.0</td>\n",
       "      <td>4.0</td>\n",
       "      <td>0.0</td>\n",
       "      <td>3.0</td>\n",
       "      <td>5.0</td>\n",
       "      <td>12.0</td>\n",
       "      <td>12.0</td>\n",
       "      <td>10.0</td>\n",
       "      <td>14.0</td>\n",
       "      <td>4.0</td>\n",
       "      <td>9.0</td>\n",
       "    </tr>\n",
       "    <tr>\n",
       "      <th>1</th>\n",
       "      <td>0.0</td>\n",
       "      <td>0.0</td>\n",
       "      <td>0.0</td>\n",
       "      <td>0.0</td>\n",
       "      <td>0.0</td>\n",
       "      <td>0.0</td>\n",
       "      <td>0.0</td>\n",
       "      <td>0.0</td>\n",
       "      <td>0.0</td>\n",
       "      <td>3.0</td>\n",
       "      <td>0.0</td>\n",
       "      <td>0.0</td>\n",
       "    </tr>\n",
       "    <tr>\n",
       "      <th>2</th>\n",
       "      <td>4.0</td>\n",
       "      <td>0.0</td>\n",
       "      <td>0.0</td>\n",
       "      <td>0.0</td>\n",
       "      <td>0.0</td>\n",
       "      <td>0.0</td>\n",
       "      <td>0.0</td>\n",
       "      <td>0.0</td>\n",
       "      <td>0.0</td>\n",
       "      <td>0.0</td>\n",
       "      <td>0.0</td>\n",
       "      <td>0.0</td>\n",
       "    </tr>\n",
       "    <tr>\n",
       "      <th>3</th>\n",
       "      <td>0.0</td>\n",
       "      <td>3.0</td>\n",
       "      <td>13.0</td>\n",
       "      <td>8.0</td>\n",
       "      <td>5.0</td>\n",
       "      <td>4.0</td>\n",
       "      <td>2.0</td>\n",
       "      <td>1.0</td>\n",
       "      <td>4.0</td>\n",
       "      <td>0.0</td>\n",
       "      <td>1.0</td>\n",
       "      <td>3.0</td>\n",
       "    </tr>\n",
       "    <tr>\n",
       "      <th>4</th>\n",
       "      <td>0.0</td>\n",
       "      <td>0.0</td>\n",
       "      <td>0.0</td>\n",
       "      <td>0.0</td>\n",
       "      <td>1.0</td>\n",
       "      <td>0.0</td>\n",
       "      <td>0.0</td>\n",
       "      <td>0.0</td>\n",
       "      <td>0.0</td>\n",
       "      <td>0.0</td>\n",
       "      <td>2.0</td>\n",
       "      <td>0.0</td>\n",
       "    </tr>\n",
       "    <tr>\n",
       "      <th>...</th>\n",
       "      <td>...</td>\n",
       "      <td>...</td>\n",
       "      <td>...</td>\n",
       "      <td>...</td>\n",
       "      <td>...</td>\n",
       "      <td>...</td>\n",
       "      <td>...</td>\n",
       "      <td>...</td>\n",
       "      <td>...</td>\n",
       "      <td>...</td>\n",
       "      <td>...</td>\n",
       "      <td>...</td>\n",
       "    </tr>\n",
       "    <tr>\n",
       "      <th>5977</th>\n",
       "      <td>4.0</td>\n",
       "      <td>0.0</td>\n",
       "      <td>0.0</td>\n",
       "      <td>0.0</td>\n",
       "      <td>1.0</td>\n",
       "      <td>2.0</td>\n",
       "      <td>2.0</td>\n",
       "      <td>0.0</td>\n",
       "      <td>0.0</td>\n",
       "      <td>1.0</td>\n",
       "      <td>3.0</td>\n",
       "      <td>1.0</td>\n",
       "    </tr>\n",
       "    <tr>\n",
       "      <th>5978</th>\n",
       "      <td>1.0</td>\n",
       "      <td>0.0</td>\n",
       "      <td>0.0</td>\n",
       "      <td>0.0</td>\n",
       "      <td>0.0</td>\n",
       "      <td>0.0</td>\n",
       "      <td>0.0</td>\n",
       "      <td>0.0</td>\n",
       "      <td>0.0</td>\n",
       "      <td>0.0</td>\n",
       "      <td>0.0</td>\n",
       "      <td>0.0</td>\n",
       "    </tr>\n",
       "    <tr>\n",
       "      <th>5979</th>\n",
       "      <td>17.0</td>\n",
       "      <td>1.0</td>\n",
       "      <td>0.0</td>\n",
       "      <td>6.0</td>\n",
       "      <td>5.0</td>\n",
       "      <td>3.0</td>\n",
       "      <td>9.0</td>\n",
       "      <td>4.0</td>\n",
       "      <td>5.0</td>\n",
       "      <td>4.0</td>\n",
       "      <td>2.0</td>\n",
       "      <td>15.0</td>\n",
       "    </tr>\n",
       "    <tr>\n",
       "      <th>5980</th>\n",
       "      <td>0.0</td>\n",
       "      <td>3.0</td>\n",
       "      <td>0.0</td>\n",
       "      <td>5.0</td>\n",
       "      <td>0.0</td>\n",
       "      <td>0.0</td>\n",
       "      <td>3.0</td>\n",
       "      <td>0.0</td>\n",
       "      <td>5.0</td>\n",
       "      <td>0.0</td>\n",
       "      <td>0.0</td>\n",
       "      <td>2.0</td>\n",
       "    </tr>\n",
       "    <tr>\n",
       "      <th>5981</th>\n",
       "      <td>9.0</td>\n",
       "      <td>0.0</td>\n",
       "      <td>1.0</td>\n",
       "      <td>0.0</td>\n",
       "      <td>0.0</td>\n",
       "      <td>0.0</td>\n",
       "      <td>0.0</td>\n",
       "      <td>0.0</td>\n",
       "      <td>0.0</td>\n",
       "      <td>0.0</td>\n",
       "      <td>0.0</td>\n",
       "      <td>0.0</td>\n",
       "    </tr>\n",
       "  </tbody>\n",
       "</table>\n",
       "<p>5982 rows × 12 columns</p>\n",
       "</div>"
      ],
      "text/plain": [
       "month      1    2     3    4    5    6     7     8     9     10   11    12\n",
       "cust_id                                                                   \n",
       "0         1.0  0.0   4.0  0.0  3.0  5.0  12.0  12.0  10.0  14.0  4.0   9.0\n",
       "1         0.0  0.0   0.0  0.0  0.0  0.0   0.0   0.0   0.0   3.0  0.0   0.0\n",
       "2         4.0  0.0   0.0  0.0  0.0  0.0   0.0   0.0   0.0   0.0  0.0   0.0\n",
       "3         0.0  3.0  13.0  8.0  5.0  4.0   2.0   1.0   4.0   0.0  1.0   3.0\n",
       "4         0.0  0.0   0.0  0.0  1.0  0.0   0.0   0.0   0.0   0.0  2.0   0.0\n",
       "...       ...  ...   ...  ...  ...  ...   ...   ...   ...   ...  ...   ...\n",
       "5977      4.0  0.0   0.0  0.0  1.0  2.0   2.0   0.0   0.0   1.0  3.0   1.0\n",
       "5978      1.0  0.0   0.0  0.0  0.0  0.0   0.0   0.0   0.0   0.0  0.0   0.0\n",
       "5979     17.0  1.0   0.0  6.0  5.0  3.0   9.0   4.0   5.0   4.0  2.0  15.0\n",
       "5980      0.0  3.0   0.0  5.0  0.0  0.0   3.0   0.0   5.0   0.0  0.0   2.0\n",
       "5981      9.0  0.0   1.0  0.0  0.0  0.0   0.0   0.0   0.0   0.0  0.0   0.0\n",
       "\n",
       "[5982 rows x 12 columns]"
      ]
     },
     "execution_count": 57,
     "metadata": {},
     "output_type": "execute_result"
    }
   ],
   "source": [
    "#고객의 월별 구매건수\n",
    "#2007년 1년동안의 데이터라서 month컬럼으로 사용\n",
    "p = pd.pivot_table(tr, index = 'cust_id',columns = 'month',values = 'amount', aggfunc = 'count').fillna(0)\n",
    "p"
   ]
  },
  {
   "cell_type": "code",
   "execution_count": 58,
   "metadata": {},
   "outputs": [
    {
     "data": {
      "text/html": [
       "<div>\n",
       "<style scoped>\n",
       "    .dataframe tbody tr th:only-of-type {\n",
       "        vertical-align: middle;\n",
       "    }\n",
       "\n",
       "    .dataframe tbody tr th {\n",
       "        vertical-align: top;\n",
       "    }\n",
       "\n",
       "    .dataframe thead th {\n",
       "        text-align: right;\n",
       "    }\n",
       "</style>\n",
       "<table border=\"1\" class=\"dataframe\">\n",
       "  <thead>\n",
       "    <tr style=\"text-align: right;\">\n",
       "      <th></th>\n",
       "      <th>cust_id</th>\n",
       "      <th>총구매액</th>\n",
       "      <th>구매건수</th>\n",
       "      <th>평균구매액</th>\n",
       "      <th>최대구매액</th>\n",
       "      <th>구매상품종류1</th>\n",
       "      <th>구매상품종류2</th>\n",
       "      <th>구매상품종류3</th>\n",
       "      <th>내점일수</th>\n",
       "      <th>구매주기</th>\n",
       "      <th>...</th>\n",
       "      <th>주구매요일</th>\n",
       "      <th>선호가격대</th>\n",
       "      <th>주로먼저사는품목</th>\n",
       "      <th>가격선호도</th>\n",
       "      <th>라이프 스타일(평균)</th>\n",
       "      <th>라이프 스타일(건수)</th>\n",
       "      <th>선호방문계절</th>\n",
       "      <th>선호방문월</th>\n",
       "      <th>구매지점다양성</th>\n",
       "      <th>구매추세</th>\n",
       "    </tr>\n",
       "  </thead>\n",
       "  <tbody>\n",
       "    <tr>\n",
       "      <th>0</th>\n",
       "      <td>0</td>\n",
       "      <td>68282840</td>\n",
       "      <td>74</td>\n",
       "      <td>922741</td>\n",
       "      <td>11264000</td>\n",
       "      <td>35</td>\n",
       "      <td>28</td>\n",
       "      <td>17</td>\n",
       "      <td>19</td>\n",
       "      <td>17</td>\n",
       "      <td>...</td>\n",
       "      <td>6</td>\n",
       "      <td>4</td>\n",
       "      <td>건강식품</td>\n",
       "      <td>2.0</td>\n",
       "      <td>화장품</td>\n",
       "      <td>식품</td>\n",
       "      <td>fall</td>\n",
       "      <td>10</td>\n",
       "      <td>0.083333</td>\n",
       "      <td>0.972028</td>\n",
       "    </tr>\n",
       "    <tr>\n",
       "      <th>1</th>\n",
       "      <td>1</td>\n",
       "      <td>2136000</td>\n",
       "      <td>3</td>\n",
       "      <td>712000</td>\n",
       "      <td>2136000</td>\n",
       "      <td>2</td>\n",
       "      <td>2</td>\n",
       "      <td>2</td>\n",
       "      <td>2</td>\n",
       "      <td>1</td>\n",
       "      <td>...</td>\n",
       "      <td>4</td>\n",
       "      <td>3</td>\n",
       "      <td>스포츠</td>\n",
       "      <td>2.0</td>\n",
       "      <td>의류</td>\n",
       "      <td>예체능</td>\n",
       "      <td>fall</td>\n",
       "      <td>10</td>\n",
       "      <td>0.041667</td>\n",
       "      <td>0.073427</td>\n",
       "    </tr>\n",
       "    <tr>\n",
       "      <th>2</th>\n",
       "      <td>2</td>\n",
       "      <td>3197000</td>\n",
       "      <td>4</td>\n",
       "      <td>799250</td>\n",
       "      <td>1639000</td>\n",
       "      <td>1</td>\n",
       "      <td>2</td>\n",
       "      <td>2</td>\n",
       "      <td>2</td>\n",
       "      <td>1</td>\n",
       "      <td>...</td>\n",
       "      <td>1</td>\n",
       "      <td>2</td>\n",
       "      <td>남성 캐주얼</td>\n",
       "      <td>2.0</td>\n",
       "      <td>남성의류</td>\n",
       "      <td>기타</td>\n",
       "      <td>fall</td>\n",
       "      <td>1</td>\n",
       "      <td>0.041667</td>\n",
       "      <td>-0.153846</td>\n",
       "    </tr>\n",
       "    <tr>\n",
       "      <th>3</th>\n",
       "      <td>3</td>\n",
       "      <td>16077620</td>\n",
       "      <td>44</td>\n",
       "      <td>365400</td>\n",
       "      <td>4935000</td>\n",
       "      <td>24</td>\n",
       "      <td>20</td>\n",
       "      <td>13</td>\n",
       "      <td>18</td>\n",
       "      <td>16</td>\n",
       "      <td>...</td>\n",
       "      <td>2</td>\n",
       "      <td>3</td>\n",
       "      <td>수산품</td>\n",
       "      <td>1.0</td>\n",
       "      <td>생활용품</td>\n",
       "      <td>식품</td>\n",
       "      <td>spring</td>\n",
       "      <td>3</td>\n",
       "      <td>0.041667</td>\n",
       "      <td>-0.384615</td>\n",
       "    </tr>\n",
       "    <tr>\n",
       "      <th>4</th>\n",
       "      <td>4</td>\n",
       "      <td>29050000</td>\n",
       "      <td>3</td>\n",
       "      <td>9683333</td>\n",
       "      <td>24000000</td>\n",
       "      <td>2</td>\n",
       "      <td>3</td>\n",
       "      <td>3</td>\n",
       "      <td>2</td>\n",
       "      <td>85</td>\n",
       "      <td>...</td>\n",
       "      <td>3</td>\n",
       "      <td>4</td>\n",
       "      <td>화장품</td>\n",
       "      <td>4.0</td>\n",
       "      <td>명품</td>\n",
       "      <td>기타</td>\n",
       "      <td>fall</td>\n",
       "      <td>11</td>\n",
       "      <td>0.041667</td>\n",
       "      <td>0.052448</td>\n",
       "    </tr>\n",
       "    <tr>\n",
       "      <th>...</th>\n",
       "      <td>...</td>\n",
       "      <td>...</td>\n",
       "      <td>...</td>\n",
       "      <td>...</td>\n",
       "      <td>...</td>\n",
       "      <td>...</td>\n",
       "      <td>...</td>\n",
       "      <td>...</td>\n",
       "      <td>...</td>\n",
       "      <td>...</td>\n",
       "      <td>...</td>\n",
       "      <td>...</td>\n",
       "      <td>...</td>\n",
       "      <td>...</td>\n",
       "      <td>...</td>\n",
       "      <td>...</td>\n",
       "      <td>...</td>\n",
       "      <td>...</td>\n",
       "      <td>...</td>\n",
       "      <td>...</td>\n",
       "      <td>...</td>\n",
       "    </tr>\n",
       "    <tr>\n",
       "      <th>5977</th>\n",
       "      <td>5977</td>\n",
       "      <td>82581500</td>\n",
       "      <td>14</td>\n",
       "      <td>5898679</td>\n",
       "      <td>23976000</td>\n",
       "      <td>8</td>\n",
       "      <td>7</td>\n",
       "      <td>7</td>\n",
       "      <td>8</td>\n",
       "      <td>40</td>\n",
       "      <td>...</td>\n",
       "      <td>6</td>\n",
       "      <td>4</td>\n",
       "      <td>NaN</td>\n",
       "      <td>4.0</td>\n",
       "      <td>식품</td>\n",
       "      <td>예체능</td>\n",
       "      <td>fall</td>\n",
       "      <td>1</td>\n",
       "      <td>0.083333</td>\n",
       "      <td>-0.006993</td>\n",
       "    </tr>\n",
       "    <tr>\n",
       "      <th>5978</th>\n",
       "      <td>5978</td>\n",
       "      <td>480000</td>\n",
       "      <td>1</td>\n",
       "      <td>480000</td>\n",
       "      <td>480000</td>\n",
       "      <td>1</td>\n",
       "      <td>1</td>\n",
       "      <td>1</td>\n",
       "      <td>1</td>\n",
       "      <td>0</td>\n",
       "      <td>...</td>\n",
       "      <td>1</td>\n",
       "      <td>3</td>\n",
       "      <td>NaN</td>\n",
       "      <td>1.0</td>\n",
       "      <td>의류</td>\n",
       "      <td>의류</td>\n",
       "      <td>fall</td>\n",
       "      <td>1</td>\n",
       "      <td>0.041667</td>\n",
       "      <td>-0.038462</td>\n",
       "    </tr>\n",
       "    <tr>\n",
       "      <th>5979</th>\n",
       "      <td>5979</td>\n",
       "      <td>260003790</td>\n",
       "      <td>71</td>\n",
       "      <td>3662025</td>\n",
       "      <td>25750000</td>\n",
       "      <td>38</td>\n",
       "      <td>28</td>\n",
       "      <td>19</td>\n",
       "      <td>19</td>\n",
       "      <td>18</td>\n",
       "      <td>...</td>\n",
       "      <td>7</td>\n",
       "      <td>4</td>\n",
       "      <td>NaN</td>\n",
       "      <td>3.0</td>\n",
       "      <td>남성의류</td>\n",
       "      <td>의류</td>\n",
       "      <td>fall</td>\n",
       "      <td>1</td>\n",
       "      <td>0.041667</td>\n",
       "      <td>0.045455</td>\n",
       "    </tr>\n",
       "    <tr>\n",
       "      <th>5980</th>\n",
       "      <td>5980</td>\n",
       "      <td>88991520</td>\n",
       "      <td>18</td>\n",
       "      <td>4943973</td>\n",
       "      <td>18120000</td>\n",
       "      <td>9</td>\n",
       "      <td>7</td>\n",
       "      <td>5</td>\n",
       "      <td>5</td>\n",
       "      <td>60</td>\n",
       "      <td>...</td>\n",
       "      <td>6</td>\n",
       "      <td>4</td>\n",
       "      <td>NaN</td>\n",
       "      <td>3.0</td>\n",
       "      <td>아동용품</td>\n",
       "      <td>식품</td>\n",
       "      <td>fall</td>\n",
       "      <td>9</td>\n",
       "      <td>0.041667</td>\n",
       "      <td>-0.006993</td>\n",
       "    </tr>\n",
       "    <tr>\n",
       "      <th>5981</th>\n",
       "      <td>5981</td>\n",
       "      <td>623700</td>\n",
       "      <td>10</td>\n",
       "      <td>62370</td>\n",
       "      <td>209000</td>\n",
       "      <td>5</td>\n",
       "      <td>8</td>\n",
       "      <td>4</td>\n",
       "      <td>2</td>\n",
       "      <td>31</td>\n",
       "      <td>...</td>\n",
       "      <td>5</td>\n",
       "      <td>1</td>\n",
       "      <td>NaN</td>\n",
       "      <td>1.0</td>\n",
       "      <td>식품</td>\n",
       "      <td>식품</td>\n",
       "      <td>fall</td>\n",
       "      <td>1</td>\n",
       "      <td>0.041667</td>\n",
       "      <td>-0.370629</td>\n",
       "    </tr>\n",
       "  </tbody>\n",
       "</table>\n",
       "<p>5982 rows × 53 columns</p>\n",
       "</div>"
      ],
      "text/plain": [
       "      cust_id       총구매액  구매건수    평균구매액     최대구매액  구매상품종류1  구매상품종류2  구매상품종류3  \\\n",
       "0           0   68282840    74   922741  11264000       35       28       17   \n",
       "1           1    2136000     3   712000   2136000        2        2        2   \n",
       "2           2    3197000     4   799250   1639000        1        2        2   \n",
       "3           3   16077620    44   365400   4935000       24       20       13   \n",
       "4           4   29050000     3  9683333  24000000        2        3        3   \n",
       "...       ...        ...   ...      ...       ...      ...      ...      ...   \n",
       "5977     5977   82581500    14  5898679  23976000        8        7        7   \n",
       "5978     5978     480000     1   480000    480000        1        1        1   \n",
       "5979     5979  260003790    71  3662025  25750000       38       28       19   \n",
       "5980     5980   88991520    18  4943973  18120000        9        7        5   \n",
       "5981     5981     623700    10    62370    209000        5        8        4   \n",
       "\n",
       "      내점일수  구매주기  ...  주구매요일  선호가격대  주로먼저사는품목  가격선호도  라이프 스타일(평균)  \\\n",
       "0       19    17  ...      6      4      건강식품    2.0          화장품   \n",
       "1        2     1  ...      4      3       스포츠    2.0           의류   \n",
       "2        2     1  ...      1      2    남성 캐주얼    2.0         남성의류   \n",
       "3       18    16  ...      2      3       수산품    1.0         생활용품   \n",
       "4        2    85  ...      3      4       화장품    4.0           명품   \n",
       "...    ...   ...  ...    ...    ...       ...    ...          ...   \n",
       "5977     8    40  ...      6      4       NaN    4.0           식품   \n",
       "5978     1     0  ...      1      3       NaN    1.0           의류   \n",
       "5979    19    18  ...      7      4       NaN    3.0         남성의류   \n",
       "5980     5    60  ...      6      4       NaN    3.0         아동용품   \n",
       "5981     2    31  ...      5      1       NaN    1.0           식품   \n",
       "\n",
       "      라이프 스타일(건수)  선호방문계절  선호방문월   구매지점다양성      구매추세  \n",
       "0              식품    fall     10  0.083333  0.972028  \n",
       "1             예체능    fall     10  0.041667  0.073427  \n",
       "2              기타    fall      1  0.041667 -0.153846  \n",
       "3              식품  spring      3  0.041667 -0.384615  \n",
       "4              기타    fall     11  0.041667  0.052448  \n",
       "...           ...     ...    ...       ...       ...  \n",
       "5977          예체능    fall      1  0.083333 -0.006993  \n",
       "5978           의류    fall      1  0.041667 -0.038462  \n",
       "5979           의류    fall      1  0.041667  0.045455  \n",
       "5980           식품    fall      9  0.041667 -0.006993  \n",
       "5981           식품    fall      1  0.041667 -0.370629  \n",
       "\n",
       "[5982 rows x 53 columns]"
      ]
     },
     "execution_count": 58,
     "metadata": {},
     "output_type": "execute_result"
    }
   ],
   "source": [
    "slope = []\n",
    "for i in range(len(f.index)): # cust_id수 만큼 반복\n",
    "    t = p.iloc[i,:].reset_index() # t는 cust_id가 i인 고객의 월별 구매건수\n",
    "    slope.append(np.polyfit(t['month'],t[i],1)[0])\n",
    "# x축은 월, y축은 구매건수로 차수가 1인 추세선을 그림 / \n",
    "# x의 계수와 y절편 값을 반환하는데 x 계수를 가져오기 위해 [0]\n",
    "\n",
    "# x의 계수를 담은 list와 cust_id를 데이터프레임으로 만듦\n",
    "f = pd.DataFrame({'cust_id':tr.cust_id.unique(), '구매추세':slope})\n",
    "\n",
    "features.merge(f, on = 'cust_id', how = 'left')"
   ]
  },
  {
   "cell_type": "markdown",
   "metadata": {},
   "source": [
    "**[파생변수 35]** 행사상품구매수"
   ]
  },
  {
   "cell_type": "code",
   "execution_count": 59,
   "metadata": {},
   "outputs": [],
   "source": [
    "f = tr[tr.gds_grp_mclas_nm.str.contains('행사') | tr.gds_grp_nm.str.contains('행사')]\n",
    "f = f.groupby('cust_id')['amount'].agg([\n",
    "    ('행사상품구매수','count')\n",
    "])\n",
    "features = features.merge(f, on = 'cust_id', how = 'left')"
   ]
  },
  {
   "cell_type": "code",
   "execution_count": 60,
   "metadata": {},
   "outputs": [],
   "source": [
    "tr.tran_date = tr.tran_date.astype(str).astype('datetime64') "
   ]
  },
  {
   "cell_type": "code",
   "execution_count": 61,
   "metadata": {},
   "outputs": [],
   "source": [
    "#요일 컬럼 추가\n",
    "tr['weekday_name'] = tr['tran_date'].dt.day_name()\n",
    "tr['weekday'] = tr['tran_date'].dt.weekday\n",
    "\n",
    "#월 컬럼 추가\n",
    "tr['month'] = tr['tran_date'].dt.month\n",
    "\n",
    "#일 컬럼 추가\n",
    "tr['day'] = tr['tran_date'].dt.day\n",
    "\n",
    "\n",
    "#광복절, 추석연휴, 주말로 휴일칼럼 추가\n",
    "tr['holiday1'] = tr['weekday_name'].agg(lambda x : 1 if x in ['Sunday', 'Saturday']\n",
    "                                   else 0)\n",
    "tr['holiday2'] = tr['tran_date'].agg(lambda x : 1 if str(x)[:10] in ['2007-01-01', '2007-02-19', '2007-03-01', '2007-05-24', '2007-06-06', '2007-08-15', '2007-09-24', '2007-09-25', '2007-09-26', '2007-10-03', '2007-10-09', '2007-12-25']\n",
    "                               else 0)\n",
    "tr['holiday'] = tr['holiday1'] + tr['holiday2']\n",
    "tr['holiday'] = np.where(tr['holiday'] == 2, 1, tr['holiday'])\n",
    "tr = tr.drop(['holiday1', 'holiday2'], axis='columns')"
   ]
  },
  {
   "cell_type": "code",
   "execution_count": 62,
   "metadata": {},
   "outputs": [
    {
     "data": {
      "text/plain": [
       "['화장품',\n",
       " '시티웨어',\n",
       " '기타',\n",
       " '디자이너',\n",
       " '셔츠',\n",
       " '축산가공',\n",
       " '건강식품',\n",
       " '육류',\n",
       " '수산품',\n",
       " '젓갈/반찬',\n",
       " '가공식품',\n",
       " '농산물',\n",
       " '란제리/내의',\n",
       " '스포츠',\n",
       " '섬유잡화',\n",
       " '남성정장',\n",
       " '골프',\n",
       " '트래디셔널',\n",
       " '남성 캐주얼',\n",
       " '침구/수예',\n",
       " '일용잡화',\n",
       " '캐주얼',\n",
       " '차/커피',\n",
       " '아동',\n",
       " '구두',\n",
       " '보석',\n",
       " '주방용품',\n",
       " '액세서리',\n",
       " '명품',\n",
       " '식기',\n",
       " '주류',\n",
       " '주방가전',\n",
       " '생활잡화',\n",
       " '소형가전',\n",
       " '커리어',\n",
       " '피혁잡화',\n",
       " '가구',\n",
       " '모피/피혁',\n",
       " '대형가전',\n",
       " '준보석/시계',\n",
       " '교복',\n",
       " '남성 트랜디',\n",
       " '기타의류',\n",
       " '악기',\n",
       " '통신/컴퓨터',\n",
       " '전자/전기',\n",
       " '문구/팬시',\n",
       " '웨딩',\n",
       " '멀티(아울렛)']"
      ]
     },
     "execution_count": 62,
     "metadata": {},
     "output_type": "execute_result"
    }
   ],
   "source": [
    "mclass_list = []\n",
    "\n",
    "for i in tr.gds_grp_mclas_nm:\n",
    "    if i in mclass_list:\n",
    "        continue\n",
    "    else:\n",
    "        mclass_list.append(i)\n",
    "\n",
    "mclass_list"
   ]
  },
  {
   "cell_type": "code",
   "execution_count": 63,
   "metadata": {},
   "outputs": [
    {
     "data": {
      "text/plain": [
       "['기초 화장품',\n",
       " '니  트',\n",
       " '상품군미지정',\n",
       " '디자이너부틱',\n",
       " '비지니스군',\n",
       " '유제품',\n",
       " '건강식품',\n",
       " '건강식품(비타민)',\n",
       " '계육',\n",
       " '멸치류',\n",
       " '벌크젓갈',\n",
       " '일반가공식품',\n",
       " '우육',\n",
       " '수입육',\n",
       " '청과',\n",
       " '란제리행사',\n",
       " '생선',\n",
       " '시티웨어',\n",
       " '고정행사(스포츠)',\n",
       " '돈육',\n",
       " '단기행사(스포츠)',\n",
       " '굴비류',\n",
       " '양말(특정)',\n",
       " 'N.B정장',\n",
       " 'N/B골프의류',\n",
       " '스카프(특정)',\n",
       " '건강식품(홍삼)',\n",
       " '모자(특정)',\n",
       " '아웃도아',\n",
       " '트래디셔널Ⅰ',\n",
       " '시티캐주얼',\n",
       " '회',\n",
       " '한실침구',\n",
       " '뷰티상품',\n",
       " '산지통합',\n",
       " '이지캐주얼',\n",
       " '수입식품',\n",
       " '야채',\n",
       " '농산가공',\n",
       " 'L/C 아동복',\n",
       " '캐릭터 여화',\n",
       " '위생세제',\n",
       " '스타킹(특정)',\n",
       " '떡',\n",
       " '보석',\n",
       " '국산주방',\n",
       " '편집매장',\n",
       " '주방잡화',\n",
       " '수입ACC',\n",
       " '캐릭터 남화',\n",
       " '명품잡화',\n",
       " '어덜트',\n",
       " '크리스탈',\n",
       " '주류',\n",
       " '디자이너캐릭터',\n",
       " '기타',\n",
       " '컨템포러리',\n",
       " '전기밥솥',\n",
       " '수      저',\n",
       " '란제리',\n",
       " '디자이너',\n",
       " '휴지류',\n",
       " '가공행사',\n",
       " '색조 화장품',\n",
       " '트래디셔널Ⅱ',\n",
       " 'NB 여화',\n",
       " '수영복',\n",
       " '장류',\n",
       " '벌크김치',\n",
       " '건과',\n",
       " '직수입 골프의류',\n",
       " '진캐주얼',\n",
       " '김류',\n",
       " '트래디셔널',\n",
       " '패션내의',\n",
       " 'KKD',\n",
       " '타월',\n",
       " '욕실용품',\n",
       " '가스기기',\n",
       " '건생선',\n",
       " '즉석구이김류',\n",
       " '포숑',\n",
       " '양념육',\n",
       " '밥류',\n",
       " '패밀리레스토랑',\n",
       " '원두커피',\n",
       " '곡물',\n",
       " '유기농야채',\n",
       " '일용잡화',\n",
       " '선식(가루류)',\n",
       " '국산ACC',\n",
       " '토탈데코',\n",
       " '커리어',\n",
       " '양과(세트행사)',\n",
       " 'takeout양과',\n",
       " '스포츠화',\n",
       " 'L/C골프의류',\n",
       " '영캐주얼',\n",
       " '4대 B/D',\n",
       " '우/양산(특정)',\n",
       " '장갑(특정)',\n",
       " '디저트류',\n",
       " 'N/B 아동복',\n",
       " '초밥',\n",
       " '음료',\n",
       " '즉석.스넥(매장)',\n",
       " '브랜드샵',\n",
       " '면류',\n",
       " '아이스크림',\n",
       " '커피숍',\n",
       " '멀티글러브',\n",
       " '손수건(특정)',\n",
       " '일반핸드백',\n",
       " '햄',\n",
       " 'L/C정장',\n",
       " '매트',\n",
       " '수입주방',\n",
       " '건강침대',\n",
       " '소품가구',\n",
       " '가방',\n",
       " '국산도자기',\n",
       " '기초A',\n",
       " '한차',\n",
       " '시니어',\n",
       " '선글라스(특정)',\n",
       " '숙녀단기행사',\n",
       " '숙녀고정행사',\n",
       " '모자(단기행사)',\n",
       " '단기행사(골프)',\n",
       " '수입단기행사',\n",
       " '스포츠의류',\n",
       " '건어물류',\n",
       " '델리카',\n",
       " '서양델리',\n",
       " '브랑제리',\n",
       " '수산단기행사',\n",
       " '수입의류',\n",
       " '수입 아동복',\n",
       " '어묵',\n",
       " '기타생선',\n",
       " '세트상품',\n",
       " '국산냉장고.세탁기',\n",
       " '레포츠',\n",
       " '안주류',\n",
       " '스낵형 델리',\n",
       " '단기행사',\n",
       " '시계',\n",
       " '정육세트',\n",
       " '내의',\n",
       " '수입소형가전',\n",
       " '직수입핸드백',\n",
       " '중식델리',\n",
       " '수입청소기 외',\n",
       " '종합가구',\n",
       " '국산A/V',\n",
       " '영 캐릭터',\n",
       " 'N.B',\n",
       " 'L.B',\n",
       " '넥타이(특정)',\n",
       " '고정행사(골프)',\n",
       " '장류행사',\n",
       " '규격젓갈',\n",
       " '공병',\n",
       " '애견용품',\n",
       " '아동신발',\n",
       " '등산화',\n",
       " '규격김치',\n",
       " '수입A/V',\n",
       " '고정행사(아동복)',\n",
       " '일식델리',\n",
       " '즉석반찬',\n",
       " 'TAKE OUT',\n",
       " '일반침대',\n",
       " '토들러',\n",
       " '김치냉장고',\n",
       " '스트리트',\n",
       " '냉동식품',\n",
       " '향수',\n",
       " '교복',\n",
       " '냉동만두류',\n",
       " '전통델리',\n",
       " '영 트렌디',\n",
       " '유아복',\n",
       " '어반캐주얼',\n",
       " '임대',\n",
       " '프레스티지',\n",
       " '식기 단독매입',\n",
       " '소파',\n",
       " '캐릭터캐주얼',\n",
       " '수입도자기',\n",
       " '식기단기행사',\n",
       " '홈웨어',\n",
       " '아이웨어',\n",
       " '장식소품',\n",
       " '음반',\n",
       " '수입캐릭터',\n",
       " '커       튼',\n",
       " '건강베개',\n",
       " '14K',\n",
       " '한과(세트행사)',\n",
       " '골프용품',\n",
       " '넥타이(단기행사)',\n",
       " '생활잡화 단독매입',\n",
       " '스카프(단기행사)',\n",
       " '카페트',\n",
       " '수예소품',\n",
       " '영캐주얼행사',\n",
       " '가구 단독매입',\n",
       " '그라스',\n",
       " '한과',\n",
       " '디지털카메라',\n",
       " '단기행사(아동복)',\n",
       " '유아용품',\n",
       " '트랜디캐주얼',\n",
       " '트랜디',\n",
       " '명품남성',\n",
       " '영플라자(핸드백)',\n",
       " '영플라자(이지)',\n",
       " '셔츠고정행사',\n",
       " '셔츠단기행사',\n",
       " '비식품',\n",
       " '명품시계기타',\n",
       " '구두단기행사',\n",
       " '갈비세트',\n",
       " '기타(가발,포장,담배,끽연구,사진,수선)',\n",
       " '엘리든특정',\n",
       " '엘리든직매입',\n",
       " '헤어ACC',\n",
       " '아동침구',\n",
       " '정상스포츠',\n",
       " '수입냉장고',\n",
       " '모피',\n",
       " '커리어 행사',\n",
       " '수입잡화',\n",
       " '키즈',\n",
       " '유니섹스캐주얼',\n",
       " '명품의류기타',\n",
       " '전화기',\n",
       " '캐릭터',\n",
       " '가 방',\n",
       " '직수입',\n",
       " '에어컨',\n",
       " '잠옷',\n",
       " '가공선물세트',\n",
       " '유니섹스캐주얼행사',\n",
       " '백앤슈즈멀티',\n",
       " '건강가전',\n",
       " '패션 단독매입',\n",
       " '머플러(특정)',\n",
       " '인텔리젼스',\n",
       " '캐주얼토털',\n",
       " '시티 단독매입',\n",
       " '시티피혁',\n",
       " '스키',\n",
       " '완구',\n",
       " '컴퓨터',\n",
       " '전통도자기',\n",
       " '차류',\n",
       " '캐주얼피혁',\n",
       " '단기행사(레져)',\n",
       " '농산단기행사',\n",
       " '특수야채',\n",
       " '피혁',\n",
       " '화장품',\n",
       " '시티정장바지',\n",
       " '고정행사(레져)',\n",
       " '제과제빵',\n",
       " '캔디',\n",
       " '영플라자(장신)',\n",
       " '신생아완구 단독매입',\n",
       " '명품잡화보석',\n",
       " '신사니트',\n",
       " 'MP3 外',\n",
       " '명품의류행사',\n",
       " '영플라자(영캐주얼)',\n",
       " '젓갈세트',\n",
       " '식탁',\n",
       " '명품기타',\n",
       " '인텔리젼스 행사',\n",
       " '구두 단독매입',\n",
       " '넥타이핀',\n",
       " '명품보석',\n",
       " '직수입정장',\n",
       " '명품오디오',\n",
       " '맞춤셔츠',\n",
       " '셔츠 직매입(PB)',\n",
       " '영플라자(스트리트)',\n",
       " '영플라자(진/유니)',\n",
       " '영플라자(가방)',\n",
       " '수입세탁기',\n",
       " '명품멀티기타',\n",
       " '주방단기행사',\n",
       " '트래디 행사',\n",
       " '햄세트',\n",
       " '이동통신',\n",
       " 'IT 게임기,S/W',\n",
       " '기능성침대',\n",
       " '수입잡화보석',\n",
       " '영플라자(패션)',\n",
       " '아동잡화',\n",
       " '시티단기행사',\n",
       " '시네마 매점',\n",
       " '복지용품',\n",
       " '피아노/악기',\n",
       " '시티웨어 행사',\n",
       " '데님편집',\n",
       " '명품시계직매입',\n",
       " '선글라스',\n",
       " '필기류',\n",
       " '남성잡화멀티',\n",
       " '올리브핫스터프',\n",
       " '식자재',\n",
       " '셔츠편집매장',\n",
       " '수예단기행사',\n",
       " '케익류',\n",
       " '웨딩',\n",
       " '장신 단독매입',\n",
       " '정장점행사',\n",
       " 'NB 남화',\n",
       " '악기',\n",
       " '남성시티 직매입',\n",
       " '영플라자 (올리브핫스텁)',\n",
       " '주얼리멀티',\n",
       " '란제리(멀티)',\n",
       " '주방 단독매입',\n",
       " '양말(멀티)',\n",
       " '정상영캐주얼',\n",
       " '와이즐렉',\n",
       " '분유',\n",
       " '남성정장 직매입',\n",
       " '원목,학생,철재']"
      ]
     },
     "execution_count": 63,
     "metadata": {},
     "output_type": "execute_result"
    }
   ],
   "source": [
    "gds_list = []\n",
    "for i in tr.gds_grp_nm:\n",
    "    if i in gds_list:\n",
    "        continue\n",
    "    else:\n",
    "        gds_list.append(i)\n",
    "gds_list"
   ]
  },
  {
   "cell_type": "markdown",
   "metadata": {},
   "source": [
    "**[파생변수 27]** 휴일방문비율(명절 등등)"
   ]
  },
  {
   "cell_type": "code",
   "execution_count": 64,
   "metadata": {},
   "outputs": [
    {
     "name": "stderr",
     "output_type": "stream",
     "text": [
      "C:\\anaconda3\\lib\\site-packages\\ipykernel_launcher.py:1: RuntimeWarning: invalid value encountered in longlong_scalars\n",
      "  \"\"\"Entry point for launching an IPython kernel.\n"
     ]
    }
   ],
   "source": [
    "f = tr.groupby('cust_id')['holiday'].agg([('휴일방문율', lambda x : (x.sum()/ len(x)).round(3))]).reset_index()"
   ]
  },
  {
   "cell_type": "code",
   "execution_count": 65,
   "metadata": {},
   "outputs": [],
   "source": [
    "features = features.merge(f, how='left')"
   ]
  },
  {
   "cell_type": "markdown",
   "metadata": {},
   "source": [
    "**[파생변수 28]** 최소구매액"
   ]
  },
  {
   "cell_type": "code",
   "execution_count": 66,
   "metadata": {},
   "outputs": [],
   "source": [
    "f = tr.query('amount >= 0').groupby('cust_id')['amount'].agg([\n",
    "    ('최소구매액', np.min),\n",
    "]).reset_index()"
   ]
  },
  {
   "cell_type": "code",
   "execution_count": 67,
   "metadata": {},
   "outputs": [],
   "source": [
    "features = features.merge(f, how='left').fillna(0)"
   ]
  },
  {
   "cell_type": "markdown",
   "metadata": {},
   "source": [
    "**[파생변수 30]**  저가상품구매비율"
   ]
  },
  {
   "cell_type": "code",
   "execution_count": 68,
   "metadata": {},
   "outputs": [],
   "source": [
    "price_4q = tr.groupby('goods_id')['amount'].mean().quantile([.25,.5,.75])"
   ]
  },
  {
   "cell_type": "code",
   "execution_count": 69,
   "metadata": {},
   "outputs": [],
   "source": [
    "f = (tr.groupby('cust_id')['amount']\n",
    "     .agg([('저가상품구매율', lambda x: (x < price_4q.iloc[0]).mean().round(2))])\n",
    "     .reset_index())"
   ]
  },
  {
   "cell_type": "code",
   "execution_count": 70,
   "metadata": {},
   "outputs": [],
   "source": [
    "features = features.merge(f, how='left')"
   ]
  },
  {
   "cell_type": "markdown",
   "metadata": {},
   "source": [
    "**[파생변수 33]** 요일 간 구매건수 편차"
   ]
  },
  {
   "cell_type": "code",
   "execution_count": 71,
   "metadata": {},
   "outputs": [],
   "source": [
    "f = pd.pivot_table(tr, index = 'cust_id', columns = 'weekday', values = 'amount', aggfunc = ['count'])"
   ]
  },
  {
   "cell_type": "code",
   "execution_count": 72,
   "metadata": {},
   "outputs": [],
   "source": [
    "f1 = f.transpose()/f.transpose().sum()\n",
    "f = f1.transpose()\n",
    "f = f.fillna(0)\n",
    "f2 = np.apply_along_axis(lambda x: np.max(x) - np.min(x), 1, f)"
   ]
  },
  {
   "cell_type": "code",
   "execution_count": 73,
   "metadata": {},
   "outputs": [],
   "source": [
    "features = pd.concat((features, pd.DataFrame(f2)), axis = 1)"
   ]
  },
  {
   "cell_type": "code",
   "execution_count": 74,
   "metadata": {},
   "outputs": [],
   "source": [
    "features = features.rename({0:'요일 간 구매건수 편차'}, axis = 'columns')"
   ]
  },
  {
   "cell_type": "markdown",
   "metadata": {},
   "source": [
    "#### 출처 : 07-34\n",
    "**[파생변수 34]** 재구매율"
   ]
  },
  {
   "cell_type": "code",
   "execution_count": 75,
   "metadata": {},
   "outputs": [],
   "source": [
    "f = pd.pivot_table(tr, index = 'cust_id', columns = 'gds_grp_nm', values = 'tran_date',aggfunc = 'count')"
   ]
  },
  {
   "cell_type": "code",
   "execution_count": 76,
   "metadata": {},
   "outputs": [],
   "source": [
    "f = f.fillna(0)"
   ]
  },
  {
   "cell_type": "code",
   "execution_count": 77,
   "metadata": {},
   "outputs": [],
   "source": [
    "f['재구매횟수'] = f.apply(lambda x: x>=2).sum(axis = 1)"
   ]
  },
  {
   "cell_type": "code",
   "execution_count": 78,
   "metadata": {},
   "outputs": [],
   "source": [
    "f1 = f['재구매횟수']/features['구매건수']"
   ]
  },
  {
   "cell_type": "code",
   "execution_count": 79,
   "metadata": {},
   "outputs": [],
   "source": [
    "features = pd.concat([features,f1], axis = 1)"
   ]
  },
  {
   "cell_type": "code",
   "execution_count": 80,
   "metadata": {},
   "outputs": [],
   "source": [
    "features = features.rename({0:'재구매비율'}, axis = 'columns')"
   ]
  },
  {
   "cell_type": "markdown",
   "metadata": {},
   "source": [
    "#### 출처 : 08-31\n",
    "**[파생변수 31]** 성별선호상품구매여부"
   ]
  },
  {
   "cell_type": "code",
   "execution_count": 81,
   "metadata": {},
   "outputs": [
    {
     "name": "stdout",
     "output_type": "stream",
     "text": [
      "여성 선호 품목 : ['란제리행사', 'L/C 아동복', '스타킹(특정)', '란제리', '색조 화장품', 'N/B 아동복', '숙녀단기행사', '숙녀고정행사', '수입 아동복', '아동신발', '고정행사(아동복)', '유아복', '단기행사(아동복)', '유아용품', '아동침구', '아동잡화', '란제리(멀티)']\n",
      "남성 선호 품목 : ['명품남성', '신사니트', '남성잡화멀티', '남성시티 직매입', '남성정장 직매입']\n"
     ]
    }
   ],
   "source": [
    "## 이 상품 구매의 90%이상이 여자일 품목 \n",
    "listo = []\n",
    "for i in range(len(tr['gds_grp_nm'].unique())):\n",
    "    listo.append(tr['gds_grp_nm'].unique()[i])\n",
    "\n",
    "listo2 = []\n",
    "for i in range(len(listo)):\n",
    "    if '아동' in listo[i]:\n",
    "        listo2.append(listo[i])\n",
    "    elif '란제리' in listo[i]:\n",
    "        listo2.append(listo[i])\n",
    "    elif '스타킹' in listo[i]:\n",
    "        listo2.append(listo[i])\n",
    "    elif '색조 화장품' in listo[i]:\n",
    "        listo2.append(listo[i])\n",
    "    elif '숙녀' in listo[i]:\n",
    "        listo2.append(listo[i])\n",
    "    elif '유아' in listo[i]:\n",
    "        listo2.append(listo[i])\n",
    "print('여성 선호 품목 : {}'.format(listo2))\n",
    "\n",
    "## 이 상품 구매의 90%이상이 남자일 품목 \n",
    "listo3 = []\n",
    "for j in range(len(listo)):\n",
    "    if '남성' in listo[j]:\n",
    "        listo3.append(listo[j])\n",
    "    elif '신사' in listo[j]:\n",
    "        listo3.append(listo[j])\n",
    "print('남성 선호 품목 : {}'.format(listo3))"
   ]
  },
  {
   "cell_type": "code",
   "execution_count": 82,
   "metadata": {},
   "outputs": [],
   "source": [
    "tr['여성선호구매상품여부'] = tr['gds_grp_nm'].apply(lambda x : 1 if x in listo2 else 0)\n",
    "\n",
    "f = tr.groupby('cust_id')['여성선호구매상품여부'].sum().apply(lambda x : 10000 if x >= 1 else 0).reset_index()\n",
    "\n",
    "tr['남성선호구매상품여부'] = tr['gds_grp_nm'].apply(lambda x : -500 if x in listo3 else 0)\n",
    "\n",
    "f1 = tr.groupby('cust_id')['남성선호구매상품여부'].sum().apply(lambda x : -10000 if x < 0 else 0).reset_index()\n",
    "\n",
    "f['성별선호상품구매여부'] = pd.merge(f,f1).iloc[:,1:].sum(axis=1)\n",
    "\n",
    "features = pd.merge(features, f[['cust_id' , '성별선호상품구매여부']])"
   ]
  },
  {
   "cell_type": "code",
   "execution_count": 83,
   "metadata": {},
   "outputs": [],
   "source": [
    "tr = pd.concat([train, test])"
   ]
  },
  {
   "cell_type": "markdown",
   "metadata": {},
   "source": [
    "#### 출처 : 09-34\n",
    "**[파생변수 34]** 구매 물품 종류(goods_id) 수"
   ]
  },
  {
   "cell_type": "code",
   "execution_count": 84,
   "metadata": {},
   "outputs": [],
   "source": [
    "f = tr.groupby('cust_id')['goods_id'].agg([\n",
    "    ('구매물품종류수', np.size)\n",
    "]).reset_index()\n",
    "features = features.merge(f, how='left')"
   ]
  },
  {
   "cell_type": "markdown",
   "metadata": {},
   "source": [
    "#### 출처 : 10-01\n",
    "#### FEATURE 1 계절별 주구매품목"
   ]
  },
  {
   "cell_type": "code",
   "execution_count": 85,
   "metadata": {},
   "outputs": [],
   "source": [
    "tr['tran_date'] = pd.to_datetime(tr['tran_date'])\n",
    "\n",
    "tr['season'] = (tr['tran_date'].dt.month%12 + 3)//3\n",
    "seasons = {\n",
    "             1: '겨울',\n",
    "             2: '봄',\n",
    "             3: '여름',\n",
    "             4: '가을'\n",
    "}\n",
    "tr['season_name'] = tr['season'].map(seasons)\n",
    "\n",
    "tr_spring = tr.loc[tr[\"season_name\"] == \"봄\",:]\n",
    "f = tr_spring.groupby('cust_id')['gds_grp_mclas_nm'].agg([\n",
    "    ('봄-주구매상품', lambda x: x.value_counts().index[0])\n",
    "]).reset_index()\n",
    "features = features.merge(f, how='left');\n",
    "tr_summer = tr.loc[tr[\"season_name\"] == \"여름\",:]\n",
    "f = tr_summer.groupby('cust_id')['gds_grp_mclas_nm'].agg([\n",
    "    ('여름-주구매상품', lambda x: x.value_counts().index[0])\n",
    "]).reset_index()\n",
    "features = features.merge(f, how='left');\n",
    "tr_fall = tr.loc[tr[\"season_name\"] == \"가을\",:]\n",
    "f = tr_fall.groupby('cust_id')['gds_grp_mclas_nm'].agg([\n",
    "    ('가을-주구매상품', lambda x: x.value_counts().index[0])\n",
    "]).reset_index()\n",
    "features = features.merge(f, how='left');\n",
    "tr_winter = tr.loc[tr[\"season_name\"] == \"겨울\",:]\n",
    "f = tr_winter.groupby('cust_id')['gds_grp_mclas_nm'].agg([\n",
    "    ('겨울-주구매상품', lambda x: x.value_counts().index[0])\n",
    "]).reset_index()\n",
    "features = features.merge(f, how='left');\n",
    "features = features.fillna(\"없음\")"
   ]
  },
  {
   "cell_type": "markdown",
   "metadata": {},
   "source": [
    "#### 출처 : 10-08\n",
    "#### FEATURE 8 계절별 이용지수 (백화점을 꾸준히 이용하는지)"
   ]
  },
  {
   "cell_type": "code",
   "execution_count": 86,
   "metadata": {},
   "outputs": [],
   "source": [
    "f = tr.groupby('cust_id')['amount'].agg([\n",
    "    ('구매건수', np.size), \n",
    "]).reset_index()\n",
    "features = features.merge(f, how='left');\n",
    "tr_spring = tr.loc[tr[\"season_name\"] == \"봄\",:]\n",
    "f = tr_spring.groupby('cust_id')['amount'].agg([\n",
    "    (\"봄_구매건수\", np.size)\n",
    "]).reset_index()\n",
    "features = features.merge(f, how='left');\n",
    "tr_summer = tr.loc[tr[\"season_name\"] == \"여름\",:]\n",
    "f = tr_summer.groupby('cust_id')['amount'].agg([\n",
    "    (\"여름_구매건수\", np.size)\n",
    "]).reset_index()\n",
    "features = features.merge(f, how='left');\n",
    "tr_fall = tr.loc[tr[\"season_name\"] == \"가을\",:]\n",
    "f = tr_fall.groupby('cust_id')['amount'].agg([\n",
    "    (\"가을_구매건수\", np.size)\n",
    "]).reset_index()\n",
    "features = features.merge(f, how='left');\n",
    "tr_winter = tr.loc[tr[\"season_name\"] == \"겨울\",:]\n",
    "f = tr_winter.groupby('cust_id')['amount'].agg([\n",
    "    (\"겨울_구매건수\", np.size)\n",
    "]).reset_index()\n",
    "features = features.merge(f, how='left');\n",
    "features[\"봄_이용지수\"] = features[\"봄_구매건수\"]/features[\"구매건수\"]\n",
    "features[\"여름_이용지수\"] = features[\"여름_구매건수\"]/features[\"구매건수\"]\n",
    "features[\"가을_이용지수\"] = features[\"가을_구매건수\"]/features[\"구매건수\"]\n",
    "features[\"겨울_이용지수\"] = features[\"겨울_구매건수\"]/features[\"구매건수\"]\n",
    "del features[\"봄_구매건수\"], features[\"여름_구매건수\"], features[\"가을_구매건수\"], features[\"겨울_구매건수\"], features[\"구매건수\"]\n",
    "features = features.fillna(0)\n",
    "features = features.merge(f,on='cust_id', how='left')"
   ]
  },
  {
   "cell_type": "markdown",
   "metadata": {},
   "source": [
    "#### 출처 : 10-09\n",
    "#### FEATURE 9 Top-10 베스트 셀러 이외 주 구매품목 (부가적인 주 구매품목이 무엇인지)"
   ]
  },
  {
   "cell_type": "code",
   "execution_count": 87,
   "metadata": {},
   "outputs": [],
   "source": [
    "idx_nm_1 = tr[tr['gds_grp_mclas_nm'] == \"기타\"].index\n",
    "tr1 = tr.drop(idx_nm_1)\n",
    "idx_nm_1 = tr1[tr1['gds_grp_mclas_nm'] == \"농산물\"].index\n",
    "tr1 = tr1.drop(idx_nm_1)\n",
    "idx_nm_1 = tr1[tr1['gds_grp_mclas_nm'] == \"가공식품\"].index\n",
    "tr1 = tr1.drop(idx_nm_1)\n",
    "idx_nm_1 = tr1[tr1['gds_grp_mclas_nm'] == \"축산가공\"].index\n",
    "tr1 = tr1.drop(idx_nm_1)\n",
    "idx_nm_1 = tr1[tr1['gds_grp_mclas_nm'] == \"수산품\"].index\n",
    "tr1 = tr1.drop(idx_nm_1)\n",
    "idx_nm_1 = tr1[tr1['gds_grp_mclas_nm'] == \"화장품\"].index\n",
    "tr1 = tr1.drop(idx_nm_1)\n",
    "idx_nm_1 = tr1[tr1['gds_grp_mclas_nm'] == \"디자이너\"].index\n",
    "tr1 = tr1.drop(idx_nm_1)\n",
    "idx_nm_1 = tr1[tr1['gds_grp_mclas_nm'] == \"시티웨어\"].index\n",
    "tr1 = tr1.drop(idx_nm_1)\n",
    "idx_nm_1 = tr1[tr1['gds_grp_mclas_nm'] == \"일용잡화\"].index\n",
    "tr1 = tr1.drop(idx_nm_1)\n",
    "idx_nm_1 = tr1[tr1['gds_grp_mclas_nm'] == \"육류\"].index\n",
    "tr1 = tr1.drop(idx_nm_1)\n",
    "f = tr1.groupby('cust_id')['gds_grp_mclas_nm'].agg([\n",
    "    ('Top- 10 제외 주구매상품', lambda x: x.value_counts().index[0])\n",
    "]).reset_index()\n",
    "features = features.merge(f, how='left');\n",
    "features = features.fillna(\"없음\")"
   ]
  },
  {
   "cell_type": "markdown",
   "metadata": {},
   "source": [
    "#### 출처 : 12-02\n",
    "#### 2. 하루 기준 최고 금액과 건수"
   ]
  },
  {
   "cell_type": "code",
   "execution_count": 88,
   "metadata": {},
   "outputs": [],
   "source": [
    "day = tr.groupby([tr['cust_id'],tr['tran_date']])['amount'].sum().reset_index()\n",
    "f = day.groupby('cust_id')['amount'].agg([('하루 최고 구매 금액', np.max)]).reset_index()\n",
    "features = features.merge(f, how='left')"
   ]
  },
  {
   "cell_type": "code",
   "execution_count": 89,
   "metadata": {},
   "outputs": [],
   "source": [
    "day = tr.groupby([tr['cust_id'],tr['tran_date']])['amount'].count().reset_index()\n",
    "f = day.groupby('cust_id')['amount'].agg([('하루 최고 구매 건수', np.max)]).reset_index()\n",
    "features = features.merge(f, how='left')"
   ]
  },
  {
   "cell_type": "markdown",
   "metadata": {},
   "source": [
    "#### 출처 : 12-03\n",
    "#### 3. 금요일 방문 횟수 (요일별)"
   ]
  },
  {
   "cell_type": "code",
   "execution_count": 90,
   "metadata": {},
   "outputs": [],
   "source": [
    "import arrow"
   ]
  },
  {
   "cell_type": "code",
   "execution_count": 91,
   "metadata": {},
   "outputs": [],
   "source": [
    "day = tr.groupby([tr['cust_id'],tr['tran_date']])['amount'].sum().reset_index()"
   ]
  },
  {
   "cell_type": "code",
   "execution_count": 92,
   "metadata": {},
   "outputs": [],
   "source": [
    "day['Fri']=day.tran_date.apply(lambda x : 1 if arrow.get(x).format('ddd', locale='ko')=='금' else 0)"
   ]
  },
  {
   "cell_type": "code",
   "execution_count": 93,
   "metadata": {},
   "outputs": [],
   "source": [
    "f = day.groupby('cust_id')['Fri'].agg([('금요일 방문 횟수','count')]).reset_index()\n",
    "features = features.merge(f, how='left')"
   ]
  },
  {
   "cell_type": "markdown",
   "metadata": {},
   "source": [
    "#### 출처 : 12-08\n",
    "#### 8. 만족도가 떨어지는 제품(환불횟수가 많고 재구매가 한번도 없는)"
   ]
  },
  {
   "cell_type": "code",
   "execution_count": 94,
   "metadata": {},
   "outputs": [],
   "source": [
    "d = tr.query('amount < 0')   # 환불"
   ]
  },
  {
   "cell_type": "code",
   "execution_count": 95,
   "metadata": {},
   "outputs": [],
   "source": [
    "a = d.groupby('goods_id')['amount'].count().quantile(.99) # 상위 1프로 (겹치는 제품이 너무 많기에)"
   ]
  },
  {
   "cell_type": "code",
   "execution_count": 96,
   "metadata": {},
   "outputs": [],
   "source": [
    "z = d.groupby('goods_id')['amount'].count().reset_index() # 제품 id별 구매를 가져왔다."
   ]
  },
  {
   "cell_type": "code",
   "execution_count": 97,
   "metadata": {},
   "outputs": [],
   "source": [
    "refund = list(z.query('amount >= @a')['goods_id'].unique()) # 높은 환불 제품 id를 리스트로 만들었다."
   ]
  },
  {
   "cell_type": "code",
   "execution_count": 98,
   "metadata": {},
   "outputs": [],
   "source": [
    "d = tr.groupby([tr['cust_id'],tr['goods_id'],tr['gds_grp_nm']])['amount'].count().reset_index()\n",
    "# cust_id별 각 제품 구매 횟수를 가져왔다."
   ]
  },
  {
   "cell_type": "code",
   "execution_count": 99,
   "metadata": {},
   "outputs": [],
   "source": [
    "no_repay = list(d.query('amount < 2')['goods_id'].unique())\n",
    "# 재구매 없는 제품들을 리스트로 만들었다."
   ]
  },
  {
   "cell_type": "code",
   "execution_count": 100,
   "metadata": {},
   "outputs": [],
   "source": [
    "no_s = list(set(refund).intersection(no_repay)) # 재구매 없고 높은 환불을 가지는 교집합의 제품 id를 가져왔다."
   ]
  },
  {
   "cell_type": "code",
   "execution_count": 101,
   "metadata": {},
   "outputs": [],
   "source": [
    "tr['no_s'] = tr['goods_id'].apply(lambda x: 1 if x in no_s else 0)  # 구매정보 중 해당하는 제품 id에 1을"
   ]
  },
  {
   "cell_type": "code",
   "execution_count": 102,
   "metadata": {},
   "outputs": [],
   "source": [
    "f = tr.query('no_s == 1').groupby('cust_id')['amount'].agg([('만족도 떨어지는 제품 총 구입금액',np.sum)]).reset_index()\n",
    "features = features.merge(f, how='left')"
   ]
  },
  {
   "cell_type": "code",
   "execution_count": 103,
   "metadata": {},
   "outputs": [],
   "source": [
    "f = tr.groupby('cust_id')['no_s'].agg([('만족도 떨어지는 제품 총 구매건수',np.sum)]).reset_index()\n",
    "features = features.merge(f, how='left')"
   ]
  },
  {
   "cell_type": "markdown",
   "metadata": {},
   "source": [
    "#### 출처 : 12-09\n",
    "#### 9. 많이 팔리고 가격도 싼 제품(가성비 제품)"
   ]
  },
  {
   "cell_type": "code",
   "execution_count": 104,
   "metadata": {},
   "outputs": [],
   "source": [
    "a = tr['amount'].mean() \n",
    "\n",
    "L_pay = list(tr.query('amount <= @a')['goods_id'].unique())\n",
    "\n",
    "b = tr.groupby('goods_id')['amount'].count().quantile(.9)\n",
    "\n",
    "d = tr.groupby('goods_id')['amount'].count().reset_index()\n",
    "\n",
    "most = list(d.query('amount >= @b')['goods_id'].unique())\n",
    "\n",
    "g = list(set(L_pay).intersection(most))\n",
    "\n",
    "tr['g'] = tr['goods_id'].apply(lambda x: 1 if x in g else 0)\n",
    "\n",
    "f = tr.query('g == 1').groupby('cust_id')['amount'].agg([('가성비 제품 총 구입금액',np.sum)]).reset_index()\n",
    "features = features.merge(f, how='left')\n",
    "\n",
    "f = tr.query('g == 1').groupby('cust_id')['amount'].agg([('가성비 제품 총 구입건수','count')]).reset_index()\n",
    "features = features.merge(f, how='left')"
   ]
  },
  {
   "cell_type": "code",
   "execution_count": 105,
   "metadata": {},
   "outputs": [],
   "source": [
    "tr = pd.concat([train, test])"
   ]
  },
  {
   "cell_type": "markdown",
   "metadata": {},
   "source": [
    "#### 출처 : 13-27\n",
    "#### [파생변수 27]"
   ]
  },
  {
   "cell_type": "code",
   "execution_count": 106,
   "metadata": {},
   "outputs": [],
   "source": [
    "f = tr['gds_grp_nm'].groupby([tr['cust_id'], tr['tran_date']]).agg([('다양PN', lambda x : x.nunique())]).reset_index()"
   ]
  },
  {
   "cell_type": "code",
   "execution_count": 107,
   "metadata": {},
   "outputs": [],
   "source": [
    "f = f.groupby('cust_id')['다양PN'].agg([('구매다양성지수', lambda x : round(x.mean(), 1))]).reset_index()"
   ]
  },
  {
   "cell_type": "code",
   "execution_count": 108,
   "metadata": {},
   "outputs": [],
   "source": [
    "features = features.merge(f, how='left')"
   ]
  },
  {
   "cell_type": "markdown",
   "metadata": {},
   "source": [
    "#### 출처 : 13-29\n",
    "#### [파생변수 29]"
   ]
  },
  {
   "cell_type": "code",
   "execution_count": 109,
   "metadata": {},
   "outputs": [],
   "source": [
    "tr = tr[tr['amount'] >= 0]"
   ]
  },
  {
   "cell_type": "code",
   "execution_count": 110,
   "metadata": {},
   "outputs": [],
   "source": [
    "f = tr.groupby('goods_id')['amount'].agg([('상품평균금액', lambda x : round(x.mean(), 0))]).reset_index()"
   ]
  },
  {
   "cell_type": "code",
   "execution_count": 111,
   "metadata": {},
   "outputs": [],
   "source": [
    "tr = tr.merge(f, how='left')"
   ]
  },
  {
   "cell_type": "code",
   "execution_count": 112,
   "metadata": {},
   "outputs": [],
   "source": [
    "tr['사치율'] = round(tr['amount'] / tr['상품평균금액'], 3) "
   ]
  },
  {
   "cell_type": "code",
   "execution_count": 113,
   "metadata": {},
   "outputs": [],
   "source": [
    "f = tr.groupby('cust_id')['사치율'].agg([('사치율평균', lambda x : round(x.mean(), 3))]).reset_index()"
   ]
  },
  {
   "cell_type": "code",
   "execution_count": 114,
   "metadata": {},
   "outputs": [],
   "source": [
    "features = features.merge(f, how='left')"
   ]
  },
  {
   "cell_type": "markdown",
   "metadata": {},
   "source": [
    "#### 출처 : 13-30\n",
    "#### [파생변수 30]"
   ]
  },
  {
   "cell_type": "code",
   "execution_count": 115,
   "metadata": {},
   "outputs": [],
   "source": [
    "f = tr.groupby('cust_id')['amount'].agg([('금액편차', 'std')]).reset_index()"
   ]
  },
  {
   "cell_type": "code",
   "execution_count": 116,
   "metadata": {},
   "outputs": [
    {
     "data": {
      "text/plain": [
       "6399427.609587048"
      ]
     },
     "execution_count": 116,
     "metadata": {},
     "output_type": "execute_result"
    }
   ],
   "source": [
    "tr['amount'].std()"
   ]
  },
  {
   "cell_type": "code",
   "execution_count": 117,
   "metadata": {},
   "outputs": [],
   "source": [
    "f['금액편차'] = np.where(f['금액편차'].isnull(), tr['amount'].std(), f['금액편차'] ) "
   ]
  },
  {
   "cell_type": "code",
   "execution_count": 118,
   "metadata": {},
   "outputs": [],
   "source": [
    "features = features.merge(f, how='left')"
   ]
  },
  {
   "cell_type": "markdown",
   "metadata": {},
   "source": [
    "#### 출처 : 13-32\n",
    "#### [파생변수 32]"
   ]
  },
  {
   "cell_type": "code",
   "execution_count": 119,
   "metadata": {},
   "outputs": [],
   "source": [
    "f = tr['amount'].groupby([tr['cust_id'], tr['tran_date']]).mean().reset_index()"
   ]
  },
  {
   "cell_type": "code",
   "execution_count": 120,
   "metadata": {},
   "outputs": [],
   "source": [
    "f = f.groupby('cust_id')['amount'].agg([('충성도', 'mean')]).reset_index()"
   ]
  },
  {
   "cell_type": "code",
   "execution_count": 121,
   "metadata": {},
   "outputs": [],
   "source": [
    "f['충성도'] = f['충성도'].apply(lambda x: np.log1p(x))"
   ]
  },
  {
   "cell_type": "code",
   "execution_count": 122,
   "metadata": {},
   "outputs": [],
   "source": [
    "features = features.merge(f, how='left')"
   ]
  },
  {
   "cell_type": "markdown",
   "metadata": {},
   "source": [
    "#### 출처 : 13-33\n",
    "#### [파생변수 33]"
   ]
  },
  {
   "cell_type": "code",
   "execution_count": 123,
   "metadata": {},
   "outputs": [
    {
     "data": {
      "text/plain": [
       "array(['강남점', '잠실점', '관악점', '광주점', '본  점', '일산점', '분당점', '창원점', '부산본점',\n",
       "       '대전점', '미아점', '영등포점', '노원점', '동래점', '청량리점', '센텀시티점', '안양점', '울산점',\n",
       "       '부평점', '포항점', '인천점', '대구점', '전주점', '상인점'], dtype=object)"
      ]
     },
     "execution_count": 123,
     "metadata": {},
     "output_type": "execute_result"
    }
   ],
   "source": [
    "tr['store_nm'].unique()"
   ]
  },
  {
   "cell_type": "code",
   "execution_count": 124,
   "metadata": {},
   "outputs": [
    {
     "data": {
      "text/plain": [
       "['상품군미지정',\n",
       " '농산가공',\n",
       " '유제품',\n",
       " '일반가공식품',\n",
       " '디자이너부틱',\n",
       " '청과',\n",
       " '기초 화장품',\n",
       " '햄',\n",
       " '니  트',\n",
       " '유기농야채']"
      ]
     },
     "execution_count": 124,
     "metadata": {},
     "output_type": "execute_result"
    }
   ],
   "source": [
    "tr[tr['store_nm'] == '강남점']['gds_grp_nm'].value_counts()[:10].index.tolist()"
   ]
  },
  {
   "cell_type": "code",
   "execution_count": 125,
   "metadata": {},
   "outputs": [
    {
     "data": {
      "text/plain": [
       "['상품군미지정', '농산가공', '일반가공식품', '유제품', '유기농야채', '청과', '햄', '야채', '위생세제', '생선']"
      ]
     },
     "execution_count": 125,
     "metadata": {},
     "output_type": "execute_result"
    }
   ],
   "source": [
    "tr[tr['store_nm'] == '관악점']['gds_grp_nm'].value_counts()[:10].index.tolist()"
   ]
  },
  {
   "cell_type": "code",
   "execution_count": 126,
   "metadata": {},
   "outputs": [
    {
     "data": {
      "text/plain": [
       "['상품군미지정',\n",
       " '유제품',\n",
       " '기초 화장품',\n",
       " '청과',\n",
       " '야채',\n",
       " '일반가공식품',\n",
       " '농산가공',\n",
       " '디자이너부틱',\n",
       " '생선',\n",
       " '유기농야채']"
      ]
     },
     "execution_count": 126,
     "metadata": {},
     "output_type": "execute_result"
    }
   ],
   "source": [
    "tr[tr['store_nm'] == '광주점']['gds_grp_nm'].value_counts()[:10].index.tolist()"
   ]
  },
  {
   "cell_type": "code",
   "execution_count": 127,
   "metadata": {},
   "outputs": [
    {
     "data": {
      "text/plain": [
       "['상품군미지정', '농산가공', '일반가공식품', '유제품', '청과', '유기농야채', '야채', '햄', 'KKD', '면류']"
      ]
     },
     "execution_count": 127,
     "metadata": {},
     "output_type": "execute_result"
    }
   ],
   "source": [
    "tr[tr['store_nm'] == '노원점']['gds_grp_nm'].value_counts()[:10].index.tolist()"
   ]
  },
  {
   "cell_type": "code",
   "execution_count": 128,
   "metadata": {},
   "outputs": [],
   "source": [
    "f = tr['gds_grp_nm'].value_counts()"
   ]
  },
  {
   "cell_type": "code",
   "execution_count": 129,
   "metadata": {},
   "outputs": [],
   "source": [
    "f_u = f[f < 30].index.tolist()"
   ]
  },
  {
   "cell_type": "code",
   "execution_count": 130,
   "metadata": {},
   "outputs": [],
   "source": [
    "def gds30(x):\n",
    "    if x in f_u:\n",
    "        return 1\n",
    "    else:\n",
    "        return 0"
   ]
  },
  {
   "cell_type": "code",
   "execution_count": 131,
   "metadata": {},
   "outputs": [],
   "source": [
    "tr['gdsP/N'] = tr['gds_grp_nm'].apply(gds30)"
   ]
  },
  {
   "cell_type": "code",
   "execution_count": 132,
   "metadata": {},
   "outputs": [],
   "source": [
    "f = tr.groupby('cust_id')['gdsP/N'].agg([('WS구입건수', lambda x : x.count())]).reset_index()"
   ]
  },
  {
   "cell_type": "code",
   "execution_count": 133,
   "metadata": {},
   "outputs": [],
   "source": [
    "features = features.merge(f, how='left')"
   ]
  },
  {
   "cell_type": "markdown",
   "metadata": {},
   "source": [
    "#### 출처 : 13-35\n",
    "#### [파생변수 35]"
   ]
  },
  {
   "cell_type": "code",
   "execution_count": 134,
   "metadata": {},
   "outputs": [],
   "source": [
    "tr['Mon'] = tr['tran_date'].astype('datetime64').dt.month"
   ]
  },
  {
   "cell_type": "code",
   "execution_count": 135,
   "metadata": {},
   "outputs": [],
   "source": [
    "tr_re = tr[tr['amount'] >= 0]"
   ]
  },
  {
   "cell_type": "code",
   "execution_count": 136,
   "metadata": {},
   "outputs": [],
   "source": [
    "f = tr_re['tran_date'].groupby([tr_re['cust_id'], tr_re['Mon']]).agg([('월별구매건수', 'count')]).reset_index()"
   ]
  },
  {
   "cell_type": "code",
   "execution_count": 137,
   "metadata": {},
   "outputs": [
    {
     "data": {
      "text/plain": [
       "cust_id\n",
       "0       4.280446\n",
       "1            NaN\n",
       "2            NaN\n",
       "3       3.657564\n",
       "4       0.707107\n",
       "          ...   \n",
       "5977    1.154701\n",
       "5978         NaN\n",
       "5979    5.183891\n",
       "5980    1.341641\n",
       "5981    5.656854\n",
       "Name: 월별구매건수, Length: 5979, dtype: float64"
      ]
     },
     "execution_count": 137,
     "metadata": {},
     "output_type": "execute_result"
    }
   ],
   "source": [
    "f.groupby('cust_id')['월별구매건수'].std()"
   ]
  },
  {
   "cell_type": "code",
   "execution_count": 138,
   "metadata": {},
   "outputs": [
    {
     "data": {
      "text/html": [
       "<div>\n",
       "<style scoped>\n",
       "    .dataframe tbody tr th:only-of-type {\n",
       "        vertical-align: middle;\n",
       "    }\n",
       "\n",
       "    .dataframe tbody tr th {\n",
       "        vertical-align: top;\n",
       "    }\n",
       "\n",
       "    .dataframe thead th {\n",
       "        text-align: right;\n",
       "    }\n",
       "</style>\n",
       "<table border=\"1\" class=\"dataframe\">\n",
       "  <thead>\n",
       "    <tr style=\"text-align: right;\">\n",
       "      <th></th>\n",
       "      <th>cust_id</th>\n",
       "      <th>Mon</th>\n",
       "      <th>월별구매건수</th>\n",
       "    </tr>\n",
       "  </thead>\n",
       "  <tbody>\n",
       "    <tr>\n",
       "      <th>10</th>\n",
       "      <td>1</td>\n",
       "      <td>10</td>\n",
       "      <td>2</td>\n",
       "    </tr>\n",
       "  </tbody>\n",
       "</table>\n",
       "</div>"
      ],
      "text/plain": [
       "    cust_id  Mon  월별구매건수\n",
       "10        1   10       2"
      ]
     },
     "execution_count": 138,
     "metadata": {},
     "output_type": "execute_result"
    }
   ],
   "source": [
    "f[f['cust_id']==1]"
   ]
  },
  {
   "cell_type": "code",
   "execution_count": 139,
   "metadata": {},
   "outputs": [],
   "source": [
    "f = f.groupby('cust_id')['월별구매건수'].agg([('구매건수편차', lambda x : x.std() )]).reset_index()"
   ]
  },
  {
   "cell_type": "code",
   "execution_count": 140,
   "metadata": {},
   "outputs": [
    {
     "data": {
      "text/plain": [
       "cust_id       0\n",
       "구매건수편차     1272\n",
       "dtype: int64"
      ]
     },
     "execution_count": 140,
     "metadata": {},
     "output_type": "execute_result"
    }
   ],
   "source": [
    "f.isnull().sum()"
   ]
  },
  {
   "cell_type": "code",
   "execution_count": 141,
   "metadata": {},
   "outputs": [],
   "source": [
    "f = f.fillna('6.012613')"
   ]
  },
  {
   "cell_type": "code",
   "execution_count": 142,
   "metadata": {},
   "outputs": [],
   "source": [
    "features = features.merge(f, how='left')"
   ]
  },
  {
   "cell_type": "code",
   "execution_count": 143,
   "metadata": {},
   "outputs": [],
   "source": [
    "tr = pd.concat([train, test])"
   ]
  },
  {
   "cell_type": "markdown",
   "metadata": {},
   "source": [
    "#### 출처 : 14-27\n",
    "**[파생변수 27]** 휴면일수\n",
    "- 남성들은 필요에 의한 쇼핑을 하기 때문에 필요한 것만 사고 더 이상 매장에 방문하지 않을 가능성이 높다. 따라서 휴면일수가 높을수록 남성일 가능성이 많다고 추론하였다."
   ]
  },
  {
   "cell_type": "code",
   "execution_count": 144,
   "metadata": {},
   "outputs": [],
   "source": [
    "import datetime as dt"
   ]
  },
  {
   "cell_type": "code",
   "execution_count": 145,
   "metadata": {},
   "outputs": [],
   "source": [
    "time = dt.datetime(2007,12,31)"
   ]
  },
  {
   "cell_type": "code",
   "execution_count": 146,
   "metadata": {},
   "outputs": [],
   "source": [
    "f = tr.groupby('cust_id')['tran_date'].agg([('휴면일수', lambda x : (time - x.astype('datetime64').max()).days)]).reset_index()"
   ]
  },
  {
   "cell_type": "code",
   "execution_count": 147,
   "metadata": {},
   "outputs": [],
   "source": [
    "features = features.merge(f, how='left')"
   ]
  },
  {
   "cell_type": "markdown",
   "metadata": {},
   "source": [
    "#### 출처 : 14-29\n",
    "**[파생변수 29]** 취미용품 구매비율\n",
    "- 남성일 수록 쇼핑을 할 때 취미용품을 구매한다고 한다. \n",
    "<br><font color='blue'>\n",
    "*여기서는 취미용품을 통신/컴퓨터, 골프, 스포츠로 잡았다.*"
   ]
  },
  {
   "cell_type": "code",
   "execution_count": 148,
   "metadata": {},
   "outputs": [],
   "source": [
    "f = tr[tr.amount > 0].groupby('cust_id')['gds_grp_mclas_nm'].agg([('취미용품 구매비율', lambda x: (list(x).count('골프') + list(x).count('스포츠') + list(x).count('통신/컴퓨터'))/len(x))]).reset_index()"
   ]
  },
  {
   "cell_type": "code",
   "execution_count": 149,
   "metadata": {},
   "outputs": [],
   "source": [
    "features = features.merge(f, how='left')"
   ]
  },
  {
   "cell_type": "markdown",
   "metadata": {},
   "source": [
    "#### 출처 : 14-31\n",
    "**[파생변수 31]** 아동용품 구매건수\n",
    "- 쇼핑의 주요 고객층들은 30, 40대 여성들이 많고 그 고객층들은 주로 아동용품에 소비하는 경우가 많으므로 아동용품 구매건수를 살펴보면 여성인지 알 수 있다.\n",
    "<br><font color='blue'>\n",
    "*'아동'으로 분류된 상품 뿐만 아니라 '구두'로 분류된 상품에도 캐릭터 여화, 캐릭터 남화가 속해 있었기에 포함하였다*"
   ]
  },
  {
   "cell_type": "code",
   "execution_count": 150,
   "metadata": {},
   "outputs": [],
   "source": [
    "f = tr[tr.amount > 0].groupby('cust_id')['gds_grp_mclas_nm'].agg([('아동용품 구매건수', lambda x: list(x).count('아동')+list(x).count('구두'))]).reset_index()"
   ]
  },
  {
   "cell_type": "code",
   "execution_count": 151,
   "metadata": {},
   "outputs": [],
   "source": [
    "features = features.merge(f, how='left')"
   ]
  },
  {
   "cell_type": "markdown",
   "metadata": {},
   "source": [
    "#### 출처 : 16-28\n",
    "**[파생변수 28]** 인기 상품 구매율"
   ]
  },
  {
   "cell_type": "code",
   "execution_count": 152,
   "metadata": {},
   "outputs": [],
   "source": [
    "goods = tr.groupby('goods_id')['cust_id'].agg([('구매수',np.size)])"
   ]
  },
  {
   "cell_type": "code",
   "execution_count": 153,
   "metadata": {},
   "outputs": [],
   "source": [
    "g = goods.loc[goods['구매수'] >= goods['구매수'].quantile(0.9)].reset_index()\n",
    "g['인기제품여부'] = 1"
   ]
  },
  {
   "cell_type": "code",
   "execution_count": 154,
   "metadata": {},
   "outputs": [],
   "source": [
    "t=tr[['cust_id','goods_id']]\n",
    "t=t.merge(g,on='goods_id',how='left').fillna(0)"
   ]
  },
  {
   "cell_type": "code",
   "execution_count": 155,
   "metadata": {},
   "outputs": [],
   "source": [
    "t = t.groupby('cust_id')['인기제품여부'].agg([('인기제품구매수', np.sum)]).reset_index()"
   ]
  },
  {
   "cell_type": "code",
   "execution_count": 156,
   "metadata": {},
   "outputs": [],
   "source": [
    "f = tr.groupby('cust_id')['goods_id'].agg([('구매건수', np.size)]).reset_index()\n",
    "f = pd.merge(t,f,on='cust_id')\n",
    "f['인기제품구매율'] = f['인기제품구매수']/f['구매건수']\n",
    "f = f[['cust_id','인기제품구매율']]"
   ]
  },
  {
   "cell_type": "code",
   "execution_count": 157,
   "metadata": {},
   "outputs": [],
   "source": [
    "features = features.merge(f,on='cust_id', how='left')"
   ]
  },
  {
   "cell_type": "markdown",
   "metadata": {},
   "source": [
    "#### 출처 : 16-31\n",
    "**[파생변수 31]** 의류소비"
   ]
  },
  {
   "cell_type": "code",
   "execution_count": 158,
   "metadata": {},
   "outputs": [],
   "source": [
    "cl = ['시티웨어', '디자이너' , '셔츠' , '란제리/내의' , '섬유잡화' ,\n",
    "      '캐주얼' , '교복' ,'기타의류', '멀티(아울렛)']"
   ]
  },
  {
   "cell_type": "code",
   "execution_count": 159,
   "metadata": {},
   "outputs": [],
   "source": [
    "t = tr.groupby('cust_id')['amount'].agg([('총구매액',np.sum)])\n",
    "f = tr.query(\"gds_grp_mclas_nm == @cl\").groupby('cust_id')['amount'].agg([('의류구매비용', np.sum)]).reset_index()\n",
    "f = pd.merge(t,f, on = 'cust_id', how = 'left').fillna(0)"
   ]
  },
  {
   "cell_type": "code",
   "execution_count": 160,
   "metadata": {},
   "outputs": [],
   "source": [
    "f = f[['cust_id','의류구매비용']]\n",
    "features = features.merge(f,on='cust_id', how='left')"
   ]
  },
  {
   "cell_type": "markdown",
   "metadata": {},
   "source": [
    "#### 출처 : 16-32\n",
    "**[파생변수 32]** 명절(설날,추석) 식료품 구매액"
   ]
  },
  {
   "cell_type": "code",
   "execution_count": 161,
   "metadata": {},
   "outputs": [
    {
     "data": {
      "text/plain": [
       "'2007-01-02 00:00:00'"
      ]
     },
     "metadata": {},
     "output_type": "display_data"
    },
    {
     "data": {
      "text/plain": [
       "'2007-12-31 00:00:00'"
      ]
     },
     "metadata": {},
     "output_type": "display_data"
    }
   ],
   "source": [
    "display(tr.tran_date.min(),tr.tran_date.max())"
   ]
  },
  {
   "cell_type": "code",
   "execution_count": 162,
   "metadata": {},
   "outputs": [
    {
     "name": "stdout",
     "output_type": "stream",
     "text": [
      "Requirement already satisfied: pytimekr in c:\\anaconda3\\lib\\site-packages (0.1.0)\n",
      "Requirement already satisfied: lunardate>=0.1.5 in c:\\anaconda3\\lib\\site-packages (from pytimekr) (0.2.0)\n"
     ]
    },
    {
     "data": {
      "text/plain": [
       "datetime.date(2007, 2, 18)"
      ]
     },
     "metadata": {},
     "output_type": "display_data"
    },
    {
     "data": {
      "text/plain": [
       "datetime.date(2007, 9, 25)"
      ]
     },
     "metadata": {},
     "output_type": "display_data"
    }
   ],
   "source": [
    "# 공휴일 패키지 (https://pypi.org/project/pytimekr/)\n",
    "!pip install pytimekr\n",
    "from pytimekr import pytimekr\n",
    "display(pytimekr.lunar_newyear(2007),# 설날\n",
    "        pytimekr.chuseok(2007))      # 추석"
   ]
  },
  {
   "cell_type": "code",
   "execution_count": 163,
   "metadata": {},
   "outputs": [],
   "source": [
    "###  데이터가 2007년 한 해동안의 데이터 이기때문에 리스트로 대체\n",
    "# 명절 당일 5일전부터 연휴기간까지\n",
    "kr_holidays = ['2007-02-13 00:00:00', '2007-02-14 00:00:00', '2007-02-15 00:00:00', '2007-02-16 00:00:00', '2007-02-17 00:00:00', \n",
    "               '2007-02-18 00:00:00', '2007-02-19 00:00:00',\n",
    "               '2007-09-20 00:00:00', '2007-09-21 00:00:00', '2007-09-22 00:00:00', '2007-09-23 00:00:00', '2007-09-24 00:00:00', \n",
    "               '2007-09-25 00:00:00', '2007-09-26 00:00:00']"
   ]
  },
  {
   "cell_type": "code",
   "execution_count": 164,
   "metadata": {},
   "outputs": [
    {
     "data": {
      "text/html": [
       "<div>\n",
       "<style scoped>\n",
       "    .dataframe tbody tr th:only-of-type {\n",
       "        vertical-align: middle;\n",
       "    }\n",
       "\n",
       "    .dataframe tbody tr th {\n",
       "        vertical-align: top;\n",
       "    }\n",
       "\n",
       "    .dataframe thead th {\n",
       "        text-align: right;\n",
       "    }\n",
       "</style>\n",
       "<table border=\"1\" class=\"dataframe\">\n",
       "  <thead>\n",
       "    <tr style=\"text-align: right;\">\n",
       "      <th></th>\n",
       "      <th>cust_id</th>\n",
       "      <th>tran_date</th>\n",
       "      <th>store_nm</th>\n",
       "      <th>goods_id</th>\n",
       "      <th>gds_grp_nm</th>\n",
       "      <th>gds_grp_mclas_nm</th>\n",
       "      <th>amount</th>\n",
       "    </tr>\n",
       "  </thead>\n",
       "  <tbody>\n",
       "    <tr>\n",
       "      <th>81</th>\n",
       "      <td>3</td>\n",
       "      <td>2007-02-13 00:00:00</td>\n",
       "      <td>광주점</td>\n",
       "      <td>35145</td>\n",
       "      <td>회</td>\n",
       "      <td>수산품</td>\n",
       "      <td>24000</td>\n",
       "    </tr>\n",
       "    <tr>\n",
       "      <th>118</th>\n",
       "      <td>3</td>\n",
       "      <td>2007-09-24 00:00:00</td>\n",
       "      <td>광주점</td>\n",
       "      <td>47118</td>\n",
       "      <td>멸치류</td>\n",
       "      <td>수산품</td>\n",
       "      <td>87560</td>\n",
       "    </tr>\n",
       "    <tr>\n",
       "      <th>119</th>\n",
       "      <td>3</td>\n",
       "      <td>2007-09-24 00:00:00</td>\n",
       "      <td>광주점</td>\n",
       "      <td>64157</td>\n",
       "      <td>떡</td>\n",
       "      <td>가공식품</td>\n",
       "      <td>20000</td>\n",
       "    </tr>\n",
       "    <tr>\n",
       "      <th>120</th>\n",
       "      <td>3</td>\n",
       "      <td>2007-09-24 00:00:00</td>\n",
       "      <td>광주점</td>\n",
       "      <td>47118</td>\n",
       "      <td>상품군미지정</td>\n",
       "      <td>기타</td>\n",
       "      <td>3980</td>\n",
       "    </tr>\n",
       "    <tr>\n",
       "      <th>157</th>\n",
       "      <td>7</td>\n",
       "      <td>2007-02-13 00:00:00</td>\n",
       "      <td>본  점</td>\n",
       "      <td>73151</td>\n",
       "      <td>상품군미지정</td>\n",
       "      <td>기타</td>\n",
       "      <td>207000</td>\n",
       "    </tr>\n",
       "    <tr>\n",
       "      <th>...</th>\n",
       "      <td>...</td>\n",
       "      <td>...</td>\n",
       "      <td>...</td>\n",
       "      <td>...</td>\n",
       "      <td>...</td>\n",
       "      <td>...</td>\n",
       "      <td>...</td>\n",
       "    </tr>\n",
       "    <tr>\n",
       "      <th>163504</th>\n",
       "      <td>5979</td>\n",
       "      <td>2007-09-23 00:00:00</td>\n",
       "      <td>본  점</td>\n",
       "      <td>162213</td>\n",
       "      <td>일반핸드백</td>\n",
       "      <td>피혁잡화</td>\n",
       "      <td>616000</td>\n",
       "    </tr>\n",
       "    <tr>\n",
       "      <th>163505</th>\n",
       "      <td>5979</td>\n",
       "      <td>2007-09-23 00:00:00</td>\n",
       "      <td>본  점</td>\n",
       "      <td>50109</td>\n",
       "      <td>일반가공식품</td>\n",
       "      <td>가공식품</td>\n",
       "      <td>1057500</td>\n",
       "    </tr>\n",
       "    <tr>\n",
       "      <th>163506</th>\n",
       "      <td>5979</td>\n",
       "      <td>2007-09-23 00:00:00</td>\n",
       "      <td>본  점</td>\n",
       "      <td>50109</td>\n",
       "      <td>상품군미지정</td>\n",
       "      <td>기타</td>\n",
       "      <td>42300</td>\n",
       "    </tr>\n",
       "    <tr>\n",
       "      <th>163507</th>\n",
       "      <td>5979</td>\n",
       "      <td>2007-09-23 00:00:00</td>\n",
       "      <td>본  점</td>\n",
       "      <td>996101</td>\n",
       "      <td>상품군미지정</td>\n",
       "      <td>기타</td>\n",
       "      <td>1250</td>\n",
       "    </tr>\n",
       "    <tr>\n",
       "      <th>163508</th>\n",
       "      <td>5979</td>\n",
       "      <td>2007-09-23 00:00:00</td>\n",
       "      <td>본  점</td>\n",
       "      <td>425259</td>\n",
       "      <td>시티캐주얼</td>\n",
       "      <td>남성 캐주얼</td>\n",
       "      <td>25750000</td>\n",
       "    </tr>\n",
       "  </tbody>\n",
       "</table>\n",
       "<p>10094 rows × 7 columns</p>\n",
       "</div>"
      ],
      "text/plain": [
       "        cust_id            tran_date store_nm  goods_id gds_grp_nm  \\\n",
       "81            3  2007-02-13 00:00:00      광주점     35145          회   \n",
       "118           3  2007-09-24 00:00:00      광주점     47118        멸치류   \n",
       "119           3  2007-09-24 00:00:00      광주점     64157          떡   \n",
       "120           3  2007-09-24 00:00:00      광주점     47118     상품군미지정   \n",
       "157           7  2007-02-13 00:00:00     본  점     73151     상품군미지정   \n",
       "...         ...                  ...      ...       ...        ...   \n",
       "163504     5979  2007-09-23 00:00:00     본  점    162213      일반핸드백   \n",
       "163505     5979  2007-09-23 00:00:00     본  점     50109     일반가공식품   \n",
       "163506     5979  2007-09-23 00:00:00     본  점     50109     상품군미지정   \n",
       "163507     5979  2007-09-23 00:00:00     본  점    996101     상품군미지정   \n",
       "163508     5979  2007-09-23 00:00:00     본  점    425259      시티캐주얼   \n",
       "\n",
       "       gds_grp_mclas_nm    amount  \n",
       "81                  수산품     24000  \n",
       "118                 수산품     87560  \n",
       "119                가공식품     20000  \n",
       "120                  기타      3980  \n",
       "157                  기타    207000  \n",
       "...                 ...       ...  \n",
       "163504             피혁잡화    616000  \n",
       "163505             가공식품   1057500  \n",
       "163506               기타     42300  \n",
       "163507               기타      1250  \n",
       "163508           남성 캐주얼  25750000  \n",
       "\n",
       "[10094 rows x 7 columns]"
      ]
     },
     "execution_count": 164,
     "metadata": {},
     "output_type": "execute_result"
    }
   ],
   "source": [
    "tr.query(\"tran_date == @kr_holidays\")"
   ]
  },
  {
   "cell_type": "code",
   "execution_count": 165,
   "metadata": {},
   "outputs": [
    {
     "data": {
      "text/plain": [
       "array(['화장품', '시티웨어', '기타', '디자이너', '셔츠', '축산가공', '건강식품', '육류', '수산품',\n",
       "       '젓갈/반찬', '가공식품', '농산물', '란제리/내의', '스포츠', '섬유잡화', '남성정장', '골프',\n",
       "       '트래디셔널', '남성 캐주얼', '침구/수예', '일용잡화', '캐주얼', '차/커피', '아동', '구두',\n",
       "       '보석', '주방용품', '액세서리', '명품', '식기', '주류', '주방가전', '생활잡화', '소형가전',\n",
       "       '커리어', '피혁잡화', '가구', '모피/피혁', '대형가전', '준보석/시계', '교복', '남성 트랜디',\n",
       "       '기타의류', '악기', '통신/컴퓨터', '전자/전기', '문구/팬시', '웨딩', '멀티(아울렛)'],\n",
       "      dtype=object)"
      ]
     },
     "execution_count": 165,
     "metadata": {},
     "output_type": "execute_result"
    }
   ],
   "source": [
    "tr.gds_grp_mclas_nm.unique()"
   ]
  },
  {
   "cell_type": "code",
   "execution_count": 166,
   "metadata": {},
   "outputs": [],
   "source": [
    "holi_nm=['건강식품', '육류', '수산품', '축산가공', '젓갈/반찬', '가공식품', '농산물', '주류']"
   ]
  },
  {
   "cell_type": "code",
   "execution_count": 167,
   "metadata": {},
   "outputs": [],
   "source": [
    "f = tr.query(\"tran_date == @kr_holidays\").query(\"gds_grp_mclas_nm == @holi_nm\").groupby('cust_id')['amount'].agg([\n",
    "    ('명절식품비용', np.sum)]).reset_index()\n",
    "\n",
    "t = tr.groupby('cust_id')['amount'].agg([('총구매액',np.sum)])\n",
    "f = pd.merge(t,f,on = 'cust_id', how ='left').fillna(0)"
   ]
  },
  {
   "cell_type": "code",
   "execution_count": 168,
   "metadata": {},
   "outputs": [],
   "source": [
    "f = f[['cust_id','명절식품비용']]\n",
    "features = features.merge(f,on='cust_id', how='left')"
   ]
  },
  {
   "cell_type": "markdown",
   "metadata": {},
   "source": [
    "#### 출처 : 16-33,34\n",
    "**[파생변수 33-34]** 화이트 데이, 발렌타인 데이의 액세서리 및 제과제품 구매여부"
   ]
  },
  {
   "cell_type": "code",
   "execution_count": 169,
   "metadata": {},
   "outputs": [
    {
     "data": {
      "text/plain": [
       "array(['일반가공식품', '떡', 'KKD', '포숑', '밥류', '패밀리레스토랑', '양과(세트행사)',\n",
       "       'takeout양과', '초밥', '즉석.스넥(매장)', '브랜드샵', '면류', '아이스크림', '커피숍',\n",
       "       '수입단기행사', '서양델리', '브랑제리', '스낵형 델리', '중식델리', '일식델리', '전통델리',\n",
       "       '한과(세트행사)', '한과', '비식품', '가공선물세트', '제과제빵', '캔디', '시네마 매점', '케익류',\n",
       "       '와이즐렉', '분유'], dtype=object)"
      ]
     },
     "execution_count": 169,
     "metadata": {},
     "output_type": "execute_result"
    }
   ],
   "source": [
    "tr.query(\"gds_grp_mclas_nm == '가공식품'\")['gds_grp_nm'].unique()"
   ]
  },
  {
   "cell_type": "code",
   "execution_count": 170,
   "metadata": {},
   "outputs": [],
   "source": [
    "munchies = ['양과(세트행사)', 'takeout양과', '즉석.스넥(매장)', '브랜드샵',\n",
    "            '수입단기행사', '브랑제리', '스낵형 델리', '가공선물세트', '제과제빵', '캔디', '케익류']"
   ]
  },
  {
   "cell_type": "code",
   "execution_count": 171,
   "metadata": {},
   "outputs": [],
   "source": [
    "# 당일 기준 2일 전까지\n",
    "valentine = ['2007-02-12 00:00:00', '2007-02-13 00:00:00', '2007-02-14 00:00:00']\n",
    "white = ['2007-03-12 00:00:00', '2007-03-13 00:00:00', '2007-03-14 00:00:00']"
   ]
  },
  {
   "cell_type": "code",
   "execution_count": 172,
   "metadata": {},
   "outputs": [],
   "source": [
    "#발렌타인 데이의 제과제품 + 액세서리\n",
    "v = tr.query(\"tran_date == @valentine\").query(\"gds_grp_nm == @munchies\")\n",
    "v2 = tr.query(\"tran_date == @valentine\").query(\"gds_grp_mclas_nm == '액세서리'\")\n",
    "\n",
    "\n",
    "f = pd.merge(v,v2,how='outer')\n",
    "f['발렌타인'] = 1"
   ]
  },
  {
   "cell_type": "code",
   "execution_count": 173,
   "metadata": {},
   "outputs": [],
   "source": [
    "t = tr\n",
    "t = t.merge(f,how = 'left').fillna(0)\n",
    "t = t.groupby('cust_id')['발렌타인'].agg([('발렌타인',np.max)])"
   ]
  },
  {
   "cell_type": "code",
   "execution_count": 174,
   "metadata": {},
   "outputs": [],
   "source": [
    "features = features.merge(t,on='cust_id', how='left')"
   ]
  },
  {
   "cell_type": "code",
   "execution_count": 175,
   "metadata": {},
   "outputs": [],
   "source": [
    "#화이트 데이의 제과제품 + 액세서리\n",
    "w = tr.query(\"tran_date == @white\").query(\"gds_grp_nm == @munchies\")\n",
    "w2 = tr.query(\"tran_date == @white\").query(\"gds_grp_mclas_nm == '액세서리'\")\n",
    "\n",
    "\n",
    "f = pd.merge(w,w2,how='outer')\n",
    "f['화이트'] = 1"
   ]
  },
  {
   "cell_type": "code",
   "execution_count": 176,
   "metadata": {},
   "outputs": [],
   "source": [
    "t = tr\n",
    "t = t.merge(f,how = 'left').fillna(0)\n",
    "t = t.groupby('cust_id')['화이트'].agg([('화이트',np.max)])"
   ]
  },
  {
   "cell_type": "code",
   "execution_count": 177,
   "metadata": {},
   "outputs": [],
   "source": [
    "features = features.merge(t,on='cust_id', how='left')"
   ]
  },
  {
   "cell_type": "markdown",
   "metadata": {},
   "source": [
    "#### 출처 : 16-35\n",
    "**[파생변수 35]** 단독 상품군 구매율"
   ]
  },
  {
   "cell_type": "code",
   "execution_count": 178,
   "metadata": {},
   "outputs": [
    {
     "data": {
      "text/html": [
       "<div>\n",
       "<style scoped>\n",
       "    .dataframe tbody tr th:only-of-type {\n",
       "        vertical-align: middle;\n",
       "    }\n",
       "\n",
       "    .dataframe tbody tr th {\n",
       "        vertical-align: top;\n",
       "    }\n",
       "\n",
       "    .dataframe thead th {\n",
       "        text-align: right;\n",
       "    }\n",
       "</style>\n",
       "<table border=\"1\" class=\"dataframe\">\n",
       "  <thead>\n",
       "    <tr style=\"text-align: right;\">\n",
       "      <th></th>\n",
       "      <th>cust_id</th>\n",
       "      <th>gds_grp_mclas_nm</th>\n",
       "      <th>구매건수</th>\n",
       "    </tr>\n",
       "  </thead>\n",
       "  <tbody>\n",
       "    <tr>\n",
       "      <th>0</th>\n",
       "      <td>0</td>\n",
       "      <td>가공식품</td>\n",
       "      <td>1</td>\n",
       "    </tr>\n",
       "    <tr>\n",
       "      <th>2</th>\n",
       "      <td>0</td>\n",
       "      <td>골프</td>\n",
       "      <td>1</td>\n",
       "    </tr>\n",
       "    <tr>\n",
       "      <th>4</th>\n",
       "      <td>0</td>\n",
       "      <td>남성정장</td>\n",
       "      <td>1</td>\n",
       "    </tr>\n",
       "    <tr>\n",
       "      <th>9</th>\n",
       "      <td>0</td>\n",
       "      <td>셔츠</td>\n",
       "      <td>1</td>\n",
       "    </tr>\n",
       "    <tr>\n",
       "      <th>14</th>\n",
       "      <td>0</td>\n",
       "      <td>젓갈/반찬</td>\n",
       "      <td>1</td>\n",
       "    </tr>\n",
       "    <tr>\n",
       "      <th>...</th>\n",
       "      <td>...</td>\n",
       "      <td>...</td>\n",
       "      <td>...</td>\n",
       "    </tr>\n",
       "    <tr>\n",
       "      <th>60658</th>\n",
       "      <td>5980</td>\n",
       "      <td>구두</td>\n",
       "      <td>1</td>\n",
       "    </tr>\n",
       "    <tr>\n",
       "      <th>60659</th>\n",
       "      <td>5980</td>\n",
       "      <td>수산품</td>\n",
       "      <td>1</td>\n",
       "    </tr>\n",
       "    <tr>\n",
       "      <th>60662</th>\n",
       "      <td>5980</td>\n",
       "      <td>침구/수예</td>\n",
       "      <td>1</td>\n",
       "    </tr>\n",
       "    <tr>\n",
       "      <th>60665</th>\n",
       "      <td>5981</td>\n",
       "      <td>차/커피</td>\n",
       "      <td>1</td>\n",
       "    </tr>\n",
       "    <tr>\n",
       "      <th>60666</th>\n",
       "      <td>5981</td>\n",
       "      <td>축산가공</td>\n",
       "      <td>1</td>\n",
       "    </tr>\n",
       "  </tbody>\n",
       "</table>\n",
       "<p>21610 rows × 3 columns</p>\n",
       "</div>"
      ],
      "text/plain": [
       "       cust_id gds_grp_mclas_nm  구매건수\n",
       "0            0             가공식품     1\n",
       "2            0               골프     1\n",
       "4            0             남성정장     1\n",
       "9            0               셔츠     1\n",
       "14           0            젓갈/반찬     1\n",
       "...        ...              ...   ...\n",
       "60658     5980               구두     1\n",
       "60659     5980              수산품     1\n",
       "60662     5980            침구/수예     1\n",
       "60665     5981             차/커피     1\n",
       "60666     5981             축산가공     1\n",
       "\n",
       "[21610 rows x 3 columns]"
      ]
     },
     "execution_count": 178,
     "metadata": {},
     "output_type": "execute_result"
    }
   ],
   "source": [
    "tr_cbynm = tr.groupby(['cust_id','gds_grp_mclas_nm'])['amount'].agg([('구매건수', np.size)]).reset_index()\n",
    "tr_cbynm.query(\"구매건수 == 1\")"
   ]
  },
  {
   "cell_type": "code",
   "execution_count": 179,
   "metadata": {},
   "outputs": [],
   "source": [
    "f = tr.groupby('cust_id')['amount'].agg([('구매건수', np.size)])\n",
    "f2 = tr_cbynm.query(\"구매건수 == 1\").groupby('cust_id')['구매건수'].agg([('단독상품군구매수', np.sum)]).reset_index()\n",
    "\n",
    "f = pd.merge(f,f2, on = 'cust_id', how='left').fillna(0)\n",
    "f['단독상품군구매율'] = f['단독상품군구매수']/f['구매건수']"
   ]
  },
  {
   "cell_type": "code",
   "execution_count": 180,
   "metadata": {},
   "outputs": [],
   "source": [
    "f = f[['cust_id','단독상품군구매율']]\n",
    "features = features.merge(f,on='cust_id', how='left')"
   ]
  },
  {
   "cell_type": "code",
   "execution_count": 181,
   "metadata": {},
   "outputs": [],
   "source": [
    "f = tr.groupby('cust_id')['amount'].agg([\n",
    "    ('구매건수', np.size), \n",
    "]).reset_index()\n",
    "features = features.merge(f, how='left')"
   ]
  },
  {
   "cell_type": "markdown",
   "metadata": {},
   "source": [
    "#### 출처 : 17-27,28\n",
    "**[파생변수 27-28]** 첫구매상품 (gds_grp_nm, gds_grp_mclas_nm)"
   ]
  },
  {
   "cell_type": "code",
   "execution_count": 182,
   "metadata": {},
   "outputs": [],
   "source": [
    "# gds_grp_nm\n",
    "\n",
    "f_grp = tr.drop_duplicates(['cust_id','tran_date'], keep = 'first').reset_index()\n",
    "\n",
    "f = f_grp.groupby('cust_id')['gds_grp_nm'].agg([\n",
    "    ('첫구매상품1', lambda x: x.value_counts().index[0])\n",
    "]).reset_index()\n",
    "\n",
    "features = features.merge(f, how='left')\n"
   ]
  },
  {
   "cell_type": "code",
   "execution_count": 183,
   "metadata": {},
   "outputs": [],
   "source": [
    "# gds_grp_mclas_nm\n",
    "\n",
    "f_mclas = tr.drop_duplicates(['cust_id','tran_date'], keep = 'first').reset_index()\n",
    "\n",
    "f = f_mclas.groupby('cust_id')['gds_grp_mclas_nm'].agg([\n",
    "    ('첫구매상품2', lambda x: x.value_counts().index[0])\n",
    "]).reset_index()\n",
    "\n",
    "features = features.merge(f, how='left')"
   ]
  },
  {
   "cell_type": "markdown",
   "metadata": {},
   "source": [
    "#### 출처 : 17-32\n",
    "**[파생변수 32]** 휴면고객"
   ]
  },
  {
   "cell_type": "code",
   "execution_count": 184,
   "metadata": {},
   "outputs": [],
   "source": [
    "# 마지막 방문일로부터 12월 31일까지의 차이 계산\n",
    "\n",
    "from datetime import datetime, timedelta\n",
    "\n",
    "rest = tr.drop_duplicates('cust_id', keep = 'last').reset_index()\n",
    "\n",
    "rest['tran_date'] = pd.to_datetime(rest['tran_date'], format=\"%Y-%m-%d %H:%M:%S\")\n",
    "\n",
    "rest['rest_date'] = pd.Timestamp('2007-12-31') - rest['tran_date']\n",
    "\n",
    "rest['rest_date'] = rest['rest_date'].dt.days\n",
    "\n",
    "f = rest[['cust_id','rest_date']]\n",
    "\n",
    "features = features.merge(f, how='left')"
   ]
  },
  {
   "cell_type": "markdown",
   "metadata": {},
   "source": [
    "#### 출처 : 17-33\n",
    "**[파생변수 33]** 총구매액을 통한 등급 나누기\n",
    "2007년 등급보다 좀 더 세분화 된 2020년 기준의 등급을 가지고 소비자 물가지수에 의한 화폐가치 변화율을 적용하여 고객 등급을 나눔\n",
    "<br/><br/>\n",
    "**2019년 기준 2007년 물가상승배수 : 0.784배**\n",
    "<br/><br/>\n",
    "  \n",
    "**<2020 기준 고객등급>**\n",
    "- VIP : 400만원 이상\n",
    "- VIP+ : 800만원 이상\n",
    "- MVG-Ace : 1800만원 이상\n",
    "- MVG-Crown : 4000만원 이상\n",
    "- MVG-Pretige : 6000만원 이상\n",
    "- LENITH : 1억원 이상\n",
    "- etc : 400만원 미만   "
   ]
  },
  {
   "cell_type": "code",
   "execution_count": 185,
   "metadata": {},
   "outputs": [],
   "source": [
    "def c_class(x) :\n",
    "    if x < 4000000*0.784 :\n",
    "        return 'etc'\n",
    "    elif 4000000*0.784 <= x < 8000000*0.784 :\n",
    "        return 'vip'\n",
    "    elif 8000000*0.784 <= x < 18000000*0.784 :\n",
    "        return 'vvip'\n",
    "    elif 18000000*0.784 <= x < 40000000*0.784 :\n",
    "        return 'ace'\n",
    "    elif 40000000*0.784 <= x < 60000000*0.784 :\n",
    "        return 'crown'\n",
    "    elif 60000000*0.784 <= x < 100000000*0.784 :\n",
    "        return 'pretige'\n",
    "    else :\n",
    "        return 'lenith'\n",
    "    \n",
    "total = tr.groupby('cust_id')['amount'].agg([('총구매액',np.sum)]).reset_index()\n",
    "total['c_class'] = total['총구매액'].agg(c_class)\n",
    "\n",
    "f = total[['cust_id','c_class']]\n",
    "\n",
    "features = features.merge(f, how='left')"
   ]
  },
  {
   "cell_type": "markdown",
   "metadata": {},
   "source": [
    "#### 출처 : 17-34,35\n",
    "**[파생변수 34]** 가장 많이 방문한 달 \n",
    "**[파생변수 35]** 월 말 구매금액 비율"
   ]
  },
  {
   "cell_type": "code",
   "execution_count": 186,
   "metadata": {},
   "outputs": [],
   "source": [
    "tr['day'] = tr['tran_date'].agg(lambda x: pd.to_datetime(x).day)\n",
    "\n",
    "tr['ee_month'] = tr['day'].agg(lambda x: 'endmonth' if x in list(range(15,31)) else 'earlymonth')"
   ]
  },
  {
   "cell_type": "code",
   "execution_count": 187,
   "metadata": {},
   "outputs": [],
   "source": [
    "e1 = tr.groupby('cust_id')['amount'].agg([('amount', 'sum')]).reset_index()\n",
    "\n",
    "e2 = tr.groupby(['cust_id', 'ee_month'])['amount'].agg([('eamount', 'sum')]).reset_index()\n",
    "\n",
    "e2 = pd.merge(e1, e2, on = 'cust_id', how = 'left')\n",
    "\n",
    "e2['ee_rate'] = e2['eamount'] / e2['amount']"
   ]
  },
  {
   "cell_type": "code",
   "execution_count": 188,
   "metadata": {},
   "outputs": [],
   "source": [
    "ee1 = pd.pivot_table(e2, values = 'ee_rate', index = 'cust_id', columns = 'ee_month',\n",
    "                    aggfunc = sum, fill_value = 0).reset_index()\n",
    "\n",
    "ee1 = ee1.rename_axis(None, axis = 1)\n",
    "\n",
    "f = ee1[['cust_id', 'endmonth']]\n",
    "\n",
    "features = features.merge(f, how='left')"
   ]
  },
  {
   "cell_type": "markdown",
   "metadata": {},
   "source": [
    "#### 출처 : 18-27"
   ]
  },
  {
   "cell_type": "code",
   "execution_count": 189,
   "metadata": {},
   "outputs": [],
   "source": [
    "tr = pd.concat([train, test])"
   ]
  },
  {
   "cell_type": "code",
   "execution_count": 190,
   "metadata": {},
   "outputs": [],
   "source": [
    "#1. 주방용품 구매여부  \n",
    "#선정이유 : 남자보단 여자들이 주방용품에 관심이 많고 구매율이 있을것 같아서 선정했습니다.\n",
    "features1 = tr['gds_grp_mclas_nm'] == '주방용품'\n",
    "features2 = tr[features1]\n",
    "a = features2.groupby('cust_id')['gds_grp_mclas_nm'].agg([\n",
    "    ('주방용품구매', lambda x: x.nunique())\n",
    "]).reset_index()\n",
    "features = features.merge(a, how='left'); features\n",
    "features = features.fillna(0)"
   ]
  },
  {
   "cell_type": "markdown",
   "metadata": {},
   "source": [
    "#### 출처 : 18-31"
   ]
  },
  {
   "cell_type": "code",
   "execution_count": 191,
   "metadata": {},
   "outputs": [],
   "source": [
    "#5. 하루에 최대구매 건수\n",
    "#선정이유 : 하루에 최대구매건수가 많다면 쇼핑온 여성이 대다수일것이라고 예상하여 넣었습니다.\n",
    "e = tr.groupby('cust_id')['tran_date'].agg([\n",
    "    ('하루최대구매건수', lambda x: x.value_counts(ascending=False).head(1))]).reset_index()\n",
    "features = features.merge(e, how='left')"
   ]
  },
  {
   "cell_type": "markdown",
   "metadata": {},
   "source": [
    "#### 출처 : 18-32"
   ]
  },
  {
   "cell_type": "code",
   "execution_count": 192,
   "metadata": {
    "scrolled": true
   },
   "outputs": [],
   "source": [
    "#6. 구매상품/구매건수 \n",
    "#선정이유 : 이 feature를 구하게되면 사는 상품의 폭을 알수 있게 됩니다. 그러면 단골이라는 이야기가 나오기\n",
    "#때문에 단골고객은 여성들이 주를 이룰것이라 생각해서 골랐습니다.\n",
    "features['구매폭'] = features['구매상품종류1']/features['구매건수']*100"
   ]
  },
  {
   "cell_type": "code",
   "execution_count": 193,
   "metadata": {},
   "outputs": [],
   "source": [
    "tr = pd.concat([train, test])"
   ]
  },
  {
   "cell_type": "markdown",
   "metadata": {},
   "source": [
    "#### 출처 : 19-27\n",
    "**[파생변수 27]** 주 구매계절 "
   ]
  },
  {
   "cell_type": "code",
   "execution_count": 194,
   "metadata": {},
   "outputs": [],
   "source": [
    "f = tr.groupby('cust_id')['tran_date'].agg([\n",
    "    ('주구매계절', lambda x :pd.to_datetime(x).dt.month.value_counts().reset_index().iloc[0,0])]).reset_index()\n",
    "\n",
    "def season(x):\n",
    "        if x == 1 or x == 2 or x == 12: return '겨울'\n",
    "        elif x == 3 or x == 4 or x == 5: return '봄'\n",
    "        elif x == 6 or x == 7 or x == 8: return '여름'\n",
    "        else: return '가을'\n",
    "        \n",
    "f['주구매계절'] = f['주구매계절'].apply(season)\n",
    "\n",
    "features = features.merge(f, how = 'left')"
   ]
  },
  {
   "cell_type": "markdown",
   "metadata": {},
   "source": [
    "#### 출처 : 19-34\n",
    "**[파생변수 34]** 내점당 평균구매상품종류"
   ]
  },
  {
   "cell_type": "code",
   "execution_count": 195,
   "metadata": {},
   "outputs": [],
   "source": [
    "visits = tr.groupby('cust_id')['tran_date'].agg(lambda x: x.nunique())\n",
    "\n",
    "f = (tr.groupby('cust_id')['gds_grp_mclas_nm'].nunique() / visits).reset_index().rename(columns={0 : '내점당평균구매상품종류'})\n",
    "\n",
    "features = features.merge(f, how='left');"
   ]
  },
  {
   "cell_type": "markdown",
   "metadata": {},
   "source": [
    "#### 출처 : 19-35\n",
    "**[파생변수 35]** 구매력지수(내점당 최대구매금액평균)"
   ]
  },
  {
   "cell_type": "code",
   "execution_count": 196,
   "metadata": {},
   "outputs": [
    {
     "data": {
      "text/html": [
       "<div>\n",
       "<style scoped>\n",
       "    .dataframe tbody tr th:only-of-type {\n",
       "        vertical-align: middle;\n",
       "    }\n",
       "\n",
       "    .dataframe tbody tr th {\n",
       "        vertical-align: top;\n",
       "    }\n",
       "\n",
       "    .dataframe thead th {\n",
       "        text-align: right;\n",
       "    }\n",
       "</style>\n",
       "<table border=\"1\" class=\"dataframe\">\n",
       "  <thead>\n",
       "    <tr style=\"text-align: right;\">\n",
       "      <th></th>\n",
       "      <th>cust_id</th>\n",
       "      <th>tran_date</th>\n",
       "      <th>amount</th>\n",
       "    </tr>\n",
       "  </thead>\n",
       "  <tbody>\n",
       "    <tr>\n",
       "      <th>0</th>\n",
       "      <td>0</td>\n",
       "      <td>2007-01-19 00:00:00</td>\n",
       "      <td>850000</td>\n",
       "    </tr>\n",
       "    <tr>\n",
       "      <th>1</th>\n",
       "      <td>0</td>\n",
       "      <td>2007-03-30 00:00:00</td>\n",
       "      <td>3000000</td>\n",
       "    </tr>\n",
       "    <tr>\n",
       "      <th>2</th>\n",
       "      <td>0</td>\n",
       "      <td>2007-05-13 00:00:00</td>\n",
       "      <td>11264000</td>\n",
       "    </tr>\n",
       "    <tr>\n",
       "      <th>3</th>\n",
       "      <td>0</td>\n",
       "      <td>2007-06-09 00:00:00</td>\n",
       "      <td>2677200</td>\n",
       "    </tr>\n",
       "    <tr>\n",
       "      <th>4</th>\n",
       "      <td>0</td>\n",
       "      <td>2007-07-08 00:00:00</td>\n",
       "      <td>3850000</td>\n",
       "    </tr>\n",
       "    <tr>\n",
       "      <th>...</th>\n",
       "      <td>...</td>\n",
       "      <td>...</td>\n",
       "      <td>...</td>\n",
       "    </tr>\n",
       "    <tr>\n",
       "      <th>115824</th>\n",
       "      <td>5980</td>\n",
       "      <td>2007-07-14 00:00:00</td>\n",
       "      <td>10431630</td>\n",
       "    </tr>\n",
       "    <tr>\n",
       "      <th>115825</th>\n",
       "      <td>5980</td>\n",
       "      <td>2007-09-13 00:00:00</td>\n",
       "      <td>7720000</td>\n",
       "    </tr>\n",
       "    <tr>\n",
       "      <th>115826</th>\n",
       "      <td>5980</td>\n",
       "      <td>2007-12-08 00:00:00</td>\n",
       "      <td>5105430</td>\n",
       "    </tr>\n",
       "    <tr>\n",
       "      <th>115827</th>\n",
       "      <td>5981</td>\n",
       "      <td>2007-01-12 00:00:00</td>\n",
       "      <td>209000</td>\n",
       "    </tr>\n",
       "    <tr>\n",
       "      <th>115828</th>\n",
       "      <td>5981</td>\n",
       "      <td>2007-03-16 00:00:00</td>\n",
       "      <td>174800</td>\n",
       "    </tr>\n",
       "  </tbody>\n",
       "</table>\n",
       "<p>115829 rows × 3 columns</p>\n",
       "</div>"
      ],
      "text/plain": [
       "        cust_id            tran_date    amount\n",
       "0             0  2007-01-19 00:00:00    850000\n",
       "1             0  2007-03-30 00:00:00   3000000\n",
       "2             0  2007-05-13 00:00:00  11264000\n",
       "3             0  2007-06-09 00:00:00   2677200\n",
       "4             0  2007-07-08 00:00:00   3850000\n",
       "...         ...                  ...       ...\n",
       "115824     5980  2007-07-14 00:00:00  10431630\n",
       "115825     5980  2007-09-13 00:00:00   7720000\n",
       "115826     5980  2007-12-08 00:00:00   5105430\n",
       "115827     5981  2007-01-12 00:00:00    209000\n",
       "115828     5981  2007-03-16 00:00:00    174800\n",
       "\n",
       "[115829 rows x 3 columns]"
      ]
     },
     "execution_count": 196,
     "metadata": {},
     "output_type": "execute_result"
    }
   ],
   "source": [
    "tr.groupby(['cust_id','tran_date'])['amount'].agg(np.max).reset_index()\n",
    "\n",
    "#두개의 column 을 대상으로 groupby를 진행, 각 구매일의 최대구매금액을 먼저 계산한 후"
   ]
  },
  {
   "cell_type": "code",
   "execution_count": 197,
   "metadata": {},
   "outputs": [],
   "source": [
    "f = tr.groupby(['cust_id','tran_date'])['amount'].agg(np.max).reset_index().groupby('cust_id')['amount'].agg([\n",
    "    ('구매력지수', lambda x : np.mean(x))]).reset_index()\n",
    "\n",
    "#이를 다시 cust_id와 amount만을 이용하여  내점당 최대구매금액평균을 구했다."
   ]
  },
  {
   "cell_type": "code",
   "execution_count": 198,
   "metadata": {},
   "outputs": [],
   "source": [
    "f = f.구매력지수.astype(int).reset_index()\n",
    "f = f.rename(columns = {'index' : 'cust_id'})\n",
    "features = features.merge(f, how='left')"
   ]
  },
  {
   "cell_type": "code",
   "execution_count": 199,
   "metadata": {},
   "outputs": [],
   "source": [
    "tr = pd.concat([train, test])"
   ]
  },
  {
   "cell_type": "markdown",
   "metadata": {},
   "source": [
    "#### 출처 : 21-32\n",
    "**[파생변수 32]** 생활용품 구매 건수/금액/비율 /  가전제품(가구) 구매 건수/금액/비율"
   ]
  },
  {
   "cell_type": "code",
   "execution_count": 200,
   "metadata": {},
   "outputs": [],
   "source": [
    "f = tr.query('gds_grp_mclas_nm == [\"식기\",\"침구/수예\",\"주방용품\",\"생활잡화\",\"일용잡화\"]').groupby('cust_id')['amount'].agg([\n",
    "    ('생활용품-구매건수', np.size),\n",
    "    ('생활용품-구매액', np.sum)\n",
    "]).reset_index()\n",
    "features = features.merge(f, how='left')\n",
    "features['생활용품-구매비율'] = features['생활용품-구매건수'] / features['구매건수']"
   ]
  },
  {
   "cell_type": "code",
   "execution_count": 201,
   "metadata": {},
   "outputs": [],
   "source": [
    "f = tr.query('gds_grp_mclas_nm == [\"소형가전\",\"주방가전\",\"대형가전\",\"가구\"]').groupby('cust_id')['amount'].agg([\n",
    "    ('가전제품-구매건수', np.size),\n",
    "    ('가전제품-구매액', np.sum)\n",
    "]).reset_index()\n",
    "features = features.merge(f, how='left')\n",
    "features['가전제품-구매비율'] = features['가전제품-구매건수'] / features['구매건수']"
   ]
  },
  {
   "cell_type": "code",
   "execution_count": 202,
   "metadata": {},
   "outputs": [],
   "source": [
    "tr = pd.concat([train, test])"
   ]
  },
  {
   "cell_type": "code",
   "execution_count": 203,
   "metadata": {},
   "outputs": [],
   "source": [
    "tr['tran_date'] = tr.tran_date.astype('datetime64')\n",
    "tr['date'] = tr.tran_date.apply(lambda x : x.weekday())\n",
    "tr['month'] = tr.tran_date.apply(lambda x : x.month)"
   ]
  },
  {
   "cell_type": "markdown",
   "metadata": {},
   "source": [
    "#### 출처 : 23-28\n",
    "#### [파생변수 28: 구매요일 변동계수]\n",
    "- 요일별 구매 변동사항이 적음(변동계수가 적을수록)\n",
    "- 요일별 구매 변동사항이 적으면 여성이라고 판단(여성들이 구매 방문 자주 할것이라 판단)"
   ]
  },
  {
   "cell_type": "code",
   "execution_count": 204,
   "metadata": {},
   "outputs": [
    {
     "data": {
      "text/html": [
       "<div>\n",
       "<style scoped>\n",
       "    .dataframe tbody tr th:only-of-type {\n",
       "        vertical-align: middle;\n",
       "    }\n",
       "\n",
       "    .dataframe tbody tr th {\n",
       "        vertical-align: top;\n",
       "    }\n",
       "\n",
       "    .dataframe thead th {\n",
       "        text-align: right;\n",
       "    }\n",
       "</style>\n",
       "<table border=\"1\" class=\"dataframe\">\n",
       "  <thead>\n",
       "    <tr style=\"text-align: right;\">\n",
       "      <th>date</th>\n",
       "      <th>0</th>\n",
       "      <th>1</th>\n",
       "      <th>2</th>\n",
       "      <th>3</th>\n",
       "      <th>4</th>\n",
       "      <th>5</th>\n",
       "      <th>6</th>\n",
       "    </tr>\n",
       "    <tr>\n",
       "      <th>cust_id</th>\n",
       "      <th></th>\n",
       "      <th></th>\n",
       "      <th></th>\n",
       "      <th></th>\n",
       "      <th></th>\n",
       "      <th></th>\n",
       "      <th></th>\n",
       "    </tr>\n",
       "  </thead>\n",
       "  <tbody>\n",
       "    <tr>\n",
       "      <th>0</th>\n",
       "      <td>6</td>\n",
       "      <td>2</td>\n",
       "      <td>12</td>\n",
       "      <td>6</td>\n",
       "      <td>9</td>\n",
       "      <td>27</td>\n",
       "      <td>12</td>\n",
       "    </tr>\n",
       "    <tr>\n",
       "      <th>1</th>\n",
       "      <td>1</td>\n",
       "      <td>0</td>\n",
       "      <td>0</td>\n",
       "      <td>2</td>\n",
       "      <td>0</td>\n",
       "      <td>0</td>\n",
       "      <td>0</td>\n",
       "    </tr>\n",
       "    <tr>\n",
       "      <th>2</th>\n",
       "      <td>2</td>\n",
       "      <td>0</td>\n",
       "      <td>2</td>\n",
       "      <td>0</td>\n",
       "      <td>0</td>\n",
       "      <td>0</td>\n",
       "      <td>0</td>\n",
       "    </tr>\n",
       "    <tr>\n",
       "      <th>3</th>\n",
       "      <td>5</td>\n",
       "      <td>11</td>\n",
       "      <td>6</td>\n",
       "      <td>5</td>\n",
       "      <td>3</td>\n",
       "      <td>9</td>\n",
       "      <td>5</td>\n",
       "    </tr>\n",
       "    <tr>\n",
       "      <th>4</th>\n",
       "      <td>1</td>\n",
       "      <td>0</td>\n",
       "      <td>2</td>\n",
       "      <td>0</td>\n",
       "      <td>0</td>\n",
       "      <td>0</td>\n",
       "      <td>0</td>\n",
       "    </tr>\n",
       "    <tr>\n",
       "      <th>...</th>\n",
       "      <td>...</td>\n",
       "      <td>...</td>\n",
       "      <td>...</td>\n",
       "      <td>...</td>\n",
       "      <td>...</td>\n",
       "      <td>...</td>\n",
       "      <td>...</td>\n",
       "    </tr>\n",
       "    <tr>\n",
       "      <th>5977</th>\n",
       "      <td>0</td>\n",
       "      <td>1</td>\n",
       "      <td>0</td>\n",
       "      <td>1</td>\n",
       "      <td>3</td>\n",
       "      <td>7</td>\n",
       "      <td>2</td>\n",
       "    </tr>\n",
       "    <tr>\n",
       "      <th>5978</th>\n",
       "      <td>1</td>\n",
       "      <td>0</td>\n",
       "      <td>0</td>\n",
       "      <td>0</td>\n",
       "      <td>0</td>\n",
       "      <td>0</td>\n",
       "      <td>0</td>\n",
       "    </tr>\n",
       "    <tr>\n",
       "      <th>5979</th>\n",
       "      <td>0</td>\n",
       "      <td>3</td>\n",
       "      <td>3</td>\n",
       "      <td>0</td>\n",
       "      <td>0</td>\n",
       "      <td>0</td>\n",
       "      <td>65</td>\n",
       "    </tr>\n",
       "    <tr>\n",
       "      <th>5980</th>\n",
       "      <td>5</td>\n",
       "      <td>0</td>\n",
       "      <td>0</td>\n",
       "      <td>5</td>\n",
       "      <td>0</td>\n",
       "      <td>8</td>\n",
       "      <td>0</td>\n",
       "    </tr>\n",
       "    <tr>\n",
       "      <th>5981</th>\n",
       "      <td>0</td>\n",
       "      <td>0</td>\n",
       "      <td>0</td>\n",
       "      <td>0</td>\n",
       "      <td>10</td>\n",
       "      <td>0</td>\n",
       "      <td>0</td>\n",
       "    </tr>\n",
       "  </tbody>\n",
       "</table>\n",
       "<p>5982 rows × 7 columns</p>\n",
       "</div>"
      ],
      "text/plain": [
       "date     0   1   2  3   4   5   6\n",
       "cust_id                          \n",
       "0        6   2  12  6   9  27  12\n",
       "1        1   0   0  2   0   0   0\n",
       "2        2   0   2  0   0   0   0\n",
       "3        5  11   6  5   3   9   5\n",
       "4        1   0   2  0   0   0   0\n",
       "...     ..  ..  .. ..  ..  ..  ..\n",
       "5977     0   1   0  1   3   7   2\n",
       "5978     1   0   0  0   0   0   0\n",
       "5979     0   3   3  0   0   0  65\n",
       "5980     5   0   0  5   0   8   0\n",
       "5981     0   0   0  0  10   0   0\n",
       "\n",
       "[5982 rows x 7 columns]"
      ]
     },
     "metadata": {},
     "output_type": "display_data"
    }
   ],
   "source": [
    "day = pd.pivot_table(tr, index = 'cust_id', columns = 'date', values= 'amount', fill_value = 0, aggfunc = 'count')\n",
    "display(day)  # 요일별 구매 횟수\n",
    "day_mean = day.apply(lambda x: x.mean(), axis=1)   # cust_id별 구매 평균(요일)\n",
    "day_std = day.apply(lambda x: x.std(), axis =1)  # cust_id별 구매 표준편차(요일)\n",
    "f = (day_std/day_mean).reset_index().rename(columns = {0 : '요일_변동계수'})\n",
    "features = pd.merge(features, f, how = 'left')"
   ]
  },
  {
   "cell_type": "markdown",
   "metadata": {},
   "source": [
    "#### 출처 : 23-33\n",
    "#### [파생변수 33: 전체방문_환불방문율 ] \n",
    "> 전체 방문 중 환불 방문 비율(정규화) \n",
    "> 가설: 남서들은 환불을 잘 하지 않는다./ 환불을 많이 할 수록 여성이 가능성이 높다."
   ]
  },
  {
   "cell_type": "code",
   "execution_count": 205,
   "metadata": {},
   "outputs": [
    {
     "data": {
      "text/plain": [
       "cust_id\n",
       "0       0.157895\n",
       "1       0.500000\n",
       "2       0.000000\n",
       "3       0.000000\n",
       "4       0.000000\n",
       "          ...   \n",
       "5977    0.000000\n",
       "5978    0.000000\n",
       "5979    0.000000\n",
       "5980    0.000000\n",
       "5981    0.000000\n",
       "Name: tran_date, Length: 5982, dtype: float64"
      ]
     },
     "metadata": {},
     "output_type": "display_data"
    }
   ],
   "source": [
    "re_item = ((tr[tr.amount<0].groupby('cust_id')['tran_date'].agg('nunique') /\n",
    "            tr.groupby('cust_id')['tran_date'].agg('nunique')).apply(lambda x: 0 if pd.isna(x) else x))\n",
    "display(re_item)\n",
    "rt_mean = re_item.mean()\n",
    "rt_std = re_item.std()\n",
    "f = (((re_item)-(rt_mean))/rt_std).reset_index().rename(columns = {'tran_date' : '전체방문_중_환불방문(표준화)'})\n",
    "features = pd.merge(features, f, how = 'left')"
   ]
  },
  {
   "cell_type": "markdown",
   "metadata": {},
   "source": [
    "#### 출처 : 23-35\n",
    "#### [재방문율]\n",
    "예) 1월의 1회 구매 이후 2월 구매기록 있음 > 재방문횟수 1회 추가 \n",
    "이런식으로 11회 재방문횟수를 구한 뒤 전체를 나눠서 월마다 재방문율을 구함"
   ]
  },
  {
   "cell_type": "code",
   "execution_count": 206,
   "metadata": {},
   "outputs": [],
   "source": [
    "a1 = pd.pivot_table(tr, columns = 'month',values = 'tran_date', index = 'cust_id', aggfunc= 'nunique',fill_value = 0);\n",
    "a1 = a1.reset_index()\n",
    "del a1['cust_id']"
   ]
  },
  {
   "cell_type": "code",
   "execution_count": 207,
   "metadata": {},
   "outputs": [],
   "source": [
    "def point(x):\n",
    "    a= 1\n",
    "    re_go = 0\n",
    "    for i in range(11):\n",
    "        if x[a]>=1 and x[a+1]>=1:\n",
    "            re_go = re_go+1\n",
    "            a= a+1\n",
    "        else: \n",
    "            a= a+1\n",
    "    return re_go"
   ]
  },
  {
   "cell_type": "code",
   "execution_count": 208,
   "metadata": {},
   "outputs": [
    {
     "data": {
      "text/html": [
       "<div>\n",
       "<style scoped>\n",
       "    .dataframe tbody tr th:only-of-type {\n",
       "        vertical-align: middle;\n",
       "    }\n",
       "\n",
       "    .dataframe tbody tr th {\n",
       "        vertical-align: top;\n",
       "    }\n",
       "\n",
       "    .dataframe thead th {\n",
       "        text-align: right;\n",
       "    }\n",
       "</style>\n",
       "<table border=\"1\" class=\"dataframe\">\n",
       "  <thead>\n",
       "    <tr style=\"text-align: right;\">\n",
       "      <th></th>\n",
       "      <th>cust_id</th>\n",
       "      <th>월_재방문율</th>\n",
       "    </tr>\n",
       "  </thead>\n",
       "  <tbody>\n",
       "    <tr>\n",
       "      <th>0</th>\n",
       "      <td>0</td>\n",
       "      <td>0.636364</td>\n",
       "    </tr>\n",
       "    <tr>\n",
       "      <th>1</th>\n",
       "      <td>1</td>\n",
       "      <td>0.000000</td>\n",
       "    </tr>\n",
       "    <tr>\n",
       "      <th>2</th>\n",
       "      <td>2</td>\n",
       "      <td>0.000000</td>\n",
       "    </tr>\n",
       "    <tr>\n",
       "      <th>3</th>\n",
       "      <td>3</td>\n",
       "      <td>0.727273</td>\n",
       "    </tr>\n",
       "    <tr>\n",
       "      <th>4</th>\n",
       "      <td>4</td>\n",
       "      <td>0.000000</td>\n",
       "    </tr>\n",
       "    <tr>\n",
       "      <th>...</th>\n",
       "      <td>...</td>\n",
       "      <td>...</td>\n",
       "    </tr>\n",
       "    <tr>\n",
       "      <th>5977</th>\n",
       "      <td>5977</td>\n",
       "      <td>0.363636</td>\n",
       "    </tr>\n",
       "    <tr>\n",
       "      <th>5978</th>\n",
       "      <td>5978</td>\n",
       "      <td>0.000000</td>\n",
       "    </tr>\n",
       "    <tr>\n",
       "      <th>5979</th>\n",
       "      <td>5979</td>\n",
       "      <td>0.818182</td>\n",
       "    </tr>\n",
       "    <tr>\n",
       "      <th>5980</th>\n",
       "      <td>5980</td>\n",
       "      <td>0.000000</td>\n",
       "    </tr>\n",
       "    <tr>\n",
       "      <th>5981</th>\n",
       "      <td>5981</td>\n",
       "      <td>0.000000</td>\n",
       "    </tr>\n",
       "  </tbody>\n",
       "</table>\n",
       "<p>5982 rows × 2 columns</p>\n",
       "</div>"
      ],
      "text/plain": [
       "      cust_id    월_재방문율\n",
       "0           0  0.636364\n",
       "1           1  0.000000\n",
       "2           2  0.000000\n",
       "3           3  0.727273\n",
       "4           4  0.000000\n",
       "...       ...       ...\n",
       "5977     5977  0.363636\n",
       "5978     5978  0.000000\n",
       "5979     5979  0.818182\n",
       "5980     5980  0.000000\n",
       "5981     5981  0.000000\n",
       "\n",
       "[5982 rows x 2 columns]"
      ]
     },
     "metadata": {},
     "output_type": "display_data"
    }
   ],
   "source": [
    "result = a1.apply(lambda x: point(x), axis =1)\n",
    "result = (result / 11).reset_index()\n",
    "result.columns = ['cust_id', '월_재방문율']\n",
    "features = pd.merge(features, result, how = 'left')\n",
    "display(result)"
   ]
  },
  {
   "cell_type": "code",
   "execution_count": 209,
   "metadata": {},
   "outputs": [],
   "source": [
    "tr = pd.concat([train, test])"
   ]
  },
  {
   "cell_type": "markdown",
   "metadata": {},
   "source": [
    "#### 출처 : 24-28,29"
   ]
  },
  {
   "cell_type": "code",
   "execution_count": 210,
   "metadata": {},
   "outputs": [],
   "source": [
    "# 28 가장 많은 금액을 차지하는 중분류명은 무엇인가? \n",
    "# 29 그리고 그 금액의 합은 얼마인가?\n",
    "b = tr.groupby(['cust_id','gds_grp_nm'])['amount'].agg([('중분류명별 금액합', 'sum')])\n",
    "c = b.sort_values('중분류명별 금액합',ascending=False).reset_index()\n",
    "d = c.drop_duplicates(['cust_id'], keep='first')\n",
    "features = features.merge(d, how='left'); \n",
    "features.rename(columns = {'gds_grp_nm':'최고액 중분류명'}, inplace=True)"
   ]
  },
  {
   "cell_type": "markdown",
   "metadata": {},
   "source": [
    "#### 출처 : 24-30"
   ]
  },
  {
   "cell_type": "code",
   "execution_count": 211,
   "metadata": {},
   "outputs": [],
   "source": [
    "# 동일한 지점(store_nm)에서 동일한 대분류명(gds_grp_mclas_nm)이면 goods_id가 같다.\n",
    "# 30 따라서 동일 지점에서 동일 대분류명을 1년동안 얼마나 많이 샀는가?\n",
    "a = tr.groupby(['cust_id','goods_id'])['amount'].agg([('동일한_지점&분류_최대횟수', 'count')])\n",
    "b = a.sort_values('동일한_지점&분류_최대횟수', ascending=False).reset_index()\n",
    "c = b.drop_duplicates(['cust_id'], keep='first')\n",
    "d = c.drop('goods_id',axis=1)\n",
    "features = features.merge(d, how='left');"
   ]
  },
  {
   "cell_type": "markdown",
   "metadata": {},
   "source": [
    "#### 출처 : 24-32"
   ]
  },
  {
   "cell_type": "code",
   "execution_count": 212,
   "metadata": {},
   "outputs": [],
   "source": [
    "# 32 얼마나 다양한 종류의 물건을 사는가?\n",
    "a = tr.groupby(['cust_id','gds_grp_mclas_nm'])['amount'].agg([('서로 다른 대분류구입' ,  'count')])\n",
    "b = a.groupby('cust_id')['서로 다른 대분류구입'].count().reset_index()\n",
    "features = features.merge(b, how='left');"
   ]
  },
  {
   "cell_type": "markdown",
   "metadata": {},
   "source": [
    "#### 출처 : 25-30\n",
    "**[파생변수 30]** 저가상품구매비율\n",
    "- 저가상품은 남성 고객이 구매할 가능성이 높다."
   ]
  },
  {
   "cell_type": "code",
   "execution_count": 213,
   "metadata": {},
   "outputs": [],
   "source": [
    "low = tr.amount.quantile(0.10)"
   ]
  },
  {
   "cell_type": "code",
   "execution_count": 214,
   "metadata": {},
   "outputs": [],
   "source": [
    "f = tr.groupby('cust_id')['amount'].agg([\n",
    "    ('저가상품구매비율', lambda x : np.mean(x < low))]).reset_index()\n",
    "\n",
    "features = features.merge(f, how='left');"
   ]
  },
  {
   "cell_type": "markdown",
   "metadata": {},
   "source": [
    "#### 출처 : 27-30\n",
    "**[파생변수 30]** 거래당 구매 물품 다양성"
   ]
  },
  {
   "cell_type": "code",
   "execution_count": 215,
   "metadata": {},
   "outputs": [
    {
     "data": {
      "text/html": [
       "<div>\n",
       "<style scoped>\n",
       "    .dataframe tbody tr th:only-of-type {\n",
       "        vertical-align: middle;\n",
       "    }\n",
       "\n",
       "    .dataframe tbody tr th {\n",
       "        vertical-align: top;\n",
       "    }\n",
       "\n",
       "    .dataframe thead th {\n",
       "        text-align: right;\n",
       "    }\n",
       "</style>\n",
       "<table border=\"1\" class=\"dataframe\">\n",
       "  <thead>\n",
       "    <tr style=\"text-align: right;\">\n",
       "      <th></th>\n",
       "      <th>cust_id</th>\n",
       "      <th>tran_date</th>\n",
       "      <th>store_nm</th>\n",
       "      <th>goods_id</th>\n",
       "      <th>gds_grp_nm</th>\n",
       "      <th>gds_grp_mclas_nm</th>\n",
       "      <th>amount</th>\n",
       "    </tr>\n",
       "  </thead>\n",
       "  <tbody>\n",
       "    <tr>\n",
       "      <th>0</th>\n",
       "      <td>0</td>\n",
       "      <td>2007-01-19 00:00:00</td>\n",
       "      <td>강남점</td>\n",
       "      <td>127105</td>\n",
       "      <td>기초 화장품</td>\n",
       "      <td>화장품</td>\n",
       "      <td>850000</td>\n",
       "    </tr>\n",
       "    <tr>\n",
       "      <th>1</th>\n",
       "      <td>0</td>\n",
       "      <td>2007-03-30 00:00:00</td>\n",
       "      <td>강남점</td>\n",
       "      <td>342220</td>\n",
       "      <td>니  트</td>\n",
       "      <td>시티웨어</td>\n",
       "      <td>480000</td>\n",
       "    </tr>\n",
       "    <tr>\n",
       "      <th>2</th>\n",
       "      <td>0</td>\n",
       "      <td>2007-03-30 00:00:00</td>\n",
       "      <td>강남점</td>\n",
       "      <td>127105</td>\n",
       "      <td>기초 화장품</td>\n",
       "      <td>화장품</td>\n",
       "      <td>3000000</td>\n",
       "    </tr>\n",
       "    <tr>\n",
       "      <th>3</th>\n",
       "      <td>0</td>\n",
       "      <td>2007-03-30 00:00:00</td>\n",
       "      <td>강남점</td>\n",
       "      <td>342205</td>\n",
       "      <td>니  트</td>\n",
       "      <td>시티웨어</td>\n",
       "      <td>840000</td>\n",
       "    </tr>\n",
       "    <tr>\n",
       "      <th>4</th>\n",
       "      <td>0</td>\n",
       "      <td>2007-03-30 00:00:00</td>\n",
       "      <td>강남점</td>\n",
       "      <td>342220</td>\n",
       "      <td>상품군미지정</td>\n",
       "      <td>기타</td>\n",
       "      <td>20000</td>\n",
       "    </tr>\n",
       "    <tr>\n",
       "      <th>...</th>\n",
       "      <td>...</td>\n",
       "      <td>...</td>\n",
       "      <td>...</td>\n",
       "      <td>...</td>\n",
       "      <td>...</td>\n",
       "      <td>...</td>\n",
       "      <td>...</td>\n",
       "    </tr>\n",
       "    <tr>\n",
       "      <th>163553</th>\n",
       "      <td>5981</td>\n",
       "      <td>2007-01-12 00:00:00</td>\n",
       "      <td>영등포점</td>\n",
       "      <td>50105</td>\n",
       "      <td>일반가공식품</td>\n",
       "      <td>가공식품</td>\n",
       "      <td>209000</td>\n",
       "    </tr>\n",
       "    <tr>\n",
       "      <th>163554</th>\n",
       "      <td>5981</td>\n",
       "      <td>2007-01-12 00:00:00</td>\n",
       "      <td>영등포점</td>\n",
       "      <td>50109</td>\n",
       "      <td>상품군미지정</td>\n",
       "      <td>기타</td>\n",
       "      <td>7150</td>\n",
       "    </tr>\n",
       "    <tr>\n",
       "      <th>163555</th>\n",
       "      <td>5981</td>\n",
       "      <td>2007-01-12 00:00:00</td>\n",
       "      <td>영등포점</td>\n",
       "      <td>50105</td>\n",
       "      <td>햄</td>\n",
       "      <td>축산가공</td>\n",
       "      <td>9500</td>\n",
       "    </tr>\n",
       "    <tr>\n",
       "      <th>163556</th>\n",
       "      <td>5981</td>\n",
       "      <td>2007-01-12 00:00:00</td>\n",
       "      <td>영등포점</td>\n",
       "      <td>50105</td>\n",
       "      <td>상품군미지정</td>\n",
       "      <td>기타</td>\n",
       "      <td>9500</td>\n",
       "    </tr>\n",
       "    <tr>\n",
       "      <th>163557</th>\n",
       "      <td>5981</td>\n",
       "      <td>2007-03-16 00:00:00</td>\n",
       "      <td>영등포점</td>\n",
       "      <td>77198</td>\n",
       "      <td>수입식품</td>\n",
       "      <td>차/커피</td>\n",
       "      <td>174800</td>\n",
       "    </tr>\n",
       "  </tbody>\n",
       "</table>\n",
       "<p>395562 rows × 7 columns</p>\n",
       "</div>"
      ],
      "text/plain": [
       "        cust_id            tran_date store_nm  goods_id gds_grp_nm  \\\n",
       "0             0  2007-01-19 00:00:00      강남점    127105     기초 화장품   \n",
       "1             0  2007-03-30 00:00:00      강남점    342220       니  트   \n",
       "2             0  2007-03-30 00:00:00      강남점    127105     기초 화장품   \n",
       "3             0  2007-03-30 00:00:00      강남점    342205       니  트   \n",
       "4             0  2007-03-30 00:00:00      강남점    342220     상품군미지정   \n",
       "...         ...                  ...      ...       ...        ...   \n",
       "163553     5981  2007-01-12 00:00:00     영등포점     50105     일반가공식품   \n",
       "163554     5981  2007-01-12 00:00:00     영등포점     50109     상품군미지정   \n",
       "163555     5981  2007-01-12 00:00:00     영등포점     50105          햄   \n",
       "163556     5981  2007-01-12 00:00:00     영등포점     50105     상품군미지정   \n",
       "163557     5981  2007-03-16 00:00:00     영등포점     77198       수입식품   \n",
       "\n",
       "       gds_grp_mclas_nm   amount  \n",
       "0                   화장품   850000  \n",
       "1                  시티웨어   480000  \n",
       "2                   화장품  3000000  \n",
       "3                  시티웨어   840000  \n",
       "4                    기타    20000  \n",
       "...                 ...      ...  \n",
       "163553             가공식품   209000  \n",
       "163554               기타     7150  \n",
       "163555             축산가공     9500  \n",
       "163556               기타     9500  \n",
       "163557             차/커피   174800  \n",
       "\n",
       "[395562 rows x 7 columns]"
      ]
     },
     "execution_count": 215,
     "metadata": {},
     "output_type": "execute_result"
    }
   ],
   "source": [
    "tr = pd.concat([train, test])\n",
    "tr"
   ]
  },
  {
   "cell_type": "code",
   "execution_count": 216,
   "metadata": {},
   "outputs": [],
   "source": [
    "n = tr.gds_grp_mclas_nm.nunique()\n",
    "d = pd.DataFrame(tr.groupby(['cust_id','tran_date'])['gds_grp_mclas_nm'].count()/n)\n",
    "f = d.groupby('cust_id')['gds_grp_mclas_nm'].agg([('거래당 구매 물품 다양성','mean')])\n",
    "features = features.merge(f,on='cust_id', how='left')"
   ]
  },
  {
   "cell_type": "markdown",
   "metadata": {},
   "source": [
    "#### 출처 : 27-31\n",
    "**[파생변수 31]** 시즌 마감 방문 비율"
   ]
  },
  {
   "cell_type": "code",
   "execution_count": 217,
   "metadata": {},
   "outputs": [],
   "source": [
    "def season(x):\n",
    "    m = x.month\n",
    "    d = x.day\n",
    "    if 21<= d <= 31 and 3<= m <= 5:\n",
    "        return('봄 시즌 마감')\n",
    "    elif 21<= d <= 31 and 6<= m <=8:\n",
    "        return('여름 시즌 마감')\n",
    "    elif 21<= d <= 31 and 9<= m <=11:\n",
    "        return('가을 시즌 마감')\n",
    "    elif 21<= d <= 31 and (12 == m or m <=2):\n",
    "        return('겨울 시즌 마감')\n",
    "    else :\n",
    "        return('그 외')  "
   ]
  },
  {
   "cell_type": "code",
   "execution_count": 218,
   "metadata": {},
   "outputs": [],
   "source": [
    "tr['season_sale'] = pd.to_datetime(tr.tran_date).apply(season)\n",
    "f = pd.pivot_table(tr, index='cust_id', columns='season_sale', values='amount', \n",
    "                   aggfunc=np.size, fill_value=0).reset_index()\n",
    "af = pd.DataFrame(f['봄 시즌 마감']+f['여름 시즌 마감']+f['가을 시즌 마감']+f['겨울 시즌 마감']).reset_index()\n",
    "af = af.rename({'index':'cust_id',0:'시즌 마감'},axis=1)\n",
    "ss = pd.DataFrame(af['시즌 마감']/features['내점일수']).reset_index()\n",
    "ss = ss.rename({'index':'cust_id',0:'시즌 마감 방문비율'},axis=1)\n",
    "features = features.merge(ss,on='cust_id', how='left'); "
   ]
  },
  {
   "cell_type": "markdown",
   "metadata": {},
   "source": [
    "#### 출처 : 27-32\n",
    "**[파생변수 32]** 주부물품비율"
   ]
  },
  {
   "cell_type": "code",
   "execution_count": 219,
   "metadata": {},
   "outputs": [],
   "source": [
    "tr['gds_grp_mclas_nm'] = tr['gds_grp_mclas_nm'].apply(lambda x : '주부물품' if x == '축산가공' or \n",
    "                                           x == '육류' or x =='수산품' or x=='젓갈/반찬' or x=='농산물' or\n",
    "                                           x == '주방용품' else x)"
   ]
  },
  {
   "cell_type": "code",
   "execution_count": 220,
   "metadata": {},
   "outputs": [
    {
     "name": "stderr",
     "output_type": "stream",
     "text": [
      "C:\\anaconda3\\lib\\site-packages\\ipykernel_launcher.py:3: FutureWarning: Indexing with multiple keys (implicitly converted to a tuple of keys) will be deprecated, use a list instead.\n",
      "  This is separate from the ipykernel package so we can avoid doing imports until\n",
      "C:\\anaconda3\\lib\\site-packages\\pandas\\core\\reshape\\merge.py:618: UserWarning: merging between different levels can give an unintended result (1 levels on the left, 2 on the right)\n",
      "  warnings.warn(msg, UserWarning)\n"
     ]
    }
   ],
   "source": [
    "n = tr.gds_grp_mclas_nm.nunique()\n",
    "tr['주부물품'] = tr['gds_grp_mclas_nm'].apply(lambda x : 1 if '주부물품' in x else 0)\n",
    "f = tr.groupby('cust_id')['주부물품','amount'].agg({'주부물품':[('주부물품','sum')],'amount':[('구매건수',np.size)]}).reset_index()\n",
    "f['주부물품구매비율'] = f['주부물품']['주부물품']/f['amount']['구매건수']\n",
    "features = features.merge(f[['cust_id','주부물품구매비율']],on='cust_id', how='left')\n",
    "features = features.rename({features.columns[32]:'주부물품구매비율'},axis=1);"
   ]
  },
  {
   "cell_type": "markdown",
   "metadata": {},
   "source": [
    "#### 출처 : 27-35\n",
    "**[파생변수 35]** 추천 아이템"
   ]
  },
  {
   "cell_type": "code",
   "execution_count": 221,
   "metadata": {},
   "outputs": [
    {
     "data": {
      "text/html": [
       "<div>\n",
       "<style scoped>\n",
       "    .dataframe tbody tr th:only-of-type {\n",
       "        vertical-align: middle;\n",
       "    }\n",
       "\n",
       "    .dataframe tbody tr th {\n",
       "        vertical-align: top;\n",
       "    }\n",
       "\n",
       "    .dataframe thead th {\n",
       "        text-align: right;\n",
       "    }\n",
       "</style>\n",
       "<table border=\"1\" class=\"dataframe\">\n",
       "  <thead>\n",
       "    <tr style=\"text-align: right;\">\n",
       "      <th></th>\n",
       "      <th>cust_id</th>\n",
       "      <th>tran_date</th>\n",
       "      <th>store_nm</th>\n",
       "      <th>goods_id</th>\n",
       "      <th>gds_grp_nm</th>\n",
       "      <th>gds_grp_mclas_nm</th>\n",
       "      <th>amount</th>\n",
       "    </tr>\n",
       "  </thead>\n",
       "  <tbody>\n",
       "    <tr>\n",
       "      <th>0</th>\n",
       "      <td>0</td>\n",
       "      <td>2007-01-19 00:00:00</td>\n",
       "      <td>강남점</td>\n",
       "      <td>127105</td>\n",
       "      <td>기초 화장품</td>\n",
       "      <td>화장품</td>\n",
       "      <td>850000</td>\n",
       "    </tr>\n",
       "    <tr>\n",
       "      <th>1</th>\n",
       "      <td>0</td>\n",
       "      <td>2007-03-30 00:00:00</td>\n",
       "      <td>강남점</td>\n",
       "      <td>342220</td>\n",
       "      <td>니  트</td>\n",
       "      <td>시티웨어</td>\n",
       "      <td>480000</td>\n",
       "    </tr>\n",
       "    <tr>\n",
       "      <th>2</th>\n",
       "      <td>0</td>\n",
       "      <td>2007-03-30 00:00:00</td>\n",
       "      <td>강남점</td>\n",
       "      <td>127105</td>\n",
       "      <td>기초 화장품</td>\n",
       "      <td>화장품</td>\n",
       "      <td>3000000</td>\n",
       "    </tr>\n",
       "    <tr>\n",
       "      <th>3</th>\n",
       "      <td>0</td>\n",
       "      <td>2007-03-30 00:00:00</td>\n",
       "      <td>강남점</td>\n",
       "      <td>342205</td>\n",
       "      <td>니  트</td>\n",
       "      <td>시티웨어</td>\n",
       "      <td>840000</td>\n",
       "    </tr>\n",
       "    <tr>\n",
       "      <th>4</th>\n",
       "      <td>0</td>\n",
       "      <td>2007-03-30 00:00:00</td>\n",
       "      <td>강남점</td>\n",
       "      <td>342220</td>\n",
       "      <td>상품군미지정</td>\n",
       "      <td>기타</td>\n",
       "      <td>20000</td>\n",
       "    </tr>\n",
       "    <tr>\n",
       "      <th>...</th>\n",
       "      <td>...</td>\n",
       "      <td>...</td>\n",
       "      <td>...</td>\n",
       "      <td>...</td>\n",
       "      <td>...</td>\n",
       "      <td>...</td>\n",
       "      <td>...</td>\n",
       "    </tr>\n",
       "    <tr>\n",
       "      <th>163553</th>\n",
       "      <td>5981</td>\n",
       "      <td>2007-01-12 00:00:00</td>\n",
       "      <td>영등포점</td>\n",
       "      <td>50105</td>\n",
       "      <td>일반가공식품</td>\n",
       "      <td>가공식품</td>\n",
       "      <td>209000</td>\n",
       "    </tr>\n",
       "    <tr>\n",
       "      <th>163554</th>\n",
       "      <td>5981</td>\n",
       "      <td>2007-01-12 00:00:00</td>\n",
       "      <td>영등포점</td>\n",
       "      <td>50109</td>\n",
       "      <td>상품군미지정</td>\n",
       "      <td>기타</td>\n",
       "      <td>7150</td>\n",
       "    </tr>\n",
       "    <tr>\n",
       "      <th>163555</th>\n",
       "      <td>5981</td>\n",
       "      <td>2007-01-12 00:00:00</td>\n",
       "      <td>영등포점</td>\n",
       "      <td>50105</td>\n",
       "      <td>햄</td>\n",
       "      <td>축산가공</td>\n",
       "      <td>9500</td>\n",
       "    </tr>\n",
       "    <tr>\n",
       "      <th>163556</th>\n",
       "      <td>5981</td>\n",
       "      <td>2007-01-12 00:00:00</td>\n",
       "      <td>영등포점</td>\n",
       "      <td>50105</td>\n",
       "      <td>상품군미지정</td>\n",
       "      <td>기타</td>\n",
       "      <td>9500</td>\n",
       "    </tr>\n",
       "    <tr>\n",
       "      <th>163557</th>\n",
       "      <td>5981</td>\n",
       "      <td>2007-03-16 00:00:00</td>\n",
       "      <td>영등포점</td>\n",
       "      <td>77198</td>\n",
       "      <td>수입식품</td>\n",
       "      <td>차/커피</td>\n",
       "      <td>174800</td>\n",
       "    </tr>\n",
       "  </tbody>\n",
       "</table>\n",
       "<p>395562 rows × 7 columns</p>\n",
       "</div>"
      ],
      "text/plain": [
       "        cust_id            tran_date store_nm  goods_id gds_grp_nm  \\\n",
       "0             0  2007-01-19 00:00:00      강남점    127105     기초 화장품   \n",
       "1             0  2007-03-30 00:00:00      강남점    342220       니  트   \n",
       "2             0  2007-03-30 00:00:00      강남점    127105     기초 화장품   \n",
       "3             0  2007-03-30 00:00:00      강남점    342205       니  트   \n",
       "4             0  2007-03-30 00:00:00      강남점    342220     상품군미지정   \n",
       "...         ...                  ...      ...       ...        ...   \n",
       "163553     5981  2007-01-12 00:00:00     영등포점     50105     일반가공식품   \n",
       "163554     5981  2007-01-12 00:00:00     영등포점     50109     상품군미지정   \n",
       "163555     5981  2007-01-12 00:00:00     영등포점     50105          햄   \n",
       "163556     5981  2007-01-12 00:00:00     영등포점     50105     상품군미지정   \n",
       "163557     5981  2007-03-16 00:00:00     영등포점     77198       수입식품   \n",
       "\n",
       "       gds_grp_mclas_nm   amount  \n",
       "0                   화장품   850000  \n",
       "1                  시티웨어   480000  \n",
       "2                   화장품  3000000  \n",
       "3                  시티웨어   840000  \n",
       "4                    기타    20000  \n",
       "...                 ...      ...  \n",
       "163553             가공식품   209000  \n",
       "163554               기타     7150  \n",
       "163555             축산가공     9500  \n",
       "163556               기타     9500  \n",
       "163557             차/커피   174800  \n",
       "\n",
       "[395562 rows x 7 columns]"
      ]
     },
     "execution_count": 221,
     "metadata": {},
     "output_type": "execute_result"
    }
   ],
   "source": [
    "tr = pd.concat([train, test])\n",
    "tr"
   ]
  },
  {
   "cell_type": "code",
   "execution_count": 222,
   "metadata": {},
   "outputs": [
    {
     "name": "stdout",
     "output_type": "stream",
     "text": [
      "(5982, 331)\n"
     ]
    },
    {
     "data": {
      "text/html": [
       "<div>\n",
       "<style scoped>\n",
       "    .dataframe tbody tr th:only-of-type {\n",
       "        vertical-align: middle;\n",
       "    }\n",
       "\n",
       "    .dataframe tbody tr th {\n",
       "        vertical-align: top;\n",
       "    }\n",
       "\n",
       "    .dataframe thead th {\n",
       "        text-align: right;\n",
       "    }\n",
       "</style>\n",
       "<table border=\"1\" class=\"dataframe\">\n",
       "  <thead>\n",
       "    <tr style=\"text-align: right;\">\n",
       "      <th>gds_grp_nm</th>\n",
       "      <th>14K</th>\n",
       "      <th>4대 B/D</th>\n",
       "      <th>IT 게임기,S/W</th>\n",
       "      <th>KKD</th>\n",
       "      <th>L.B</th>\n",
       "      <th>L/C 아동복</th>\n",
       "      <th>L/C골프의류</th>\n",
       "      <th>L/C정장</th>\n",
       "      <th>MP3 外</th>\n",
       "      <th>N.B</th>\n",
       "      <th>...</th>\n",
       "      <th>한실침구</th>\n",
       "      <th>한차</th>\n",
       "      <th>햄</th>\n",
       "      <th>햄세트</th>\n",
       "      <th>향수</th>\n",
       "      <th>헤어ACC</th>\n",
       "      <th>홈웨어</th>\n",
       "      <th>화장품</th>\n",
       "      <th>회</th>\n",
       "      <th>휴지류</th>\n",
       "    </tr>\n",
       "    <tr>\n",
       "      <th>cust_id</th>\n",
       "      <th></th>\n",
       "      <th></th>\n",
       "      <th></th>\n",
       "      <th></th>\n",
       "      <th></th>\n",
       "      <th></th>\n",
       "      <th></th>\n",
       "      <th></th>\n",
       "      <th></th>\n",
       "      <th></th>\n",
       "      <th></th>\n",
       "      <th></th>\n",
       "      <th></th>\n",
       "      <th></th>\n",
       "      <th></th>\n",
       "      <th></th>\n",
       "      <th></th>\n",
       "      <th></th>\n",
       "      <th></th>\n",
       "      <th></th>\n",
       "      <th></th>\n",
       "    </tr>\n",
       "  </thead>\n",
       "  <tbody>\n",
       "    <tr>\n",
       "      <th>0</th>\n",
       "      <td>0</td>\n",
       "      <td>0</td>\n",
       "      <td>0</td>\n",
       "      <td>0</td>\n",
       "      <td>0</td>\n",
       "      <td>0</td>\n",
       "      <td>0</td>\n",
       "      <td>0</td>\n",
       "      <td>0</td>\n",
       "      <td>0</td>\n",
       "      <td>...</td>\n",
       "      <td>0</td>\n",
       "      <td>0</td>\n",
       "      <td>0</td>\n",
       "      <td>0</td>\n",
       "      <td>0</td>\n",
       "      <td>0</td>\n",
       "      <td>0</td>\n",
       "      <td>0</td>\n",
       "      <td>0</td>\n",
       "      <td>0</td>\n",
       "    </tr>\n",
       "    <tr>\n",
       "      <th>1</th>\n",
       "      <td>0</td>\n",
       "      <td>0</td>\n",
       "      <td>0</td>\n",
       "      <td>0</td>\n",
       "      <td>0</td>\n",
       "      <td>0</td>\n",
       "      <td>0</td>\n",
       "      <td>0</td>\n",
       "      <td>0</td>\n",
       "      <td>0</td>\n",
       "      <td>...</td>\n",
       "      <td>0</td>\n",
       "      <td>0</td>\n",
       "      <td>0</td>\n",
       "      <td>0</td>\n",
       "      <td>0</td>\n",
       "      <td>0</td>\n",
       "      <td>0</td>\n",
       "      <td>0</td>\n",
       "      <td>0</td>\n",
       "      <td>0</td>\n",
       "    </tr>\n",
       "    <tr>\n",
       "      <th>2</th>\n",
       "      <td>0</td>\n",
       "      <td>0</td>\n",
       "      <td>0</td>\n",
       "      <td>0</td>\n",
       "      <td>0</td>\n",
       "      <td>0</td>\n",
       "      <td>0</td>\n",
       "      <td>0</td>\n",
       "      <td>0</td>\n",
       "      <td>0</td>\n",
       "      <td>...</td>\n",
       "      <td>0</td>\n",
       "      <td>0</td>\n",
       "      <td>0</td>\n",
       "      <td>0</td>\n",
       "      <td>0</td>\n",
       "      <td>0</td>\n",
       "      <td>0</td>\n",
       "      <td>0</td>\n",
       "      <td>0</td>\n",
       "      <td>0</td>\n",
       "    </tr>\n",
       "    <tr>\n",
       "      <th>3</th>\n",
       "      <td>0</td>\n",
       "      <td>0</td>\n",
       "      <td>0</td>\n",
       "      <td>0</td>\n",
       "      <td>0</td>\n",
       "      <td>1</td>\n",
       "      <td>0</td>\n",
       "      <td>0</td>\n",
       "      <td>0</td>\n",
       "      <td>0</td>\n",
       "      <td>...</td>\n",
       "      <td>1</td>\n",
       "      <td>0</td>\n",
       "      <td>0</td>\n",
       "      <td>0</td>\n",
       "      <td>0</td>\n",
       "      <td>0</td>\n",
       "      <td>0</td>\n",
       "      <td>0</td>\n",
       "      <td>1</td>\n",
       "      <td>0</td>\n",
       "    </tr>\n",
       "    <tr>\n",
       "      <th>4</th>\n",
       "      <td>0</td>\n",
       "      <td>0</td>\n",
       "      <td>0</td>\n",
       "      <td>0</td>\n",
       "      <td>0</td>\n",
       "      <td>0</td>\n",
       "      <td>0</td>\n",
       "      <td>0</td>\n",
       "      <td>0</td>\n",
       "      <td>0</td>\n",
       "      <td>...</td>\n",
       "      <td>0</td>\n",
       "      <td>0</td>\n",
       "      <td>0</td>\n",
       "      <td>0</td>\n",
       "      <td>0</td>\n",
       "      <td>0</td>\n",
       "      <td>0</td>\n",
       "      <td>0</td>\n",
       "      <td>0</td>\n",
       "      <td>0</td>\n",
       "    </tr>\n",
       "    <tr>\n",
       "      <th>...</th>\n",
       "      <td>...</td>\n",
       "      <td>...</td>\n",
       "      <td>...</td>\n",
       "      <td>...</td>\n",
       "      <td>...</td>\n",
       "      <td>...</td>\n",
       "      <td>...</td>\n",
       "      <td>...</td>\n",
       "      <td>...</td>\n",
       "      <td>...</td>\n",
       "      <td>...</td>\n",
       "      <td>...</td>\n",
       "      <td>...</td>\n",
       "      <td>...</td>\n",
       "      <td>...</td>\n",
       "      <td>...</td>\n",
       "      <td>...</td>\n",
       "      <td>...</td>\n",
       "      <td>...</td>\n",
       "      <td>...</td>\n",
       "      <td>...</td>\n",
       "    </tr>\n",
       "    <tr>\n",
       "      <th>5977</th>\n",
       "      <td>0</td>\n",
       "      <td>1</td>\n",
       "      <td>0</td>\n",
       "      <td>0</td>\n",
       "      <td>0</td>\n",
       "      <td>0</td>\n",
       "      <td>1</td>\n",
       "      <td>0</td>\n",
       "      <td>0</td>\n",
       "      <td>0</td>\n",
       "      <td>...</td>\n",
       "      <td>0</td>\n",
       "      <td>0</td>\n",
       "      <td>0</td>\n",
       "      <td>0</td>\n",
       "      <td>0</td>\n",
       "      <td>0</td>\n",
       "      <td>0</td>\n",
       "      <td>0</td>\n",
       "      <td>0</td>\n",
       "      <td>0</td>\n",
       "    </tr>\n",
       "    <tr>\n",
       "      <th>5978</th>\n",
       "      <td>0</td>\n",
       "      <td>0</td>\n",
       "      <td>0</td>\n",
       "      <td>0</td>\n",
       "      <td>0</td>\n",
       "      <td>0</td>\n",
       "      <td>0</td>\n",
       "      <td>0</td>\n",
       "      <td>0</td>\n",
       "      <td>0</td>\n",
       "      <td>...</td>\n",
       "      <td>0</td>\n",
       "      <td>0</td>\n",
       "      <td>0</td>\n",
       "      <td>0</td>\n",
       "      <td>0</td>\n",
       "      <td>0</td>\n",
       "      <td>0</td>\n",
       "      <td>0</td>\n",
       "      <td>0</td>\n",
       "      <td>0</td>\n",
       "    </tr>\n",
       "    <tr>\n",
       "      <th>5979</th>\n",
       "      <td>0</td>\n",
       "      <td>0</td>\n",
       "      <td>0</td>\n",
       "      <td>0</td>\n",
       "      <td>0</td>\n",
       "      <td>0</td>\n",
       "      <td>1</td>\n",
       "      <td>0</td>\n",
       "      <td>0</td>\n",
       "      <td>1</td>\n",
       "      <td>...</td>\n",
       "      <td>0</td>\n",
       "      <td>0</td>\n",
       "      <td>0</td>\n",
       "      <td>0</td>\n",
       "      <td>0</td>\n",
       "      <td>0</td>\n",
       "      <td>0</td>\n",
       "      <td>0</td>\n",
       "      <td>0</td>\n",
       "      <td>0</td>\n",
       "    </tr>\n",
       "    <tr>\n",
       "      <th>5980</th>\n",
       "      <td>0</td>\n",
       "      <td>0</td>\n",
       "      <td>0</td>\n",
       "      <td>0</td>\n",
       "      <td>0</td>\n",
       "      <td>0</td>\n",
       "      <td>0</td>\n",
       "      <td>0</td>\n",
       "      <td>0</td>\n",
       "      <td>1</td>\n",
       "      <td>...</td>\n",
       "      <td>0</td>\n",
       "      <td>0</td>\n",
       "      <td>0</td>\n",
       "      <td>0</td>\n",
       "      <td>0</td>\n",
       "      <td>0</td>\n",
       "      <td>0</td>\n",
       "      <td>0</td>\n",
       "      <td>0</td>\n",
       "      <td>0</td>\n",
       "    </tr>\n",
       "    <tr>\n",
       "      <th>5981</th>\n",
       "      <td>0</td>\n",
       "      <td>0</td>\n",
       "      <td>0</td>\n",
       "      <td>0</td>\n",
       "      <td>0</td>\n",
       "      <td>0</td>\n",
       "      <td>0</td>\n",
       "      <td>0</td>\n",
       "      <td>0</td>\n",
       "      <td>0</td>\n",
       "      <td>...</td>\n",
       "      <td>0</td>\n",
       "      <td>0</td>\n",
       "      <td>1</td>\n",
       "      <td>0</td>\n",
       "      <td>0</td>\n",
       "      <td>0</td>\n",
       "      <td>0</td>\n",
       "      <td>0</td>\n",
       "      <td>0</td>\n",
       "      <td>0</td>\n",
       "    </tr>\n",
       "  </tbody>\n",
       "</table>\n",
       "<p>5982 rows × 331 columns</p>\n",
       "</div>"
      ],
      "text/plain": [
       "gds_grp_nm  14K  4대 B/D  IT 게임기,S/W  KKD  L.B  L/C 아동복  L/C골프의류  L/C정장  MP3 外  \\\n",
       "cust_id                                                                         \n",
       "0             0       0           0    0    0        0        0      0      0   \n",
       "1             0       0           0    0    0        0        0      0      0   \n",
       "2             0       0           0    0    0        0        0      0      0   \n",
       "3             0       0           0    0    0        1        0      0      0   \n",
       "4             0       0           0    0    0        0        0      0      0   \n",
       "...         ...     ...         ...  ...  ...      ...      ...    ...    ...   \n",
       "5977          0       1           0    0    0        0        1      0      0   \n",
       "5978          0       0           0    0    0        0        0      0      0   \n",
       "5979          0       0           0    0    0        0        1      0      0   \n",
       "5980          0       0           0    0    0        0        0      0      0   \n",
       "5981          0       0           0    0    0        0        0      0      0   \n",
       "\n",
       "gds_grp_nm  N.B  ...  한실침구  한차  햄  햄세트  향수  헤어ACC  홈웨어  화장품  회  휴지류  \n",
       "cust_id          ...                                                 \n",
       "0             0  ...     0   0  0    0   0      0    0    0  0    0  \n",
       "1             0  ...     0   0  0    0   0      0    0    0  0    0  \n",
       "2             0  ...     0   0  0    0   0      0    0    0  0    0  \n",
       "3             0  ...     1   0  0    0   0      0    0    0  1    0  \n",
       "4             0  ...     0   0  0    0   0      0    0    0  0    0  \n",
       "...         ...  ...   ...  .. ..  ...  ..    ...  ...  ... ..  ...  \n",
       "5977          0  ...     0   0  0    0   0      0    0    0  0    0  \n",
       "5978          0  ...     0   0  0    0   0      0    0    0  0    0  \n",
       "5979          1  ...     0   0  0    0   0      0    0    0  0    0  \n",
       "5980          1  ...     0   0  0    0   0      0    0    0  0    0  \n",
       "5981          0  ...     0   0  1    0   0      0    0    0  0    0  \n",
       "\n",
       "[5982 rows x 331 columns]"
      ]
     },
     "execution_count": 222,
     "metadata": {},
     "output_type": "execute_result"
    }
   ],
   "source": [
    "ratings_matrix = pd.pivot_table(tr, index='cust_id', columns='gds_grp_nm', values='tran_date', \n",
    "                                aggfunc=lambda x: 1 if len(x) >= 1 else 0, fill_value=0)\n",
    "\n",
    "print(ratings_matrix.shape)\n",
    "ratings_matrix"
   ]
  },
  {
   "cell_type": "code",
   "execution_count": 223,
   "metadata": {},
   "outputs": [
    {
     "name": "stdout",
     "output_type": "stream",
     "text": [
      "(5982, 5982)\n"
     ]
    },
    {
     "data": {
      "text/html": [
       "<div>\n",
       "<style scoped>\n",
       "    .dataframe tbody tr th:only-of-type {\n",
       "        vertical-align: middle;\n",
       "    }\n",
       "\n",
       "    .dataframe tbody tr th {\n",
       "        vertical-align: top;\n",
       "    }\n",
       "\n",
       "    .dataframe thead th {\n",
       "        text-align: right;\n",
       "    }\n",
       "</style>\n",
       "<table border=\"1\" class=\"dataframe\">\n",
       "  <thead>\n",
       "    <tr style=\"text-align: right;\">\n",
       "      <th>cust_id</th>\n",
       "      <th>0</th>\n",
       "      <th>1</th>\n",
       "      <th>2</th>\n",
       "      <th>3</th>\n",
       "      <th>4</th>\n",
       "      <th>5</th>\n",
       "      <th>6</th>\n",
       "      <th>7</th>\n",
       "      <th>8</th>\n",
       "      <th>9</th>\n",
       "      <th>...</th>\n",
       "      <th>5972</th>\n",
       "      <th>5973</th>\n",
       "      <th>5974</th>\n",
       "      <th>5975</th>\n",
       "      <th>5976</th>\n",
       "      <th>5977</th>\n",
       "      <th>5978</th>\n",
       "      <th>5979</th>\n",
       "      <th>5980</th>\n",
       "      <th>5981</th>\n",
       "    </tr>\n",
       "    <tr>\n",
       "      <th>cust_id</th>\n",
       "      <th></th>\n",
       "      <th></th>\n",
       "      <th></th>\n",
       "      <th></th>\n",
       "      <th></th>\n",
       "      <th></th>\n",
       "      <th></th>\n",
       "      <th></th>\n",
       "      <th></th>\n",
       "      <th></th>\n",
       "      <th></th>\n",
       "      <th></th>\n",
       "      <th></th>\n",
       "      <th></th>\n",
       "      <th></th>\n",
       "      <th></th>\n",
       "      <th></th>\n",
       "      <th></th>\n",
       "      <th></th>\n",
       "      <th></th>\n",
       "      <th></th>\n",
       "    </tr>\n",
       "  </thead>\n",
       "  <tbody>\n",
       "    <tr>\n",
       "      <th>0</th>\n",
       "      <td>2.000000</td>\n",
       "      <td>0.000000</td>\n",
       "      <td>0.133631</td>\n",
       "      <td>0.295804</td>\n",
       "      <td>0.218218</td>\n",
       "      <td>0.188982</td>\n",
       "      <td>0.200446</td>\n",
       "      <td>0.250313</td>\n",
       "      <td>0.281718</td>\n",
       "      <td>0.251976</td>\n",
       "      <td>...</td>\n",
       "      <td>0.351382</td>\n",
       "      <td>0.133631</td>\n",
       "      <td>0.0</td>\n",
       "      <td>0.267261</td>\n",
       "      <td>0.230283</td>\n",
       "      <td>0.214286</td>\n",
       "      <td>0.188982</td>\n",
       "      <td>0.214286</td>\n",
       "      <td>0.285714</td>\n",
       "      <td>0.133631</td>\n",
       "    </tr>\n",
       "    <tr>\n",
       "      <th>1</th>\n",
       "      <td>0.000000</td>\n",
       "      <td>2.000000</td>\n",
       "      <td>0.000000</td>\n",
       "      <td>0.000000</td>\n",
       "      <td>0.000000</td>\n",
       "      <td>0.000000</td>\n",
       "      <td>0.000000</td>\n",
       "      <td>0.187317</td>\n",
       "      <td>0.000000</td>\n",
       "      <td>0.000000</td>\n",
       "      <td>...</td>\n",
       "      <td>0.000000</td>\n",
       "      <td>0.000000</td>\n",
       "      <td>0.0</td>\n",
       "      <td>0.000000</td>\n",
       "      <td>0.123091</td>\n",
       "      <td>0.000000</td>\n",
       "      <td>0.000000</td>\n",
       "      <td>0.267261</td>\n",
       "      <td>0.000000</td>\n",
       "      <td>0.000000</td>\n",
       "    </tr>\n",
       "    <tr>\n",
       "      <th>2</th>\n",
       "      <td>0.133631</td>\n",
       "      <td>0.000000</td>\n",
       "      <td>2.000000</td>\n",
       "      <td>0.158114</td>\n",
       "      <td>0.408248</td>\n",
       "      <td>0.000000</td>\n",
       "      <td>0.250000</td>\n",
       "      <td>0.093659</td>\n",
       "      <td>0.210819</td>\n",
       "      <td>0.235702</td>\n",
       "      <td>...</td>\n",
       "      <td>0.119523</td>\n",
       "      <td>0.250000</td>\n",
       "      <td>0.0</td>\n",
       "      <td>0.000000</td>\n",
       "      <td>0.246183</td>\n",
       "      <td>0.267261</td>\n",
       "      <td>0.000000</td>\n",
       "      <td>0.267261</td>\n",
       "      <td>0.000000</td>\n",
       "      <td>0.250000</td>\n",
       "    </tr>\n",
       "    <tr>\n",
       "      <th>3</th>\n",
       "      <td>0.295804</td>\n",
       "      <td>0.000000</td>\n",
       "      <td>0.158114</td>\n",
       "      <td>2.000000</td>\n",
       "      <td>0.129099</td>\n",
       "      <td>0.000000</td>\n",
       "      <td>0.158114</td>\n",
       "      <td>0.177705</td>\n",
       "      <td>0.300000</td>\n",
       "      <td>0.447214</td>\n",
       "      <td>...</td>\n",
       "      <td>0.340168</td>\n",
       "      <td>0.237171</td>\n",
       "      <td>0.0</td>\n",
       "      <td>0.000000</td>\n",
       "      <td>0.077850</td>\n",
       "      <td>0.084515</td>\n",
       "      <td>0.000000</td>\n",
       "      <td>0.169031</td>\n",
       "      <td>0.253546</td>\n",
       "      <td>0.237171</td>\n",
       "    </tr>\n",
       "    <tr>\n",
       "      <th>4</th>\n",
       "      <td>0.218218</td>\n",
       "      <td>0.000000</td>\n",
       "      <td>0.408248</td>\n",
       "      <td>0.129099</td>\n",
       "      <td>2.000000</td>\n",
       "      <td>0.000000</td>\n",
       "      <td>0.408248</td>\n",
       "      <td>0.152944</td>\n",
       "      <td>0.172133</td>\n",
       "      <td>0.192450</td>\n",
       "      <td>...</td>\n",
       "      <td>0.195180</td>\n",
       "      <td>0.408248</td>\n",
       "      <td>0.0</td>\n",
       "      <td>0.000000</td>\n",
       "      <td>0.201008</td>\n",
       "      <td>0.218218</td>\n",
       "      <td>0.000000</td>\n",
       "      <td>0.218218</td>\n",
       "      <td>0.000000</td>\n",
       "      <td>0.204124</td>\n",
       "    </tr>\n",
       "    <tr>\n",
       "      <th>...</th>\n",
       "      <td>...</td>\n",
       "      <td>...</td>\n",
       "      <td>...</td>\n",
       "      <td>...</td>\n",
       "      <td>...</td>\n",
       "      <td>...</td>\n",
       "      <td>...</td>\n",
       "      <td>...</td>\n",
       "      <td>...</td>\n",
       "      <td>...</td>\n",
       "      <td>...</td>\n",
       "      <td>...</td>\n",
       "      <td>...</td>\n",
       "      <td>...</td>\n",
       "      <td>...</td>\n",
       "      <td>...</td>\n",
       "      <td>...</td>\n",
       "      <td>...</td>\n",
       "      <td>...</td>\n",
       "      <td>...</td>\n",
       "      <td>...</td>\n",
       "    </tr>\n",
       "    <tr>\n",
       "      <th>5977</th>\n",
       "      <td>0.214286</td>\n",
       "      <td>0.000000</td>\n",
       "      <td>0.267261</td>\n",
       "      <td>0.084515</td>\n",
       "      <td>0.218218</td>\n",
       "      <td>0.000000</td>\n",
       "      <td>0.267261</td>\n",
       "      <td>0.100125</td>\n",
       "      <td>0.338062</td>\n",
       "      <td>0.125988</td>\n",
       "      <td>...</td>\n",
       "      <td>0.191663</td>\n",
       "      <td>0.133631</td>\n",
       "      <td>0.0</td>\n",
       "      <td>0.000000</td>\n",
       "      <td>0.263181</td>\n",
       "      <td>2.000000</td>\n",
       "      <td>0.000000</td>\n",
       "      <td>0.285714</td>\n",
       "      <td>0.000000</td>\n",
       "      <td>0.133631</td>\n",
       "    </tr>\n",
       "    <tr>\n",
       "      <th>5978</th>\n",
       "      <td>0.188982</td>\n",
       "      <td>0.000000</td>\n",
       "      <td>0.000000</td>\n",
       "      <td>0.000000</td>\n",
       "      <td>0.000000</td>\n",
       "      <td>0.000000</td>\n",
       "      <td>0.000000</td>\n",
       "      <td>0.000000</td>\n",
       "      <td>0.149071</td>\n",
       "      <td>0.000000</td>\n",
       "      <td>...</td>\n",
       "      <td>0.000000</td>\n",
       "      <td>0.000000</td>\n",
       "      <td>0.0</td>\n",
       "      <td>0.000000</td>\n",
       "      <td>0.000000</td>\n",
       "      <td>0.000000</td>\n",
       "      <td>2.000000</td>\n",
       "      <td>0.188982</td>\n",
       "      <td>0.000000</td>\n",
       "      <td>0.000000</td>\n",
       "    </tr>\n",
       "    <tr>\n",
       "      <th>5979</th>\n",
       "      <td>0.214286</td>\n",
       "      <td>0.267261</td>\n",
       "      <td>0.267261</td>\n",
       "      <td>0.169031</td>\n",
       "      <td>0.218218</td>\n",
       "      <td>0.000000</td>\n",
       "      <td>0.267261</td>\n",
       "      <td>0.250313</td>\n",
       "      <td>0.394405</td>\n",
       "      <td>0.188982</td>\n",
       "      <td>...</td>\n",
       "      <td>0.223607</td>\n",
       "      <td>0.066815</td>\n",
       "      <td>0.0</td>\n",
       "      <td>0.133631</td>\n",
       "      <td>0.296078</td>\n",
       "      <td>0.285714</td>\n",
       "      <td>0.188982</td>\n",
       "      <td>2.000000</td>\n",
       "      <td>0.142857</td>\n",
       "      <td>0.133631</td>\n",
       "    </tr>\n",
       "    <tr>\n",
       "      <th>5980</th>\n",
       "      <td>0.285714</td>\n",
       "      <td>0.000000</td>\n",
       "      <td>0.000000</td>\n",
       "      <td>0.253546</td>\n",
       "      <td>0.000000</td>\n",
       "      <td>0.000000</td>\n",
       "      <td>0.133631</td>\n",
       "      <td>0.100125</td>\n",
       "      <td>0.056344</td>\n",
       "      <td>0.000000</td>\n",
       "      <td>...</td>\n",
       "      <td>0.127775</td>\n",
       "      <td>0.000000</td>\n",
       "      <td>0.0</td>\n",
       "      <td>0.000000</td>\n",
       "      <td>0.065795</td>\n",
       "      <td>0.000000</td>\n",
       "      <td>0.000000</td>\n",
       "      <td>0.142857</td>\n",
       "      <td>2.000000</td>\n",
       "      <td>0.000000</td>\n",
       "    </tr>\n",
       "    <tr>\n",
       "      <th>5981</th>\n",
       "      <td>0.133631</td>\n",
       "      <td>0.000000</td>\n",
       "      <td>0.250000</td>\n",
       "      <td>0.237171</td>\n",
       "      <td>0.204124</td>\n",
       "      <td>0.000000</td>\n",
       "      <td>0.125000</td>\n",
       "      <td>0.234146</td>\n",
       "      <td>0.105409</td>\n",
       "      <td>0.353553</td>\n",
       "      <td>...</td>\n",
       "      <td>0.358569</td>\n",
       "      <td>0.375000</td>\n",
       "      <td>0.0</td>\n",
       "      <td>0.000000</td>\n",
       "      <td>0.061546</td>\n",
       "      <td>0.133631</td>\n",
       "      <td>0.000000</td>\n",
       "      <td>0.133631</td>\n",
       "      <td>0.000000</td>\n",
       "      <td>2.000000</td>\n",
       "    </tr>\n",
       "  </tbody>\n",
       "</table>\n",
       "<p>5982 rows × 5982 columns</p>\n",
       "</div>"
      ],
      "text/plain": [
       "cust_id      0         1         2         3         4         5         6     \\\n",
       "cust_id                                                                         \n",
       "0        2.000000  0.000000  0.133631  0.295804  0.218218  0.188982  0.200446   \n",
       "1        0.000000  2.000000  0.000000  0.000000  0.000000  0.000000  0.000000   \n",
       "2        0.133631  0.000000  2.000000  0.158114  0.408248  0.000000  0.250000   \n",
       "3        0.295804  0.000000  0.158114  2.000000  0.129099  0.000000  0.158114   \n",
       "4        0.218218  0.000000  0.408248  0.129099  2.000000  0.000000  0.408248   \n",
       "...           ...       ...       ...       ...       ...       ...       ...   \n",
       "5977     0.214286  0.000000  0.267261  0.084515  0.218218  0.000000  0.267261   \n",
       "5978     0.188982  0.000000  0.000000  0.000000  0.000000  0.000000  0.000000   \n",
       "5979     0.214286  0.267261  0.267261  0.169031  0.218218  0.000000  0.267261   \n",
       "5980     0.285714  0.000000  0.000000  0.253546  0.000000  0.000000  0.133631   \n",
       "5981     0.133631  0.000000  0.250000  0.237171  0.204124  0.000000  0.125000   \n",
       "\n",
       "cust_id      7         8         9     ...      5972      5973  5974  \\\n",
       "cust_id                                ...                             \n",
       "0        0.250313  0.281718  0.251976  ...  0.351382  0.133631   0.0   \n",
       "1        0.187317  0.000000  0.000000  ...  0.000000  0.000000   0.0   \n",
       "2        0.093659  0.210819  0.235702  ...  0.119523  0.250000   0.0   \n",
       "3        0.177705  0.300000  0.447214  ...  0.340168  0.237171   0.0   \n",
       "4        0.152944  0.172133  0.192450  ...  0.195180  0.408248   0.0   \n",
       "...           ...       ...       ...  ...       ...       ...   ...   \n",
       "5977     0.100125  0.338062  0.125988  ...  0.191663  0.133631   0.0   \n",
       "5978     0.000000  0.149071  0.000000  ...  0.000000  0.000000   0.0   \n",
       "5979     0.250313  0.394405  0.188982  ...  0.223607  0.066815   0.0   \n",
       "5980     0.100125  0.056344  0.000000  ...  0.127775  0.000000   0.0   \n",
       "5981     0.234146  0.105409  0.353553  ...  0.358569  0.375000   0.0   \n",
       "\n",
       "cust_id      5975      5976      5977      5978      5979      5980      5981  \n",
       "cust_id                                                                        \n",
       "0        0.267261  0.230283  0.214286  0.188982  0.214286  0.285714  0.133631  \n",
       "1        0.000000  0.123091  0.000000  0.000000  0.267261  0.000000  0.000000  \n",
       "2        0.000000  0.246183  0.267261  0.000000  0.267261  0.000000  0.250000  \n",
       "3        0.000000  0.077850  0.084515  0.000000  0.169031  0.253546  0.237171  \n",
       "4        0.000000  0.201008  0.218218  0.000000  0.218218  0.000000  0.204124  \n",
       "...           ...       ...       ...       ...       ...       ...       ...  \n",
       "5977     0.000000  0.263181  2.000000  0.000000  0.285714  0.000000  0.133631  \n",
       "5978     0.000000  0.000000  0.000000  2.000000  0.188982  0.000000  0.000000  \n",
       "5979     0.133631  0.296078  0.285714  0.188982  2.000000  0.142857  0.133631  \n",
       "5980     0.000000  0.065795  0.000000  0.000000  0.142857  2.000000  0.000000  \n",
       "5981     0.000000  0.061546  0.133631  0.000000  0.133631  0.000000  2.000000  \n",
       "\n",
       "[5982 rows x 5982 columns]"
      ]
     },
     "execution_count": 223,
     "metadata": {},
     "output_type": "execute_result"
    }
   ],
   "source": [
    "from sklearn.metrics.pairwise import cosine_similarity\n",
    "\n",
    "K = 50\n",
    "user_sim = cosine_similarity(ratings_matrix, ratings_matrix)\n",
    "\n",
    "user_sim = pd.DataFrame(user_sim, ratings_matrix.index, ratings_matrix.index)\n",
    "\n",
    "np.fill_diagonal(user_sim.values, 2)\n",
    "\n",
    "print(user_sim.shape)\n",
    "user_sim"
   ]
  },
  {
   "cell_type": "code",
   "execution_count": 224,
   "metadata": {},
   "outputs": [
    {
     "data": {
      "text/html": [
       "<div>\n",
       "<style scoped>\n",
       "    .dataframe tbody tr th:only-of-type {\n",
       "        vertical-align: middle;\n",
       "    }\n",
       "\n",
       "    .dataframe tbody tr th {\n",
       "        vertical-align: top;\n",
       "    }\n",
       "\n",
       "    .dataframe thead th {\n",
       "        text-align: right;\n",
       "    }\n",
       "</style>\n",
       "<table border=\"1\" class=\"dataframe\">\n",
       "  <thead>\n",
       "    <tr style=\"text-align: right;\">\n",
       "      <th></th>\n",
       "      <th>0</th>\n",
       "      <th>1</th>\n",
       "      <th>2</th>\n",
       "      <th>3</th>\n",
       "      <th>4</th>\n",
       "      <th>5</th>\n",
       "      <th>6</th>\n",
       "      <th>7</th>\n",
       "      <th>8</th>\n",
       "      <th>9</th>\n",
       "      <th>...</th>\n",
       "      <th>41</th>\n",
       "      <th>42</th>\n",
       "      <th>43</th>\n",
       "      <th>44</th>\n",
       "      <th>45</th>\n",
       "      <th>46</th>\n",
       "      <th>47</th>\n",
       "      <th>48</th>\n",
       "      <th>49</th>\n",
       "      <th>50</th>\n",
       "    </tr>\n",
       "    <tr>\n",
       "      <th>cust_id</th>\n",
       "      <th></th>\n",
       "      <th></th>\n",
       "      <th></th>\n",
       "      <th></th>\n",
       "      <th></th>\n",
       "      <th></th>\n",
       "      <th></th>\n",
       "      <th></th>\n",
       "      <th></th>\n",
       "      <th></th>\n",
       "      <th></th>\n",
       "      <th></th>\n",
       "      <th></th>\n",
       "      <th></th>\n",
       "      <th></th>\n",
       "      <th></th>\n",
       "      <th></th>\n",
       "      <th></th>\n",
       "      <th></th>\n",
       "      <th></th>\n",
       "      <th></th>\n",
       "    </tr>\n",
       "  </thead>\n",
       "  <tbody>\n",
       "    <tr>\n",
       "      <th>0</th>\n",
       "      <td>0</td>\n",
       "      <td>1627</td>\n",
       "      <td>5145</td>\n",
       "      <td>5202</td>\n",
       "      <td>3734</td>\n",
       "      <td>5626</td>\n",
       "      <td>2996</td>\n",
       "      <td>3070</td>\n",
       "      <td>194</td>\n",
       "      <td>2451</td>\n",
       "      <td>...</td>\n",
       "      <td>3051</td>\n",
       "      <td>223</td>\n",
       "      <td>1433</td>\n",
       "      <td>2706</td>\n",
       "      <td>2515</td>\n",
       "      <td>1129</td>\n",
       "      <td>4618</td>\n",
       "      <td>2861</td>\n",
       "      <td>2902</td>\n",
       "      <td>4417</td>\n",
       "    </tr>\n",
       "    <tr>\n",
       "      <th>1</th>\n",
       "      <td>1</td>\n",
       "      <td>3406</td>\n",
       "      <td>2659</td>\n",
       "      <td>1192</td>\n",
       "      <td>3548</td>\n",
       "      <td>2539</td>\n",
       "      <td>2031</td>\n",
       "      <td>813</td>\n",
       "      <td>1840</td>\n",
       "      <td>2340</td>\n",
       "      <td>...</td>\n",
       "      <td>1429</td>\n",
       "      <td>3767</td>\n",
       "      <td>3787</td>\n",
       "      <td>5366</td>\n",
       "      <td>3834</td>\n",
       "      <td>2412</td>\n",
       "      <td>4493</td>\n",
       "      <td>5536</td>\n",
       "      <td>3768</td>\n",
       "      <td>4907</td>\n",
       "    </tr>\n",
       "    <tr>\n",
       "      <th>2</th>\n",
       "      <td>2</td>\n",
       "      <td>2962</td>\n",
       "      <td>3695</td>\n",
       "      <td>5836</td>\n",
       "      <td>4121</td>\n",
       "      <td>2379</td>\n",
       "      <td>2461</td>\n",
       "      <td>4145</td>\n",
       "      <td>5424</td>\n",
       "      <td>5248</td>\n",
       "      <td>...</td>\n",
       "      <td>2399</td>\n",
       "      <td>4877</td>\n",
       "      <td>1860</td>\n",
       "      <td>394</td>\n",
       "      <td>5518</td>\n",
       "      <td>5420</td>\n",
       "      <td>4897</td>\n",
       "      <td>4893</td>\n",
       "      <td>1975</td>\n",
       "      <td>3167</td>\n",
       "    </tr>\n",
       "    <tr>\n",
       "      <th>3</th>\n",
       "      <td>3</td>\n",
       "      <td>2510</td>\n",
       "      <td>176</td>\n",
       "      <td>4262</td>\n",
       "      <td>1180</td>\n",
       "      <td>839</td>\n",
       "      <td>2820</td>\n",
       "      <td>1071</td>\n",
       "      <td>4430</td>\n",
       "      <td>4165</td>\n",
       "      <td>...</td>\n",
       "      <td>983</td>\n",
       "      <td>354</td>\n",
       "      <td>4321</td>\n",
       "      <td>2121</td>\n",
       "      <td>3963</td>\n",
       "      <td>2622</td>\n",
       "      <td>2713</td>\n",
       "      <td>115</td>\n",
       "      <td>2900</td>\n",
       "      <td>1780</td>\n",
       "    </tr>\n",
       "    <tr>\n",
       "      <th>4</th>\n",
       "      <td>4</td>\n",
       "      <td>724</td>\n",
       "      <td>624</td>\n",
       "      <td>4778</td>\n",
       "      <td>2385</td>\n",
       "      <td>3422</td>\n",
       "      <td>2664</td>\n",
       "      <td>4628</td>\n",
       "      <td>5097</td>\n",
       "      <td>2252</td>\n",
       "      <td>...</td>\n",
       "      <td>202</td>\n",
       "      <td>4402</td>\n",
       "      <td>4625</td>\n",
       "      <td>5164</td>\n",
       "      <td>1448</td>\n",
       "      <td>5189</td>\n",
       "      <td>3397</td>\n",
       "      <td>5160</td>\n",
       "      <td>482</td>\n",
       "      <td>2497</td>\n",
       "    </tr>\n",
       "    <tr>\n",
       "      <th>...</th>\n",
       "      <td>...</td>\n",
       "      <td>...</td>\n",
       "      <td>...</td>\n",
       "      <td>...</td>\n",
       "      <td>...</td>\n",
       "      <td>...</td>\n",
       "      <td>...</td>\n",
       "      <td>...</td>\n",
       "      <td>...</td>\n",
       "      <td>...</td>\n",
       "      <td>...</td>\n",
       "      <td>...</td>\n",
       "      <td>...</td>\n",
       "      <td>...</td>\n",
       "      <td>...</td>\n",
       "      <td>...</td>\n",
       "      <td>...</td>\n",
       "      <td>...</td>\n",
       "      <td>...</td>\n",
       "      <td>...</td>\n",
       "      <td>...</td>\n",
       "    </tr>\n",
       "    <tr>\n",
       "      <th>5977</th>\n",
       "      <td>5977</td>\n",
       "      <td>4813</td>\n",
       "      <td>1216</td>\n",
       "      <td>718</td>\n",
       "      <td>2512</td>\n",
       "      <td>2553</td>\n",
       "      <td>417</td>\n",
       "      <td>4545</td>\n",
       "      <td>3451</td>\n",
       "      <td>3495</td>\n",
       "      <td>...</td>\n",
       "      <td>3023</td>\n",
       "      <td>5140</td>\n",
       "      <td>182</td>\n",
       "      <td>2071</td>\n",
       "      <td>5287</td>\n",
       "      <td>2324</td>\n",
       "      <td>3075</td>\n",
       "      <td>4713</td>\n",
       "      <td>4342</td>\n",
       "      <td>4948</td>\n",
       "    </tr>\n",
       "    <tr>\n",
       "      <th>5978</th>\n",
       "      <td>5978</td>\n",
       "      <td>3129</td>\n",
       "      <td>3087</td>\n",
       "      <td>3011</td>\n",
       "      <td>768</td>\n",
       "      <td>4721</td>\n",
       "      <td>1470</td>\n",
       "      <td>2244</td>\n",
       "      <td>898</td>\n",
       "      <td>5848</td>\n",
       "      <td>...</td>\n",
       "      <td>4404</td>\n",
       "      <td>2994</td>\n",
       "      <td>3536</td>\n",
       "      <td>2572</td>\n",
       "      <td>5276</td>\n",
       "      <td>1651</td>\n",
       "      <td>4280</td>\n",
       "      <td>5036</td>\n",
       "      <td>1853</td>\n",
       "      <td>1538</td>\n",
       "    </tr>\n",
       "    <tr>\n",
       "      <th>5979</th>\n",
       "      <td>5979</td>\n",
       "      <td>5260</td>\n",
       "      <td>5963</td>\n",
       "      <td>1295</td>\n",
       "      <td>1946</td>\n",
       "      <td>4350</td>\n",
       "      <td>5075</td>\n",
       "      <td>2289</td>\n",
       "      <td>4072</td>\n",
       "      <td>4436</td>\n",
       "      <td>...</td>\n",
       "      <td>3428</td>\n",
       "      <td>4421</td>\n",
       "      <td>1953</td>\n",
       "      <td>3523</td>\n",
       "      <td>5268</td>\n",
       "      <td>1126</td>\n",
       "      <td>779</td>\n",
       "      <td>5901</td>\n",
       "      <td>1170</td>\n",
       "      <td>4735</td>\n",
       "    </tr>\n",
       "    <tr>\n",
       "      <th>5980</th>\n",
       "      <td>5980</td>\n",
       "      <td>2798</td>\n",
       "      <td>2081</td>\n",
       "      <td>1798</td>\n",
       "      <td>2571</td>\n",
       "      <td>2165</td>\n",
       "      <td>2160</td>\n",
       "      <td>1282</td>\n",
       "      <td>3616</td>\n",
       "      <td>262</td>\n",
       "      <td>...</td>\n",
       "      <td>1067</td>\n",
       "      <td>4489</td>\n",
       "      <td>4507</td>\n",
       "      <td>3016</td>\n",
       "      <td>2489</td>\n",
       "      <td>5583</td>\n",
       "      <td>5872</td>\n",
       "      <td>2996</td>\n",
       "      <td>3035</td>\n",
       "      <td>3700</td>\n",
       "    </tr>\n",
       "    <tr>\n",
       "      <th>5981</th>\n",
       "      <td>5981</td>\n",
       "      <td>1069</td>\n",
       "      <td>3128</td>\n",
       "      <td>738</td>\n",
       "      <td>31</td>\n",
       "      <td>1455</td>\n",
       "      <td>3189</td>\n",
       "      <td>29</td>\n",
       "      <td>2904</td>\n",
       "      <td>5573</td>\n",
       "      <td>...</td>\n",
       "      <td>3976</td>\n",
       "      <td>3769</td>\n",
       "      <td>4452</td>\n",
       "      <td>5318</td>\n",
       "      <td>4360</td>\n",
       "      <td>1174</td>\n",
       "      <td>4122</td>\n",
       "      <td>105</td>\n",
       "      <td>5566</td>\n",
       "      <td>4146</td>\n",
       "    </tr>\n",
       "  </tbody>\n",
       "</table>\n",
       "<p>5982 rows × 51 columns</p>\n",
       "</div>"
      ],
      "text/plain": [
       "           0     1     2     3     4     5     6     7     8     9   ...  \\\n",
       "cust_id                                                              ...   \n",
       "0           0  1627  5145  5202  3734  5626  2996  3070   194  2451  ...   \n",
       "1           1  3406  2659  1192  3548  2539  2031   813  1840  2340  ...   \n",
       "2           2  2962  3695  5836  4121  2379  2461  4145  5424  5248  ...   \n",
       "3           3  2510   176  4262  1180   839  2820  1071  4430  4165  ...   \n",
       "4           4   724   624  4778  2385  3422  2664  4628  5097  2252  ...   \n",
       "...       ...   ...   ...   ...   ...   ...   ...   ...   ...   ...  ...   \n",
       "5977     5977  4813  1216   718  2512  2553   417  4545  3451  3495  ...   \n",
       "5978     5978  3129  3087  3011   768  4721  1470  2244   898  5848  ...   \n",
       "5979     5979  5260  5963  1295  1946  4350  5075  2289  4072  4436  ...   \n",
       "5980     5980  2798  2081  1798  2571  2165  2160  1282  3616   262  ...   \n",
       "5981     5981  1069  3128   738    31  1455  3189    29  2904  5573  ...   \n",
       "\n",
       "           41    42    43    44    45    46    47    48    49    50  \n",
       "cust_id                                                              \n",
       "0        3051   223  1433  2706  2515  1129  4618  2861  2902  4417  \n",
       "1        1429  3767  3787  5366  3834  2412  4493  5536  3768  4907  \n",
       "2        2399  4877  1860   394  5518  5420  4897  4893  1975  3167  \n",
       "3         983   354  4321  2121  3963  2622  2713   115  2900  1780  \n",
       "4         202  4402  4625  5164  1448  5189  3397  5160   482  2497  \n",
       "...       ...   ...   ...   ...   ...   ...   ...   ...   ...   ...  \n",
       "5977     3023  5140   182  2071  5287  2324  3075  4713  4342  4948  \n",
       "5978     4404  2994  3536  2572  5276  1651  4280  5036  1853  1538  \n",
       "5979     3428  4421  1953  3523  5268  1126   779  5901  1170  4735  \n",
       "5980     1067  4489  4507  3016  2489  5583  5872  2996  3035  3700  \n",
       "5981     3976  3769  4452  5318  4360  1174  4122   105  5566  4146  \n",
       "\n",
       "[5982 rows x 51 columns]"
      ]
     },
     "execution_count": 224,
     "metadata": {},
     "output_type": "execute_result"
    }
   ],
   "source": [
    "knn = user_sim.apply(lambda x,k: x.sort_values(ascending=False).index[:k+1], args=(K,)).T\n",
    "knn"
   ]
  },
  {
   "cell_type": "code",
   "execution_count": 225,
   "metadata": {},
   "outputs": [
    {
     "data": {
      "text/plain": [
       "cust_id\n",
       "0       [기초 화장품, 니  트, 상품군미지정, 디자이너부틱, 비지니스군, 유제품, 건강식...\n",
       "1                                          [아웃도아, 트래디셔널Ⅰ]\n",
       "2                                         [시티캐주얼, 상품군미지정]\n",
       "3       [회, 한실침구, 생선, 일반가공식품, 상품군미지정, 멸치류, 유제품, 뷰티상품, ...\n",
       "4                                    [기초 화장품, 상품군미지정, 보석]\n",
       "                              ...                        \n",
       "5977    [상품군미지정, 니  트, L/C골프의류, 4대 B/D, N/B 아동복, 트래디셔널...\n",
       "5978                                            [스카프(특정)]\n",
       "5979    [우/양산(특정), 장갑(특정), 트래디셔널Ⅰ, 상품군미지정, 시티캐주얼, 수입도자...\n",
       "5980                  [우육, 토들러, 돈육, 캐릭터 여화, 수입육, 생선, N.B]\n",
       "5981     [포숑, 서양델리, 밥류, 일반가공식품, 패밀리레스토랑, 상품군미지정, 햄, 수입식품]\n",
       "Name: gds_grp_nm, Length: 5982, dtype: object"
      ]
     },
     "execution_count": 225,
     "metadata": {},
     "output_type": "execute_result"
    }
   ],
   "source": [
    "N = 10\n",
    "purchased_list = tr.groupby('cust_id')['gds_grp_nm'].unique()\n",
    "purchased_list"
   ]
  },
  {
   "cell_type": "code",
   "execution_count": 226,
   "metadata": {},
   "outputs": [
    {
     "data": {
      "text/html": [
       "<div>\n",
       "<style scoped>\n",
       "    .dataframe tbody tr th:only-of-type {\n",
       "        vertical-align: middle;\n",
       "    }\n",
       "\n",
       "    .dataframe tbody tr th {\n",
       "        vertical-align: top;\n",
       "    }\n",
       "\n",
       "    .dataframe thead th {\n",
       "        text-align: right;\n",
       "    }\n",
       "</style>\n",
       "<table border=\"1\" class=\"dataframe\">\n",
       "  <thead>\n",
       "    <tr style=\"text-align: right;\">\n",
       "      <th></th>\n",
       "      <th>cust_id</th>\n",
       "      <th>recommend_items</th>\n",
       "    </tr>\n",
       "  </thead>\n",
       "  <tbody>\n",
       "    <tr>\n",
       "      <th>0</th>\n",
       "      <td>0</td>\n",
       "      <td>[농산가공, 야채, 햄, 수입식품, 위생세제, 시티캐주얼, 시니어, 건과, 란제리,...</td>\n",
       "    </tr>\n",
       "    <tr>\n",
       "      <th>1</th>\n",
       "      <td>1</td>\n",
       "      <td>[상품군미지정, 시티캐주얼, 비지니스군, L/C골프의류, 트래디셔널Ⅱ, 스포츠화, ...</td>\n",
       "    </tr>\n",
       "    <tr>\n",
       "      <th>2</th>\n",
       "      <td>2</td>\n",
       "      <td>[비지니스군, NB 여화, 주류, 스카프(특정), 어묵, 건강식품(홍삼), 고정행사...</td>\n",
       "    </tr>\n",
       "    <tr>\n",
       "      <th>3</th>\n",
       "      <td>3</td>\n",
       "      <td>[햄, 유기농야채, 돈육, 수입단기행사, 기초 화장품, 음료, 김류, 건과, 건생선...</td>\n",
       "    </tr>\n",
       "    <tr>\n",
       "      <th>4</th>\n",
       "      <td>4</td>\n",
       "      <td>[시니어, 숙녀고정행사, 란제리, 야채, 비지니스군, 건강식품(홍삼), 갈비세트, ...</td>\n",
       "    </tr>\n",
       "    <tr>\n",
       "      <th>...</th>\n",
       "      <td>...</td>\n",
       "      <td>...</td>\n",
       "    </tr>\n",
       "    <tr>\n",
       "      <th>5977</th>\n",
       "      <td>5977</td>\n",
       "      <td>[시티웨어, 시티캐주얼, 디자이너부틱, 기초 화장품, 수입주방, NB 여화, 일반가...</td>\n",
       "    </tr>\n",
       "    <tr>\n",
       "      <th>5978</th>\n",
       "      <td>5978</td>\n",
       "      <td>[상품군미지정, 니  트, 시니어, 기초 화장품, 시티캐주얼, 디자이너부틱, 뷰티상...</td>\n",
       "    </tr>\n",
       "    <tr>\n",
       "      <th>5979</th>\n",
       "      <td>5979</td>\n",
       "      <td>[기초 화장품, 디자이너부틱, 시티웨어, 란제리, N/B골프의류, 넥타이(특정), ...</td>\n",
       "    </tr>\n",
       "    <tr>\n",
       "      <th>5980</th>\n",
       "      <td>5980</td>\n",
       "      <td>[상품군미지정, 일반가공식품, 야채, 청과, 농산가공, 햄, 기초 화장품, 수입식품...</td>\n",
       "    </tr>\n",
       "    <tr>\n",
       "      <th>5981</th>\n",
       "      <td>5981</td>\n",
       "      <td>[수입단기행사, 농산가공, 유제품, 청과, 생선, 브랑제리, 야채, KKD, 위생세...</td>\n",
       "    </tr>\n",
       "  </tbody>\n",
       "</table>\n",
       "<p>5982 rows × 2 columns</p>\n",
       "</div>"
      ],
      "text/plain": [
       "      cust_id                                    recommend_items\n",
       "0           0  [농산가공, 야채, 햄, 수입식품, 위생세제, 시티캐주얼, 시니어, 건과, 란제리,...\n",
       "1           1  [상품군미지정, 시티캐주얼, 비지니스군, L/C골프의류, 트래디셔널Ⅱ, 스포츠화, ...\n",
       "2           2  [비지니스군, NB 여화, 주류, 스카프(특정), 어묵, 건강식품(홍삼), 고정행사...\n",
       "3           3  [햄, 유기농야채, 돈육, 수입단기행사, 기초 화장품, 음료, 김류, 건과, 건생선...\n",
       "4           4  [시니어, 숙녀고정행사, 란제리, 야채, 비지니스군, 건강식품(홍삼), 갈비세트, ...\n",
       "...       ...                                                ...\n",
       "5977     5977  [시티웨어, 시티캐주얼, 디자이너부틱, 기초 화장품, 수입주방, NB 여화, 일반가...\n",
       "5978     5978  [상품군미지정, 니  트, 시니어, 기초 화장품, 시티캐주얼, 디자이너부틱, 뷰티상...\n",
       "5979     5979  [기초 화장품, 디자이너부틱, 시티웨어, 란제리, N/B골프의류, 넥타이(특정), ...\n",
       "5980     5980  [상품군미지정, 일반가공식품, 야채, 청과, 농산가공, 햄, 기초 화장품, 수입식품...\n",
       "5981     5981  [수입단기행사, 농산가공, 유제품, 청과, 생선, 브랑제리, 야채, KKD, 위생세...\n",
       "\n",
       "[5982 rows x 2 columns]"
      ]
     },
     "execution_count": 226,
     "metadata": {},
     "output_type": "execute_result"
    }
   ],
   "source": [
    "def top_n(x, n):\n",
    "    purchased = purchased_list.filter(items=[x[0]]).iloc[0]\n",
    "    candidate = ratings_matrix.filter(items=x[1:], axis=0).sum().sort_values(ascending=False).index.to_list()\n",
    "    return [item for item in candidate if item not in purchased][:n]\n",
    "\n",
    "recommend_list = knn.apply(top_n, args=(N,), axis=1).reset_index().rename(columns={0:'recommend_items'})\n",
    "recommend_list"
   ]
  },
  {
   "cell_type": "code",
   "execution_count": 227,
   "metadata": {},
   "outputs": [],
   "source": [
    "def remove_values_from_list(the_list, val):\n",
    "    return [value for value in the_list if value != val]\n",
    "\n",
    "recommend_list.recommend_items = recommend_list.recommend_items.apply(lambda x: remove_values_from_list(x,'상품군미지정'))"
   ]
  },
  {
   "cell_type": "code",
   "execution_count": 228,
   "metadata": {},
   "outputs": [],
   "source": [
    "f = recommend_list.recommend_items.apply(lambda x: x[0]).reset_index()\n",
    "f = f.rename({'index':'cust_id'},axis=1)\n",
    "features = features.merge(f,on='cust_id' ,how='left')"
   ]
  },
  {
   "cell_type": "code",
   "execution_count": 229,
   "metadata": {},
   "outputs": [],
   "source": [
    "tr = pd.concat([train, test])"
   ]
  },
  {
   "cell_type": "markdown",
   "metadata": {},
   "source": [
    "#### 출처 : 28-31"
   ]
  },
  {
   "cell_type": "code",
   "execution_count": 230,
   "metadata": {},
   "outputs": [],
   "source": [
    "#고객등급 분할 ; 연간 총구매액 이용\n",
    "features['고객등급'] = features['총구매액'].apply(lambda x: 'BABY' if x < 20000000\n",
    "                                     else 'VIP' if x < 50000000\n",
    "                                     else 'VIP+' if x < 90000000\n",
    "                                     else 'ACE' if x < 200000000\n",
    "                                     else 'CROWN' if x < 500000000\n",
    "                                     else 'PRESTIGE' if x < 750000000\n",
    "                                     else 'LENITH')"
   ]
  },
  {
   "cell_type": "code",
   "execution_count": 231,
   "metadata": {},
   "outputs": [
    {
     "data": {
      "text/html": [
       "<div>\n",
       "<style scoped>\n",
       "    .dataframe tbody tr th:only-of-type {\n",
       "        vertical-align: middle;\n",
       "    }\n",
       "\n",
       "    .dataframe tbody tr th {\n",
       "        vertical-align: top;\n",
       "    }\n",
       "\n",
       "    .dataframe thead th {\n",
       "        text-align: right;\n",
       "    }\n",
       "</style>\n",
       "<table border=\"1\" class=\"dataframe\">\n",
       "  <thead>\n",
       "    <tr style=\"text-align: right;\">\n",
       "      <th></th>\n",
       "      <th>고객등급</th>\n",
       "      <th>cust_id</th>\n",
       "    </tr>\n",
       "  </thead>\n",
       "  <tbody>\n",
       "    <tr>\n",
       "      <th>0</th>\n",
       "      <td>ACE</td>\n",
       "      <td>900</td>\n",
       "    </tr>\n",
       "    <tr>\n",
       "      <th>1</th>\n",
       "      <td>BABY</td>\n",
       "      <td>2654</td>\n",
       "    </tr>\n",
       "    <tr>\n",
       "      <th>2</th>\n",
       "      <td>CROWN</td>\n",
       "      <td>721</td>\n",
       "    </tr>\n",
       "    <tr>\n",
       "      <th>3</th>\n",
       "      <td>LENITH</td>\n",
       "      <td>58</td>\n",
       "    </tr>\n",
       "    <tr>\n",
       "      <th>4</th>\n",
       "      <td>PRESTIGE</td>\n",
       "      <td>121</td>\n",
       "    </tr>\n",
       "    <tr>\n",
       "      <th>5</th>\n",
       "      <td>VIP</td>\n",
       "      <td>889</td>\n",
       "    </tr>\n",
       "    <tr>\n",
       "      <th>6</th>\n",
       "      <td>VIP+</td>\n",
       "      <td>639</td>\n",
       "    </tr>\n",
       "  </tbody>\n",
       "</table>\n",
       "</div>"
      ],
      "text/plain": [
       "       고객등급  cust_id\n",
       "0       ACE      900\n",
       "1      BABY     2654\n",
       "2     CROWN      721\n",
       "3    LENITH       58\n",
       "4  PRESTIGE      121\n",
       "5       VIP      889\n",
       "6      VIP+      639"
      ]
     },
     "execution_count": 231,
     "metadata": {},
     "output_type": "execute_result"
    }
   ],
   "source": [
    "features.groupby('고객등급')['cust_id'].agg('size').reset_index()"
   ]
  },
  {
   "cell_type": "code",
   "execution_count": 232,
   "metadata": {},
   "outputs": [
    {
     "data": {
      "image/png": "[encoded data removed]",
      "text/plain": [
       "<Figure size 432x288 with 1 Axes>"
      ]
     },
     "metadata": {
      "needs_background": "light"
     },
     "output_type": "display_data"
    }
   ],
   "source": [
    "sns.countplot(data = features, x = '고객등급')\n",
    "plt.show()"
   ]
  },
  {
   "cell_type": "markdown",
   "metadata": {},
   "source": [
    "#### 출처 : 28-32"
   ]
  },
  {
   "cell_type": "code",
   "execution_count": 233,
   "metadata": {},
   "outputs": [],
   "source": [
    "#상위 25%의 고가상품 중 가장 빈도가 높은 품목\n",
    "Q1 = tr['amount'].quantile(0.25)\n",
    "Q2 = tr['amount'].quantile(0.5)\n",
    "Q3 = tr['amount'].quantile(0.75)\n",
    "Q4 = tr['amount'].quantile(1.0)"
   ]
  },
  {
   "cell_type": "code",
   "execution_count": 234,
   "metadata": {},
   "outputs": [],
   "source": [
    "tr['amount_quarter'] = tr['amount'].apply(lambda x: 'amount_1' if x <= Q1\n",
    "                          else ('amount_2' if Q1 < x <= Q2\n",
    "                               else ('amount_3' if Q2 < x <= Q3 \n",
    "                                     else 'amount_4')))"
   ]
  },
  {
   "cell_type": "code",
   "execution_count": 235,
   "metadata": {},
   "outputs": [
    {
     "data": {
      "text/html": [
       "<div>\n",
       "<style scoped>\n",
       "    .dataframe tbody tr th:only-of-type {\n",
       "        vertical-align: middle;\n",
       "    }\n",
       "\n",
       "    .dataframe tbody tr th {\n",
       "        vertical-align: top;\n",
       "    }\n",
       "\n",
       "    .dataframe thead th {\n",
       "        text-align: right;\n",
       "    }\n",
       "</style>\n",
       "<table border=\"1\" class=\"dataframe\">\n",
       "  <thead>\n",
       "    <tr style=\"text-align: right;\">\n",
       "      <th></th>\n",
       "      <th>cust_id</th>\n",
       "      <th>tran_date</th>\n",
       "      <th>store_nm</th>\n",
       "      <th>goods_id</th>\n",
       "      <th>gds_grp_nm</th>\n",
       "      <th>gds_grp_mclas_nm</th>\n",
       "      <th>amount</th>\n",
       "      <th>amount_quarter</th>\n",
       "    </tr>\n",
       "  </thead>\n",
       "  <tbody>\n",
       "    <tr>\n",
       "      <th>0</th>\n",
       "      <td>0</td>\n",
       "      <td>2007-01-19 00:00:00</td>\n",
       "      <td>강남점</td>\n",
       "      <td>127105</td>\n",
       "      <td>기초 화장품</td>\n",
       "      <td>화장품</td>\n",
       "      <td>850000</td>\n",
       "      <td>amount_4</td>\n",
       "    </tr>\n",
       "    <tr>\n",
       "      <th>2</th>\n",
       "      <td>0</td>\n",
       "      <td>2007-03-30 00:00:00</td>\n",
       "      <td>강남점</td>\n",
       "      <td>127105</td>\n",
       "      <td>기초 화장품</td>\n",
       "      <td>화장품</td>\n",
       "      <td>3000000</td>\n",
       "      <td>amount_4</td>\n",
       "    </tr>\n",
       "    <tr>\n",
       "      <th>3</th>\n",
       "      <td>0</td>\n",
       "      <td>2007-03-30 00:00:00</td>\n",
       "      <td>강남점</td>\n",
       "      <td>342205</td>\n",
       "      <td>니  트</td>\n",
       "      <td>시티웨어</td>\n",
       "      <td>840000</td>\n",
       "      <td>amount_4</td>\n",
       "    </tr>\n",
       "    <tr>\n",
       "      <th>5</th>\n",
       "      <td>0</td>\n",
       "      <td>2007-05-13 00:00:00</td>\n",
       "      <td>강남점</td>\n",
       "      <td>127105</td>\n",
       "      <td>기초 화장품</td>\n",
       "      <td>화장품</td>\n",
       "      <td>3000000</td>\n",
       "      <td>amount_4</td>\n",
       "    </tr>\n",
       "    <tr>\n",
       "      <th>6</th>\n",
       "      <td>0</td>\n",
       "      <td>2007-05-13 00:00:00</td>\n",
       "      <td>강남점</td>\n",
       "      <td>321101</td>\n",
       "      <td>디자이너부틱</td>\n",
       "      <td>디자이너</td>\n",
       "      <td>11264000</td>\n",
       "      <td>amount_4</td>\n",
       "    </tr>\n",
       "    <tr>\n",
       "      <th>...</th>\n",
       "      <td>...</td>\n",
       "      <td>...</td>\n",
       "      <td>...</td>\n",
       "      <td>...</td>\n",
       "      <td>...</td>\n",
       "      <td>...</td>\n",
       "      <td>...</td>\n",
       "      <td>...</td>\n",
       "    </tr>\n",
       "    <tr>\n",
       "      <th>163543</th>\n",
       "      <td>5980</td>\n",
       "      <td>2007-09-13 00:00:00</td>\n",
       "      <td>본  점</td>\n",
       "      <td>13105</td>\n",
       "      <td>돈육</td>\n",
       "      <td>육류</td>\n",
       "      <td>2091400</td>\n",
       "      <td>amount_4</td>\n",
       "    </tr>\n",
       "    <tr>\n",
       "      <th>163544</th>\n",
       "      <td>5980</td>\n",
       "      <td>2007-09-13 00:00:00</td>\n",
       "      <td>본  점</td>\n",
       "      <td>13104</td>\n",
       "      <td>우육</td>\n",
       "      <td>육류</td>\n",
       "      <td>6883360</td>\n",
       "      <td>amount_4</td>\n",
       "    </tr>\n",
       "    <tr>\n",
       "      <th>163545</th>\n",
       "      <td>5980</td>\n",
       "      <td>2007-09-13 00:00:00</td>\n",
       "      <td>본  점</td>\n",
       "      <td>563196</td>\n",
       "      <td>토들러</td>\n",
       "      <td>아동</td>\n",
       "      <td>7720000</td>\n",
       "      <td>amount_4</td>\n",
       "    </tr>\n",
       "    <tr>\n",
       "      <th>163546</th>\n",
       "      <td>5980</td>\n",
       "      <td>2007-12-08 00:00:00</td>\n",
       "      <td>본  점</td>\n",
       "      <td>13104</td>\n",
       "      <td>우육</td>\n",
       "      <td>육류</td>\n",
       "      <td>5105430</td>\n",
       "      <td>amount_4</td>\n",
       "    </tr>\n",
       "    <tr>\n",
       "      <th>163547</th>\n",
       "      <td>5980</td>\n",
       "      <td>2007-12-08 00:00:00</td>\n",
       "      <td>본  점</td>\n",
       "      <td>13105</td>\n",
       "      <td>돈육</td>\n",
       "      <td>육류</td>\n",
       "      <td>2423100</td>\n",
       "      <td>amount_4</td>\n",
       "    </tr>\n",
       "  </tbody>\n",
       "</table>\n",
       "<p>98814 rows × 8 columns</p>\n",
       "</div>"
      ],
      "text/plain": [
       "        cust_id            tran_date store_nm  goods_id gds_grp_nm  \\\n",
       "0             0  2007-01-19 00:00:00      강남점    127105     기초 화장품   \n",
       "2             0  2007-03-30 00:00:00      강남점    127105     기초 화장품   \n",
       "3             0  2007-03-30 00:00:00      강남점    342205       니  트   \n",
       "5             0  2007-05-13 00:00:00      강남점    127105     기초 화장품   \n",
       "6             0  2007-05-13 00:00:00      강남점    321101     디자이너부틱   \n",
       "...         ...                  ...      ...       ...        ...   \n",
       "163543     5980  2007-09-13 00:00:00     본  점     13105         돈육   \n",
       "163544     5980  2007-09-13 00:00:00     본  점     13104         우육   \n",
       "163545     5980  2007-09-13 00:00:00     본  점    563196        토들러   \n",
       "163546     5980  2007-12-08 00:00:00     본  점     13104         우육   \n",
       "163547     5980  2007-12-08 00:00:00     본  점     13105         돈육   \n",
       "\n",
       "       gds_grp_mclas_nm    amount amount_quarter  \n",
       "0                   화장품    850000       amount_4  \n",
       "2                   화장품   3000000       amount_4  \n",
       "3                  시티웨어    840000       amount_4  \n",
       "5                   화장품   3000000       amount_4  \n",
       "6                  디자이너  11264000       amount_4  \n",
       "...                 ...       ...            ...  \n",
       "163543               육류   2091400       amount_4  \n",
       "163544               육류   6883360       amount_4  \n",
       "163545               아동   7720000       amount_4  \n",
       "163546               육류   5105430       amount_4  \n",
       "163547               육류   2423100       amount_4  \n",
       "\n",
       "[98814 rows x 8 columns]"
      ]
     },
     "execution_count": 235,
     "metadata": {},
     "output_type": "execute_result"
    }
   ],
   "source": [
    "f = tr.query('amount_quarter ==\"amount_4\"') ; f"
   ]
  },
  {
   "cell_type": "code",
   "execution_count": 236,
   "metadata": {},
   "outputs": [
    {
     "data": {
      "text/html": [
       "<div>\n",
       "<style scoped>\n",
       "    .dataframe tbody tr th:only-of-type {\n",
       "        vertical-align: middle;\n",
       "    }\n",
       "\n",
       "    .dataframe tbody tr th {\n",
       "        vertical-align: top;\n",
       "    }\n",
       "\n",
       "    .dataframe thead th {\n",
       "        text-align: right;\n",
       "    }\n",
       "</style>\n",
       "<table border=\"1\" class=\"dataframe\">\n",
       "  <thead>\n",
       "    <tr style=\"text-align: right;\">\n",
       "      <th></th>\n",
       "      <th>cust_id</th>\n",
       "      <th>고가상품최다빈도품목</th>\n",
       "    </tr>\n",
       "  </thead>\n",
       "  <tbody>\n",
       "    <tr>\n",
       "      <th>0</th>\n",
       "      <td>0</td>\n",
       "      <td>화장품</td>\n",
       "    </tr>\n",
       "    <tr>\n",
       "      <th>1</th>\n",
       "      <td>1</td>\n",
       "      <td>트래디셔널</td>\n",
       "    </tr>\n",
       "    <tr>\n",
       "      <th>2</th>\n",
       "      <td>2</td>\n",
       "      <td>남성 캐주얼</td>\n",
       "    </tr>\n",
       "    <tr>\n",
       "      <th>3</th>\n",
       "      <td>3</td>\n",
       "      <td>캐주얼</td>\n",
       "    </tr>\n",
       "    <tr>\n",
       "      <th>4</th>\n",
       "      <td>4</td>\n",
       "      <td>보석</td>\n",
       "    </tr>\n",
       "    <tr>\n",
       "      <th>...</th>\n",
       "      <td>...</td>\n",
       "      <td>...</td>\n",
       "    </tr>\n",
       "    <tr>\n",
       "      <th>5345</th>\n",
       "      <td>5975</td>\n",
       "      <td>남성정장</td>\n",
       "    </tr>\n",
       "    <tr>\n",
       "      <th>5346</th>\n",
       "      <td>5976</td>\n",
       "      <td>아동</td>\n",
       "    </tr>\n",
       "    <tr>\n",
       "      <th>5347</th>\n",
       "      <td>5977</td>\n",
       "      <td>골프</td>\n",
       "    </tr>\n",
       "    <tr>\n",
       "      <th>5348</th>\n",
       "      <td>5979</td>\n",
       "      <td>남성 캐주얼</td>\n",
       "    </tr>\n",
       "    <tr>\n",
       "      <th>5349</th>\n",
       "      <td>5980</td>\n",
       "      <td>육류</td>\n",
       "    </tr>\n",
       "  </tbody>\n",
       "</table>\n",
       "<p>5350 rows × 2 columns</p>\n",
       "</div>"
      ],
      "text/plain": [
       "      cust_id 고가상품최다빈도품목\n",
       "0           0        화장품\n",
       "1           1      트래디셔널\n",
       "2           2     남성 캐주얼\n",
       "3           3        캐주얼\n",
       "4           4         보석\n",
       "...       ...        ...\n",
       "5345     5975       남성정장\n",
       "5346     5976         아동\n",
       "5347     5977         골프\n",
       "5348     5979     남성 캐주얼\n",
       "5349     5980         육류\n",
       "\n",
       "[5350 rows x 2 columns]"
      ]
     },
     "execution_count": 236,
     "metadata": {},
     "output_type": "execute_result"
    }
   ],
   "source": [
    "f = f.groupby('cust_id')['gds_grp_mclas_nm'].agg([('고가상품최다빈도품목',lambda x: x.value_counts().index[0])]).reset_index()\n",
    "f"
   ]
  },
  {
   "cell_type": "code",
   "execution_count": 237,
   "metadata": {},
   "outputs": [],
   "source": [
    "features = pd.merge(left = features, right = f, how='left', on = 'cust_id') "
   ]
  },
  {
   "cell_type": "markdown",
   "metadata": {},
   "source": [
    "#### 출처 : 28-34"
   ]
  },
  {
   "cell_type": "code",
   "execution_count": 238,
   "metadata": {},
   "outputs": [
    {
     "data": {
      "text/html": [
       "<div>\n",
       "<style scoped>\n",
       "    .dataframe tbody tr th:only-of-type {\n",
       "        vertical-align: middle;\n",
       "    }\n",
       "\n",
       "    .dataframe tbody tr th {\n",
       "        vertical-align: top;\n",
       "    }\n",
       "\n",
       "    .dataframe thead th {\n",
       "        text-align: right;\n",
       "    }\n",
       "</style>\n",
       "<table border=\"1\" class=\"dataframe\">\n",
       "  <thead>\n",
       "    <tr style=\"text-align: right;\">\n",
       "      <th></th>\n",
       "      <th>cust_id</th>\n",
       "      <th>최대지출품목</th>\n",
       "    </tr>\n",
       "  </thead>\n",
       "  <tbody>\n",
       "    <tr>\n",
       "      <th>0</th>\n",
       "      <td>0</td>\n",
       "      <td>화장품</td>\n",
       "    </tr>\n",
       "    <tr>\n",
       "      <th>1</th>\n",
       "      <td>1</td>\n",
       "      <td>트래디셔널</td>\n",
       "    </tr>\n",
       "    <tr>\n",
       "      <th>2</th>\n",
       "      <td>2</td>\n",
       "      <td>남성 캐주얼</td>\n",
       "    </tr>\n",
       "    <tr>\n",
       "      <th>3</th>\n",
       "      <td>3</td>\n",
       "      <td>침구/수예</td>\n",
       "    </tr>\n",
       "    <tr>\n",
       "      <th>4</th>\n",
       "      <td>4</td>\n",
       "      <td>보석</td>\n",
       "    </tr>\n",
       "    <tr>\n",
       "      <th>...</th>\n",
       "      <td>...</td>\n",
       "      <td>...</td>\n",
       "    </tr>\n",
       "    <tr>\n",
       "      <th>5977</th>\n",
       "      <td>5977</td>\n",
       "      <td>시티웨어</td>\n",
       "    </tr>\n",
       "    <tr>\n",
       "      <th>5978</th>\n",
       "      <td>5978</td>\n",
       "      <td>섬유잡화</td>\n",
       "    </tr>\n",
       "    <tr>\n",
       "      <th>5979</th>\n",
       "      <td>5979</td>\n",
       "      <td>남성 캐주얼</td>\n",
       "    </tr>\n",
       "    <tr>\n",
       "      <th>5980</th>\n",
       "      <td>5980</td>\n",
       "      <td>육류</td>\n",
       "    </tr>\n",
       "    <tr>\n",
       "      <th>5981</th>\n",
       "      <td>5981</td>\n",
       "      <td>가공식품</td>\n",
       "    </tr>\n",
       "  </tbody>\n",
       "</table>\n",
       "<p>5982 rows × 2 columns</p>\n",
       "</div>"
      ],
      "text/plain": [
       "      cust_id  최대지출품목\n",
       "0           0     화장품\n",
       "1           1   트래디셔널\n",
       "2           2  남성 캐주얼\n",
       "3           3   침구/수예\n",
       "4           4      보석\n",
       "...       ...     ...\n",
       "5977     5977    시티웨어\n",
       "5978     5978    섬유잡화\n",
       "5979     5979  남성 캐주얼\n",
       "5980     5980      육류\n",
       "5981     5981    가공식품\n",
       "\n",
       "[5982 rows x 2 columns]"
      ]
     },
     "execution_count": 238,
     "metadata": {},
     "output_type": "execute_result"
    }
   ],
   "source": [
    "#지출을 가장 많이 한 품목\n",
    "p = pd.pivot_table(tr, index = 'cust_id', columns = 'gds_grp_mclas_nm', values = 'amount', aggfunc =  np.sum)\n",
    "p = p.fillna(0)\n",
    "p['최대지출품목'] = p.idxmax(axis=1)\n",
    "p = p['최대지출품목'].reset_index()\n",
    "p"
   ]
  },
  {
   "cell_type": "code",
   "execution_count": 239,
   "metadata": {},
   "outputs": [],
   "source": [
    "features = features.merge(p, how='left')"
   ]
  },
  {
   "cell_type": "code",
   "execution_count": 240,
   "metadata": {},
   "outputs": [],
   "source": [
    "tr = pd.concat([train, test])"
   ]
  },
  {
   "cell_type": "markdown",
   "metadata": {},
   "source": [
    "#### 출처 : 30-27\n",
    "[파생변수 27] Top5 상품 구매건수 (음식류 제외)"
   ]
  },
  {
   "cell_type": "code",
   "execution_count": 241,
   "metadata": {},
   "outputs": [
    {
     "data": {
      "text/html": [
       "<div>\n",
       "<style scoped>\n",
       "    .dataframe tbody tr th:only-of-type {\n",
       "        vertical-align: middle;\n",
       "    }\n",
       "\n",
       "    .dataframe tbody tr th {\n",
       "        vertical-align: top;\n",
       "    }\n",
       "\n",
       "    .dataframe thead th {\n",
       "        text-align: right;\n",
       "    }\n",
       "</style>\n",
       "<table border=\"1\" class=\"dataframe\">\n",
       "  <thead>\n",
       "    <tr style=\"text-align: right;\">\n",
       "      <th></th>\n",
       "      <th>gds_grp_nm</th>\n",
       "      <th>cust_id</th>\n",
       "    </tr>\n",
       "  </thead>\n",
       "  <tbody>\n",
       "    <tr>\n",
       "      <th>125</th>\n",
       "      <td>상품군미지정</td>\n",
       "      <td>69478</td>\n",
       "    </tr>\n",
       "    <tr>\n",
       "      <th>70</th>\n",
       "      <td>농산가공</td>\n",
       "      <td>18693</td>\n",
       "    </tr>\n",
       "    <tr>\n",
       "      <th>236</th>\n",
       "      <td>유제품</td>\n",
       "      <td>13818</td>\n",
       "    </tr>\n",
       "    <tr>\n",
       "      <th>243</th>\n",
       "      <td>일반가공식품</td>\n",
       "      <td>13334</td>\n",
       "    </tr>\n",
       "    <tr>\n",
       "      <th>54</th>\n",
       "      <td>기초 화장품</td>\n",
       "      <td>12921</td>\n",
       "    </tr>\n",
       "    <tr>\n",
       "      <th>281</th>\n",
       "      <td>청과</td>\n",
       "      <td>11196</td>\n",
       "    </tr>\n",
       "    <tr>\n",
       "      <th>83</th>\n",
       "      <td>디자이너부틱</td>\n",
       "      <td>10194</td>\n",
       "    </tr>\n",
       "    <tr>\n",
       "      <th>197</th>\n",
       "      <td>야채</td>\n",
       "      <td>9191</td>\n",
       "    </tr>\n",
       "    <tr>\n",
       "      <th>154</th>\n",
       "      <td>수입식품</td>\n",
       "      <td>8929</td>\n",
       "    </tr>\n",
       "    <tr>\n",
       "      <th>231</th>\n",
       "      <td>유기농야채</td>\n",
       "      <td>8658</td>\n",
       "    </tr>\n",
       "  </tbody>\n",
       "</table>\n",
       "</div>"
      ],
      "text/plain": [
       "    gds_grp_nm  cust_id\n",
       "125     상품군미지정    69478\n",
       "70        농산가공    18693\n",
       "236        유제품    13818\n",
       "243     일반가공식품    13334\n",
       "54      기초 화장품    12921\n",
       "281         청과    11196\n",
       "83      디자이너부틱    10194\n",
       "197         야채     9191\n",
       "154       수입식품     8929\n",
       "231      유기농야채     8658"
      ]
     },
     "execution_count": 241,
     "metadata": {},
     "output_type": "execute_result"
    }
   ],
   "source": [
    "# gds_grp_mclas에서 음식에 포함되는 종류를 모두 '음식류'로 mappinp 해준다.\n",
    "tr.gds_grp_mclas_nm = tr.gds_grp_mclas_nm.apply(lambda x: '음식류' if x == '축산가공' or x=='건강식품' or x=='육류' or x=='수산품' or x== '젓갈/반찬' or x=='가공식품' or x== '농산물'\n",
    "                                                            or x=='주류' or x=='차/커피'  else x)\n",
    "tr.groupby('gds_grp_nm')['cust_id'].agg('count').reset_index().sort_values(by='cust_id',ascending=False)[:10]"
   ]
  },
  {
   "cell_type": "code",
   "execution_count": 242,
   "metadata": {},
   "outputs": [],
   "source": [
    "# 음식류를 제외하고 Top5에 드는 상품종류를 mapping.\n",
    "tr.gds_grp_mclas_nm = tr.gds_grp_mclas_nm.apply(lambda x: 'Top5' if x == '기타' or x== '화장품' or x== '디자이너' or x== '시티웨어' or x== '일용잡화' else '기타')\n",
    "\n",
    "dum = pd.get_dummies(tr.gds_grp_mclas_nm) # one-hot-encoding \n",
    "\n",
    "tr = pd.concat([tr,dum],axis=1)"
   ]
  },
  {
   "cell_type": "code",
   "execution_count": 243,
   "metadata": {},
   "outputs": [],
   "source": [
    "f = tr.groupby('cust_id')['Top5'].agg([('Top5상품구매건수',np.sum)]).reset_index()\n",
    "f.Top5상품구매건수 = f.Top5상품구매건수.apply(lambda x: int(x))\n",
    "features = features.merge(f, how='left')"
   ]
  },
  {
   "cell_type": "markdown",
   "metadata": {},
   "source": [
    "#### 출처 : 30-30\n",
    "[파생변수 30] 고객별 선호 시즌 \n",
    "     \n",
    "     * 휴가시즌 : 7,8월\n",
    "     * 입학/졸업시즌 : 2,3월\n",
    "     * 이사/혼수시즌 : 4,5,9,10월\n",
    "     * 기타 : 1,11,12월"
   ]
  },
  {
   "cell_type": "code",
   "execution_count": 244,
   "metadata": {},
   "outputs": [],
   "source": [
    "tr['month'] = tr.tran_date.astype('datetime64').dt.month\n",
    "tr.month = tr.month.apply(lambda x : '기타' if x == 1 or x==11 or x==12 or x==6 else \n",
    "                                         '휴가시즌' if x== 7 or x==8 else '입학/졸업시즌' if x== 2 or x==3 else '이사/혼수시즌')"
   ]
  },
  {
   "cell_type": "code",
   "execution_count": 245,
   "metadata": {},
   "outputs": [],
   "source": [
    "f = tr.groupby('cust_id')['month'].agg([('선호시즌',lambda x: x.value_counts().index[0])]).reset_index()\n",
    "features = features.merge(f,how='left')"
   ]
  },
  {
   "cell_type": "code",
   "execution_count": 246,
   "metadata": {},
   "outputs": [
    {
     "data": {
      "text/plain": [
       "<matplotlib.axes._subplots.AxesSubplot at 0x25f0ff44048>"
      ]
     },
     "execution_count": 246,
     "metadata": {},
     "output_type": "execute_result"
    },
    {
     "data": {
      "image/png": "[encoded data removed]",
      "text/plain": [
       "<Figure size 576x432 with 1 Axes>"
      ]
     },
     "metadata": {
      "needs_background": "light"
     },
     "output_type": "display_data"
    }
   ],
   "source": [
    "plt.figure(figsize=(8,6))\n",
    "f.선호시즌.value_counts().plot.barh()"
   ]
  },
  {
   "cell_type": "markdown",
   "metadata": {},
   "source": [
    "#### 출처 : 31-28\n",
    "#### 28.상품다양성별 매장 선호도(가중치 부여)"
   ]
  },
  {
   "cell_type": "code",
   "execution_count": 247,
   "metadata": {},
   "outputs": [
    {
     "data": {
      "text/html": [
       "<div>\n",
       "<style scoped>\n",
       "    .dataframe tbody tr th:only-of-type {\n",
       "        vertical-align: middle;\n",
       "    }\n",
       "\n",
       "    .dataframe tbody tr th {\n",
       "        vertical-align: top;\n",
       "    }\n",
       "\n",
       "    .dataframe thead th {\n",
       "        text-align: right;\n",
       "    }\n",
       "</style>\n",
       "<table border=\"1\" class=\"dataframe\">\n",
       "  <thead>\n",
       "    <tr style=\"text-align: right;\">\n",
       "      <th></th>\n",
       "      <th>gds_grp_nm</th>\n",
       "    </tr>\n",
       "  </thead>\n",
       "  <tbody>\n",
       "    <tr>\n",
       "      <th>count</th>\n",
       "      <td>24.000000</td>\n",
       "    </tr>\n",
       "    <tr>\n",
       "      <th>mean</th>\n",
       "      <td>181.958333</td>\n",
       "    </tr>\n",
       "    <tr>\n",
       "      <th>std</th>\n",
       "      <td>55.908683</td>\n",
       "    </tr>\n",
       "    <tr>\n",
       "      <th>min</th>\n",
       "      <td>82.000000</td>\n",
       "    </tr>\n",
       "    <tr>\n",
       "      <th>25%</th>\n",
       "      <td>125.750000</td>\n",
       "    </tr>\n",
       "    <tr>\n",
       "      <th>50%</th>\n",
       "      <td>196.500000</td>\n",
       "    </tr>\n",
       "    <tr>\n",
       "      <th>75%</th>\n",
       "      <td>222.750000</td>\n",
       "    </tr>\n",
       "    <tr>\n",
       "      <th>max</th>\n",
       "      <td>277.000000</td>\n",
       "    </tr>\n",
       "  </tbody>\n",
       "</table>\n",
       "</div>"
      ],
      "text/plain": [
       "       gds_grp_nm\n",
       "count   24.000000\n",
       "mean   181.958333\n",
       "std     55.908683\n",
       "min     82.000000\n",
       "25%    125.750000\n",
       "50%    196.500000\n",
       "75%    222.750000\n",
       "max    277.000000"
      ]
     },
     "execution_count": 247,
     "metadata": {},
     "output_type": "execute_result"
    }
   ],
   "source": [
    "tr.groupby('store_nm')['gds_grp_nm'].nunique().sort_values(ascending=False).reset_index().describe()"
   ]
  },
  {
   "cell_type": "code",
   "execution_count": 248,
   "metadata": {},
   "outputs": [
    {
     "data": {
      "text/plain": [
       "store_nm\n",
       "인천점      192\n",
       "청량리점     186\n",
       "관악점      184\n",
       "부평점      171\n",
       "안양점      169\n",
       "대구점      128\n",
       "울산점      119\n",
       "포항점      119\n",
       "센텀시티점    101\n",
       "상인점       99\n",
       "창원점       96\n",
       "전주점       82\n",
       "Name: gds_grp_nm, dtype: int64"
      ]
     },
     "execution_count": 248,
     "metadata": {},
     "output_type": "execute_result"
    }
   ],
   "source": [
    "tr.groupby('store_nm')['gds_grp_nm'].nunique().sort_values(ascending=False)[12:]"
   ]
  },
  {
   "cell_type": "code",
   "execution_count": 249,
   "metadata": {},
   "outputs": [
    {
     "data": {
      "text/plain": [
       "array(['인천점', '청량리점', '관악점', '부평점', '안양점', '대구점', '울산점', '포항점', '센텀시티점',\n",
       "       '상인점', '창원점', '전주점'], dtype=object)"
      ]
     },
     "execution_count": 249,
     "metadata": {},
     "output_type": "execute_result"
    }
   ],
   "source": [
    "q_1 = tr.groupby('store_nm')['gds_grp_nm'].nunique(\n",
    "                    ).sort_values(ascending=False)[12:].reset_index().store_nm.unique();q_1"
   ]
  },
  {
   "cell_type": "code",
   "execution_count": 250,
   "metadata": {},
   "outputs": [
    {
     "data": {
      "text/plain": [
       "store_nm\n",
       "본  점    277\n",
       "잠실점     250\n",
       "부산본점    246\n",
       "영등포점    235\n",
       "분당점     232\n",
       "노원점     228\n",
       "Name: gds_grp_nm, dtype: int64"
      ]
     },
     "execution_count": 250,
     "metadata": {},
     "output_type": "execute_result"
    }
   ],
   "source": [
    "tr.groupby('store_nm')['gds_grp_nm'].nunique().sort_values(ascending=False)[:6]"
   ]
  },
  {
   "cell_type": "code",
   "execution_count": 251,
   "metadata": {},
   "outputs": [
    {
     "data": {
      "text/plain": [
       "array(['본  점', '잠실점', '부산본점', '영등포점', '분당점', '노원점'], dtype=object)"
      ]
     },
     "execution_count": 251,
     "metadata": {},
     "output_type": "execute_result"
    }
   ],
   "source": [
    "q_3 = tr.groupby('store_nm')['gds_grp_nm'].nunique(\n",
    "                    ).sort_values(ascending=False)[:6].reset_index().store_nm.unique();q_3"
   ]
  },
  {
   "cell_type": "code",
   "execution_count": 252,
   "metadata": {},
   "outputs": [
    {
     "data": {
      "text/html": [
       "<div>\n",
       "<style scoped>\n",
       "    .dataframe tbody tr th:only-of-type {\n",
       "        vertical-align: middle;\n",
       "    }\n",
       "\n",
       "    .dataframe tbody tr th {\n",
       "        vertical-align: top;\n",
       "    }\n",
       "\n",
       "    .dataframe thead th {\n",
       "        text-align: right;\n",
       "    }\n",
       "</style>\n",
       "<table border=\"1\" class=\"dataframe\">\n",
       "  <thead>\n",
       "    <tr style=\"text-align: right;\">\n",
       "      <th></th>\n",
       "      <th>cust_id</th>\n",
       "      <th>store_nm</th>\n",
       "      <th>tran_date</th>\n",
       "    </tr>\n",
       "  </thead>\n",
       "  <tbody>\n",
       "    <tr>\n",
       "      <th>0</th>\n",
       "      <td>0</td>\n",
       "      <td>강남점</td>\n",
       "      <td>18</td>\n",
       "    </tr>\n",
       "    <tr>\n",
       "      <th>1</th>\n",
       "      <td>0</td>\n",
       "      <td>잠실점</td>\n",
       "      <td>1</td>\n",
       "    </tr>\n",
       "    <tr>\n",
       "      <th>2</th>\n",
       "      <td>1</td>\n",
       "      <td>잠실점</td>\n",
       "      <td>2</td>\n",
       "    </tr>\n",
       "    <tr>\n",
       "      <th>3</th>\n",
       "      <td>2</td>\n",
       "      <td>관악점</td>\n",
       "      <td>2</td>\n",
       "    </tr>\n",
       "    <tr>\n",
       "      <th>4</th>\n",
       "      <td>3</td>\n",
       "      <td>광주점</td>\n",
       "      <td>18</td>\n",
       "    </tr>\n",
       "    <tr>\n",
       "      <th>...</th>\n",
       "      <td>...</td>\n",
       "      <td>...</td>\n",
       "      <td>...</td>\n",
       "    </tr>\n",
       "    <tr>\n",
       "      <th>8896</th>\n",
       "      <td>5977</td>\n",
       "      <td>부산본점</td>\n",
       "      <td>6</td>\n",
       "    </tr>\n",
       "    <tr>\n",
       "      <th>8897</th>\n",
       "      <td>5978</td>\n",
       "      <td>광주점</td>\n",
       "      <td>1</td>\n",
       "    </tr>\n",
       "    <tr>\n",
       "      <th>8898</th>\n",
       "      <td>5979</td>\n",
       "      <td>본  점</td>\n",
       "      <td>19</td>\n",
       "    </tr>\n",
       "    <tr>\n",
       "      <th>8899</th>\n",
       "      <td>5980</td>\n",
       "      <td>본  점</td>\n",
       "      <td>5</td>\n",
       "    </tr>\n",
       "    <tr>\n",
       "      <th>8900</th>\n",
       "      <td>5981</td>\n",
       "      <td>영등포점</td>\n",
       "      <td>2</td>\n",
       "    </tr>\n",
       "  </tbody>\n",
       "</table>\n",
       "<p>8901 rows × 3 columns</p>\n",
       "</div>"
      ],
      "text/plain": [
       "      cust_id store_nm  tran_date\n",
       "0           0      강남점         18\n",
       "1           0      잠실점          1\n",
       "2           1      잠실점          2\n",
       "3           2      관악점          2\n",
       "4           3      광주점         18\n",
       "...       ...      ...        ...\n",
       "8896     5977     부산본점          6\n",
       "8897     5978      광주점          1\n",
       "8898     5979     본  점         19\n",
       "8899     5980     본  점          5\n",
       "8900     5981     영등포점          2\n",
       "\n",
       "[8901 rows x 3 columns]"
      ]
     },
     "execution_count": 252,
     "metadata": {},
     "output_type": "execute_result"
    }
   ],
   "source": [
    "df = tr.groupby(['cust_id','store_nm'])['tran_date'].apply(lambda x : x.nunique()).reset_index();df"
   ]
  },
  {
   "cell_type": "code",
   "execution_count": 253,
   "metadata": {},
   "outputs": [],
   "source": [
    "df = df.assign(가중치 = '')"
   ]
  },
  {
   "cell_type": "code",
   "execution_count": 254,
   "metadata": {},
   "outputs": [
    {
     "name": "stderr",
     "output_type": "stream",
     "text": [
      "C:\\anaconda3\\lib\\site-packages\\ipykernel_launcher.py:7: SettingWithCopyWarning: \n",
      "A value is trying to be set on a copy of a slice from a DataFrame\n",
      "\n",
      "See the caveats in the documentation: https://pandas.pydata.org/pandas-docs/stable/user_guide/indexing.html#returning-a-view-versus-a-copy\n",
      "  import sys\n",
      "C:\\anaconda3\\lib\\site-packages\\ipykernel_launcher.py:5: SettingWithCopyWarning: \n",
      "A value is trying to be set on a copy of a slice from a DataFrame\n",
      "\n",
      "See the caveats in the documentation: https://pandas.pydata.org/pandas-docs/stable/user_guide/indexing.html#returning-a-view-versus-a-copy\n",
      "  \"\"\"\n",
      "C:\\anaconda3\\lib\\site-packages\\ipykernel_launcher.py:3: SettingWithCopyWarning: \n",
      "A value is trying to be set on a copy of a slice from a DataFrame\n",
      "\n",
      "See the caveats in the documentation: https://pandas.pydata.org/pandas-docs/stable/user_guide/indexing.html#returning-a-view-versus-a-copy\n",
      "  This is separate from the ipykernel package so we can avoid doing imports until\n"
     ]
    }
   ],
   "source": [
    "for i in range(5147):\n",
    "    if df['store_nm'][i] in q_1 :\n",
    "        df['가중치'][i] = 2\n",
    "    elif df['store_nm'][i] in q_3:\n",
    "        df['가중치'][i] = 8\n",
    "    else :\n",
    "        df['가중치'][i] = 5\n"
   ]
  },
  {
   "cell_type": "code",
   "execution_count": 255,
   "metadata": {},
   "outputs": [
    {
     "data": {
      "text/html": [
       "<div>\n",
       "<style scoped>\n",
       "    .dataframe tbody tr th:only-of-type {\n",
       "        vertical-align: middle;\n",
       "    }\n",
       "\n",
       "    .dataframe tbody tr th {\n",
       "        vertical-align: top;\n",
       "    }\n",
       "\n",
       "    .dataframe thead th {\n",
       "        text-align: right;\n",
       "    }\n",
       "</style>\n",
       "<table border=\"1\" class=\"dataframe\">\n",
       "  <thead>\n",
       "    <tr style=\"text-align: right;\">\n",
       "      <th></th>\n",
       "      <th>cust_id</th>\n",
       "      <th>store_nm</th>\n",
       "      <th>tran_date</th>\n",
       "      <th>가중치</th>\n",
       "    </tr>\n",
       "  </thead>\n",
       "  <tbody>\n",
       "    <tr>\n",
       "      <th>0</th>\n",
       "      <td>0</td>\n",
       "      <td>강남점</td>\n",
       "      <td>18</td>\n",
       "      <td>5</td>\n",
       "    </tr>\n",
       "    <tr>\n",
       "      <th>1</th>\n",
       "      <td>0</td>\n",
       "      <td>잠실점</td>\n",
       "      <td>1</td>\n",
       "      <td>8</td>\n",
       "    </tr>\n",
       "    <tr>\n",
       "      <th>2</th>\n",
       "      <td>1</td>\n",
       "      <td>잠실점</td>\n",
       "      <td>2</td>\n",
       "      <td>8</td>\n",
       "    </tr>\n",
       "    <tr>\n",
       "      <th>3</th>\n",
       "      <td>2</td>\n",
       "      <td>관악점</td>\n",
       "      <td>2</td>\n",
       "      <td>2</td>\n",
       "    </tr>\n",
       "    <tr>\n",
       "      <th>4</th>\n",
       "      <td>3</td>\n",
       "      <td>광주점</td>\n",
       "      <td>18</td>\n",
       "      <td>5</td>\n",
       "    </tr>\n",
       "    <tr>\n",
       "      <th>...</th>\n",
       "      <td>...</td>\n",
       "      <td>...</td>\n",
       "      <td>...</td>\n",
       "      <td>...</td>\n",
       "    </tr>\n",
       "    <tr>\n",
       "      <th>8896</th>\n",
       "      <td>5977</td>\n",
       "      <td>부산본점</td>\n",
       "      <td>6</td>\n",
       "      <td></td>\n",
       "    </tr>\n",
       "    <tr>\n",
       "      <th>8897</th>\n",
       "      <td>5978</td>\n",
       "      <td>광주점</td>\n",
       "      <td>1</td>\n",
       "      <td></td>\n",
       "    </tr>\n",
       "    <tr>\n",
       "      <th>8898</th>\n",
       "      <td>5979</td>\n",
       "      <td>본  점</td>\n",
       "      <td>19</td>\n",
       "      <td></td>\n",
       "    </tr>\n",
       "    <tr>\n",
       "      <th>8899</th>\n",
       "      <td>5980</td>\n",
       "      <td>본  점</td>\n",
       "      <td>5</td>\n",
       "      <td></td>\n",
       "    </tr>\n",
       "    <tr>\n",
       "      <th>8900</th>\n",
       "      <td>5981</td>\n",
       "      <td>영등포점</td>\n",
       "      <td>2</td>\n",
       "      <td></td>\n",
       "    </tr>\n",
       "  </tbody>\n",
       "</table>\n",
       "<p>8901 rows × 4 columns</p>\n",
       "</div>"
      ],
      "text/plain": [
       "      cust_id store_nm  tran_date 가중치\n",
       "0           0      강남점         18   5\n",
       "1           0      잠실점          1   8\n",
       "2           1      잠실점          2   8\n",
       "3           2      관악점          2   2\n",
       "4           3      광주점         18   5\n",
       "...       ...      ...        ...  ..\n",
       "8896     5977     부산본점          6    \n",
       "8897     5978      광주점          1    \n",
       "8898     5979     본  점         19    \n",
       "8899     5980     본  점          5    \n",
       "8900     5981     영등포점          2    \n",
       "\n",
       "[8901 rows x 4 columns]"
      ]
     },
     "execution_count": 255,
     "metadata": {},
     "output_type": "execute_result"
    }
   ],
   "source": [
    "df"
   ]
  },
  {
   "cell_type": "code",
   "execution_count": 256,
   "metadata": {},
   "outputs": [],
   "source": [
    "df['다양한 제품 보유 지점 선호도']=df['tran_date']*df['가중치']"
   ]
  },
  {
   "cell_type": "code",
   "execution_count": 257,
   "metadata": {},
   "outputs": [],
   "source": [
    "f = df.groupby('cust_id')['다양한 제품 보유 지점 선호도'].sum().reset_index()"
   ]
  },
  {
   "cell_type": "code",
   "execution_count": 258,
   "metadata": {},
   "outputs": [],
   "source": [
    "features = features.merge(f, how='left')"
   ]
  },
  {
   "cell_type": "code",
   "execution_count": 259,
   "metadata": {},
   "outputs": [],
   "source": [
    "tr = pd.concat([train, test])"
   ]
  },
  {
   "cell_type": "markdown",
   "metadata": {},
   "source": [
    "#### 출처 : 31-31\n",
    "#### 31.목적지향적 물품 소비율"
   ]
  },
  {
   "cell_type": "code",
   "execution_count": 260,
   "metadata": {},
   "outputs": [
    {
     "data": {
      "text/plain": [
       "36         가구\n",
       "37     남성 트랜디\n",
       "38     통신/컴퓨터\n",
       "39       소형가전\n",
       "40         보석\n",
       "41       기타의류\n",
       "42     준보석/시계\n",
       "43         악기\n",
       "44         교복\n",
       "45      문구/팬시\n",
       "46         웨딩\n",
       "47    멀티(아울렛)\n",
       "48      전자/전기\n",
       "Name: gds_grp_mclas_nm, dtype: object"
      ]
     },
     "execution_count": 260,
     "metadata": {},
     "output_type": "execute_result"
    }
   ],
   "source": [
    "tr.groupby('gds_grp_mclas_nm')['amount'].count().sort_values(ascending=False).reset_index().iloc[36:,0]\n",
    "# 323 이 25%\n",
    "# 그냥 구매건수가 많은거 (구매개수아님)"
   ]
  },
  {
   "cell_type": "code",
   "execution_count": 261,
   "metadata": {},
   "outputs": [],
   "source": [
    "l=[]\n",
    "for i in range(13) :\n",
    "    \n",
    "    k = tr.groupby('gds_grp_mclas_nm')['amount'].count().sort_values(ascending=False).reset_index().iloc[36+i,0]\n",
    "    l.append(k)"
   ]
  },
  {
   "cell_type": "code",
   "execution_count": 262,
   "metadata": {},
   "outputs": [
    {
     "name": "stderr",
     "output_type": "stream",
     "text": [
      "C:\\anaconda3\\lib\\site-packages\\ipykernel_launcher.py:1: RuntimeWarning: invalid value encountered in longlong_scalars\n",
      "  \"\"\"Entry point for launching an IPython kernel.\n"
     ]
    },
    {
     "data": {
      "text/plain": [
       "array([0.00000000e+00, 3.33333333e-01, 8.33333333e-02, 6.02409639e-03,\n",
       "       1.88679245e-02, 3.66972477e-03, 3.44827586e-02, 1.42857143e-01,\n",
       "       6.57462196e-04, 8.81057269e-03, 1.35135135e-02, 1.18906064e-03,\n",
       "       3.50877193e-02, 1.33333333e-02, 1.25786164e-03, 2.50000000e-01,\n",
       "       2.70270270e-02, 7.29927007e-03, 6.25000000e-02, 3.22580645e-02,\n",
       "       2.84090909e-03, 1.49253731e-02, 1.78571429e-02, 1.48148148e-01,\n",
       "       9.05797101e-03, 2.40963855e-02, 1.66666667e-01, 3.07692308e-02,\n",
       "       4.16666667e-02, 2.94117647e-02, 1.14942529e-02, 6.42398287e-03,\n",
       "       3.50877193e-03, 2.22222222e-01, 2.12765957e-02, 1.00000000e-01,\n",
       "       2.40963855e-03, 4.08163265e-02, 6.17283951e-03, 1.57480315e-02,\n",
       "       2.50000000e-02, 6.99300699e-03, 1.03092784e-02, 1.21951220e-02,\n",
       "       4.13223140e-03, 2.05761317e-02, 8.92857143e-03, 5.00000000e-01,\n",
       "       3.34448161e-03, 3.77358491e-02, 9.25925926e-03, 3.70370370e-02,\n",
       "       7.14285714e-03, 3.33333333e-02, 3.78787879e-03, 1.00000000e+00,\n",
       "       2.04081633e-02, 4.70588235e-02, 1.29310345e-02, 4.73933649e-03,\n",
       "       4.78468900e-03, 2.90697674e-03, 7.14285714e-02, 1.13636364e-02,\n",
       "       6.94444444e-03, 1.23456790e-02, 4.54545455e-02, 1.96078431e-02,\n",
       "       3.67647059e-03, 1.54639175e-02, 9.90099010e-03, 1.20481928e-02,\n",
       "       1.47058824e-02, 1.63934426e-02, 2.17391304e-02, 2.00000000e-02,\n",
       "       8.00000000e-02, 6.49350649e-03, 1.61290323e-02, 2.43902439e-02,\n",
       "       1.76991150e-02, 1.32013201e-02, 1.51515152e-02, 1.72413793e-02,\n",
       "       7.09219858e-03, 5.26315789e-02, 9.43396226e-03, 1.28205128e-02,\n",
       "       2.54237288e-02, 4.34782609e-02, 1.94174757e-02, 1.16279070e-02,\n",
       "       3.12500000e-02, 4.90196078e-02, 3.84615385e-02, 2.08333333e-02,\n",
       "       5.27704485e-03, 7.69230769e-02, 2.81690141e-02, 1.43884892e-02,\n",
       "       2.30414747e-03, 3.16455696e-02, 6.06060606e-03, 1.80722892e-02,\n",
       "       5.20833333e-03, 7.35294118e-03, 9.80392157e-03, 1.42857143e-02,\n",
       "       2.58064516e-01, 6.06060606e-02, 1.44927536e-02, 5.92592593e-02,\n",
       "       4.83091787e-03, 4.93827160e-02, 4.00000000e-02, 2.63157895e-02,\n",
       "       2.38095238e-02, 1.08695652e-02, 5.55555556e-02, 1.71821306e-03,\n",
       "       5.84795322e-03, 1.26582278e-02, 9.61538462e-03, 2.90697674e-02,\n",
       "       6.13496933e-03, 2.85714286e-02, 1.81818182e-02, 4.54545455e-03,\n",
       "       3.89610390e-02, 9.09090909e-02, 6.66666667e-01, 3.57142857e-02,\n",
       "       2.60663507e-02, 6.28930818e-03, 8.69565217e-02, 2.77777778e-02,\n",
       "       5.40540541e-02, 1.11111111e-01, 7.38007380e-03, 1.00502513e-02,\n",
       "       5.00000000e-02, 2.60416667e-03, 7.81250000e-03, 2.44498778e-03,\n",
       "       8.13008130e-03, 1.37551582e-03, 1.69491525e-02, 1.58730159e-02,\n",
       "       3.84615385e-03, 4.76190476e-02, 3.08988764e-02, 1.36239782e-03,\n",
       "       1.93548387e-02, 1.75438596e-02, 6.87285223e-03, 4.23728814e-02,\n",
       "       9.52380952e-03, 2.42718447e-03, 8.92857143e-02, 1.11111111e-02,\n",
       "       5.22875817e-02, 5.88235294e-02, 2.73972603e-02, 7.69230769e-03,\n",
       "       5.23560209e-03, 6.09756098e-03, 1.01694915e-02, 1.04166667e-02,\n",
       "       7.87401575e-03, 1.31578947e-02, 8.26446281e-03, 4.71698113e-03,\n",
       "       1.18343195e-02, 1.06382979e-02, 1.40845070e-02, 1.36986301e-02,\n",
       "       3.79746835e-02, 1.37931034e-01, 2.53164557e-02, 3.75939850e-03,\n",
       "       2.56410256e-02, 3.89105058e-03, 1.25000000e-01, 1.00719424e-01,\n",
       "       5.45454545e-02, 1.67597765e-02, 1.48148148e-02, 2.81425891e-03,\n",
       "       7.63358779e-03, 1.85185185e-02, 9.06344411e-03, 3.11526480e-03,\n",
       "       1.97368421e-02, 2.15517241e-03, 9.93048659e-04, 1.45985401e-03,\n",
       "       2.46913580e-02, 5.37634409e-03, 4.97512438e-03, 1.08108108e-03,\n",
       "       9.09090909e-03, 6.53594771e-03, 7.15990453e-03, 1.05633803e-02,\n",
       "       8.54700855e-03, 2.85714286e-01, 9.52380952e-02, 5.07614213e-03,\n",
       "       2.16216216e-02, 9.02527076e-03, 5.66037736e-02, 6.84931507e-03,\n",
       "       1.01522843e-02, 3.03030303e-02, 1.07142857e-01, 9.95024876e-03,\n",
       "       2.32558140e-02, 5.63380282e-02, 1.05263158e-02, 5.55555556e-03,\n",
       "       1.27226463e-02, 3.03278689e-01, 1.07526882e-01, 3.92156863e-02,\n",
       "       2.18340611e-03, 2.27272727e-02, 5.71428571e-02, 9.23076923e-02,\n",
       "       1.40449438e-03, 6.80272109e-03, 1.21951220e-01, 6.21118012e-03,\n",
       "       1.92307692e-02, 8.51063830e-03, 4.49438202e-02, 1.39534884e-02,\n",
       "       3.58422939e-03, 5.12820513e-02, 9.34579439e-03, 3.41296928e-03,\n",
       "       4.76190476e-03, 5.26315789e-03, 8.36820084e-03, 8.19672131e-03,\n",
       "       6.09756098e-02, 8.77192982e-03, 2.68096515e-03, 6.25000000e-03,\n",
       "       2.53807107e-02, 8.76424189e-04, 6.94444444e-02, 1.00000000e-02,\n",
       "       8.16326531e-02, 4.62962963e-03, 4.87804878e-03, 7.54716981e-02,\n",
       "       1.53846154e-02, 1.15606936e-02, 8.40336134e-03, 4.00000000e-01,\n",
       "       1.02040816e-02, 4.65116279e-02, 2.24719101e-03, 3.32225914e-03,\n",
       "       4.32900433e-03, 1.22448980e-02, 5.46448087e-03, 3.27868852e-02,\n",
       "       1.47783251e-02, 3.63636364e-02, 6.66666667e-02, 6.77966102e-02,\n",
       "       2.00400802e-03, 4.22535211e-02, 1.81159420e-03, 2.19780220e-02,\n",
       "       4.41176471e-02, 2.67175573e-02, 2.09790210e-02, 1.45137881e-03,\n",
       "       2.16450216e-02, 2.00000000e-01, 3.00000000e-01, 1.10905730e-02,\n",
       "       1.77935943e-03, 3.17460317e-02, 1.12359551e-02, 1.04166667e-01,\n",
       "       3.33333333e-03, 2.00000000e-03, 7.46268657e-03, 4.49775112e-03,\n",
       "       3.96825397e-03, 1.10864745e-03, 2.05128205e-02, 2.06185567e-02,\n",
       "       1.66666667e-02, 1.17647059e-02, 6.07734807e-02, 2.11864407e-03,\n",
       "       1.19047619e-01, 2.48962656e-02, 5.81395349e-03, 1.74520070e-03,\n",
       "       1.07526882e-02, 1.15273775e-02, 9.00900901e-03, 4.31034483e-03,\n",
       "       1.82648402e-02, 3.29218107e-02, 4.85436893e-03, 2.52100840e-02,\n",
       "       4.23728814e-03, 1.05932203e-03, 1.41843972e-02, 1.38888889e-02,\n",
       "       2.14285714e-01, 3.73134328e-03, 5.88235294e-03, 7.52445448e-04,\n",
       "       7.46268657e-02, 5.68181818e-03, 1.32158590e-02, 3.62976407e-03,\n",
       "       2.61780105e-02, 3.98406375e-03, 6.04838710e-03, 1.20000000e-01,\n",
       "       4.44444444e-03, 3.15457413e-03, 7.93650794e-03, 2.22222222e-02,\n",
       "       7.19424460e-03, 5.83090379e-03, 1.08108108e-02, 6.45161290e-02,\n",
       "       7.27272727e-02, 2.40000000e-02, 8.62068966e-03, 1.62601626e-02,\n",
       "       4.56621005e-03, 8.06451613e-03, 7.75193798e-03, 3.86100386e-03,\n",
       "       7.57575758e-03, 4.95049505e-03, 4.09836066e-03, 3.37078652e-02,\n",
       "       3.71747212e-03, 1.52671756e-02, 5.30503979e-03, 4.46428571e-03,\n",
       "       2.67857143e-02, 6.34920635e-03, 5.02512563e-03, 8.00000000e-03,\n",
       "       1.15384615e-02, 4.90196078e-03, 5.79710145e-02, 1.76470588e-01,\n",
       "       1.73410405e-02, 1.09890110e-02, 8.47457627e-03, 5.63380282e-03,\n",
       "       3.52941176e-02, 3.10559006e-03, 5.81395349e-02, 2.68456376e-03,\n",
       "       7.02740689e-04, 3.77358491e-03, 3.55871886e-03, 3.63636364e-03,\n",
       "       4.67289720e-03, 5.18134715e-03, 7.40740741e-03, 9.17431193e-03,\n",
       "       2.37529691e-03, 2.38095238e-03, 6.89655172e-02, 2.75482094e-03,\n",
       "       1.22699387e-02, 1.41509434e-02, 6.41025641e-03, 8.56531049e-03,\n",
       "       4.65116279e-03, 2.29885057e-02, 2.06896552e-02, 2.18750000e-01,\n",
       "       8.33333333e-03, 4.79041916e-02, 2.45398773e-02, 6.08365019e-02,\n",
       "       5.64971751e-03, 2.47933884e-02, 1.27551020e-02, 1.29032258e-02,\n",
       "       6.57276995e-02, 3.08641975e-03, 7.89473684e-02, 2.18978102e-02,\n",
       "       3.46020761e-03, 2.91970803e-02, 2.41935484e-02, 5.29100529e-03,\n",
       "       8.10810811e-02, 1.06951872e-02, 7.51879699e-03, 2.52525253e-03,\n",
       "       3.55029586e-02, 8.82352941e-02, 4.58715596e-02, 4.38596491e-03,\n",
       "       9.83606557e-02, 3.90625000e-03, 1.98019802e-02, 2.89855072e-02,\n",
       "       2.47524752e-03, 8.57142857e-02, 2.35294118e-03, 3.19148936e-02,\n",
       "       3.53356890e-03, 4.06504065e-02, 1.19760479e-02, 1.30718954e-02,\n",
       "       7.33944954e-02, 2.31884058e-02, 7.67263427e-03, 8.00000000e-01,\n",
       "       3.26086957e-02, 1.54679041e-03, 8.23045267e-03, 1.29870130e-02,\n",
       "       3.86740331e-02, 4.24328147e-03, 1.35922330e-02, 1.45985401e-02,\n",
       "       1.19047619e-02, 1.30434783e-02, 1.06060606e-02, 2.35294118e-02,\n",
       "       8.94308943e-02, 2.83286119e-03, 1.55038760e-02, 4.52488688e-03,\n",
       "       2.46913580e-01, 3.00000000e-02, 4.29184549e-03, 1.27795527e-02,\n",
       "       6.81818182e-02, 4.09836066e-02, 5.28169014e-03, 5.63909774e-03,\n",
       "       2.02020202e-02, 1.90839695e-03, 8.65800866e-03, 2.36966825e-02,\n",
       "       7.24637681e-03, 4.01606426e-03, 3.95256917e-03, 5.58659218e-03,\n",
       "       2.15053763e-02, 1.29198966e-03, 4.25531915e-02, 6.15384615e-02,\n",
       "       1.01010101e-02, 7.79220779e-02, 9.58466454e-03, 1.21212121e-02,\n",
       "       1.12781955e-02, 8.75273523e-03, 4.05405405e-02, 1.58730159e-03,\n",
       "       3.64963504e-03, 7.66283525e-03, 4.21940928e-03, 1.57232704e-03,\n",
       "       1.25523013e-02, 1.74927114e-02, 1.79211470e-03, 7.93650794e-02,\n",
       "       1.14285714e-02, 2.58397933e-03, 2.13903743e-02, 6.45161290e-03,\n",
       "       4.07331976e-03, 2.86123033e-03, 1.73913043e-02, 3.87596899e-02,\n",
       "       6.87022901e-02, 2.13675214e-03, 2.79329609e-03, 1.64473684e-03,\n",
       "       5.82524272e-02, 6.50406504e-03, 1.36363636e-01, 1.42180095e-02,\n",
       "       4.28571429e-01, 3.23624595e-03, 9.85915493e-02])"
      ]
     },
     "execution_count": 262,
     "metadata": {},
     "output_type": "execute_result"
    }
   ],
   "source": [
    "tr.groupby('cust_id')['gds_grp_mclas_nm'].agg(lambda x :(x.isin(l)).sum()/x.count() ).unique()"
   ]
  },
  {
   "cell_type": "code",
   "execution_count": 263,
   "metadata": {},
   "outputs": [
    {
     "name": "stderr",
     "output_type": "stream",
     "text": [
      "C:\\anaconda3\\lib\\site-packages\\ipykernel_launcher.py:1: RuntimeWarning: invalid value encountered in longlong_scalars\n",
      "  \"\"\"Entry point for launching an IPython kernel.\n"
     ]
    }
   ],
   "source": [
    "f = tr.groupby('cust_id')['gds_grp_mclas_nm'].agg([('목적지향적 물품 소비율',lambda x :(x.isin(l)).sum()/x.count())]).reset_index()"
   ]
  },
  {
   "cell_type": "code",
   "execution_count": 264,
   "metadata": {},
   "outputs": [],
   "source": [
    "features = features.merge(f, how='left')"
   ]
  },
  {
   "cell_type": "markdown",
   "metadata": {},
   "source": [
    "#### 출처 : 31-33\n",
    "#### 33.내점시마다 구매액의 일관성"
   ]
  },
  {
   "cell_type": "code",
   "execution_count": 265,
   "metadata": {},
   "outputs": [
    {
     "data": {
      "text/html": [
       "<div>\n",
       "<style scoped>\n",
       "    .dataframe tbody tr th:only-of-type {\n",
       "        vertical-align: middle;\n",
       "    }\n",
       "\n",
       "    .dataframe tbody tr th {\n",
       "        vertical-align: top;\n",
       "    }\n",
       "\n",
       "    .dataframe thead th {\n",
       "        text-align: right;\n",
       "    }\n",
       "</style>\n",
       "<table border=\"1\" class=\"dataframe\">\n",
       "  <thead>\n",
       "    <tr style=\"text-align: right;\">\n",
       "      <th></th>\n",
       "      <th>cust_id</th>\n",
       "      <th>내점시마다 구매액의 일관성</th>\n",
       "    </tr>\n",
       "  </thead>\n",
       "  <tbody>\n",
       "    <tr>\n",
       "      <th>0</th>\n",
       "      <td>0</td>\n",
       "      <td>1.967007e+13</td>\n",
       "    </tr>\n",
       "    <tr>\n",
       "      <th>1</th>\n",
       "      <td>1</td>\n",
       "      <td>5.898240e+11</td>\n",
       "    </tr>\n",
       "    <tr>\n",
       "      <th>2</th>\n",
       "      <td>2</td>\n",
       "      <td>1.322500e+10</td>\n",
       "    </tr>\n",
       "    <tr>\n",
       "      <th>3</th>\n",
       "      <td>3</td>\n",
       "      <td>2.298187e+12</td>\n",
       "    </tr>\n",
       "    <tr>\n",
       "      <th>4</th>\n",
       "      <td>4</td>\n",
       "      <td>1.556256e+14</td>\n",
       "    </tr>\n",
       "    <tr>\n",
       "      <th>...</th>\n",
       "      <td>...</td>\n",
       "      <td>...</td>\n",
       "    </tr>\n",
       "    <tr>\n",
       "      <th>5977</th>\n",
       "      <td>5977</td>\n",
       "      <td>7.131591e+13</td>\n",
       "    </tr>\n",
       "    <tr>\n",
       "      <th>5978</th>\n",
       "      <td>5978</td>\n",
       "      <td>0.000000e+00</td>\n",
       "    </tr>\n",
       "    <tr>\n",
       "      <th>5979</th>\n",
       "      <td>5979</td>\n",
       "      <td>1.418008e+14</td>\n",
       "    </tr>\n",
       "    <tr>\n",
       "      <th>5980</th>\n",
       "      <td>5980</td>\n",
       "      <td>5.815031e+13</td>\n",
       "    </tr>\n",
       "    <tr>\n",
       "      <th>5981</th>\n",
       "      <td>5981</td>\n",
       "      <td>1.878270e+10</td>\n",
       "    </tr>\n",
       "  </tbody>\n",
       "</table>\n",
       "<p>5982 rows × 2 columns</p>\n",
       "</div>"
      ],
      "text/plain": [
       "      cust_id  내점시마다 구매액의 일관성\n",
       "0           0    1.967007e+13\n",
       "1           1    5.898240e+11\n",
       "2           2    1.322500e+10\n",
       "3           3    2.298187e+12\n",
       "4           4    1.556256e+14\n",
       "...       ...             ...\n",
       "5977     5977    7.131591e+13\n",
       "5978     5978    0.000000e+00\n",
       "5979     5979    1.418008e+14\n",
       "5980     5980    5.815031e+13\n",
       "5981     5981    1.878270e+10\n",
       "\n",
       "[5982 rows x 2 columns]"
      ]
     },
     "execution_count": 265,
     "metadata": {},
     "output_type": "execute_result"
    }
   ],
   "source": [
    "f =tr.groupby(['cust_id','tran_date'])['amount'].sum().reset_index().groupby('cust_id')['amount'].agg(\n",
    "                                                    [('내점시마다 구매액의 일관성',lambda x : np.var(x))]).reset_index();f"
   ]
  },
  {
   "cell_type": "code",
   "execution_count": 266,
   "metadata": {},
   "outputs": [],
   "source": [
    "features = features.merge(f, how='left')"
   ]
  },
  {
   "cell_type": "markdown",
   "metadata": {},
   "source": [
    "#### 출처 : 33-3,4\n",
    "3~4. 초고가상품구매액, 초고가상품구매율"
   ]
  },
  {
   "cell_type": "code",
   "execution_count": 267,
   "metadata": {},
   "outputs": [],
   "source": [
    "f = tr.groupby('cust_id')['amount'].agg([\n",
    "    ('총구매액', np.sum),\n",
    "]).reset_index()\n",
    "f_1= tr.loc[tr['amount'] > tr['amount'].quantile(0.88)].groupby('cust_id')['amount'].agg([\n",
    "    ('총초고가상품구매액', np.sum)\n",
    "]).reset_index()\n",
    "f = pd.merge(f,f_1, on = 'cust_id', how='left')\n",
    "f['초고가상품구매율'] = f['총초고가상품구매액'] / f['총구매액']\n",
    "features.append(f[['cust_id','초고가상품구매율']])\n",
    "f[['cust_id','초고가상품구매율']]\n",
    "features = features.merge(f, how='left')\n",
    "#초고가의 경우 "
   ]
  },
  {
   "cell_type": "code",
   "execution_count": 268,
   "metadata": {},
   "outputs": [
    {
     "data": {
      "text/plain": [
       "2990000.0"
      ]
     },
     "execution_count": 268,
     "metadata": {},
     "output_type": "execute_result"
    }
   ],
   "source": [
    "tr['amount'].quantile(0.88)"
   ]
  },
  {
   "cell_type": "code",
   "execution_count": 269,
   "metadata": {},
   "outputs": [
    {
     "data": {
      "image/png": "[encoded data removed]",
      "text/plain": [
       "<Figure size 432x288 with 1 Axes>"
      ]
     },
     "metadata": {
      "needs_background": "light"
     },
     "output_type": "display_data"
    }
   ],
   "source": [
    "plt.boxplot(tr.loc[tr['amount'] > tr['amount'].quantile(0.88)]['amount'])\n",
    "plt.show()"
   ]
  },
  {
   "cell_type": "markdown",
   "metadata": {
    "_uuid": "a9813ebe8f5d527dfb4fd4bc3834c8547fae9b84",
    "colab": {
     "autoexec": {
      "startup": false,
      "wait_interval": 0
     }
    },
    "colab_type": "code",
    "id": "53OCEl0yhTQb"
   },
   "source": [
    "<font color=\"blue\"><p>\n",
    "## Save Features\n",
    "- 아래 코드를 수행하면 생성한 모든 파생변수가 학습용과 평가용으로 분리되어 저장된다."
   ]
  },
  {
   "cell_type": "code",
   "execution_count": 270,
   "metadata": {
    "_uuid": "5d11137c06705c179dc3f71accb96c7c3586083a",
    "colab": {
     "autoexec": {
      "startup": false,
      "wait_interval": 0
     }
    },
    "colab_type": "code",
    "id": "j6f4eGnChTRO",
    "outputId": "75ac69b7-f7d3-4a89-8fc9-58630147b486"
   },
   "outputs": [
    {
     "data": {
      "text/html": [
       "<div>\n",
       "<style scoped>\n",
       "    .dataframe tbody tr th:only-of-type {\n",
       "        vertical-align: middle;\n",
       "    }\n",
       "\n",
       "    .dataframe tbody tr th {\n",
       "        vertical-align: top;\n",
       "    }\n",
       "\n",
       "    .dataframe thead th {\n",
       "        text-align: right;\n",
       "    }\n",
       "</style>\n",
       "<table border=\"1\" class=\"dataframe\">\n",
       "  <thead>\n",
       "    <tr style=\"text-align: right;\">\n",
       "      <th></th>\n",
       "      <th>cust_id</th>\n",
       "      <th>총구매액</th>\n",
       "      <th>평균구매액</th>\n",
       "      <th>최대구매액</th>\n",
       "      <th>구매상품종류1</th>\n",
       "      <th>구매상품종류2</th>\n",
       "      <th>구매상품종류3</th>\n",
       "      <th>내점일수</th>\n",
       "      <th>구매주기</th>\n",
       "      <th>주말방문비율</th>\n",
       "      <th>...</th>\n",
       "      <th>recommend_items</th>\n",
       "      <th>고가상품최다빈도품목</th>\n",
       "      <th>최대지출품목</th>\n",
       "      <th>Top5상품구매건수</th>\n",
       "      <th>선호시즌</th>\n",
       "      <th>다양한 제품 보유 지점 선호도</th>\n",
       "      <th>목적지향적 물품 소비율</th>\n",
       "      <th>내점시마다 구매액의 일관성</th>\n",
       "      <th>총초고가상품구매액</th>\n",
       "      <th>초고가상품구매율</th>\n",
       "    </tr>\n",
       "  </thead>\n",
       "  <tbody>\n",
       "    <tr>\n",
       "      <th>0</th>\n",
       "      <td>0</td>\n",
       "      <td>68282840</td>\n",
       "      <td>922741</td>\n",
       "      <td>11264000</td>\n",
       "      <td>35</td>\n",
       "      <td>28</td>\n",
       "      <td>17</td>\n",
       "      <td>19</td>\n",
       "      <td>17</td>\n",
       "      <td>0.527027</td>\n",
       "      <td>...</td>\n",
       "      <td>농산가공</td>\n",
       "      <td>화장품</td>\n",
       "      <td>화장품</td>\n",
       "      <td>31</td>\n",
       "      <td>이사/혼수시즌</td>\n",
       "      <td>98</td>\n",
       "      <td>0.000000</td>\n",
       "      <td>1.967007e+13</td>\n",
       "      <td>51378500.0</td>\n",
       "      <td>0.752436</td>\n",
       "    </tr>\n",
       "    <tr>\n",
       "      <th>1</th>\n",
       "      <td>1</td>\n",
       "      <td>2136000</td>\n",
       "      <td>712000</td>\n",
       "      <td>2136000</td>\n",
       "      <td>2</td>\n",
       "      <td>2</td>\n",
       "      <td>2</td>\n",
       "      <td>2</td>\n",
       "      <td>1</td>\n",
       "      <td>0.000000</td>\n",
       "      <td>...</td>\n",
       "      <td>시티캐주얼</td>\n",
       "      <td>트래디셔널</td>\n",
       "      <td>트래디셔널</td>\n",
       "      <td>0</td>\n",
       "      <td>이사/혼수시즌</td>\n",
       "      <td>16</td>\n",
       "      <td>0.000000</td>\n",
       "      <td>5.898240e+11</td>\n",
       "      <td>NaN</td>\n",
       "      <td>NaN</td>\n",
       "    </tr>\n",
       "    <tr>\n",
       "      <th>2</th>\n",
       "      <td>2</td>\n",
       "      <td>3197000</td>\n",
       "      <td>799250</td>\n",
       "      <td>1639000</td>\n",
       "      <td>1</td>\n",
       "      <td>2</td>\n",
       "      <td>2</td>\n",
       "      <td>2</td>\n",
       "      <td>1</td>\n",
       "      <td>0.000000</td>\n",
       "      <td>...</td>\n",
       "      <td>비지니스군</td>\n",
       "      <td>남성 캐주얼</td>\n",
       "      <td>남성 캐주얼</td>\n",
       "      <td>2</td>\n",
       "      <td>기타</td>\n",
       "      <td>4</td>\n",
       "      <td>0.000000</td>\n",
       "      <td>1.322500e+10</td>\n",
       "      <td>NaN</td>\n",
       "      <td>NaN</td>\n",
       "    </tr>\n",
       "    <tr>\n",
       "      <th>3</th>\n",
       "      <td>3</td>\n",
       "      <td>16077620</td>\n",
       "      <td>365400</td>\n",
       "      <td>4935000</td>\n",
       "      <td>24</td>\n",
       "      <td>20</td>\n",
       "      <td>13</td>\n",
       "      <td>18</td>\n",
       "      <td>16</td>\n",
       "      <td>0.318182</td>\n",
       "      <td>...</td>\n",
       "      <td>햄</td>\n",
       "      <td>캐주얼</td>\n",
       "      <td>침구/수예</td>\n",
       "      <td>16</td>\n",
       "      <td>이사/혼수시즌</td>\n",
       "      <td>90</td>\n",
       "      <td>0.000000</td>\n",
       "      <td>2.298187e+12</td>\n",
       "      <td>9410000.0</td>\n",
       "      <td>0.585286</td>\n",
       "    </tr>\n",
       "    <tr>\n",
       "      <th>4</th>\n",
       "      <td>4</td>\n",
       "      <td>29050000</td>\n",
       "      <td>9683333</td>\n",
       "      <td>24000000</td>\n",
       "      <td>2</td>\n",
       "      <td>3</td>\n",
       "      <td>3</td>\n",
       "      <td>2</td>\n",
       "      <td>85</td>\n",
       "      <td>0.000000</td>\n",
       "      <td>...</td>\n",
       "      <td>시니어</td>\n",
       "      <td>보석</td>\n",
       "      <td>보석</td>\n",
       "      <td>2</td>\n",
       "      <td>기타</td>\n",
       "      <td>16</td>\n",
       "      <td>0.333333</td>\n",
       "      <td>1.556256e+14</td>\n",
       "      <td>27000000.0</td>\n",
       "      <td>0.929432</td>\n",
       "    </tr>\n",
       "    <tr>\n",
       "      <th>...</th>\n",
       "      <td>...</td>\n",
       "      <td>...</td>\n",
       "      <td>...</td>\n",
       "      <td>...</td>\n",
       "      <td>...</td>\n",
       "      <td>...</td>\n",
       "      <td>...</td>\n",
       "      <td>...</td>\n",
       "      <td>...</td>\n",
       "      <td>...</td>\n",
       "      <td>...</td>\n",
       "      <td>...</td>\n",
       "      <td>...</td>\n",
       "      <td>...</td>\n",
       "      <td>...</td>\n",
       "      <td>...</td>\n",
       "      <td>...</td>\n",
       "      <td>...</td>\n",
       "      <td>...</td>\n",
       "      <td>...</td>\n",
       "      <td>...</td>\n",
       "    </tr>\n",
       "    <tr>\n",
       "      <th>5977</th>\n",
       "      <td>5977</td>\n",
       "      <td>82581500</td>\n",
       "      <td>5898679</td>\n",
       "      <td>23976000</td>\n",
       "      <td>8</td>\n",
       "      <td>7</td>\n",
       "      <td>7</td>\n",
       "      <td>8</td>\n",
       "      <td>40</td>\n",
       "      <td>0.642857</td>\n",
       "      <td>...</td>\n",
       "      <td>시티웨어</td>\n",
       "      <td>골프</td>\n",
       "      <td>시티웨어</td>\n",
       "      <td>4</td>\n",
       "      <td>기타</td>\n",
       "      <td></td>\n",
       "      <td>0.000000</td>\n",
       "      <td>7.131591e+13</td>\n",
       "      <td>69236000.0</td>\n",
       "      <td>0.838396</td>\n",
       "    </tr>\n",
       "    <tr>\n",
       "      <th>5978</th>\n",
       "      <td>5978</td>\n",
       "      <td>480000</td>\n",
       "      <td>480000</td>\n",
       "      <td>480000</td>\n",
       "      <td>1</td>\n",
       "      <td>1</td>\n",
       "      <td>1</td>\n",
       "      <td>1</td>\n",
       "      <td>0</td>\n",
       "      <td>0.000000</td>\n",
       "      <td>...</td>\n",
       "      <td>니  트</td>\n",
       "      <td>NaN</td>\n",
       "      <td>섬유잡화</td>\n",
       "      <td>0</td>\n",
       "      <td>기타</td>\n",
       "      <td></td>\n",
       "      <td>0.000000</td>\n",
       "      <td>0.000000e+00</td>\n",
       "      <td>NaN</td>\n",
       "      <td>NaN</td>\n",
       "    </tr>\n",
       "    <tr>\n",
       "      <th>5979</th>\n",
       "      <td>5979</td>\n",
       "      <td>260003790</td>\n",
       "      <td>3662025</td>\n",
       "      <td>25750000</td>\n",
       "      <td>38</td>\n",
       "      <td>28</td>\n",
       "      <td>19</td>\n",
       "      <td>19</td>\n",
       "      <td>18</td>\n",
       "      <td>0.915493</td>\n",
       "      <td>...</td>\n",
       "      <td>기초 화장품</td>\n",
       "      <td>남성 캐주얼</td>\n",
       "      <td>남성 캐주얼</td>\n",
       "      <td>8</td>\n",
       "      <td>기타</td>\n",
       "      <td></td>\n",
       "      <td>0.098592</td>\n",
       "      <td>1.418008e+14</td>\n",
       "      <td>208682400.0</td>\n",
       "      <td>0.802613</td>\n",
       "    </tr>\n",
       "    <tr>\n",
       "      <th>5980</th>\n",
       "      <td>5980</td>\n",
       "      <td>88991520</td>\n",
       "      <td>4943973</td>\n",
       "      <td>18120000</td>\n",
       "      <td>9</td>\n",
       "      <td>7</td>\n",
       "      <td>5</td>\n",
       "      <td>5</td>\n",
       "      <td>60</td>\n",
       "      <td>0.444444</td>\n",
       "      <td>...</td>\n",
       "      <td>일반가공식품</td>\n",
       "      <td>육류</td>\n",
       "      <td>육류</td>\n",
       "      <td>0</td>\n",
       "      <td>이사/혼수시즌</td>\n",
       "      <td></td>\n",
       "      <td>0.000000</td>\n",
       "      <td>5.815031e+13</td>\n",
       "      <td>75490300.0</td>\n",
       "      <td>0.848286</td>\n",
       "    </tr>\n",
       "    <tr>\n",
       "      <th>5981</th>\n",
       "      <td>5981</td>\n",
       "      <td>623700</td>\n",
       "      <td>62370</td>\n",
       "      <td>209000</td>\n",
       "      <td>5</td>\n",
       "      <td>8</td>\n",
       "      <td>4</td>\n",
       "      <td>2</td>\n",
       "      <td>31</td>\n",
       "      <td>0.000000</td>\n",
       "      <td>...</td>\n",
       "      <td>수입단기행사</td>\n",
       "      <td>NaN</td>\n",
       "      <td>가공식품</td>\n",
       "      <td>2</td>\n",
       "      <td>기타</td>\n",
       "      <td></td>\n",
       "      <td>0.000000</td>\n",
       "      <td>1.878270e+10</td>\n",
       "      <td>NaN</td>\n",
       "      <td>NaN</td>\n",
       "    </tr>\n",
       "  </tbody>\n",
       "</table>\n",
       "<p>5982 rows × 130 columns</p>\n",
       "</div>"
      ],
      "text/plain": [
       "      cust_id       총구매액    평균구매액     최대구매액  구매상품종류1  구매상품종류2  구매상품종류3  내점일수  \\\n",
       "0           0   68282840   922741  11264000       35       28       17    19   \n",
       "1           1    2136000   712000   2136000        2        2        2     2   \n",
       "2           2    3197000   799250   1639000        1        2        2     2   \n",
       "3           3   16077620   365400   4935000       24       20       13    18   \n",
       "4           4   29050000  9683333  24000000        2        3        3     2   \n",
       "...       ...        ...      ...       ...      ...      ...      ...   ...   \n",
       "5977     5977   82581500  5898679  23976000        8        7        7     8   \n",
       "5978     5978     480000   480000    480000        1        1        1     1   \n",
       "5979     5979  260003790  3662025  25750000       38       28       19    19   \n",
       "5980     5980   88991520  4943973  18120000        9        7        5     5   \n",
       "5981     5981     623700    62370    209000        5        8        4     2   \n",
       "\n",
       "      구매주기    주말방문비율  ...  recommend_items  고가상품최다빈도품목  최대지출품목  Top5상품구매건수  \\\n",
       "0       17  0.527027  ...             농산가공         화장품     화장품          31   \n",
       "1        1  0.000000  ...            시티캐주얼       트래디셔널   트래디셔널           0   \n",
       "2        1  0.000000  ...            비지니스군      남성 캐주얼  남성 캐주얼           2   \n",
       "3       16  0.318182  ...                햄         캐주얼   침구/수예          16   \n",
       "4       85  0.000000  ...              시니어          보석      보석           2   \n",
       "...    ...       ...  ...              ...         ...     ...         ...   \n",
       "5977    40  0.642857  ...             시티웨어          골프    시티웨어           4   \n",
       "5978     0  0.000000  ...             니  트         NaN    섬유잡화           0   \n",
       "5979    18  0.915493  ...           기초 화장품      남성 캐주얼  남성 캐주얼           8   \n",
       "5980    60  0.444444  ...           일반가공식품          육류      육류           0   \n",
       "5981    31  0.000000  ...           수입단기행사         NaN    가공식품           2   \n",
       "\n",
       "         선호시즌  다양한 제품 보유 지점 선호도  목적지향적 물품 소비율  내점시마다 구매액의 일관성    총초고가상품구매액  \\\n",
       "0     이사/혼수시즌                98      0.000000    1.967007e+13   51378500.0   \n",
       "1     이사/혼수시즌                16      0.000000    5.898240e+11          NaN   \n",
       "2          기타                 4      0.000000    1.322500e+10          NaN   \n",
       "3     이사/혼수시즌                90      0.000000    2.298187e+12    9410000.0   \n",
       "4          기타                16      0.333333    1.556256e+14   27000000.0   \n",
       "...       ...               ...           ...             ...          ...   \n",
       "5977       기타                        0.000000    7.131591e+13   69236000.0   \n",
       "5978       기타                        0.000000    0.000000e+00          NaN   \n",
       "5979       기타                        0.098592    1.418008e+14  208682400.0   \n",
       "5980  이사/혼수시즌                        0.000000    5.815031e+13   75490300.0   \n",
       "5981       기타                        0.000000    1.878270e+10          NaN   \n",
       "\n",
       "      초고가상품구매율  \n",
       "0     0.752436  \n",
       "1          NaN  \n",
       "2          NaN  \n",
       "3     0.585286  \n",
       "4     0.929432  \n",
       "...        ...  \n",
       "5977  0.838396  \n",
       "5978       NaN  \n",
       "5979  0.802613  \n",
       "5980  0.848286  \n",
       "5981       NaN  \n",
       "\n",
       "[5982 rows x 130 columns]"
      ]
     },
     "metadata": {},
     "output_type": "display_data"
    },
    {
     "name": "stdout",
     "output_type": "stream",
     "text": [
      "<class 'pandas.core.frame.DataFrame'>\n",
      "Int64Index: 5982 entries, 0 to 5981\n",
      "Columns: 130 entries, cust_id to 초고가상품구매율\n",
      "dtypes: float64(72), int32(1), int64(27), object(30)\n",
      "memory usage: 6.0+ MB\n"
     ]
    }
   ],
   "source": [
    "display(features)\n",
    "features.info()"
   ]
  },
  {
   "cell_type": "code",
   "execution_count": 271,
   "metadata": {},
   "outputs": [],
   "source": [
    "X_train = pd.DataFrame({'cust_id': np.sort(train['cust_id'].unique())}).merge(features)\n",
    "X_train.to_csv('../dat/X_train.csv', index=False, encoding='cp949')\n",
    "\n",
    "X_test = pd.DataFrame({'cust_id': np.sort(test['cust_id'].unique())}).merge(features)\n",
    "X_test.to_csv('../dat/X_test.csv', index=False, encoding='cp949')"
   ]
  },
  {
   "cell_type": "markdown",
   "metadata": {},
   "source": [
    "## End"
   ]
  }
 ],
 "metadata": {
  "colab": {
   "default_view": {},
   "name": "Exercises_0418_01_ans.ipynb",
   "provenance": [],
   "version": "0.3.2",
   "views": {}
  },
  "kernelspec": {
   "display_name": "Python 3 (ipykernel)",
   "language": "python",
   "name": "python3"
  },
  "language_info": {
   "codemirror_mode": {
    "name": "ipython",
    "version": 3
   },
   "file_extension": ".py",
   "mimetype": "text/x-python",
   "name": "python",
   "nbconvert_exporter": "python",
   "pygments_lexer": "ipython3",
   "version": "3.9.7"
  }
 },
 "nbformat": 4,
 "nbformat_minor": 1
}
