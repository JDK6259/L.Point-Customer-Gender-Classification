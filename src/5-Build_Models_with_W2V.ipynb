{
 "cells": [
  {
   "cell_type": "markdown",
   "metadata": {
    "_uuid": "93b41229599509f643f1c1df3b86b3f79b66666f"
   },
   "source": [
    "<font color=\"#CC3D3D\"><p>\n",
    "# Build models"
   ]
  },
  {
   "cell_type": "markdown",
   "metadata": {
    "_uuid": "93b41229599509f643f1c1df3b86b3f79b66666f"
   },
   "source": [
    "- `INPUT`: 학습용(`X_train.csv`, `y_train`)과 평가용(`X_test.csv`) 데이터 \n",
    "- `OUTPUT`: 위 데이터를 이용하여 구축한 모형이 생성한 예측결과(`submission.csv`)"
   ]
  },
  {
   "cell_type": "code",
   "execution_count": 1,
   "metadata": {},
   "outputs": [
    {
     "name": "stdout",
     "output_type": "stream",
     "text": [
      "Overwriting word2vec.py\n"
     ]
    }
   ],
   "source": [
    "%%writefile word2vec.py\n",
    "\n",
    "### Imports\n",
    "import pandas as pd\n",
    "import numpy as np\n",
    "import os\n",
    "\n",
    "\n",
    "### Read data\n",
    "train = pd.read_csv(os.path.abspath(\"../dat\")+'/train_transactions.csv', encoding='cp949')\n",
    "test = pd.read_csv(os.path.abspath(\"../dat\")+'/test_transactions.csv', encoding='cp949')\n",
    "\n",
    "\n",
    "### Make corpus\n",
    "p_level = 'gds_grp_nm'  # 상품 분류 수준\n",
    "\n",
    "# W2V 학습데이터가 부족하여 구매한 상품 목록으로부터 n배 oversampling을 수행\n",
    "def oversample(x, n, seed=0):\n",
    "    if n == 0:\n",
    "        return list(x)\n",
    "    uw = np.unique(x)\n",
    "    bs = np.array([])\n",
    "    np.random.seed(seed)\n",
    "    for j in range(n):\n",
    "        bs = np.append(bs, np.random.choice(uw, len(uw), replace=False))\n",
    "    return list(bs)\n",
    "\n",
    "train_corpus = list(train.groupby('cust_id')[p_level].agg(oversample, 20))\n",
    "test_corpus = list(test.groupby('cust_id')[p_level].agg(oversample, 20))\n",
    "\n",
    "\n",
    "### Training the Word2Vec model\n",
    "num_features = 100 # 단어 벡터 차원 수\n",
    "min_word_count = 1 # 최소 단어 수\n",
    "context = 2 # 학습 윈도우(인접한 단어 리스트) 크기\n",
    "\n",
    "\n",
    "# 초기화 및 모델 학습\n",
    "from gensim.models import word2vec\n",
    "\n",
    "# 모델 학습\n",
    "w2v = word2vec.Word2Vec(train_corpus, \n",
    "                        size=num_features, \n",
    "                        min_count=min_word_count,\n",
    "                        window=context,\n",
    "                        seed=0, workers=1)\n",
    "# 필요없는 메모리 unload\n",
    "w2v.init_sims(replace=True)\n",
    "\n",
    "\n",
    "### Make features\n",
    "# 구매상품에 해당하는 벡터의 평균/최소/최대 벡터를 feature로 만드는 전처리기\n",
    "class EmbeddingVectorizer(object):\n",
    "    def __init__(self, word2vec):\n",
    "        self.word2vec = word2vec\n",
    "        self.dim = num_features\n",
    "    def fit(self, X):\n",
    "        return self\n",
    "    def transform(self, X):\n",
    "        return np.array([\n",
    "            np.hstack([\n",
    "                np.max([self.word2vec[w] for w in words if w in self.word2vec] or [np.zeros(self.dim)], axis=0),\n",
    "                np.min([self.word2vec[w] for w in words if w in self.word2vec] or [np.zeros(self.dim)], axis=0),\n",
    "                np.mean([self.word2vec[w] for w in words if w in self.word2vec] or [np.zeros(self.dim)], axis=0),                \n",
    "                np.std([self.word2vec[w] for w in words if w in self.word2vec] or [np.zeros(self.dim)], axis=0)                \n",
    "            ]) \n",
    "            for words in X\n",
    "        ]) \n",
    "\n",
    "# W2V 기반 feature 생성\n",
    "train_features = pd.DataFrame(EmbeddingVectorizer(w2v.wv).fit(train_corpus).transform(train_corpus))\n",
    "test_features = pd.DataFrame(EmbeddingVectorizer(w2v.wv).transform(test_corpus))\n",
    "\n",
    "train_features.columns = ['v'+f'{c+1:03d}' for c in train_features.columns]\n",
    "test_features.columns = ['v'+f'{c+1:03d}' for c in test_features.columns]\n",
    "\n",
    "# 학습용과 제출용 데이터로 분리\n",
    "pd.concat([pd.DataFrame({'cust_id': np.sort(train['cust_id'].unique())}), train_features], axis=1).to_csv('../dat/X_train_w2v.csv', index=False)\n",
    "pd.concat([pd.DataFrame({'cust_id': np.sort(test['cust_id'].unique())}), test_features], axis=1).to_csv('../dat/X_test_w2v.csv', index=False)"
   ]
  },
  {
   "cell_type": "code",
   "execution_count": 2,
   "metadata": {},
   "outputs": [
    {
     "data": {
      "text/plain": [
       "CompletedProcess(args=['python', 'word2vec.py'], returncode=0)"
      ]
     },
     "execution_count": 2,
     "metadata": {},
     "output_type": "execute_result"
    }
   ],
   "source": [
    "import os\n",
    "import subprocess\n",
    "\n",
    "subprocess.run(['python', 'word2vec.py'], env={**os.environ, 'PYTHONHASHSEED': '123'})"
   ]
  },
  {
   "cell_type": "markdown",
   "metadata": {},
   "source": [
    "##### Imports"
   ]
  },
  {
   "cell_type": "code",
   "execution_count": 3,
   "metadata": {
    "_cell_guid": "79c7e3d0-c299-4dcb-8224-4455121ee9b0",
    "_uuid": "d629ff2d2480ee46fbb7e2d37f6b5fab8052498a"
   },
   "outputs": [],
   "source": [
    "# Data Wrangling\n",
    "import pandas as pd\n",
    "from pandas import Series, DataFrame\n",
    "import numpy as np\n",
    "\n",
    "# Visualization\n",
    "import matplotlib.pylab as plt\n",
    "from matplotlib import font_manager, rc\n",
    "import seaborn as sns\n",
    "%matplotlib inline\n",
    "\n",
    "# EDA\n",
    "import klib\n",
    "\n",
    "# Preprocessing & Feature Engineering\n",
    "from sklearn.model_selection import train_test_split\n",
    "from sklearn.preprocessing import MinMaxScaler\n",
    "from sklearn.impute import SimpleImputer \n",
    "from sklearn.preprocessing import StandardScaler\n",
    "from sklearn.preprocessing import MinMaxScaler\n",
    "from sklearn.preprocessing import PowerTransformer\n",
    "from sklearn.feature_selection import SelectPercentile\n",
    "\n",
    "# Hyperparameter Optimization\n",
    "from sklearn.model_selection import GridSearchCV\n",
    "from sklearn.model_selection import RandomizedSearchCV\n",
    "from sklearn.model_selection import KFold\n",
    "from sklearn.model_selection import StratifiedKFold\n",
    "\n",
    "# Modeling\n",
    "from sklearn.dummy import DummyClassifier\n",
    "from sklearn.linear_model import LogisticRegression\n",
    "from sklearn.neighbors import KNeighborsClassifier\n",
    "from sklearn.ensemble import RandomForestClassifier\n",
    "from sklearn.ensemble import AdaBoostClassifier\n",
    "from sklearn.neural_network import MLPClassifier\n",
    "from sklearn.tree import DecisionTreeClassifier\n",
    "from sklearn.ensemble import GradientBoostingClassifier\n",
    "from sklearn.svm import SVC\n",
    "from sklearn.ensemble import VotingClassifier\n",
    "from sklearn.ensemble import ExtraTreesClassifier\n",
    "from sklearn.ensemble import StackingClassifier\n",
    "import xgboost as xgb\n",
    "from xgboost import XGBClassifier\n",
    "from lightgbm import LGBMClassifier\n",
    "from sklearn.base import ClassifierMixin\n",
    "from gensim.models import word2vec\n",
    "\n",
    "\n",
    "# Evaluation\n",
    "from sklearn.metrics import roc_auc_score\n",
    "from sklearn.metrics import accuracy_score\n",
    "from sklearn.model_selection import cross_val_score\n",
    "\n",
    "# Utility\n",
    "import os\n",
    "import time\n",
    "import random\n",
    "import warnings; warnings.filterwarnings(\"ignore\")\n",
    "from IPython.display import Image\n",
    "import pickle\n",
    "from tqdm import tqdm\n",
    "import platform\n",
    "from itertools import combinations\n",
    "from scipy.stats.mstats import gmean"
   ]
  },
  {
   "cell_type": "markdown",
   "metadata": {
    "_uuid": "dd7e3527fd56e5b5855c6846ca226f5f860f725b"
   },
   "source": [
    "### 1. Read Data"
   ]
  },
  {
   "cell_type": "code",
   "execution_count": 4,
   "metadata": {},
   "outputs": [],
   "source": [
    "train = pd.read_csv(os.path.abspath(\"../dat\")+'/train_transactions.csv', encoding='cp949')\n",
    "test = pd.read_csv(os.path.abspath(\"../dat\")+'/test_transactions.csv', encoding='cp949')\n",
    "\n",
    "# 학습용 정답 데이터를 읽는다.\n",
    "y_train = pd.read_csv(os.path.abspath(\"../dat\")+'/y_train.csv', encoding='cp949').gender"
   ]
  },
  {
   "cell_type": "code",
   "execution_count": 5,
   "metadata": {},
   "outputs": [],
   "source": [
    "train_w2v = pd.read_csv(os.path.abspath(\"../dat\")+'/X_train_w2v.csv', encoding='cp949')\n",
    "test_w2v = pd.read_csv(os.path.abspath(\"../dat\")+'/X_test_w2v.csv', encoding='cp949')"
   ]
  },
  {
   "cell_type": "code",
   "execution_count": 6,
   "metadata": {},
   "outputs": [],
   "source": [
    "features_w2v = pd.concat([train_w2v, test_w2v] ,axis=0).reset_index()"
   ]
  },
  {
   "cell_type": "code",
   "execution_count": 7,
   "metadata": {},
   "outputs": [
    {
     "data": {
      "text/html": [
       "<div>\n",
       "<style scoped>\n",
       "    .dataframe tbody tr th:only-of-type {\n",
       "        vertical-align: middle;\n",
       "    }\n",
       "\n",
       "    .dataframe tbody tr th {\n",
       "        vertical-align: top;\n",
       "    }\n",
       "\n",
       "    .dataframe thead th {\n",
       "        text-align: right;\n",
       "    }\n",
       "</style>\n",
       "<table border=\"1\" class=\"dataframe\">\n",
       "  <thead>\n",
       "    <tr style=\"text-align: right;\">\n",
       "      <th></th>\n",
       "      <th>index</th>\n",
       "      <th>cust_id</th>\n",
       "      <th>v001</th>\n",
       "      <th>v002</th>\n",
       "      <th>v003</th>\n",
       "      <th>v004</th>\n",
       "      <th>v005</th>\n",
       "      <th>v006</th>\n",
       "      <th>v007</th>\n",
       "      <th>v008</th>\n",
       "      <th>...</th>\n",
       "      <th>v391</th>\n",
       "      <th>v392</th>\n",
       "      <th>v393</th>\n",
       "      <th>v394</th>\n",
       "      <th>v395</th>\n",
       "      <th>v396</th>\n",
       "      <th>v397</th>\n",
       "      <th>v398</th>\n",
       "      <th>v399</th>\n",
       "      <th>v400</th>\n",
       "    </tr>\n",
       "  </thead>\n",
       "  <tbody>\n",
       "    <tr>\n",
       "      <th>0</th>\n",
       "      <td>0</td>\n",
       "      <td>0</td>\n",
       "      <td>0.150334</td>\n",
       "      <td>0.265886</td>\n",
       "      <td>0.107195</td>\n",
       "      <td>0.161423</td>\n",
       "      <td>0.096694</td>\n",
       "      <td>0.240863</td>\n",
       "      <td>0.178099</td>\n",
       "      <td>0.207232</td>\n",
       "      <td>...</td>\n",
       "      <td>7.590713e-02</td>\n",
       "      <td>9.921508e-02</td>\n",
       "      <td>6.193848e-02</td>\n",
       "      <td>0.085719</td>\n",
       "      <td>8.474204e-02</td>\n",
       "      <td>0.059762</td>\n",
       "      <td>0.102060</td>\n",
       "      <td>9.026027e-02</td>\n",
       "      <td>0.071916</td>\n",
       "      <td>7.707719e-02</td>\n",
       "    </tr>\n",
       "    <tr>\n",
       "      <th>1</th>\n",
       "      <td>1</td>\n",
       "      <td>1</td>\n",
       "      <td>0.116861</td>\n",
       "      <td>-0.096285</td>\n",
       "      <td>0.130467</td>\n",
       "      <td>0.186913</td>\n",
       "      <td>-0.006893</td>\n",
       "      <td>-0.009479</td>\n",
       "      <td>0.014372</td>\n",
       "      <td>0.141896</td>\n",
       "      <td>...</td>\n",
       "      <td>1.281672e-02</td>\n",
       "      <td>5.271498e-02</td>\n",
       "      <td>1.661778e-02</td>\n",
       "      <td>0.056505</td>\n",
       "      <td>1.035643e-01</td>\n",
       "      <td>0.003572</td>\n",
       "      <td>0.017597</td>\n",
       "      <td>3.552838e-02</td>\n",
       "      <td>0.022831</td>\n",
       "      <td>7.137727e-02</td>\n",
       "    </tr>\n",
       "    <tr>\n",
       "      <th>2</th>\n",
       "      <td>2</td>\n",
       "      <td>2</td>\n",
       "      <td>0.150334</td>\n",
       "      <td>-0.002294</td>\n",
       "      <td>-0.019561</td>\n",
       "      <td>0.107281</td>\n",
       "      <td>-0.034426</td>\n",
       "      <td>0.029636</td>\n",
       "      <td>-0.004397</td>\n",
       "      <td>0.172880</td>\n",
       "      <td>...</td>\n",
       "      <td>5.414126e-02</td>\n",
       "      <td>9.340990e-02</td>\n",
       "      <td>6.691036e-02</td>\n",
       "      <td>0.002455</td>\n",
       "      <td>5.859699e-02</td>\n",
       "      <td>0.071063</td>\n",
       "      <td>0.107220</td>\n",
       "      <td>3.071417e-02</td>\n",
       "      <td>0.056627</td>\n",
       "      <td>7.849141e-03</td>\n",
       "    </tr>\n",
       "    <tr>\n",
       "      <th>3</th>\n",
       "      <td>3</td>\n",
       "      <td>3</td>\n",
       "      <td>0.150334</td>\n",
       "      <td>0.147990</td>\n",
       "      <td>0.242921</td>\n",
       "      <td>0.153904</td>\n",
       "      <td>0.043837</td>\n",
       "      <td>0.175834</td>\n",
       "      <td>0.213830</td>\n",
       "      <td>0.128871</td>\n",
       "      <td>...</td>\n",
       "      <td>4.744536e-02</td>\n",
       "      <td>8.794113e-02</td>\n",
       "      <td>6.536881e-02</td>\n",
       "      <td>0.083186</td>\n",
       "      <td>8.720368e-02</td>\n",
       "      <td>0.050332</td>\n",
       "      <td>0.095666</td>\n",
       "      <td>6.216948e-02</td>\n",
       "      <td>0.083897</td>\n",
       "      <td>7.980742e-02</td>\n",
       "    </tr>\n",
       "    <tr>\n",
       "      <th>4</th>\n",
       "      <td>4</td>\n",
       "      <td>4</td>\n",
       "      <td>0.150334</td>\n",
       "      <td>0.100967</td>\n",
       "      <td>0.017132</td>\n",
       "      <td>-0.007823</td>\n",
       "      <td>0.096694</td>\n",
       "      <td>0.023991</td>\n",
       "      <td>0.032221</td>\n",
       "      <td>0.128871</td>\n",
       "      <td>...</td>\n",
       "      <td>5.440820e-02</td>\n",
       "      <td>6.901445e-02</td>\n",
       "      <td>9.573746e-02</td>\n",
       "      <td>0.033898</td>\n",
       "      <td>6.891035e-02</td>\n",
       "      <td>0.015510</td>\n",
       "      <td>0.023073</td>\n",
       "      <td>3.678454e-02</td>\n",
       "      <td>0.026489</td>\n",
       "      <td>1.073092e-01</td>\n",
       "    </tr>\n",
       "    <tr>\n",
       "      <th>...</th>\n",
       "      <td>...</td>\n",
       "      <td>...</td>\n",
       "      <td>...</td>\n",
       "      <td>...</td>\n",
       "      <td>...</td>\n",
       "      <td>...</td>\n",
       "      <td>...</td>\n",
       "      <td>...</td>\n",
       "      <td>...</td>\n",
       "      <td>...</td>\n",
       "      <td>...</td>\n",
       "      <td>...</td>\n",
       "      <td>...</td>\n",
       "      <td>...</td>\n",
       "      <td>...</td>\n",
       "      <td>...</td>\n",
       "      <td>...</td>\n",
       "      <td>...</td>\n",
       "      <td>...</td>\n",
       "      <td>...</td>\n",
       "      <td>...</td>\n",
       "    </tr>\n",
       "    <tr>\n",
       "      <th>5977</th>\n",
       "      <td>2477</td>\n",
       "      <td>5977</td>\n",
       "      <td>0.150334</td>\n",
       "      <td>0.084762</td>\n",
       "      <td>-0.017967</td>\n",
       "      <td>0.229201</td>\n",
       "      <td>0.065777</td>\n",
       "      <td>0.240863</td>\n",
       "      <td>0.108917</td>\n",
       "      <td>0.167636</td>\n",
       "      <td>...</td>\n",
       "      <td>5.390976e-02</td>\n",
       "      <td>1.326901e-01</td>\n",
       "      <td>5.645293e-02</td>\n",
       "      <td>0.106711</td>\n",
       "      <td>5.471146e-02</td>\n",
       "      <td>0.103171</td>\n",
       "      <td>0.142208</td>\n",
       "      <td>3.381683e-02</td>\n",
       "      <td>0.082888</td>\n",
       "      <td>6.844767e-02</td>\n",
       "    </tr>\n",
       "    <tr>\n",
       "      <th>5978</th>\n",
       "      <td>2478</td>\n",
       "      <td>5978</td>\n",
       "      <td>0.060953</td>\n",
       "      <td>0.083050</td>\n",
       "      <td>0.046501</td>\n",
       "      <td>-0.089834</td>\n",
       "      <td>-0.050750</td>\n",
       "      <td>0.050216</td>\n",
       "      <td>0.041716</td>\n",
       "      <td>0.042240</td>\n",
       "      <td>...</td>\n",
       "      <td>7.450581e-09</td>\n",
       "      <td>1.490116e-08</td>\n",
       "      <td>7.450581e-09</td>\n",
       "      <td>0.000000</td>\n",
       "      <td>1.490116e-08</td>\n",
       "      <td>0.000000</td>\n",
       "      <td>0.000000</td>\n",
       "      <td>1.490116e-08</td>\n",
       "      <td>0.000000</td>\n",
       "      <td>2.980232e-08</td>\n",
       "    </tr>\n",
       "    <tr>\n",
       "      <th>5979</th>\n",
       "      <td>2479</td>\n",
       "      <td>5979</td>\n",
       "      <td>0.150334</td>\n",
       "      <td>0.186442</td>\n",
       "      <td>0.152917</td>\n",
       "      <td>0.205805</td>\n",
       "      <td>0.194752</td>\n",
       "      <td>0.240863</td>\n",
       "      <td>0.168427</td>\n",
       "      <td>0.233732</td>\n",
       "      <td>...</td>\n",
       "      <td>7.614885e-02</td>\n",
       "      <td>8.541006e-02</td>\n",
       "      <td>8.455273e-02</td>\n",
       "      <td>0.089853</td>\n",
       "      <td>1.058471e-01</td>\n",
       "      <td>0.085121</td>\n",
       "      <td>0.105142</td>\n",
       "      <td>6.792848e-02</td>\n",
       "      <td>0.100060</td>\n",
       "      <td>9.865241e-02</td>\n",
       "    </tr>\n",
       "    <tr>\n",
       "      <th>5980</th>\n",
       "      <td>2480</td>\n",
       "      <td>5980</td>\n",
       "      <td>0.140652</td>\n",
       "      <td>0.142205</td>\n",
       "      <td>0.071942</td>\n",
       "      <td>0.205805</td>\n",
       "      <td>0.201623</td>\n",
       "      <td>0.072100</td>\n",
       "      <td>0.192653</td>\n",
       "      <td>0.031818</td>\n",
       "      <td>...</td>\n",
       "      <td>3.987315e-02</td>\n",
       "      <td>8.506052e-02</td>\n",
       "      <td>6.717434e-02</td>\n",
       "      <td>0.113772</td>\n",
       "      <td>4.289752e-02</td>\n",
       "      <td>0.069749</td>\n",
       "      <td>0.073037</td>\n",
       "      <td>9.625312e-02</td>\n",
       "      <td>0.083763</td>\n",
       "      <td>9.125497e-02</td>\n",
       "    </tr>\n",
       "    <tr>\n",
       "      <th>5981</th>\n",
       "      <td>2481</td>\n",
       "      <td>5981</td>\n",
       "      <td>0.164121</td>\n",
       "      <td>0.142571</td>\n",
       "      <td>0.070813</td>\n",
       "      <td>0.078450</td>\n",
       "      <td>-0.025632</td>\n",
       "      <td>0.091915</td>\n",
       "      <td>0.079491</td>\n",
       "      <td>0.128871</td>\n",
       "      <td>...</td>\n",
       "      <td>4.336206e-02</td>\n",
       "      <td>1.086644e-01</td>\n",
       "      <td>7.581219e-02</td>\n",
       "      <td>0.114921</td>\n",
       "      <td>9.308869e-02</td>\n",
       "      <td>0.051918</td>\n",
       "      <td>0.085526</td>\n",
       "      <td>8.226166e-02</td>\n",
       "      <td>0.084176</td>\n",
       "      <td>6.976124e-02</td>\n",
       "    </tr>\n",
       "  </tbody>\n",
       "</table>\n",
       "<p>5982 rows × 402 columns</p>\n",
       "</div>"
      ],
      "text/plain": [
       "      index  cust_id      v001      v002      v003      v004      v005  \\\n",
       "0         0        0  0.150334  0.265886  0.107195  0.161423  0.096694   \n",
       "1         1        1  0.116861 -0.096285  0.130467  0.186913 -0.006893   \n",
       "2         2        2  0.150334 -0.002294 -0.019561  0.107281 -0.034426   \n",
       "3         3        3  0.150334  0.147990  0.242921  0.153904  0.043837   \n",
       "4         4        4  0.150334  0.100967  0.017132 -0.007823  0.096694   \n",
       "...     ...      ...       ...       ...       ...       ...       ...   \n",
       "5977   2477     5977  0.150334  0.084762 -0.017967  0.229201  0.065777   \n",
       "5978   2478     5978  0.060953  0.083050  0.046501 -0.089834 -0.050750   \n",
       "5979   2479     5979  0.150334  0.186442  0.152917  0.205805  0.194752   \n",
       "5980   2480     5980  0.140652  0.142205  0.071942  0.205805  0.201623   \n",
       "5981   2481     5981  0.164121  0.142571  0.070813  0.078450 -0.025632   \n",
       "\n",
       "          v006      v007      v008  ...          v391          v392  \\\n",
       "0     0.240863  0.178099  0.207232  ...  7.590713e-02  9.921508e-02   \n",
       "1    -0.009479  0.014372  0.141896  ...  1.281672e-02  5.271498e-02   \n",
       "2     0.029636 -0.004397  0.172880  ...  5.414126e-02  9.340990e-02   \n",
       "3     0.175834  0.213830  0.128871  ...  4.744536e-02  8.794113e-02   \n",
       "4     0.023991  0.032221  0.128871  ...  5.440820e-02  6.901445e-02   \n",
       "...        ...       ...       ...  ...           ...           ...   \n",
       "5977  0.240863  0.108917  0.167636  ...  5.390976e-02  1.326901e-01   \n",
       "5978  0.050216  0.041716  0.042240  ...  7.450581e-09  1.490116e-08   \n",
       "5979  0.240863  0.168427  0.233732  ...  7.614885e-02  8.541006e-02   \n",
       "5980  0.072100  0.192653  0.031818  ...  3.987315e-02  8.506052e-02   \n",
       "5981  0.091915  0.079491  0.128871  ...  4.336206e-02  1.086644e-01   \n",
       "\n",
       "              v393      v394          v395      v396      v397          v398  \\\n",
       "0     6.193848e-02  0.085719  8.474204e-02  0.059762  0.102060  9.026027e-02   \n",
       "1     1.661778e-02  0.056505  1.035643e-01  0.003572  0.017597  3.552838e-02   \n",
       "2     6.691036e-02  0.002455  5.859699e-02  0.071063  0.107220  3.071417e-02   \n",
       "3     6.536881e-02  0.083186  8.720368e-02  0.050332  0.095666  6.216948e-02   \n",
       "4     9.573746e-02  0.033898  6.891035e-02  0.015510  0.023073  3.678454e-02   \n",
       "...            ...       ...           ...       ...       ...           ...   \n",
       "5977  5.645293e-02  0.106711  5.471146e-02  0.103171  0.142208  3.381683e-02   \n",
       "5978  7.450581e-09  0.000000  1.490116e-08  0.000000  0.000000  1.490116e-08   \n",
       "5979  8.455273e-02  0.089853  1.058471e-01  0.085121  0.105142  6.792848e-02   \n",
       "5980  6.717434e-02  0.113772  4.289752e-02  0.069749  0.073037  9.625312e-02   \n",
       "5981  7.581219e-02  0.114921  9.308869e-02  0.051918  0.085526  8.226166e-02   \n",
       "\n",
       "          v399          v400  \n",
       "0     0.071916  7.707719e-02  \n",
       "1     0.022831  7.137727e-02  \n",
       "2     0.056627  7.849141e-03  \n",
       "3     0.083897  7.980742e-02  \n",
       "4     0.026489  1.073092e-01  \n",
       "...        ...           ...  \n",
       "5977  0.082888  6.844767e-02  \n",
       "5978  0.000000  2.980232e-08  \n",
       "5979  0.100060  9.865241e-02  \n",
       "5980  0.083763  9.125497e-02  \n",
       "5981  0.084176  6.976124e-02  \n",
       "\n",
       "[5982 rows x 402 columns]"
      ]
     },
     "execution_count": 7,
     "metadata": {},
     "output_type": "execute_result"
    }
   ],
   "source": [
    "features_w2v"
   ]
  },
  {
   "cell_type": "code",
   "execution_count": 8,
   "metadata": {},
   "outputs": [],
   "source": [
    "features = features_w2v"
   ]
  },
  {
   "cell_type": "markdown",
   "metadata": {},
   "source": [
    "*Select Features*"
   ]
  },
  {
   "cell_type": "code",
   "execution_count": 9,
   "metadata": {},
   "outputs": [],
   "source": [
    "# 학습용과 제출용 데이터로 분리\n",
    "test_id = test.cust_id.unique()\n",
    "X_train = features.query('cust_id not in @test_id').drop('cust_id', axis=1)\n",
    "X_test = features.query('cust_id in @test_id').drop('cust_id', axis=1)"
   ]
  },
  {
   "cell_type": "code",
   "execution_count": 10,
   "metadata": {},
   "outputs": [
    {
     "name": "stderr",
     "output_type": "stream",
     "text": [
      "100%|██████████████████████████████████████████████████████████████████████████████████| 99/99 [01:21<00:00,  1.22it/s]\n"
     ]
    },
    {
     "name": "stdout",
     "output_type": "stream",
     "text": [
      "(97, 0.7442290643753411)\n"
     ]
    },
    {
     "data": {
      "image/png": "[encoded data removed]",
      "text/plain": [
       "<Figure size 432x288 with 1 Axes>"
      ]
     },
     "metadata": {
      "needs_background": "light"
     },
     "output_type": "display_data"
    }
   ],
   "source": [
    "# 사용할 모델 설정 (속도가 빠른 모델 사용 권장)\n",
    "model = LogisticRegression(random_state=0)\n",
    "\n",
    "#StartifiedKFold 정의\n",
    "sfk = StratifiedKFold(n_splits = 7)\n",
    "\n",
    "# 각 특성과 타깃(class) 사이에 유의한 통계적 관계가 있는지 계산하여 특성을 선택하는 방법 \n",
    "cv_scores = [] # 스코어를 저장할 리스트 생성\n",
    "for p in tqdm(range(1,100,1)): # 추출할 피처의 개수 범위를 (1~100)%의 구간에서 1%씩 올려가며 실행\n",
    "    X_new = SelectPercentile(percentile=p).fit_transform(X_train, y_train)    \n",
    "    cv_score = cross_val_score(model, X_new, y_train, scoring='roc_auc', cv=sfk).mean()\n",
    "    cv_scores.append((p,cv_score))\n",
    "\n",
    "# Print the best percentile\n",
    "best_score = cv_scores[np.argmax([score for _, score in cv_scores])]\n",
    "print(best_score)\n",
    "\n",
    "# Plot the performance change with p\n",
    "plt.plot([k for k, _ in cv_scores], [score for _, score in cv_scores])\n",
    "plt.xlabel('Percent of features')\n",
    "plt.grid()"
   ]
  },
  {
   "cell_type": "code",
   "execution_count": 11,
   "metadata": {},
   "outputs": [
    {
     "name": "stdout",
     "output_type": "stream",
     "text": [
      "(3500, 388)\n",
      "['v001', 'v002', 'v003', 'v004', 'v005', 'v006', 'v007', 'v008', 'v009', 'v010', 'v011', 'v012', 'v013', 'v014', 'v015', 'v016', 'v017', 'v018', 'v019', 'v020', 'v021', 'v022', 'v023', 'v024', 'v025', 'v026', 'v027', 'v028', 'v029', 'v030', 'v031', 'v032', 'v033', 'v034', 'v035', 'v036', 'v037', 'v038', 'v039', 'v040', 'v041', 'v042', 'v043', 'v044', 'v045', 'v046', 'v047', 'v048', 'v049', 'v050', 'v051', 'v052', 'v053', 'v054', 'v055', 'v056', 'v057', 'v058', 'v059', 'v060', 'v061', 'v062', 'v063', 'v064', 'v065', 'v066', 'v067', 'v068', 'v069', 'v070', 'v071', 'v072', 'v073', 'v074', 'v075', 'v076', 'v077', 'v078', 'v079', 'v080', 'v081', 'v082', 'v083', 'v084', 'v085', 'v086', 'v087', 'v088', 'v089', 'v090', 'v091', 'v092', 'v093', 'v094', 'v095', 'v096', 'v097', 'v098', 'v099', 'v100', 'v101', 'v102', 'v103', 'v104', 'v105', 'v106', 'v107', 'v108', 'v109', 'v110', 'v111', 'v112', 'v113', 'v114', 'v115', 'v116', 'v117', 'v118', 'v119', 'v120', 'v121', 'v122', 'v123', 'v124', 'v125', 'v126', 'v127', 'v128', 'v129', 'v130', 'v131', 'v132', 'v133', 'v134', 'v135', 'v136', 'v137', 'v138', 'v139', 'v140', 'v141', 'v142', 'v143', 'v144', 'v145', 'v146', 'v147', 'v148', 'v149', 'v150', 'v151', 'v152', 'v153', 'v154', 'v155', 'v156', 'v157', 'v158', 'v159', 'v160', 'v161', 'v162', 'v163', 'v164', 'v165', 'v166', 'v167', 'v168', 'v169', 'v170', 'v171', 'v172', 'v173', 'v174', 'v175', 'v176', 'v177', 'v178', 'v179', 'v180', 'v181', 'v182', 'v183', 'v184', 'v185', 'v186', 'v187', 'v188', 'v189', 'v190', 'v191', 'v192', 'v193', 'v194', 'v195', 'v196', 'v197', 'v198', 'v199', 'v200', 'v201', 'v202', 'v204', 'v205', 'v206', 'v208', 'v209', 'v210', 'v211', 'v212', 'v214', 'v215', 'v216', 'v217', 'v218', 'v219', 'v220', 'v221', 'v222', 'v223', 'v224', 'v225', 'v226', 'v227', 'v228', 'v229', 'v230', 'v231', 'v232', 'v233', 'v235', 'v236', 'v237', 'v238', 'v239', 'v240', 'v241', 'v242', 'v243', 'v244', 'v246', 'v247', 'v248', 'v250', 'v251', 'v252', 'v254', 'v255', 'v256', 'v257', 'v258', 'v259', 'v260', 'v261', 'v262', 'v263', 'v264', 'v266', 'v267', 'v268', 'v269', 'v270', 'v271', 'v273', 'v274', 'v275', 'v276', 'v278', 'v279', 'v280', 'v281', 'v283', 'v284', 'v285', 'v286', 'v287', 'v288', 'v289', 'v290', 'v291', 'v292', 'v293', 'v294', 'v295', 'v296', 'v297', 'v298', 'v299', 'v300', 'v301', 'v302', 'v303', 'v304', 'v305', 'v306', 'v307', 'v308', 'v309', 'v310', 'v311', 'v312', 'v313', 'v314', 'v315', 'v316', 'v317', 'v318', 'v319', 'v320', 'v321', 'v322', 'v323', 'v324', 'v325', 'v326', 'v327', 'v329', 'v330', 'v331', 'v332', 'v333', 'v334', 'v335', 'v336', 'v337', 'v338', 'v339', 'v340', 'v341', 'v342', 'v343', 'v344', 'v345', 'v346', 'v347', 'v348', 'v349', 'v350', 'v351', 'v352', 'v353', 'v354', 'v355', 'v356', 'v357', 'v358', 'v359', 'v360', 'v361', 'v362', 'v363', 'v364', 'v365', 'v366', 'v367', 'v368', 'v369', 'v370', 'v371', 'v372', 'v373', 'v374', 'v375', 'v376', 'v377', 'v378', 'v379', 'v380', 'v381', 'v382', 'v383', 'v384', 'v385', 'v386', 'v387', 'v388', 'v389', 'v390', 'v391', 'v392', 'v393', 'v394', 'v395', 'v396', 'v397', 'v398', 'v399', 'v400']\n"
     ]
    }
   ],
   "source": [
    "# 최고 Score 를 가지는 p값 적용 \n",
    "fs = SelectPercentile(percentile=best_score[0]).fit(X_train, y_train)\n",
    "X_train = fs.transform(X_train)\n",
    "X_test = fs.transform(X_test)\n",
    "\n",
    "print(X_train.shape)\n",
    "print(features.iloc[:,1:].columns[fs.get_support()].tolist())"
   ]
  },
  {
   "cell_type": "markdown",
   "metadata": {},
   "source": [
    "### 5. Model Tuning (Hyperparameter Optimization)"
   ]
  },
  {
   "cell_type": "code",
   "execution_count": 12,
   "metadata": {},
   "outputs": [],
   "source": [
    "# 학습데이터 70%, 평가데이터 30%로 데이터 분할\n",
    "# stratify=y_train 를 통해 데이터를 분할할 때 층화추출을 실시(불균형을 해소한다.)\n",
    "X_train, X_dev, y_train, y_dev = train_test_split(X_train, y_train, test_size=0.3, stratify=y_train, random_state=0)"
   ]
  },
  {
   "cell_type": "code",
   "execution_count": 13,
   "metadata": {
    "scrolled": true
   },
   "outputs": [
    {
     "name": "stderr",
     "output_type": "stream",
     "text": [
      " 20%|████████████████                                                                | 1/5 [17:05<1:08:23, 1025.94s/it]"
     ]
    },
    {
     "name": "stdout",
     "output_type": "stream",
     "text": [
      "XGBClassifier                                        0.780769 1025.9\n"
     ]
    },
    {
     "name": "stderr",
     "output_type": "stream",
     "text": [
      "\r",
      " 40%|███████████████████████████████▏                                              | 2/5 [1:47:13<1:57:01, 2340.36s/it]"
     ]
    },
    {
     "name": "stdout",
     "output_type": "stream",
     "text": [
      "AdaBoostClassifier                                   0.778887 5407.3\n"
     ]
    },
    {
     "name": "stderr",
     "output_type": "stream",
     "text": [
      "\r",
      " 60%|██████████████████████████████████████████████▊                               | 3/5 [1:58:57<1:01:38, 1849.46s/it]"
     ]
    },
    {
     "name": "stdout",
     "output_type": "stream",
     "text": [
      "MLPClassifier                                        0.767120 704.0\n"
     ]
    },
    {
     "name": "stderr",
     "output_type": "stream",
     "text": [
      "\r",
      " 80%|████████████████████████████████████████████████████████████████                | 4/5 [1:59:08<21:38, 1298.01s/it]"
     ]
    },
    {
     "name": "stdout",
     "output_type": "stream",
     "text": [
      "LogisticRegression                                   0.766319 11.3\n"
     ]
    },
    {
     "name": "stderr",
     "output_type": "stream",
     "text": [
      "100%|████████████████████████████████████████████████████████████████████████████████| 5/5 [2:40:05<00:00, 1921.11s/it]"
     ]
    },
    {
     "name": "stdout",
     "output_type": "stream",
     "text": [
      "GradientBoostingClassifier                           0.777735 2457.0\n"
     ]
    },
    {
     "name": "stderr",
     "output_type": "stream",
     "text": [
      "\n"
     ]
    }
   ],
   "source": [
    "clfs = [\n",
    "#    (\n",
    "#        KNeighborsClassifier(),              # KNN모델 사용\n",
    "#        {'n_neighbors': range(1,51),        \n",
    "#         'weights': ['uniform','distance'],\n",
    "#         'metric': ['minkowski', 'euclidean', 'manhattan']}\n",
    "#    ),\n",
    "#    (\n",
    "#       DecisionTreeClassifier(random_state=0), # 의사결정나무모델 사용\n",
    "#       {'max_depth' : [2,3,4,5,6,7,8,9,10]} # 트리의 최대 깊이를 2,3 중 하나 선택\n",
    "#    ),\n",
    "    (\n",
    "        XGBClassifier(random_state=0), # 외부 패키지인 XGBClassifier 사용\n",
    "        {'max_depth': range(1, 10, 1),\n",
    "         'n_estimators': range(100, 500, 100),\n",
    "         'learning_rate': np.arange(0.01, 1, 0.01),\n",
    "         'eta': [0, 0.5, 0.01],\n",
    "         'gamma' :np.arange(0.01,5,0.01),\n",
    "         'subsample': [0.2, 0.3, 0.5, 0.7, 0.9, 1],\n",
    "         'colsample_bytree': [0.5, 0.7, 0.9, 1]}\n",
    "    ),\n",
    "    (\n",
    "        AdaBoostClassifier(random_state=0), # AdaBoosr 사용(약한 학습기의 오류 데이터에 가중치를 부여하며 부스팅수행)\n",
    "        {'n_estimators' : [50,100,500,1000,3000], # 생성할 약한 학습기의 개수와 학습률의 범위 그리고 알고리즘을 지정\n",
    "         'learning_rate' : np.arange(0.1, 1, 0.1), \n",
    "         'algorithm' : ['SAMME', 'SAMME.R']}\n",
    "    ),\n",
    "    (\n",
    "        MLPClassifier(random_state=0), # Neural network 분류기 사용\n",
    "        {'batch_size': ['auto', 32, 64, 128], # 최적화 학습의 최소크기와 , 학습률, 가중치최적화solver 등을 설정\n",
    "         'learning_rate' : ['constant', 'adaptive', 'invscaling'],\n",
    "         'activation': ['tanh', 'relu', 'logistic'],\n",
    "         'solver': ['sgd', 'adam'],\n",
    "         'alpha' : [1e-07,1e-06,0.0001,0.001,0.01,0.0005,0.005,0.05,0.1,0.15,0.2,0.3,0.4,0.5,0.7,0.9], \n",
    "         'hidden_layer_sizes': [(32,),(64,),(128,),(32,16),(64,32,16)]}\n",
    "    ),\n",
    "    (\n",
    "        LogisticRegression(random_state=0), # LogisticRegression 모델사용\n",
    "        {'C': np.arange(0.1, 10, 0.1), # 패널티, 정규화 강도 범위 설정\n",
    "         'penalty': ['l1','l2']}\n",
    "    ),\n",
    "#    (\n",
    "#        RandomForestClassifier(random_state=0), # Begging을 이용한 앙상블모델 RandomForestClassifier 사용\n",
    "#        {'n_estimators': range(10, 500, 10), # 생성할 트리의 개수와 트리의 깊이 전체 피처개수의 범위를 설정\n",
    "#         'max_depth': [None,1,2,3,4,5,6,7,8,9,10,11,12,13,14,15],\n",
    "#         'max_features': ['auto', 'sqrt', 'log2'], \n",
    "#         'bootstrap': [True, False], \n",
    "#         'criterion': ['gini', 'entropy'], \n",
    "#         'class_weight': ['balanced', 'balanced_subsample', {}], \n",
    "#         'min_samples_split': [2, 5, 7, 9, 10], \n",
    "#         'min_samples_leaf': [2, 3, 4, 5, 6]}\n",
    "#    ),\n",
    "    (\n",
    "        GradientBoostingClassifier(random_state=0), # Gradient Boost Machine 사용\n",
    "        {'n_estimators': range(10, 500, 10), # 생성할 트리의 개수와 학습률, 분할을 위한 feature의 최대 개수 설정\n",
    "         'learning_rate': [0.01, 0.5, 0.001],\n",
    "         'min_samples_split': [2, 4, 5, 7, 9, 10],\n",
    "         'min_samples_leaf': [1, 2, 3, 4, 5],\n",
    "         'max_depth': [1,2,3,4,5,6,7,8,9,10,11],\n",
    "         'min_impurity_decrease': [0,0.0001,0.001,0.01,0.0002,0.002,0.02,0.0005,0.005,0.05,0.1,0.2,0.3,0.4,0.5],\n",
    "         'max_features': ['auto', 'sqrt', 'log2']}\n",
    "    ),\n",
    "#    (\n",
    "#        SVC(probability = True), # Surpport vector machine 사용\n",
    "#        {'kernel' : [\"linear\"], # 알고리즘에 사용할 kernel 유형, 오류허용치범위, 민감도범위를 설정\n",
    "#         'C' : np.arange(0.01, 5, 0.01),\n",
    "#         'gamma' : np.arange(0.5, 10, 0.1)}\n",
    "#    ),\n",
    "#    (\n",
    "#        ExtraTreesClassifier(random_state=0),\n",
    "#       {'n_estimators': [100,200,300,400],\n",
    "#         'max_depth': [1,2,3,4,5,6,7,8,9,10]}\n",
    "#    ),\n",
    "#    (\n",
    "#        LGBMClassifier(random_state=0),\n",
    "#        {'n_estimators': [100,200,300,400],\n",
    "#         'learning_rate': [0.01,1,0.01],\n",
    "#         'max_depth': [1,2,3,4,5]}\n",
    "#    )\n",
    "]\n",
    "\n",
    "clfs_tuned = []  # 튜닝된 모델을 저장\n",
    "for clf, param_grid in tqdm(clfs):\n",
    "    start = time.time()\n",
    "    clf_name = type(clf).__name__\n",
    "    rand_search = RandomizedSearchCV(clf, param_grid, n_iter=30, scoring='roc_auc', \n",
    "                                     cv=sfk, random_state=0, n_jobs=-1)\n",
    "    rand_search.fit(X_train, y_train)\n",
    "    clf_score = rand_search.score(X_dev, y_dev)\n",
    "    print('{:30s} {:30f} {:.1f}'.format(clf_name, clf_score, time.time() - start))\n",
    "    clfs_tuned.append((clf_name, rand_search, clf_score))"
   ]
  },
  {
   "cell_type": "markdown",
   "metadata": {},
   "source": [
    "### 6. Model Ensemble"
   ]
  },
  {
   "cell_type": "markdown",
   "metadata": {},
   "source": [
    "*Correlation between models*"
   ]
  },
  {
   "cell_type": "code",
   "execution_count": 14,
   "metadata": {},
   "outputs": [
    {
     "data": {
      "image/png": "[encoded data removed]",
      "text/plain": [
       "<Figure size 576x432 with 2 Axes>"
      ]
     },
     "metadata": {
      "needs_background": "light"
     },
     "output_type": "display_data"
    }
   ],
   "source": [
    "pred_results = []\n",
    "for name, clf, clf_score in clfs_tuned:\n",
    "    pred = clf.predict_proba(X_dev)[:,1]\n",
    "    name = f'{name} \\n({clf_score:.4f})'\n",
    "    pred_results.append(pd.Series(pred, name=name))\n",
    "ensemble_results = pd.concat(pred_results, axis=1)\n",
    "\n",
    "# 모형의 예측값 간의 상관관계를 보기 위해 hitmap을 도식한다.\n",
    "plt.figure(figsize = (8,6))\n",
    "g = sns.heatmap(ensemble_results.corr(), annot=True, cmap='Blues')\n",
    "g.set_title(\"Correlation between models\")\n",
    "plt.show()"
   ]
  },
  {
   "cell_type": "code",
   "execution_count": 15,
   "metadata": {},
   "outputs": [
    {
     "data": {
      "image/png": "[encoded data removed]",
      "text/plain": [
       "<Figure size 720x1440 with 1 Axes>"
      ]
     },
     "metadata": {
      "needs_background": "light"
     },
     "output_type": "display_data"
    }
   ],
   "source": [
    "corr = (ensemble_results.corr().sum()-1)/(ensemble_results.corr().shape[0]-1)\n",
    "names = corr.index\n",
    "aucs = np.array(corr.index.str[-7:-1]).astype(float)\n",
    "df = pd.DataFrame({'model': names, 'auc': aucs, 'cor': corr})        \n",
    "\n",
    "plt.figure(figsize=(10,20))\n",
    "g = sns.scatterplot(x=\"cor\", y=\"auc\", data=df, s=40, color='red')\n",
    "for line in range(0, df.shape[0]):\n",
    "     g.text(df.cor[line]+0.003, df.auc[line]-0.003, \n",
    "            df.model[line], horizontalalignment='left', \n",
    "            size='medium', color='black', weight='semibold')\n",
    "        \n",
    "plt.xlim((df.cor.min()-0.01,df.cor.max()+0.01))\n",
    "plt.ylim((df.auc.min()-0.01,df.auc.max()+0.01))\n",
    "plt.xlabel('Mean Agreement')\n",
    "plt.ylabel('ROC-AUC')\n",
    "plt.grid()\n",
    "plt.show()"
   ]
  },
  {
   "cell_type": "code",
   "execution_count": 16,
   "metadata": {
    "scrolled": true
   },
   "outputs": [
    {
     "data": {
      "text/plain": [
       "XGBClassifier \\n(0.7808)                 0.934492\n",
       "AdaBoostClassifier \\n(0.7789)            0.927992\n",
       "MLPClassifier \\n(0.7671)                 0.935740\n",
       "LogisticRegression \\n(0.7663)            0.933263\n",
       "GradientBoostingClassifier \\n(0.7777)    0.940572\n",
       "dtype: float64"
      ]
     },
     "execution_count": 16,
     "metadata": {},
     "output_type": "execute_result"
    }
   ],
   "source": [
    "# Mean agreement\n",
    "(ensemble_results.corr().sum()-1)/(ensemble_results.corr().shape[0]-1)"
   ]
  },
  {
   "cell_type": "markdown",
   "metadata": {},
   "source": [
    "*Averaging Ensemble*"
   ]
  },
  {
   "cell_type": "code",
   "execution_count": 17,
   "metadata": {},
   "outputs": [],
   "source": [
    "# 모델 개별 Score와 모델 간 상관관계를 고려하여 Averaging 앙상블에 사용하지 않을 모델은 주석 처리\n",
    "selected = [\n",
    "#    'KNeighborsClassifier',\n",
    "#    'DecisionTreeClassifier'\n",
    "    'XGBClassifier',\n",
    "    'AdaBoostClassifier',\n",
    "    'MLPClassifier',\n",
    "    'LogisticRegression', \n",
    "#    'RandomForestClassifier',\n",
    "    'GradientBoostingClassifier',\n",
    "#    'SVC',\n",
    "#    'ExtraTreesClassifier',\n",
    "#    'LGBMClassifier'\n",
    "]\n",
    "\n",
    "models_for_ensemble = [clf for clf in clfs_tuned if clf[0] in selected]"
   ]
  },
  {
   "cell_type": "code",
   "execution_count": 22,
   "metadata": {},
   "outputs": [
    {
     "name": "stderr",
     "output_type": "stream",
     "text": [
      "100%|████████████████████████████████████████████████████████████████████████████████████| 3/3 [01:21<00:00, 27.05s/it]"
     ]
    },
    {
     "name": "stdout",
     "output_type": "stream",
     "text": [
      "p=2.56\n",
      "XGBClassifier●AdaBoostClassifier●GradientBoostingClassifier\n",
      "0.7849357425838245\n"
     ]
    },
    {
     "name": "stderr",
     "output_type": "stream",
     "text": [
      "\n"
     ]
    }
   ],
   "source": [
    "max_score = 0\n",
    "for p in tqdm([0, 1, 2.56]):  # p==1:산술평균, p=0:기하평균, 그 외:멱평균(주의:멱평균은 과적합 가능성이 높음)    \n",
    "    for i in range(2, len(models_for_ensemble)+1):\n",
    "        for models in combinations(models_for_ensemble, i):\n",
    "            if p == 0:\n",
    "                pred_mean = gmean([clf.predict_proba(X_dev)[:,1] for name, clf, _ in models], axis=0)\n",
    "            else:\n",
    "                preds = [clf.predict_proba(X_dev)[:,1] for name, clf, _ in models]\n",
    "                pred_mean = (np.sum(np.array(preds)**p, axis=0) / len(models))**(1/p)\n",
    "            score = roc_auc_score(y_dev, pred_mean)\n",
    "            if max_score < score:\n",
    "                best_avg_ensemble = (p, models, score)\n",
    "                max_score = score\n",
    "\n",
    "p, models, score = best_avg_ensemble\n",
    "print('p={}\\n{}\\n{}'.format(p, '●'.join([clf_name for clf_name, _, _ in models]), score))"
   ]
  },
  {
   "cell_type": "code",
   "execution_count": 23,
   "metadata": {},
   "outputs": [],
   "source": [
    "# sklearn의 다른 classifier와 호환성을 갖기위해 Custom Classifier인 \"AveragingClassifier\" 생성\n",
    "\n",
    "class AveragingClassifier(ClassifierMixin):\n",
    "    def __init__(self, estimators, p):\n",
    "        self.estimators = estimators\n",
    "        self.p = p\n",
    "    \n",
    "    def fit(self, X, y):\n",
    "        return None\n",
    "\n",
    "    def predict(self, X):\n",
    "        if self.p == 0:\n",
    "            pred = gmean([clf.predict(X) for name, clf in self.estimators], axis=0)\n",
    "        else:\n",
    "            preds = [clf.predict(X) for name, clf in self.estimators]\n",
    "            pred = (np.sum(np.array(preds)**self.p, axis=0) / len(self.estimators))**(1/self.p)\n",
    "        return pred\n",
    "         \n",
    "    def predict_proba(self, X):\n",
    "        if self.p == 0:\n",
    "            prob = gmean([clf.predict_proba(X) for name, clf in self.estimators], axis=0)\n",
    "        else:\n",
    "            probs = [clf.predict_proba(X) for name, clf in self.estimators]\n",
    "            prob = (np.sum(np.array(probs)**self.p, axis=0) / len(self.estimators))**(1/self.p)\n",
    "        return prob\n",
    "    \n",
    "estimators = [(name, clf) for name, clf, _ in models]\n",
    "avg_clf = AveragingClassifier(estimators, p)\n",
    "avg_clf.fit(X_train, y_train)    "
   ]
  },
  {
   "cell_type": "markdown",
   "metadata": {},
   "source": [
    "### 7. Deployment"
   ]
  },
  {
   "cell_type": "code",
   "execution_count": 24,
   "metadata": {},
   "outputs": [],
   "source": [
    "# Averaging ensemble을 적용한 submission\n",
    "pd.DataFrame({'cust_id': test_id, 'gender': avg_clf.predict_proba(X_test)[:,1]}).to_csv('../dat/submissions1/W2V_ave.csv', index=False)\n",
    "pd.DataFrame({'cust_id': test_id, 'gender': avg_clf.predict_proba(X_test)[:,1]}).to_csv('../dat/submissions2/W2V_ave.csv', index=False)"
   ]
  },
  {
   "cell_type": "markdown",
   "metadata": {
    "_uuid": "db6a418af5947fb6d1546dc8949ac55663504f18"
   },
   "source": [
    "<font color=\"#CC3D3D\"><p>\n",
    "# End"
   ]
  }
 ],
 "metadata": {
  "kernelspec": {
   "display_name": "Python 3 (ipykernel)",
   "language": "python",
   "name": "python3"
  },
  "language_info": {
   "codemirror_mode": {
    "name": "ipython",
    "version": 3
   },
   "file_extension": ".py",
   "mimetype": "text/x-python",
   "name": "python",
   "nbconvert_exporter": "python",
   "pygments_lexer": "ipython3",
   "version": "3.9.7"
  }
 },
 "nbformat": 4,
 "nbformat_minor": 4
}
