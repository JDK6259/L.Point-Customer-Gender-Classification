{
 "cells": [
  {
   "cell_type": "markdown",
   "metadata": {
    "_uuid": "93b41229599509f643f1c1df3b86b3f79b66666f"
   },
   "source": [
    "<font color=\"#CC3D3D\"><p>\n",
    "# Build models"
   ]
  },
  {
   "cell_type": "markdown",
   "metadata": {
    "_uuid": "93b41229599509f643f1c1df3b86b3f79b66666f"
   },
   "source": [
    "- `INPUT`: 학습용(`X_train.csv`, `y_train`)과 평가용(`X_test.csv`) 데이터 \n",
    "- `OUTPUT`: 위 데이터를 이용하여 구축한 모형이 생성한 예측결과(`submission.csv`)"
   ]
  },
  {
   "cell_type": "markdown",
   "metadata": {},
   "source": [
    "##### Imports"
   ]
  },
  {
   "cell_type": "code",
   "execution_count": 1,
   "metadata": {
    "_cell_guid": "79c7e3d0-c299-4dcb-8224-4455121ee9b0",
    "_uuid": "d629ff2d2480ee46fbb7e2d37f6b5fab8052498a"
   },
   "outputs": [],
   "source": [
    "# Data Wrangling\n",
    "import pandas as pd\n",
    "from pandas import Series, DataFrame\n",
    "import numpy as np\n",
    "\n",
    "# Visualization\n",
    "import matplotlib.pylab as plt\n",
    "from matplotlib import font_manager, rc\n",
    "import seaborn as sns\n",
    "%matplotlib inline\n",
    "\n",
    "# EDA\n",
    "import klib\n",
    "\n",
    "# Preprocessing & Feature Engineering\n",
    "from sklearn.model_selection import train_test_split\n",
    "from sklearn.preprocessing import MinMaxScaler\n",
    "from sklearn.impute import SimpleImputer \n",
    "from sklearn.preprocessing import StandardScaler\n",
    "from sklearn.preprocessing import MinMaxScaler\n",
    "from sklearn.preprocessing import PowerTransformer\n",
    "from sklearn.feature_selection import SelectPercentile\n",
    "\n",
    "# Hyperparameter Optimization\n",
    "from sklearn.model_selection import GridSearchCV\n",
    "from sklearn.model_selection import RandomizedSearchCV\n",
    "from sklearn.model_selection import KFold\n",
    "from sklearn.model_selection import StratifiedKFold\n",
    "\n",
    "# Modeling\n",
    "from sklearn.dummy import DummyClassifier\n",
    "from sklearn.linear_model import LogisticRegression\n",
    "from sklearn.neighbors import KNeighborsClassifier\n",
    "from sklearn.ensemble import RandomForestClassifier\n",
    "from sklearn.ensemble import AdaBoostClassifier\n",
    "from sklearn.neural_network import MLPClassifier\n",
    "from sklearn.tree import DecisionTreeClassifier\n",
    "from sklearn.ensemble import GradientBoostingClassifier\n",
    "from sklearn.svm import SVC\n",
    "from sklearn.ensemble import VotingClassifier\n",
    "from sklearn.ensemble import ExtraTreesClassifier\n",
    "from sklearn.ensemble import StackingClassifier\n",
    "import xgboost as xgb\n",
    "from xgboost import XGBClassifier\n",
    "from lightgbm import LGBMClassifier\n",
    "from sklearn.base import ClassifierMixin\n",
    "\n",
    "\n",
    "# Evaluation\n",
    "from sklearn.metrics import roc_auc_score\n",
    "from sklearn.metrics import accuracy_score\n",
    "from sklearn.model_selection import cross_val_score\n",
    "\n",
    "# Utility\n",
    "import os\n",
    "import time\n",
    "import random\n",
    "import warnings; warnings.filterwarnings(\"ignore\")\n",
    "from IPython.display import Image\n",
    "import pickle\n",
    "from tqdm import tqdm\n",
    "import platform\n",
    "from itertools import combinations\n",
    "from scipy.stats.mstats import gmean"
   ]
  },
  {
   "cell_type": "markdown",
   "metadata": {
    "_uuid": "dd7e3527fd56e5b5855c6846ca226f5f860f725b"
   },
   "source": [
    "### 1. Read Data"
   ]
  },
  {
   "cell_type": "code",
   "execution_count": 2,
   "metadata": {
    "_uuid": "794123064b09797f51add356a676fb6a7aed015d",
    "scrolled": true
   },
   "outputs": [],
   "source": [
    "train = pd.read_csv(os.path.abspath(\"../dat\")+'/train_transactions.csv', encoding='cp949')\n",
    "test = pd.read_csv(os.path.abspath(\"../dat\")+'/test_transactions.csv', encoding='cp949')\n",
    "\n",
    "# 전처리를 동일하게 적용하기 위해 두 데이터를 합한다.\n",
    "tr = pd.concat([train, test])\n",
    "\n",
    "# 학습용 정답 데이터를 읽는다.\n",
    "y_train = pd.read_csv(os.path.abspath(\"../dat\")+'/y_train.csv', encoding='cp949').gender"
   ]
  },
  {
   "cell_type": "markdown",
   "metadata": {},
   "source": [
    "### 2. Make Features"
   ]
  },
  {
   "cell_type": "markdown",
   "metadata": {},
   "source": [
    "*BOW(Bag-Of-Words) based features*"
   ]
  },
  {
   "cell_type": "code",
   "execution_count": 3,
   "metadata": {
    "_uuid": "794123064b09797f51add356a676fb6a7aed015d"
   },
   "outputs": [
    {
     "data": {
      "text/html": [
       "<div>\n",
       "<style scoped>\n",
       "    .dataframe tbody tr th:only-of-type {\n",
       "        vertical-align: middle;\n",
       "    }\n",
       "\n",
       "    .dataframe tbody tr th {\n",
       "        vertical-align: top;\n",
       "    }\n",
       "\n",
       "    .dataframe thead th {\n",
       "        text-align: right;\n",
       "    }\n",
       "</style>\n",
       "<table border=\"1\" class=\"dataframe\">\n",
       "  <thead>\n",
       "    <tr style=\"text-align: right;\">\n",
       "      <th>gds_grp_nm</th>\n",
       "      <th>cust_id</th>\n",
       "      <th>14K</th>\n",
       "      <th>4대 B/D</th>\n",
       "      <th>IT 게임기,S/W</th>\n",
       "      <th>KKD</th>\n",
       "      <th>L.B</th>\n",
       "      <th>L/C 아동복</th>\n",
       "      <th>L/C골프의류</th>\n",
       "      <th>L/C정장</th>\n",
       "      <th>MP3 外</th>\n",
       "      <th>...</th>\n",
       "      <th>한실침구</th>\n",
       "      <th>한차</th>\n",
       "      <th>햄</th>\n",
       "      <th>햄세트</th>\n",
       "      <th>향수</th>\n",
       "      <th>헤어ACC</th>\n",
       "      <th>홈웨어</th>\n",
       "      <th>화장품</th>\n",
       "      <th>회</th>\n",
       "      <th>휴지류</th>\n",
       "    </tr>\n",
       "  </thead>\n",
       "  <tbody>\n",
       "    <tr>\n",
       "      <th>0</th>\n",
       "      <td>0</td>\n",
       "      <td>0</td>\n",
       "      <td>0</td>\n",
       "      <td>0</td>\n",
       "      <td>0</td>\n",
       "      <td>0</td>\n",
       "      <td>0</td>\n",
       "      <td>0</td>\n",
       "      <td>0</td>\n",
       "      <td>0</td>\n",
       "      <td>...</td>\n",
       "      <td>0</td>\n",
       "      <td>0</td>\n",
       "      <td>0</td>\n",
       "      <td>0</td>\n",
       "      <td>0</td>\n",
       "      <td>0</td>\n",
       "      <td>0</td>\n",
       "      <td>0</td>\n",
       "      <td>0</td>\n",
       "      <td>0</td>\n",
       "    </tr>\n",
       "    <tr>\n",
       "      <th>1</th>\n",
       "      <td>1</td>\n",
       "      <td>0</td>\n",
       "      <td>0</td>\n",
       "      <td>0</td>\n",
       "      <td>0</td>\n",
       "      <td>0</td>\n",
       "      <td>0</td>\n",
       "      <td>0</td>\n",
       "      <td>0</td>\n",
       "      <td>0</td>\n",
       "      <td>...</td>\n",
       "      <td>0</td>\n",
       "      <td>0</td>\n",
       "      <td>0</td>\n",
       "      <td>0</td>\n",
       "      <td>0</td>\n",
       "      <td>0</td>\n",
       "      <td>0</td>\n",
       "      <td>0</td>\n",
       "      <td>0</td>\n",
       "      <td>0</td>\n",
       "    </tr>\n",
       "    <tr>\n",
       "      <th>2</th>\n",
       "      <td>2</td>\n",
       "      <td>0</td>\n",
       "      <td>0</td>\n",
       "      <td>0</td>\n",
       "      <td>0</td>\n",
       "      <td>0</td>\n",
       "      <td>0</td>\n",
       "      <td>0</td>\n",
       "      <td>0</td>\n",
       "      <td>0</td>\n",
       "      <td>...</td>\n",
       "      <td>0</td>\n",
       "      <td>0</td>\n",
       "      <td>0</td>\n",
       "      <td>0</td>\n",
       "      <td>0</td>\n",
       "      <td>0</td>\n",
       "      <td>0</td>\n",
       "      <td>0</td>\n",
       "      <td>0</td>\n",
       "      <td>0</td>\n",
       "    </tr>\n",
       "    <tr>\n",
       "      <th>3</th>\n",
       "      <td>3</td>\n",
       "      <td>0</td>\n",
       "      <td>0</td>\n",
       "      <td>0</td>\n",
       "      <td>0</td>\n",
       "      <td>0</td>\n",
       "      <td>1</td>\n",
       "      <td>0</td>\n",
       "      <td>0</td>\n",
       "      <td>0</td>\n",
       "      <td>...</td>\n",
       "      <td>1</td>\n",
       "      <td>0</td>\n",
       "      <td>0</td>\n",
       "      <td>0</td>\n",
       "      <td>0</td>\n",
       "      <td>0</td>\n",
       "      <td>0</td>\n",
       "      <td>0</td>\n",
       "      <td>1</td>\n",
       "      <td>0</td>\n",
       "    </tr>\n",
       "    <tr>\n",
       "      <th>4</th>\n",
       "      <td>4</td>\n",
       "      <td>0</td>\n",
       "      <td>0</td>\n",
       "      <td>0</td>\n",
       "      <td>0</td>\n",
       "      <td>0</td>\n",
       "      <td>0</td>\n",
       "      <td>0</td>\n",
       "      <td>0</td>\n",
       "      <td>0</td>\n",
       "      <td>...</td>\n",
       "      <td>0</td>\n",
       "      <td>0</td>\n",
       "      <td>0</td>\n",
       "      <td>0</td>\n",
       "      <td>0</td>\n",
       "      <td>0</td>\n",
       "      <td>0</td>\n",
       "      <td>0</td>\n",
       "      <td>0</td>\n",
       "      <td>0</td>\n",
       "    </tr>\n",
       "    <tr>\n",
       "      <th>...</th>\n",
       "      <td>...</td>\n",
       "      <td>...</td>\n",
       "      <td>...</td>\n",
       "      <td>...</td>\n",
       "      <td>...</td>\n",
       "      <td>...</td>\n",
       "      <td>...</td>\n",
       "      <td>...</td>\n",
       "      <td>...</td>\n",
       "      <td>...</td>\n",
       "      <td>...</td>\n",
       "      <td>...</td>\n",
       "      <td>...</td>\n",
       "      <td>...</td>\n",
       "      <td>...</td>\n",
       "      <td>...</td>\n",
       "      <td>...</td>\n",
       "      <td>...</td>\n",
       "      <td>...</td>\n",
       "      <td>...</td>\n",
       "      <td>...</td>\n",
       "    </tr>\n",
       "    <tr>\n",
       "      <th>5977</th>\n",
       "      <td>5977</td>\n",
       "      <td>0</td>\n",
       "      <td>1</td>\n",
       "      <td>0</td>\n",
       "      <td>0</td>\n",
       "      <td>0</td>\n",
       "      <td>0</td>\n",
       "      <td>6</td>\n",
       "      <td>0</td>\n",
       "      <td>0</td>\n",
       "      <td>...</td>\n",
       "      <td>0</td>\n",
       "      <td>0</td>\n",
       "      <td>0</td>\n",
       "      <td>0</td>\n",
       "      <td>0</td>\n",
       "      <td>0</td>\n",
       "      <td>0</td>\n",
       "      <td>0</td>\n",
       "      <td>0</td>\n",
       "      <td>0</td>\n",
       "    </tr>\n",
       "    <tr>\n",
       "      <th>5978</th>\n",
       "      <td>5978</td>\n",
       "      <td>0</td>\n",
       "      <td>0</td>\n",
       "      <td>0</td>\n",
       "      <td>0</td>\n",
       "      <td>0</td>\n",
       "      <td>0</td>\n",
       "      <td>0</td>\n",
       "      <td>0</td>\n",
       "      <td>0</td>\n",
       "      <td>...</td>\n",
       "      <td>0</td>\n",
       "      <td>0</td>\n",
       "      <td>0</td>\n",
       "      <td>0</td>\n",
       "      <td>0</td>\n",
       "      <td>0</td>\n",
       "      <td>0</td>\n",
       "      <td>0</td>\n",
       "      <td>0</td>\n",
       "      <td>0</td>\n",
       "    </tr>\n",
       "    <tr>\n",
       "      <th>5979</th>\n",
       "      <td>5979</td>\n",
       "      <td>0</td>\n",
       "      <td>0</td>\n",
       "      <td>0</td>\n",
       "      <td>0</td>\n",
       "      <td>0</td>\n",
       "      <td>0</td>\n",
       "      <td>1</td>\n",
       "      <td>0</td>\n",
       "      <td>0</td>\n",
       "      <td>...</td>\n",
       "      <td>0</td>\n",
       "      <td>0</td>\n",
       "      <td>0</td>\n",
       "      <td>0</td>\n",
       "      <td>0</td>\n",
       "      <td>0</td>\n",
       "      <td>0</td>\n",
       "      <td>0</td>\n",
       "      <td>0</td>\n",
       "      <td>0</td>\n",
       "    </tr>\n",
       "    <tr>\n",
       "      <th>5980</th>\n",
       "      <td>5980</td>\n",
       "      <td>0</td>\n",
       "      <td>0</td>\n",
       "      <td>0</td>\n",
       "      <td>0</td>\n",
       "      <td>0</td>\n",
       "      <td>0</td>\n",
       "      <td>0</td>\n",
       "      <td>0</td>\n",
       "      <td>0</td>\n",
       "      <td>...</td>\n",
       "      <td>0</td>\n",
       "      <td>0</td>\n",
       "      <td>0</td>\n",
       "      <td>0</td>\n",
       "      <td>0</td>\n",
       "      <td>0</td>\n",
       "      <td>0</td>\n",
       "      <td>0</td>\n",
       "      <td>0</td>\n",
       "      <td>0</td>\n",
       "    </tr>\n",
       "    <tr>\n",
       "      <th>5981</th>\n",
       "      <td>5981</td>\n",
       "      <td>0</td>\n",
       "      <td>0</td>\n",
       "      <td>0</td>\n",
       "      <td>0</td>\n",
       "      <td>0</td>\n",
       "      <td>0</td>\n",
       "      <td>0</td>\n",
       "      <td>0</td>\n",
       "      <td>0</td>\n",
       "      <td>...</td>\n",
       "      <td>0</td>\n",
       "      <td>0</td>\n",
       "      <td>1</td>\n",
       "      <td>0</td>\n",
       "      <td>0</td>\n",
       "      <td>0</td>\n",
       "      <td>0</td>\n",
       "      <td>0</td>\n",
       "      <td>0</td>\n",
       "      <td>0</td>\n",
       "    </tr>\n",
       "  </tbody>\n",
       "</table>\n",
       "<p>5982 rows × 332 columns</p>\n",
       "</div>"
      ],
      "text/plain": [
       "gds_grp_nm  cust_id  14K  4대 B/D  IT 게임기,S/W  KKD  L.B  L/C 아동복  L/C골프의류  \\\n",
       "0                 0    0       0           0    0    0        0        0   \n",
       "1                 1    0       0           0    0    0        0        0   \n",
       "2                 2    0       0           0    0    0        0        0   \n",
       "3                 3    0       0           0    0    0        1        0   \n",
       "4                 4    0       0           0    0    0        0        0   \n",
       "...             ...  ...     ...         ...  ...  ...      ...      ...   \n",
       "5977           5977    0       1           0    0    0        0        6   \n",
       "5978           5978    0       0           0    0    0        0        0   \n",
       "5979           5979    0       0           0    0    0        0        1   \n",
       "5980           5980    0       0           0    0    0        0        0   \n",
       "5981           5981    0       0           0    0    0        0        0   \n",
       "\n",
       "gds_grp_nm  L/C정장  MP3 外  ...  한실침구  한차  햄  햄세트  향수  헤어ACC  홈웨어  화장품  회  휴지류  \n",
       "0               0      0  ...     0   0  0    0   0      0    0    0  0    0  \n",
       "1               0      0  ...     0   0  0    0   0      0    0    0  0    0  \n",
       "2               0      0  ...     0   0  0    0   0      0    0    0  0    0  \n",
       "3               0      0  ...     1   0  0    0   0      0    0    0  1    0  \n",
       "4               0      0  ...     0   0  0    0   0      0    0    0  0    0  \n",
       "...           ...    ...  ...   ...  .. ..  ...  ..    ...  ...  ... ..  ...  \n",
       "5977            0      0  ...     0   0  0    0   0      0    0    0  0    0  \n",
       "5978            0      0  ...     0   0  0    0   0      0    0    0  0    0  \n",
       "5979            0      0  ...     0   0  0    0   0      0    0    0  0    0  \n",
       "5980            0      0  ...     0   0  0    0   0      0    0    0  0    0  \n",
       "5981            0      0  ...     0   0  1    0   0      0    0    0  0    0  \n",
       "\n",
       "[5982 rows x 332 columns]"
      ]
     },
     "execution_count": 3,
     "metadata": {},
     "output_type": "execute_result"
    }
   ],
   "source": [
    "level = 'gds_grp_nm'\n",
    "\n",
    "features1 = pd.pivot_table(tr, index='cust_id', columns=level, values='amount',\n",
    "                            aggfunc=lambda x: len(x), fill_value=0).reset_index()\n",
    "\n",
    "features1"
   ]
  },
  {
   "cell_type": "code",
   "execution_count": 4,
   "metadata": {},
   "outputs": [
    {
     "data": {
      "text/html": [
       "<div>\n",
       "<style scoped>\n",
       "    .dataframe tbody tr th:only-of-type {\n",
       "        vertical-align: middle;\n",
       "    }\n",
       "\n",
       "    .dataframe tbody tr th {\n",
       "        vertical-align: top;\n",
       "    }\n",
       "\n",
       "    .dataframe thead th {\n",
       "        text-align: right;\n",
       "    }\n",
       "</style>\n",
       "<table border=\"1\" class=\"dataframe\">\n",
       "  <thead>\n",
       "    <tr style=\"text-align: right;\">\n",
       "      <th>gds_grp_mclas_nm</th>\n",
       "      <th>cust_id</th>\n",
       "      <th>가공식품</th>\n",
       "      <th>가구</th>\n",
       "      <th>건강식품</th>\n",
       "      <th>골프</th>\n",
       "      <th>교복</th>\n",
       "      <th>구두</th>\n",
       "      <th>기타</th>\n",
       "      <th>기타의류</th>\n",
       "      <th>남성 캐주얼</th>\n",
       "      <th>...</th>\n",
       "      <th>준보석/시계</th>\n",
       "      <th>차/커피</th>\n",
       "      <th>축산가공</th>\n",
       "      <th>침구/수예</th>\n",
       "      <th>캐주얼</th>\n",
       "      <th>커리어</th>\n",
       "      <th>통신/컴퓨터</th>\n",
       "      <th>트래디셔널</th>\n",
       "      <th>피혁잡화</th>\n",
       "      <th>화장품</th>\n",
       "    </tr>\n",
       "  </thead>\n",
       "  <tbody>\n",
       "    <tr>\n",
       "      <th>0</th>\n",
       "      <td>0</td>\n",
       "      <td>1</td>\n",
       "      <td>0</td>\n",
       "      <td>10</td>\n",
       "      <td>1</td>\n",
       "      <td>0</td>\n",
       "      <td>0</td>\n",
       "      <td>13</td>\n",
       "      <td>0</td>\n",
       "      <td>0</td>\n",
       "      <td>...</td>\n",
       "      <td>0</td>\n",
       "      <td>0</td>\n",
       "      <td>2</td>\n",
       "      <td>0</td>\n",
       "      <td>0</td>\n",
       "      <td>0</td>\n",
       "      <td>0</td>\n",
       "      <td>0</td>\n",
       "      <td>0</td>\n",
       "      <td>7</td>\n",
       "    </tr>\n",
       "    <tr>\n",
       "      <th>1</th>\n",
       "      <td>1</td>\n",
       "      <td>0</td>\n",
       "      <td>0</td>\n",
       "      <td>0</td>\n",
       "      <td>0</td>\n",
       "      <td>0</td>\n",
       "      <td>0</td>\n",
       "      <td>0</td>\n",
       "      <td>0</td>\n",
       "      <td>0</td>\n",
       "      <td>...</td>\n",
       "      <td>0</td>\n",
       "      <td>0</td>\n",
       "      <td>0</td>\n",
       "      <td>0</td>\n",
       "      <td>0</td>\n",
       "      <td>0</td>\n",
       "      <td>0</td>\n",
       "      <td>1</td>\n",
       "      <td>0</td>\n",
       "      <td>0</td>\n",
       "    </tr>\n",
       "    <tr>\n",
       "      <th>2</th>\n",
       "      <td>2</td>\n",
       "      <td>0</td>\n",
       "      <td>0</td>\n",
       "      <td>0</td>\n",
       "      <td>0</td>\n",
       "      <td>0</td>\n",
       "      <td>0</td>\n",
       "      <td>2</td>\n",
       "      <td>0</td>\n",
       "      <td>2</td>\n",
       "      <td>...</td>\n",
       "      <td>0</td>\n",
       "      <td>0</td>\n",
       "      <td>0</td>\n",
       "      <td>0</td>\n",
       "      <td>0</td>\n",
       "      <td>0</td>\n",
       "      <td>0</td>\n",
       "      <td>0</td>\n",
       "      <td>0</td>\n",
       "      <td>0</td>\n",
       "    </tr>\n",
       "    <tr>\n",
       "      <th>3</th>\n",
       "      <td>3</td>\n",
       "      <td>6</td>\n",
       "      <td>0</td>\n",
       "      <td>0</td>\n",
       "      <td>0</td>\n",
       "      <td>0</td>\n",
       "      <td>1</td>\n",
       "      <td>14</td>\n",
       "      <td>0</td>\n",
       "      <td>0</td>\n",
       "      <td>...</td>\n",
       "      <td>0</td>\n",
       "      <td>2</td>\n",
       "      <td>1</td>\n",
       "      <td>1</td>\n",
       "      <td>1</td>\n",
       "      <td>0</td>\n",
       "      <td>0</td>\n",
       "      <td>0</td>\n",
       "      <td>0</td>\n",
       "      <td>0</td>\n",
       "    </tr>\n",
       "    <tr>\n",
       "      <th>4</th>\n",
       "      <td>4</td>\n",
       "      <td>0</td>\n",
       "      <td>0</td>\n",
       "      <td>0</td>\n",
       "      <td>0</td>\n",
       "      <td>0</td>\n",
       "      <td>0</td>\n",
       "      <td>1</td>\n",
       "      <td>0</td>\n",
       "      <td>0</td>\n",
       "      <td>...</td>\n",
       "      <td>0</td>\n",
       "      <td>0</td>\n",
       "      <td>0</td>\n",
       "      <td>0</td>\n",
       "      <td>0</td>\n",
       "      <td>0</td>\n",
       "      <td>0</td>\n",
       "      <td>0</td>\n",
       "      <td>0</td>\n",
       "      <td>1</td>\n",
       "    </tr>\n",
       "    <tr>\n",
       "      <th>...</th>\n",
       "      <td>...</td>\n",
       "      <td>...</td>\n",
       "      <td>...</td>\n",
       "      <td>...</td>\n",
       "      <td>...</td>\n",
       "      <td>...</td>\n",
       "      <td>...</td>\n",
       "      <td>...</td>\n",
       "      <td>...</td>\n",
       "      <td>...</td>\n",
       "      <td>...</td>\n",
       "      <td>...</td>\n",
       "      <td>...</td>\n",
       "      <td>...</td>\n",
       "      <td>...</td>\n",
       "      <td>...</td>\n",
       "      <td>...</td>\n",
       "      <td>...</td>\n",
       "      <td>...</td>\n",
       "      <td>...</td>\n",
       "      <td>...</td>\n",
       "    </tr>\n",
       "    <tr>\n",
       "      <th>5977</th>\n",
       "      <td>5977</td>\n",
       "      <td>0</td>\n",
       "      <td>0</td>\n",
       "      <td>1</td>\n",
       "      <td>6</td>\n",
       "      <td>0</td>\n",
       "      <td>0</td>\n",
       "      <td>2</td>\n",
       "      <td>0</td>\n",
       "      <td>0</td>\n",
       "      <td>...</td>\n",
       "      <td>0</td>\n",
       "      <td>0</td>\n",
       "      <td>0</td>\n",
       "      <td>0</td>\n",
       "      <td>0</td>\n",
       "      <td>0</td>\n",
       "      <td>0</td>\n",
       "      <td>1</td>\n",
       "      <td>1</td>\n",
       "      <td>0</td>\n",
       "    </tr>\n",
       "    <tr>\n",
       "      <th>5978</th>\n",
       "      <td>5978</td>\n",
       "      <td>0</td>\n",
       "      <td>0</td>\n",
       "      <td>0</td>\n",
       "      <td>0</td>\n",
       "      <td>0</td>\n",
       "      <td>0</td>\n",
       "      <td>0</td>\n",
       "      <td>0</td>\n",
       "      <td>0</td>\n",
       "      <td>...</td>\n",
       "      <td>0</td>\n",
       "      <td>0</td>\n",
       "      <td>0</td>\n",
       "      <td>0</td>\n",
       "      <td>0</td>\n",
       "      <td>0</td>\n",
       "      <td>0</td>\n",
       "      <td>0</td>\n",
       "      <td>0</td>\n",
       "      <td>0</td>\n",
       "    </tr>\n",
       "    <tr>\n",
       "      <th>5979</th>\n",
       "      <td>5979</td>\n",
       "      <td>1</td>\n",
       "      <td>0</td>\n",
       "      <td>1</td>\n",
       "      <td>1</td>\n",
       "      <td>0</td>\n",
       "      <td>6</td>\n",
       "      <td>8</td>\n",
       "      <td>0</td>\n",
       "      <td>14</td>\n",
       "      <td>...</td>\n",
       "      <td>0</td>\n",
       "      <td>0</td>\n",
       "      <td>0</td>\n",
       "      <td>1</td>\n",
       "      <td>4</td>\n",
       "      <td>1</td>\n",
       "      <td>0</td>\n",
       "      <td>7</td>\n",
       "      <td>2</td>\n",
       "      <td>0</td>\n",
       "    </tr>\n",
       "    <tr>\n",
       "      <th>5980</th>\n",
       "      <td>5980</td>\n",
       "      <td>0</td>\n",
       "      <td>0</td>\n",
       "      <td>0</td>\n",
       "      <td>0</td>\n",
       "      <td>0</td>\n",
       "      <td>1</td>\n",
       "      <td>0</td>\n",
       "      <td>0</td>\n",
       "      <td>0</td>\n",
       "      <td>...</td>\n",
       "      <td>0</td>\n",
       "      <td>0</td>\n",
       "      <td>0</td>\n",
       "      <td>1</td>\n",
       "      <td>0</td>\n",
       "      <td>0</td>\n",
       "      <td>0</td>\n",
       "      <td>0</td>\n",
       "      <td>0</td>\n",
       "      <td>0</td>\n",
       "    </tr>\n",
       "    <tr>\n",
       "      <th>5981</th>\n",
       "      <td>5981</td>\n",
       "      <td>6</td>\n",
       "      <td>0</td>\n",
       "      <td>0</td>\n",
       "      <td>0</td>\n",
       "      <td>0</td>\n",
       "      <td>0</td>\n",
       "      <td>2</td>\n",
       "      <td>0</td>\n",
       "      <td>0</td>\n",
       "      <td>...</td>\n",
       "      <td>0</td>\n",
       "      <td>1</td>\n",
       "      <td>1</td>\n",
       "      <td>0</td>\n",
       "      <td>0</td>\n",
       "      <td>0</td>\n",
       "      <td>0</td>\n",
       "      <td>0</td>\n",
       "      <td>0</td>\n",
       "      <td>0</td>\n",
       "    </tr>\n",
       "  </tbody>\n",
       "</table>\n",
       "<p>5982 rows × 50 columns</p>\n",
       "</div>"
      ],
      "text/plain": [
       "gds_grp_mclas_nm  cust_id  가공식품  가구  건강식품  골프  교복  구두  기타  기타의류  남성 캐주얼  ...  \\\n",
       "0                       0     1   0    10   1   0   0  13     0       0  ...   \n",
       "1                       1     0   0     0   0   0   0   0     0       0  ...   \n",
       "2                       2     0   0     0   0   0   0   2     0       2  ...   \n",
       "3                       3     6   0     0   0   0   1  14     0       0  ...   \n",
       "4                       4     0   0     0   0   0   0   1     0       0  ...   \n",
       "...                   ...   ...  ..   ...  ..  ..  ..  ..   ...     ...  ...   \n",
       "5977                 5977     0   0     1   6   0   0   2     0       0  ...   \n",
       "5978                 5978     0   0     0   0   0   0   0     0       0  ...   \n",
       "5979                 5979     1   0     1   1   0   6   8     0      14  ...   \n",
       "5980                 5980     0   0     0   0   0   1   0     0       0  ...   \n",
       "5981                 5981     6   0     0   0   0   0   2     0       0  ...   \n",
       "\n",
       "gds_grp_mclas_nm  준보석/시계  차/커피  축산가공  침구/수예  캐주얼  커리어  통신/컴퓨터  트래디셔널  피혁잡화  \\\n",
       "0                      0     0     2      0    0    0       0      0     0   \n",
       "1                      0     0     0      0    0    0       0      1     0   \n",
       "2                      0     0     0      0    0    0       0      0     0   \n",
       "3                      0     2     1      1    1    0       0      0     0   \n",
       "4                      0     0     0      0    0    0       0      0     0   \n",
       "...                  ...   ...   ...    ...  ...  ...     ...    ...   ...   \n",
       "5977                   0     0     0      0    0    0       0      1     1   \n",
       "5978                   0     0     0      0    0    0       0      0     0   \n",
       "5979                   0     0     0      1    4    1       0      7     2   \n",
       "5980                   0     0     0      1    0    0       0      0     0   \n",
       "5981                   0     1     1      0    0    0       0      0     0   \n",
       "\n",
       "gds_grp_mclas_nm  화장품  \n",
       "0                   7  \n",
       "1                   0  \n",
       "2                   0  \n",
       "3                   0  \n",
       "4                   1  \n",
       "...               ...  \n",
       "5977                0  \n",
       "5978                0  \n",
       "5979                0  \n",
       "5980                0  \n",
       "5981                0  \n",
       "\n",
       "[5982 rows x 50 columns]"
      ]
     },
     "execution_count": 4,
     "metadata": {},
     "output_type": "execute_result"
    }
   ],
   "source": [
    "level = 'gds_grp_mclas_nm'\n",
    "\n",
    "features2 = pd.pivot_table(tr, index='cust_id', columns=level, values='amount',\n",
    "                            aggfunc=lambda x: len(x), fill_value=0).reset_index()\n",
    "\n",
    "features2"
   ]
  },
  {
   "cell_type": "code",
   "execution_count": 5,
   "metadata": {},
   "outputs": [],
   "source": [
    "features = pd.merge(features1, features2, how = 'left', on = 'cust_id')"
   ]
  },
  {
   "cell_type": "markdown",
   "metadata": {},
   "source": [
    "### 3. Data Cleansing & Feature Engineering"
   ]
  },
  {
   "cell_type": "markdown",
   "metadata": {},
   "source": [
    "*Deal with Outliers*"
   ]
  },
  {
   "cell_type": "code",
   "execution_count": 6,
   "metadata": {},
   "outputs": [],
   "source": [
    "# 수치형 변수에 대해 상위 5% 이상, 하위 5% 이하 이상치 값을 각각 상위 5% 하위 5% 값으로 변경\n",
    "features.iloc[:,1:] = features.iloc[:,1:].apply(lambda x: x.clip(x.quantile(.05), x.quantile(.95)), axis=0)"
   ]
  },
  {
   "cell_type": "markdown",
   "metadata": {},
   "source": [
    "*Transform Features*"
   ]
  },
  {
   "cell_type": "code",
   "execution_count": 7,
   "metadata": {},
   "outputs": [],
   "source": [
    "features.iloc[:,1:] = np.log1p(features.iloc[:,1:])"
   ]
  },
  {
   "cell_type": "markdown",
   "metadata": {},
   "source": [
    "*Select Features*"
   ]
  },
  {
   "cell_type": "code",
   "execution_count": 8,
   "metadata": {},
   "outputs": [],
   "source": [
    "# 학습용과 제출용 데이터로 분리\n",
    "test_id = test.cust_id.unique()\n",
    "X_train = features.query('cust_id not in @test_id').drop('cust_id', axis=1)\n",
    "X_test = features.query('cust_id in @test_id').drop('cust_id', axis=1)"
   ]
  },
  {
   "cell_type": "code",
   "execution_count": 9,
   "metadata": {},
   "outputs": [
    {
     "name": "stderr",
     "output_type": "stream",
     "text": [
      "100%|██████████████████████████████████████████████████████████████████████████████████| 99/99 [01:34<00:00,  1.05it/s]"
     ]
    },
    {
     "name": "stdout",
     "output_type": "stream",
     "text": [
      "(38, 0.7451387265217052)\n"
     ]
    },
    {
     "name": "stderr",
     "output_type": "stream",
     "text": [
      "\n"
     ]
    },
    {
     "data": {
      "image/png": "[encoded data removed]",
      "text/plain": [
       "<Figure size 432x288 with 1 Axes>"
      ]
     },
     "metadata": {
      "needs_background": "light"
     },
     "output_type": "display_data"
    }
   ],
   "source": [
    "# 사용할 모델 설정 (속도가 빠른 모델 사용 권장)\n",
    "model = LogisticRegression(random_state=0)\n",
    "\n",
    "#StartifiedKFold 정의\n",
    "sfk = StratifiedKFold(n_splits = 7)\n",
    "\n",
    "# 각 특성과 타깃(class) 사이에 유의한 통계적 관계가 있는지 계산하여 특성을 선택하는 방법 \n",
    "cv_scores = [] # 스코어를 저장할 리스트 생성\n",
    "for p in tqdm(range(1,100,1)): # 추출할 피처의 개수 범위를 (1~100)%의 구간에서 1%씩 올려가며 실행\n",
    "    X_new = SelectPercentile(percentile=p).fit_transform(X_train, y_train)    \n",
    "    cv_score = cross_val_score(model, X_new, y_train, scoring='roc_auc', cv=sfk).mean()\n",
    "    cv_scores.append((p,cv_score))\n",
    "\n",
    "# Print the best percentile\n",
    "best_score = cv_scores[np.argmax([score for _, score in cv_scores])]\n",
    "print(best_score)\n",
    "\n",
    "# Plot the performance change with p\n",
    "plt.plot([k for k, _ in cv_scores], [score for _, score in cv_scores])\n",
    "plt.xlabel('Percent of features')\n",
    "plt.grid()"
   ]
  },
  {
   "cell_type": "code",
   "execution_count": 10,
   "metadata": {},
   "outputs": [
    {
     "name": "stdout",
     "output_type": "stream",
     "text": [
      "(3500, 145)\n",
      "['KKD', 'L.B', 'L/C골프의류', 'L/C정장', 'N.B', 'N.B정장', 'N/B 아동복', 'N/B골프의류', 'takeout양과', '건강식품_x', '건강식품(비타민)', '건강식품(홍삼)', '건과', '건생선', '계육', '곡물', '국산주방', '굴비류', '규격김치', '규격젓갈', '기초 화장품', '기초A', '기타생선', '김류', '냉동식품', '농산가공', '니  트', '단기행사', '돈육', '디자이너부틱', '디자이너캐릭터', '디저트류', '떡', '란제리', '면류', '멸치류', '명품잡화', '모자(특정)', '밥류', '벌크김치', '벌크젓갈', '뷰티상품', '브랜드샵', '비지니스군', '산지통합', '상품군미지정', '색조 화장품', '생선', '서양델리', '선식(가루류)', '수      저', '수영복', '수입ACC', '수입단기행사', '수입소형가전', '수입식품', '수입육', '수입주방', '숙녀고정행사', '숙녀단기행사', '스카프(특정)', '스타킹(특정)', '스포츠의류', '스포츠화', '시니어', '시티웨어_x', '시티캐주얼', '아이스크림', '안주류', '야채', '양념육', '양말(특정)', '어덜트', '어묵', '영캐주얼', '우/양산(특정)', '우육', '위생세제', '유기농야채', '유아복', '유제품', '음료', '이지캐주얼', '일반가공식품', '일반핸드백', '일식델리', '일용잡화_x', '장갑(특정)', '장류', '전기밥솥', '전통델리', '중식델리', '즉석.스넥(매장)', '즉석반찬', '직수입 골프의류', '직수입핸드백', '진캐주얼', '청과', '초밥', '캐릭터 남화', '캐릭터 여화', '캐릭터캐주얼', '커리어_x', '커피숍', '토들러', '트래디셔널Ⅱ', '패밀리레스토랑', '편집매장', '포숑', '햄', '회', '가공식품', '건강식품_y', '골프', '구두', '기타_y', '남성 캐주얼', '남성정장', '농산물', '디자이너_y', '란제리/내의', '명품', '모피/피혁', '생활잡화', '섬유잡화', '셔츠', '수산품', '스포츠', '시티웨어_y', '식기', '아동', '액세서리', '육류', '일용잡화_y', '젓갈/반찬', '주류_y', '주방가전', '주방용품', '차/커피', '축산가공', '침구/수예', '캐주얼', '커리어_y', '피혁잡화', '화장품_y']\n"
     ]
    }
   ],
   "source": [
    "# 최고 Score 를 가지는 p값 적용 \n",
    "fs = SelectPercentile(percentile=best_score[0]).fit(X_train, y_train)\n",
    "X_train = fs.transform(X_train)\n",
    "X_test = fs.transform(X_test)\n",
    "\n",
    "print(X_train.shape)\n",
    "print(features.iloc[:,1:].columns[fs.get_support()].tolist())"
   ]
  },
  {
   "cell_type": "markdown",
   "metadata": {},
   "source": [
    "### 4. Model Tuning (Hyperparameter Optimization)"
   ]
  },
  {
   "cell_type": "code",
   "execution_count": 11,
   "metadata": {},
   "outputs": [],
   "source": [
    "# 학습데이터 70%, 평가데이터 30%로 데이터 분할\n",
    "# stratify=y_train 를 통해 데이터를 분할할 때 층화추출을 실시(불균형을 해소한다.)\n",
    "X_train, X_dev, y_train, y_dev = train_test_split(X_train, y_train, test_size=0.3, stratify=y_train, random_state=0)"
   ]
  },
  {
   "cell_type": "code",
   "execution_count": 12,
   "metadata": {},
   "outputs": [
    {
     "name": "stderr",
     "output_type": "stream",
     "text": [
      " 20%|████████████████▌                                                                  | 1/5 [05:31<22:07, 331.95s/it]"
     ]
    },
    {
     "name": "stdout",
     "output_type": "stream",
     "text": [
      "XGBClassifier                                        0.786859 331.9\n"
     ]
    },
    {
     "name": "stderr",
     "output_type": "stream",
     "text": [
      "\r",
      " 40%|█████████████████████████████████▏                                                 | 2/5 [46:09<48:10, 963.50s/it]"
     ]
    },
    {
     "name": "stdout",
     "output_type": "stream",
     "text": [
      "AdaBoostClassifier                                   0.782429 2437.1\n"
     ]
    },
    {
     "name": "stderr",
     "output_type": "stream",
     "text": [
      "\r",
      " 60%|████████████████████████████████████████████████                                | 3/5 [1:11:22<37:37, 1128.60s/it]"
     ]
    },
    {
     "name": "stdout",
     "output_type": "stream",
     "text": [
      "MLPClassifier                                        0.791827 1513.9\n"
     ]
    },
    {
     "name": "stderr",
     "output_type": "stream",
     "text": [
      "\r",
      " 80%|████████████████████████████████████████████████████████████████▊                | 4/5 [1:11:41<13:15, 795.45s/it]"
     ]
    },
    {
     "name": "stdout",
     "output_type": "stream",
     "text": [
      "LogisticRegression                                   0.786975 18.1\n"
     ]
    },
    {
     "name": "stderr",
     "output_type": "stream",
     "text": [
      "100%|████████████████████████████████████████████████████████████████████████████████| 5/5 [1:24:29<00:00, 1013.97s/it]"
     ]
    },
    {
     "name": "stdout",
     "output_type": "stream",
     "text": [
      "GradientBoostingClassifier                           0.781125 768.9\n"
     ]
    },
    {
     "name": "stderr",
     "output_type": "stream",
     "text": [
      "\n"
     ]
    }
   ],
   "source": [
    "clfs = [\n",
    "#    (\n",
    "#        KNeighborsClassifier(),             \n",
    "#        {'n_neighbors': range(1,51),        \n",
    "#         'weights': ['uniform','distance'],\n",
    "#         'metric': ['minkowski', 'euclidean', 'manhattan']}\n",
    "#    ),\n",
    "#    (\n",
    "#       DecisionTreeClassifier(random_state=0),\n",
    "#       {'max_depth' : [2,3]} \n",
    "#    ),\n",
    "    (\n",
    "        XGBClassifier(random_state=0),\n",
    "        {'max_depth': range(1, 5, 1),\n",
    "         'n_estimators': range(100, 500, 100),\n",
    "         'learning_rate': np.arange(0.01, 1, 0.01),\n",
    "         'eta': [0, 0.5, 0.01],\n",
    "         'gamma' :np.arange(0.01,5,0.01),\n",
    "         'subsample': [0.2, 0.3, 0.5, 0.7, 0.9, 1],\n",
    "         'colsample_bytree': [0.5, 0.7, 0.9, 1]}\n",
    "    ),\n",
    "    (\n",
    "        AdaBoostClassifier(random_state=0), \n",
    "        {'n_estimators' : [50,100,500,1000,3000], \n",
    "         'learning_rate' : np.arange(0.1, 1, 0.1), \n",
    "         'algorithm' : ['SAMME', 'SAMME.R']}\n",
    "    ),\n",
    "    (\n",
    "        MLPClassifier(random_state=0), \n",
    "        {'batch_size': ['auto', 32, 64, 128], \n",
    "         'learning_rate' : ['constant', 'adaptive', 'invscaling'],\n",
    "         'activation': ['tanh', 'relu', 'logistic'],\n",
    "         'solver': ['sgd', 'adam'],\n",
    "         'alpha' : [1e-07,1e-06,0.0001,0.001,0.01,0.0005,0.005,0.05,0.1,0.15,0.2,0.3,0.4,0.5,0.7,0.9], \n",
    "         'hidden_layer_sizes': [(32,),(64,),(128,),(32,16),(64,32,16)]}\n",
    "    ),\n",
    "    (\n",
    "        LogisticRegression(random_state=0), \n",
    "        {'C': np.arange(0.1, 10, 0.1), \n",
    "         'penalty': ['l1','l2']}\n",
    "    ),\n",
    "#    (\n",
    "#        RandomForestClassifier(random_state=0), \n",
    "#        {'n_estimators': range(10, 500, 10), \n",
    "#         'max_depth': [None,1,2,3,4,5,6,7,8,9,10,11,12,13,14,15],\n",
    "#         'max_features': ['auto', 'sqrt', 'log2'], \n",
    "#         'bootstrap': [True, False], \n",
    "#         'criterion': ['gini', 'entropy'], \n",
    "#         'class_weight': ['balanced', 'balanced_subsample', {}], \n",
    "#         'min_samples_split': [2, 5, 7, 9, 10], \n",
    "#         'min_samples_leaf': [2, 3, 4, 5, 6]}\n",
    "#    ),\n",
    "    (\n",
    "        GradientBoostingClassifier(random_state=0), \n",
    "        {'n_estimators': range(10, 500, 10), \n",
    "         'learning_rate': [0.01, 0.5, 0.001],\n",
    "         'min_samples_split': [2, 4, 5, 7, 9, 10],\n",
    "         'min_samples_leaf': [1, 2, 3, 4, 5],\n",
    "         'max_depth': [1,2,3,4,5,6,7,8,9,10,11],\n",
    "         'min_impurity_decrease': [0,0.0001,0.001,0.01,0.0002,0.002,0.02,0.0005,0.005,0.05,0.1,0.2,0.3,0.4,0.5],\n",
    "         'max_features': ['auto', 'sqrt', 'log2']}\n",
    "    ),\n",
    "#    (\n",
    "#        SVC(probability = True), \n",
    "#        {'kernel' : [\"linear\", \"poly\"], \n",
    "#         'C' : np.arange(0.01, 5, 0.01),\n",
    "#         'gamma' : np.arange(0.5, 10, 0.1)}\n",
    "#    ),\n",
    "#    (\n",
    "#        ExtraTreesClassifier(random_state=0),\n",
    "#       {'n_estimators': [100,200,300,400],\n",
    "#         'max_depth': [1,2,3,4,5,6,7,8,9,10]}\n",
    "#    ),\n",
    "#    (\n",
    "#        LGBMClassifier(random_state=0),\n",
    "#        {'n_estimators': [100,200,300,400],\n",
    "#         'learning_rate': [0.01,1,0.01],\n",
    "#         'max_depth': [1,2,3,4,5]}\n",
    "#    )\n",
    "]\n",
    "\n",
    "clfs_tuned = []  # 튜닝된 모델을 저장\n",
    "for clf, param_grid in tqdm(clfs):\n",
    "    start = time.time()\n",
    "    clf_name = type(clf).__name__\n",
    "    rand_search = RandomizedSearchCV(clf, param_grid, n_iter=100, scoring='roc_auc', \n",
    "                                     cv=sfk, random_state=0, n_jobs=-1)\n",
    "    rand_search.fit(X_train, y_train)\n",
    "    clf_score = rand_search.score(X_dev, y_dev)\n",
    "    print('{:30s} {:30f} {:.1f}'.format(clf_name, clf_score, time.time() - start))\n",
    "    clfs_tuned.append((clf_name, rand_search, clf_score))"
   ]
  },
  {
   "cell_type": "markdown",
   "metadata": {},
   "source": [
    "### 5. Model Ensemble"
   ]
  },
  {
   "cell_type": "markdown",
   "metadata": {},
   "source": [
    "*Correlation between models*"
   ]
  },
  {
   "cell_type": "code",
   "execution_count": 13,
   "metadata": {},
   "outputs": [
    {
     "data": {
      "image/png": "[encoded data removed]",
      "text/plain": [
       "<Figure size 576x432 with 2 Axes>"
      ]
     },
     "metadata": {
      "needs_background": "light"
     },
     "output_type": "display_data"
    }
   ],
   "source": [
    "pred_results = []\n",
    "for name, clf, clf_score in clfs_tuned:\n",
    "    pred = clf.predict_proba(X_dev)[:,1]\n",
    "    name = f'{name} \\n({clf_score:.4f})'\n",
    "    pred_results.append(pd.Series(pred, name=name))\n",
    "ensemble_results = pd.concat(pred_results, axis=1)\n",
    "\n",
    "# 모형의 예측값 간의 상관관계를 보기 위해 hitmap을 도식한다.\n",
    "plt.figure(figsize = (8,6))\n",
    "g = sns.heatmap(ensemble_results.corr(), annot=True, cmap='Blues')\n",
    "g.set_title(\"Correlation between models\")\n",
    "plt.show()"
   ]
  },
  {
   "cell_type": "code",
   "execution_count": 14,
   "metadata": {
    "scrolled": true
   },
   "outputs": [
    {
     "data": {
      "text/plain": [
       "XGBClassifier \\n(0.7869)                 0.928679\n",
       "AdaBoostClassifier \\n(0.7824)            0.903641\n",
       "MLPClassifier \\n(0.7918)                 0.904719\n",
       "LogisticRegression \\n(0.7870)            0.906131\n",
       "GradientBoostingClassifier \\n(0.7811)    0.912870\n",
       "dtype: float64"
      ]
     },
     "execution_count": 14,
     "metadata": {},
     "output_type": "execute_result"
    }
   ],
   "source": [
    "# Mean agreement\n",
    "(ensemble_results.corr().sum()-1)/(ensemble_results.corr().shape[0]-1)"
   ]
  },
  {
   "cell_type": "code",
   "execution_count": 15,
   "metadata": {},
   "outputs": [
    {
     "data": {
      "image/png": "[encoded data removed]",
      "text/plain": [
       "<Figure size 576x432 with 1 Axes>"
      ]
     },
     "metadata": {
      "needs_background": "light"
     },
     "output_type": "display_data"
    }
   ],
   "source": [
    "corr = (ensemble_results.corr().sum()-1)/(ensemble_results.corr().shape[0]-1)\n",
    "names = corr.index\n",
    "aucs = np.array(corr.index.str[-7:-1]).astype(float)\n",
    "df = pd.DataFrame({'model': names, 'auc': aucs, 'cor': corr})        \n",
    "\n",
    "plt.figure(figsize=(8,6))\n",
    "g = sns.scatterplot(x=\"cor\", y=\"auc\", data=df, s=40, color='red')\n",
    "for line in range(0, df.shape[0]):\n",
    "     g.text(df.cor[line]+0.003, df.auc[line]-0.003, \n",
    "            df.model[line], horizontalalignment='left', \n",
    "            size='medium', color='black', weight='semibold')\n",
    "        \n",
    "plt.xlim((df.cor.min()-0.01,df.cor.max()+0.01))\n",
    "plt.ylim((df.auc.min()-0.01,df.auc.max()+0.01))\n",
    "plt.xlabel('Mean Agreement')\n",
    "plt.ylabel('ROC-AUC')\n",
    "plt.grid()\n",
    "plt.show()"
   ]
  },
  {
   "cell_type": "markdown",
   "metadata": {},
   "source": [
    "*Averaging Ensemble*"
   ]
  },
  {
   "cell_type": "code",
   "execution_count": 16,
   "metadata": {},
   "outputs": [],
   "source": [
    "# 모델 개별 Score와 모델 간 상관관계를 고려하여 Averaging 앙상블에 사용하지 않을 모델은 주석 처리\n",
    "selected = [\n",
    "#    'KNeighborsClassifier',\n",
    "#    'DecisionTreeClassifier'\n",
    "    'XGBClassifier',\n",
    "    'AdaBoostClassifier',\n",
    "    'MLPClassifier',\n",
    "    'LogisticRegression', \n",
    "#    'RandomForestClassifier',\n",
    "    'GradientBoostingClassifier',\n",
    "#    'SVC',\n",
    "#    'ExtraTreesClassifier',\n",
    "#    'LGBMClassifier'\n",
    "]\n",
    "\n",
    "models_for_ensemble = [clf for clf in clfs_tuned if clf[0] in selected]"
   ]
  },
  {
   "cell_type": "code",
   "execution_count": 17,
   "metadata": {
    "scrolled": true
   },
   "outputs": [
    {
     "name": "stderr",
     "output_type": "stream",
     "text": [
      "100%|████████████████████████████████████████████████████████████████████████████████████| 3/3 [00:27<00:00,  9.06s/it]"
     ]
    },
    {
     "name": "stdout",
     "output_type": "stream",
     "text": [
      "p=2.56\n",
      "XGBClassifier●AdaBoostClassifier●MLPClassifier●LogisticRegression\n",
      "0.794538602763552\n"
     ]
    },
    {
     "name": "stderr",
     "output_type": "stream",
     "text": [
      "\n"
     ]
    }
   ],
   "source": [
    "max_score = 0\n",
    "for p in tqdm([0, 1, 2.56]):  # p==1:산술평균, p=0:기하평균, 그 외:멱평균(주의:멱평균은 과적합 가능성이 높음)    \n",
    "    for i in range(2, len(models_for_ensemble)+1):\n",
    "        for models in combinations(models_for_ensemble, i):\n",
    "            if p == 0:\n",
    "                pred_mean = gmean([clf.predict_proba(X_dev)[:,1] for name, clf, _ in models], axis=0)\n",
    "            else:\n",
    "                preds = [clf.predict_proba(X_dev)[:,1] for name, clf, _ in models]\n",
    "                pred_mean = (np.sum(np.array(preds)**p, axis=0) / len(models))**(1/p)\n",
    "            score = roc_auc_score(y_dev, pred_mean)\n",
    "            if max_score < score:\n",
    "                best_avg_ensemble = (p, models, score)\n",
    "                max_score = score\n",
    "\n",
    "p, models, score = best_avg_ensemble\n",
    "print('p={}\\n{}\\n{}'.format(p, '●'.join([clf_name for clf_name, _, _ in models]), score))"
   ]
  },
  {
   "cell_type": "code",
   "execution_count": 18,
   "metadata": {},
   "outputs": [],
   "source": [
    "# sklearn의 다른 classifier와 호환성을 갖기위해 Custom Classifier인 \"AveragingClassifier\" 생성\n",
    "\n",
    "class AveragingClassifier(ClassifierMixin):\n",
    "    def __init__(self, estimators, p):\n",
    "        self.estimators = estimators\n",
    "        self.p = p\n",
    "    \n",
    "    def fit(self, X, y):\n",
    "        return None\n",
    "\n",
    "    def predict(self, X):\n",
    "        if self.p == 0:\n",
    "            pred = gmean([clf.predict(X) for name, clf in self.estimators], axis=0)\n",
    "        else:\n",
    "            preds = [clf.predict(X) for name, clf in self.estimators]\n",
    "            pred = (np.sum(np.array(preds)**self.p, axis=0) / len(self.estimators))**(1/self.p)\n",
    "        return pred\n",
    "         \n",
    "    def predict_proba(self, X):\n",
    "        if self.p == 0:\n",
    "            prob = gmean([clf.predict_proba(X) for name, clf in self.estimators], axis=0)\n",
    "        else:\n",
    "            probs = [clf.predict_proba(X) for name, clf in self.estimators]\n",
    "            prob = (np.sum(np.array(probs)**self.p, axis=0) / len(self.estimators))**(1/self.p)\n",
    "        return prob\n",
    "    \n",
    "estimators = [(name, clf) for name, clf, _ in models]\n",
    "avg_clf = AveragingClassifier(estimators, p)\n",
    "avg_clf.fit(X_train, y_train)    "
   ]
  },
  {
   "cell_type": "markdown",
   "metadata": {},
   "source": [
    "### 6. Deployment"
   ]
  },
  {
   "cell_type": "code",
   "execution_count": 19,
   "metadata": {},
   "outputs": [],
   "source": [
    "# Averaging ensemble을 적용한 submission\n",
    "pd.DataFrame({'cust_id': test_id, 'gender': avg_clf.predict_proba(X_test)[:,1]}).to_csv('../dat/submissions1/BOW_ave.csv', index=False)\n",
    "pd.DataFrame({'cust_id': test_id, 'gender': avg_clf.predict_proba(X_test)[:,1]}).to_csv('../dat/submissions2/BOW_ave.csv', index=False)"
   ]
  },
  {
   "cell_type": "markdown",
   "metadata": {
    "_uuid": "db6a418af5947fb6d1546dc8949ac55663504f18"
   },
   "source": [
    "<font color=\"#CC3D3D\"><p>\n",
    "# End"
   ]
  }
 ],
 "metadata": {
  "kernelspec": {
   "display_name": "Python 3 (ipykernel)",
   "language": "python",
   "name": "python3"
  },
  "language_info": {
   "codemirror_mode": {
    "name": "ipython",
    "version": 3
   },
   "file_extension": ".py",
   "mimetype": "text/x-python",
   "name": "python",
   "nbconvert_exporter": "python",
   "pygments_lexer": "ipython3",
   "version": "3.9.7"
  }
 },
 "nbformat": 4,
 "nbformat_minor": 4
}
